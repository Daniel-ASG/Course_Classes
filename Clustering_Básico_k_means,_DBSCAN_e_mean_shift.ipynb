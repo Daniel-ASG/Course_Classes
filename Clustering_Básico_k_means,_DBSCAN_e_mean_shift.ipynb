{
  "nbformat": 4,
  "nbformat_minor": 0,
  "metadata": {
    "colab": {
      "name": "Clustering Básico: k-means, DBSCAN e mean shift.ipynb",
      "provenance": [],
      "collapsed_sections": [
        "wiP_3Ocmm-yE",
        "8nrHy40N4Yxw"
      ],
      "authorship_tag": "ABX9TyPfTqhMGNPDJGQIM1JiskNN",
      "include_colab_link": true
    },
    "kernelspec": {
      "name": "python3",
      "display_name": "Python 3"
    },
    "language_info": {
      "name": "python"
    }
  },
  "cells": [
    {
      "cell_type": "markdown",
      "metadata": {
        "id": "view-in-github",
        "colab_type": "text"
      },
      "source": [
        "<a href=\"https://colab.research.google.com/github/Daniel-ASG/Course_Classes/blob/main/Clustering_B%C3%A1sico_k_means%2C_DBSCAN_e_mean_shift.ipynb\" target=\"_parent\"><img src=\"https://colab.research.google.com/assets/colab-badge.svg\" alt=\"Open In Colab\"/></a>"
      ]
    },
    {
      "cell_type": "markdown",
      "metadata": {
        "id": "LhnjAriCJ1V8"
      },
      "source": [
        "# Aula 1 - Análise exploratória"
      ]
    },
    {
      "cell_type": "markdown",
      "metadata": {
        "id": "Ifh4YGaFJ5GV"
      },
      "source": [
        "Imagine que você está trabalhando como cientista de dados em uma dessas empresas grandes de logística. Nesse caso, seu trabalho é organizar dados!\n",
        "\n",
        "Seu chefe então te mandou um conjunto de vinhos e pediu para que você os organizasse.\n",
        "\n"
      ]
    },
    {
      "cell_type": "code",
      "metadata": {
        "id": "Ir22bVhnJhAx"
      },
      "source": [
        "import plotly.graph_objects as go\n",
        "import plotly.express as px\n",
        "import pandas as pd\n",
        "import numpy as np"
      ],
      "execution_count": 2,
      "outputs": []
    },
    {
      "cell_type": "code",
      "metadata": {
        "colab": {
          "base_uri": "https://localhost:8080/",
          "height": 322
        },
        "id": "R9gwBjTaKmR7",
        "outputId": "d83e41ba-692b-4584-ac9c-933640f57034"
      },
      "source": [
        "df = pd.read_csv('https://raw.githubusercontent.com/alura-cursos/Clustering/Aula-1.-An%C3%A1lise-Explorat%C3%B3ria/Wine.csv')\n",
        "print(f'O dataframe possui {df.shape[0]} amostras e {df.shape[1]} atributos.\\n\\n')\n",
        "display(df.head())"
      ],
      "execution_count": 3,
      "outputs": [
        {
          "output_type": "stream",
          "name": "stdout",
          "text": [
            "O dataframe possui 178 amostras e 14 atributos.\n",
            "\n",
            "\n"
          ]
        },
        {
          "output_type": "display_data",
          "data": {
            "text/plain": [
              "   Alcohol  Malic_Acid   Ash  Ash_Alcanity  Magnesium  Total_Phenols  \\\n",
              "0    14.23        1.71  2.43          15.6        127           2.80   \n",
              "1    13.20        1.78  2.14          11.2        100           2.65   \n",
              "2    13.16        2.36  2.67          18.6        101           2.80   \n",
              "3    14.37        1.95  2.50          16.8        113           3.85   \n",
              "4    13.24        2.59  2.87          21.0        118           2.80   \n",
              "\n",
              "   Flavanoids  Nonflavanoid_Phenols  Proanthocyanins  Color_Intensity   Hue  \\\n",
              "0        3.06                  0.28             2.29             5.64  1.04   \n",
              "1        2.76                  0.26             1.28             4.38  1.05   \n",
              "2        3.24                  0.30             2.81             5.68  1.03   \n",
              "3        3.49                  0.24             2.18             7.80  0.86   \n",
              "4        2.69                  0.39             1.82             4.32  1.04   \n",
              "\n",
              "   OD280  Proline  Customer_Segment  \n",
              "0   3.92     1065                 1  \n",
              "1   3.40     1050                 1  \n",
              "2   3.17     1185                 1  \n",
              "3   3.45     1480                 1  \n",
              "4   2.93      735                 1  "
            ],
            "text/html": [
              "\n",
              "  <div id=\"df-4c26e96f-f839-48ff-baa6-91daab9b9b92\">\n",
              "    <div class=\"colab-df-container\">\n",
              "      <div>\n",
              "<style scoped>\n",
              "    .dataframe tbody tr th:only-of-type {\n",
              "        vertical-align: middle;\n",
              "    }\n",
              "\n",
              "    .dataframe tbody tr th {\n",
              "        vertical-align: top;\n",
              "    }\n",
              "\n",
              "    .dataframe thead th {\n",
              "        text-align: right;\n",
              "    }\n",
              "</style>\n",
              "<table border=\"1\" class=\"dataframe\">\n",
              "  <thead>\n",
              "    <tr style=\"text-align: right;\">\n",
              "      <th></th>\n",
              "      <th>Alcohol</th>\n",
              "      <th>Malic_Acid</th>\n",
              "      <th>Ash</th>\n",
              "      <th>Ash_Alcanity</th>\n",
              "      <th>Magnesium</th>\n",
              "      <th>Total_Phenols</th>\n",
              "      <th>Flavanoids</th>\n",
              "      <th>Nonflavanoid_Phenols</th>\n",
              "      <th>Proanthocyanins</th>\n",
              "      <th>Color_Intensity</th>\n",
              "      <th>Hue</th>\n",
              "      <th>OD280</th>\n",
              "      <th>Proline</th>\n",
              "      <th>Customer_Segment</th>\n",
              "    </tr>\n",
              "  </thead>\n",
              "  <tbody>\n",
              "    <tr>\n",
              "      <th>0</th>\n",
              "      <td>14.23</td>\n",
              "      <td>1.71</td>\n",
              "      <td>2.43</td>\n",
              "      <td>15.6</td>\n",
              "      <td>127</td>\n",
              "      <td>2.80</td>\n",
              "      <td>3.06</td>\n",
              "      <td>0.28</td>\n",
              "      <td>2.29</td>\n",
              "      <td>5.64</td>\n",
              "      <td>1.04</td>\n",
              "      <td>3.92</td>\n",
              "      <td>1065</td>\n",
              "      <td>1</td>\n",
              "    </tr>\n",
              "    <tr>\n",
              "      <th>1</th>\n",
              "      <td>13.20</td>\n",
              "      <td>1.78</td>\n",
              "      <td>2.14</td>\n",
              "      <td>11.2</td>\n",
              "      <td>100</td>\n",
              "      <td>2.65</td>\n",
              "      <td>2.76</td>\n",
              "      <td>0.26</td>\n",
              "      <td>1.28</td>\n",
              "      <td>4.38</td>\n",
              "      <td>1.05</td>\n",
              "      <td>3.40</td>\n",
              "      <td>1050</td>\n",
              "      <td>1</td>\n",
              "    </tr>\n",
              "    <tr>\n",
              "      <th>2</th>\n",
              "      <td>13.16</td>\n",
              "      <td>2.36</td>\n",
              "      <td>2.67</td>\n",
              "      <td>18.6</td>\n",
              "      <td>101</td>\n",
              "      <td>2.80</td>\n",
              "      <td>3.24</td>\n",
              "      <td>0.30</td>\n",
              "      <td>2.81</td>\n",
              "      <td>5.68</td>\n",
              "      <td>1.03</td>\n",
              "      <td>3.17</td>\n",
              "      <td>1185</td>\n",
              "      <td>1</td>\n",
              "    </tr>\n",
              "    <tr>\n",
              "      <th>3</th>\n",
              "      <td>14.37</td>\n",
              "      <td>1.95</td>\n",
              "      <td>2.50</td>\n",
              "      <td>16.8</td>\n",
              "      <td>113</td>\n",
              "      <td>3.85</td>\n",
              "      <td>3.49</td>\n",
              "      <td>0.24</td>\n",
              "      <td>2.18</td>\n",
              "      <td>7.80</td>\n",
              "      <td>0.86</td>\n",
              "      <td>3.45</td>\n",
              "      <td>1480</td>\n",
              "      <td>1</td>\n",
              "    </tr>\n",
              "    <tr>\n",
              "      <th>4</th>\n",
              "      <td>13.24</td>\n",
              "      <td>2.59</td>\n",
              "      <td>2.87</td>\n",
              "      <td>21.0</td>\n",
              "      <td>118</td>\n",
              "      <td>2.80</td>\n",
              "      <td>2.69</td>\n",
              "      <td>0.39</td>\n",
              "      <td>1.82</td>\n",
              "      <td>4.32</td>\n",
              "      <td>1.04</td>\n",
              "      <td>2.93</td>\n",
              "      <td>735</td>\n",
              "      <td>1</td>\n",
              "    </tr>\n",
              "  </tbody>\n",
              "</table>\n",
              "</div>\n",
              "      <button class=\"colab-df-convert\" onclick=\"convertToInteractive('df-4c26e96f-f839-48ff-baa6-91daab9b9b92')\"\n",
              "              title=\"Convert this dataframe to an interactive table.\"\n",
              "              style=\"display:none;\">\n",
              "        \n",
              "  <svg xmlns=\"http://www.w3.org/2000/svg\" height=\"24px\"viewBox=\"0 0 24 24\"\n",
              "       width=\"24px\">\n",
              "    <path d=\"M0 0h24v24H0V0z\" fill=\"none\"/>\n",
              "    <path d=\"M18.56 5.44l.94 2.06.94-2.06 2.06-.94-2.06-.94-.94-2.06-.94 2.06-2.06.94zm-11 1L8.5 8.5l.94-2.06 2.06-.94-2.06-.94L8.5 2.5l-.94 2.06-2.06.94zm10 10l.94 2.06.94-2.06 2.06-.94-2.06-.94-.94-2.06-.94 2.06-2.06.94z\"/><path d=\"M17.41 7.96l-1.37-1.37c-.4-.4-.92-.59-1.43-.59-.52 0-1.04.2-1.43.59L10.3 9.45l-7.72 7.72c-.78.78-.78 2.05 0 2.83L4 21.41c.39.39.9.59 1.41.59.51 0 1.02-.2 1.41-.59l7.78-7.78 2.81-2.81c.8-.78.8-2.07 0-2.86zM5.41 20L4 18.59l7.72-7.72 1.47 1.35L5.41 20z\"/>\n",
              "  </svg>\n",
              "      </button>\n",
              "      \n",
              "  <style>\n",
              "    .colab-df-container {\n",
              "      display:flex;\n",
              "      flex-wrap:wrap;\n",
              "      gap: 12px;\n",
              "    }\n",
              "\n",
              "    .colab-df-convert {\n",
              "      background-color: #E8F0FE;\n",
              "      border: none;\n",
              "      border-radius: 50%;\n",
              "      cursor: pointer;\n",
              "      display: none;\n",
              "      fill: #1967D2;\n",
              "      height: 32px;\n",
              "      padding: 0 0 0 0;\n",
              "      width: 32px;\n",
              "    }\n",
              "\n",
              "    .colab-df-convert:hover {\n",
              "      background-color: #E2EBFA;\n",
              "      box-shadow: 0px 1px 2px rgba(60, 64, 67, 0.3), 0px 1px 3px 1px rgba(60, 64, 67, 0.15);\n",
              "      fill: #174EA6;\n",
              "    }\n",
              "\n",
              "    [theme=dark] .colab-df-convert {\n",
              "      background-color: #3B4455;\n",
              "      fill: #D2E3FC;\n",
              "    }\n",
              "\n",
              "    [theme=dark] .colab-df-convert:hover {\n",
              "      background-color: #434B5C;\n",
              "      box-shadow: 0px 1px 3px 1px rgba(0, 0, 0, 0.15);\n",
              "      filter: drop-shadow(0px 1px 2px rgba(0, 0, 0, 0.3));\n",
              "      fill: #FFFFFF;\n",
              "    }\n",
              "  </style>\n",
              "\n",
              "      <script>\n",
              "        const buttonEl =\n",
              "          document.querySelector('#df-4c26e96f-f839-48ff-baa6-91daab9b9b92 button.colab-df-convert');\n",
              "        buttonEl.style.display =\n",
              "          google.colab.kernel.accessAllowed ? 'block' : 'none';\n",
              "\n",
              "        async function convertToInteractive(key) {\n",
              "          const element = document.querySelector('#df-4c26e96f-f839-48ff-baa6-91daab9b9b92');\n",
              "          const dataTable =\n",
              "            await google.colab.kernel.invokeFunction('convertToInteractive',\n",
              "                                                     [key], {});\n",
              "          if (!dataTable) return;\n",
              "\n",
              "          const docLinkHtml = 'Like what you see? Visit the ' +\n",
              "            '<a target=\"_blank\" href=https://colab.research.google.com/notebooks/data_table.ipynb>data table notebook</a>'\n",
              "            + ' to learn more about interactive tables.';\n",
              "          element.innerHTML = '';\n",
              "          dataTable['output_type'] = 'display_data';\n",
              "          await google.colab.output.renderOutput(dataTable, element);\n",
              "          const docLink = document.createElement('div');\n",
              "          docLink.innerHTML = docLinkHtml;\n",
              "          element.appendChild(docLink);\n",
              "        }\n",
              "      </script>\n",
              "    </div>\n",
              "  </div>\n",
              "  "
            ]
          },
          "metadata": {}
        }
      ]
    },
    {
      "cell_type": "code",
      "metadata": {
        "colab": {
          "base_uri": "https://localhost:8080/",
          "height": 270
        },
        "id": "sgdL_ey_LXMM",
        "outputId": "fe37a110-956d-4f51-fa30-60dfc1380162"
      },
      "source": [
        "df.rename(columns={'Alcohol': 'Alcool', \n",
        "                   'Ash': 'Po', \n",
        "                   'Ash_Alcanity': 'Alcalinidade_po', \n",
        "                   'Magnesium': 'Magnesio',\n",
        "                   'Color_Intensity': 'Intensidade_de_cor'\n",
        "                   }, inplace=True)\n",
        "df.head()"
      ],
      "execution_count": 4,
      "outputs": [
        {
          "output_type": "execute_result",
          "data": {
            "text/plain": [
              "   Alcool  Malic_Acid    Po  Alcalinidade_po  Magnesio  Total_Phenols  \\\n",
              "0   14.23        1.71  2.43             15.6       127           2.80   \n",
              "1   13.20        1.78  2.14             11.2       100           2.65   \n",
              "2   13.16        2.36  2.67             18.6       101           2.80   \n",
              "3   14.37        1.95  2.50             16.8       113           3.85   \n",
              "4   13.24        2.59  2.87             21.0       118           2.80   \n",
              "\n",
              "   Flavanoids  Nonflavanoid_Phenols  Proanthocyanins  Intensidade_de_cor  \\\n",
              "0        3.06                  0.28             2.29                5.64   \n",
              "1        2.76                  0.26             1.28                4.38   \n",
              "2        3.24                  0.30             2.81                5.68   \n",
              "3        3.49                  0.24             2.18                7.80   \n",
              "4        2.69                  0.39             1.82                4.32   \n",
              "\n",
              "    Hue  OD280  Proline  Customer_Segment  \n",
              "0  1.04   3.92     1065                 1  \n",
              "1  1.05   3.40     1050                 1  \n",
              "2  1.03   3.17     1185                 1  \n",
              "3  0.86   3.45     1480                 1  \n",
              "4  1.04   2.93      735                 1  "
            ],
            "text/html": [
              "\n",
              "  <div id=\"df-53df738e-bf9d-45f0-841e-3616601efa46\">\n",
              "    <div class=\"colab-df-container\">\n",
              "      <div>\n",
              "<style scoped>\n",
              "    .dataframe tbody tr th:only-of-type {\n",
              "        vertical-align: middle;\n",
              "    }\n",
              "\n",
              "    .dataframe tbody tr th {\n",
              "        vertical-align: top;\n",
              "    }\n",
              "\n",
              "    .dataframe thead th {\n",
              "        text-align: right;\n",
              "    }\n",
              "</style>\n",
              "<table border=\"1\" class=\"dataframe\">\n",
              "  <thead>\n",
              "    <tr style=\"text-align: right;\">\n",
              "      <th></th>\n",
              "      <th>Alcool</th>\n",
              "      <th>Malic_Acid</th>\n",
              "      <th>Po</th>\n",
              "      <th>Alcalinidade_po</th>\n",
              "      <th>Magnesio</th>\n",
              "      <th>Total_Phenols</th>\n",
              "      <th>Flavanoids</th>\n",
              "      <th>Nonflavanoid_Phenols</th>\n",
              "      <th>Proanthocyanins</th>\n",
              "      <th>Intensidade_de_cor</th>\n",
              "      <th>Hue</th>\n",
              "      <th>OD280</th>\n",
              "      <th>Proline</th>\n",
              "      <th>Customer_Segment</th>\n",
              "    </tr>\n",
              "  </thead>\n",
              "  <tbody>\n",
              "    <tr>\n",
              "      <th>0</th>\n",
              "      <td>14.23</td>\n",
              "      <td>1.71</td>\n",
              "      <td>2.43</td>\n",
              "      <td>15.6</td>\n",
              "      <td>127</td>\n",
              "      <td>2.80</td>\n",
              "      <td>3.06</td>\n",
              "      <td>0.28</td>\n",
              "      <td>2.29</td>\n",
              "      <td>5.64</td>\n",
              "      <td>1.04</td>\n",
              "      <td>3.92</td>\n",
              "      <td>1065</td>\n",
              "      <td>1</td>\n",
              "    </tr>\n",
              "    <tr>\n",
              "      <th>1</th>\n",
              "      <td>13.20</td>\n",
              "      <td>1.78</td>\n",
              "      <td>2.14</td>\n",
              "      <td>11.2</td>\n",
              "      <td>100</td>\n",
              "      <td>2.65</td>\n",
              "      <td>2.76</td>\n",
              "      <td>0.26</td>\n",
              "      <td>1.28</td>\n",
              "      <td>4.38</td>\n",
              "      <td>1.05</td>\n",
              "      <td>3.40</td>\n",
              "      <td>1050</td>\n",
              "      <td>1</td>\n",
              "    </tr>\n",
              "    <tr>\n",
              "      <th>2</th>\n",
              "      <td>13.16</td>\n",
              "      <td>2.36</td>\n",
              "      <td>2.67</td>\n",
              "      <td>18.6</td>\n",
              "      <td>101</td>\n",
              "      <td>2.80</td>\n",
              "      <td>3.24</td>\n",
              "      <td>0.30</td>\n",
              "      <td>2.81</td>\n",
              "      <td>5.68</td>\n",
              "      <td>1.03</td>\n",
              "      <td>3.17</td>\n",
              "      <td>1185</td>\n",
              "      <td>1</td>\n",
              "    </tr>\n",
              "    <tr>\n",
              "      <th>3</th>\n",
              "      <td>14.37</td>\n",
              "      <td>1.95</td>\n",
              "      <td>2.50</td>\n",
              "      <td>16.8</td>\n",
              "      <td>113</td>\n",
              "      <td>3.85</td>\n",
              "      <td>3.49</td>\n",
              "      <td>0.24</td>\n",
              "      <td>2.18</td>\n",
              "      <td>7.80</td>\n",
              "      <td>0.86</td>\n",
              "      <td>3.45</td>\n",
              "      <td>1480</td>\n",
              "      <td>1</td>\n",
              "    </tr>\n",
              "    <tr>\n",
              "      <th>4</th>\n",
              "      <td>13.24</td>\n",
              "      <td>2.59</td>\n",
              "      <td>2.87</td>\n",
              "      <td>21.0</td>\n",
              "      <td>118</td>\n",
              "      <td>2.80</td>\n",
              "      <td>2.69</td>\n",
              "      <td>0.39</td>\n",
              "      <td>1.82</td>\n",
              "      <td>4.32</td>\n",
              "      <td>1.04</td>\n",
              "      <td>2.93</td>\n",
              "      <td>735</td>\n",
              "      <td>1</td>\n",
              "    </tr>\n",
              "  </tbody>\n",
              "</table>\n",
              "</div>\n",
              "      <button class=\"colab-df-convert\" onclick=\"convertToInteractive('df-53df738e-bf9d-45f0-841e-3616601efa46')\"\n",
              "              title=\"Convert this dataframe to an interactive table.\"\n",
              "              style=\"display:none;\">\n",
              "        \n",
              "  <svg xmlns=\"http://www.w3.org/2000/svg\" height=\"24px\"viewBox=\"0 0 24 24\"\n",
              "       width=\"24px\">\n",
              "    <path d=\"M0 0h24v24H0V0z\" fill=\"none\"/>\n",
              "    <path d=\"M18.56 5.44l.94 2.06.94-2.06 2.06-.94-2.06-.94-.94-2.06-.94 2.06-2.06.94zm-11 1L8.5 8.5l.94-2.06 2.06-.94-2.06-.94L8.5 2.5l-.94 2.06-2.06.94zm10 10l.94 2.06.94-2.06 2.06-.94-2.06-.94-.94-2.06-.94 2.06-2.06.94z\"/><path d=\"M17.41 7.96l-1.37-1.37c-.4-.4-.92-.59-1.43-.59-.52 0-1.04.2-1.43.59L10.3 9.45l-7.72 7.72c-.78.78-.78 2.05 0 2.83L4 21.41c.39.39.9.59 1.41.59.51 0 1.02-.2 1.41-.59l7.78-7.78 2.81-2.81c.8-.78.8-2.07 0-2.86zM5.41 20L4 18.59l7.72-7.72 1.47 1.35L5.41 20z\"/>\n",
              "  </svg>\n",
              "      </button>\n",
              "      \n",
              "  <style>\n",
              "    .colab-df-container {\n",
              "      display:flex;\n",
              "      flex-wrap:wrap;\n",
              "      gap: 12px;\n",
              "    }\n",
              "\n",
              "    .colab-df-convert {\n",
              "      background-color: #E8F0FE;\n",
              "      border: none;\n",
              "      border-radius: 50%;\n",
              "      cursor: pointer;\n",
              "      display: none;\n",
              "      fill: #1967D2;\n",
              "      height: 32px;\n",
              "      padding: 0 0 0 0;\n",
              "      width: 32px;\n",
              "    }\n",
              "\n",
              "    .colab-df-convert:hover {\n",
              "      background-color: #E2EBFA;\n",
              "      box-shadow: 0px 1px 2px rgba(60, 64, 67, 0.3), 0px 1px 3px 1px rgba(60, 64, 67, 0.15);\n",
              "      fill: #174EA6;\n",
              "    }\n",
              "\n",
              "    [theme=dark] .colab-df-convert {\n",
              "      background-color: #3B4455;\n",
              "      fill: #D2E3FC;\n",
              "    }\n",
              "\n",
              "    [theme=dark] .colab-df-convert:hover {\n",
              "      background-color: #434B5C;\n",
              "      box-shadow: 0px 1px 3px 1px rgba(0, 0, 0, 0.15);\n",
              "      filter: drop-shadow(0px 1px 2px rgba(0, 0, 0, 0.3));\n",
              "      fill: #FFFFFF;\n",
              "    }\n",
              "  </style>\n",
              "\n",
              "      <script>\n",
              "        const buttonEl =\n",
              "          document.querySelector('#df-53df738e-bf9d-45f0-841e-3616601efa46 button.colab-df-convert');\n",
              "        buttonEl.style.display =\n",
              "          google.colab.kernel.accessAllowed ? 'block' : 'none';\n",
              "\n",
              "        async function convertToInteractive(key) {\n",
              "          const element = document.querySelector('#df-53df738e-bf9d-45f0-841e-3616601efa46');\n",
              "          const dataTable =\n",
              "            await google.colab.kernel.invokeFunction('convertToInteractive',\n",
              "                                                     [key], {});\n",
              "          if (!dataTable) return;\n",
              "\n",
              "          const docLinkHtml = 'Like what you see? Visit the ' +\n",
              "            '<a target=\"_blank\" href=https://colab.research.google.com/notebooks/data_table.ipynb>data table notebook</a>'\n",
              "            + ' to learn more about interactive tables.';\n",
              "          element.innerHTML = '';\n",
              "          dataTable['output_type'] = 'display_data';\n",
              "          await google.colab.output.renderOutput(dataTable, element);\n",
              "          const docLink = document.createElement('div');\n",
              "          docLink.innerHTML = docLinkHtml;\n",
              "          element.appendChild(docLink);\n",
              "        }\n",
              "      </script>\n",
              "    </div>\n",
              "  </div>\n",
              "  "
            ]
          },
          "metadata": {},
          "execution_count": 4
        }
      ]
    },
    {
      "cell_type": "code",
      "metadata": {
        "colab": {
          "base_uri": "https://localhost:8080/",
          "height": 364
        },
        "id": "fg1qGsiZMSQg",
        "outputId": "b4bb310b-6082-47b5-fc5d-b72eca46dfbe"
      },
      "source": [
        "df.describe()"
      ],
      "execution_count": 5,
      "outputs": [
        {
          "output_type": "execute_result",
          "data": {
            "text/plain": [
              "           Alcool  Malic_Acid          Po  Alcalinidade_po    Magnesio  \\\n",
              "count  178.000000  178.000000  178.000000       178.000000  178.000000   \n",
              "mean    13.000618    2.336348    2.366517        19.494944   99.741573   \n",
              "std      0.811827    1.117146    0.274344         3.339564   14.282484   \n",
              "min     11.030000    0.740000    1.360000        10.600000   70.000000   \n",
              "25%     12.362500    1.602500    2.210000        17.200000   88.000000   \n",
              "50%     13.050000    1.865000    2.360000        19.500000   98.000000   \n",
              "75%     13.677500    3.082500    2.557500        21.500000  107.000000   \n",
              "max     14.830000    5.800000    3.230000        30.000000  162.000000   \n",
              "\n",
              "       Total_Phenols  Flavanoids  Nonflavanoid_Phenols  Proanthocyanins  \\\n",
              "count     178.000000  178.000000            178.000000       178.000000   \n",
              "mean        2.295112    2.029270              0.361854         1.590899   \n",
              "std         0.625851    0.998859              0.124453         0.572359   \n",
              "min         0.980000    0.340000              0.130000         0.410000   \n",
              "25%         1.742500    1.205000              0.270000         1.250000   \n",
              "50%         2.355000    2.135000              0.340000         1.555000   \n",
              "75%         2.800000    2.875000              0.437500         1.950000   \n",
              "max         3.880000    5.080000              0.660000         3.580000   \n",
              "\n",
              "       Intensidade_de_cor         Hue       OD280      Proline  \\\n",
              "count          178.000000  178.000000  178.000000   178.000000   \n",
              "mean             5.058090    0.957449    2.611685   746.893258   \n",
              "std              2.318286    0.228572    0.709990   314.907474   \n",
              "min              1.280000    0.480000    1.270000   278.000000   \n",
              "25%              3.220000    0.782500    1.937500   500.500000   \n",
              "50%              4.690000    0.965000    2.780000   673.500000   \n",
              "75%              6.200000    1.120000    3.170000   985.000000   \n",
              "max             13.000000    1.710000    4.000000  1680.000000   \n",
              "\n",
              "       Customer_Segment  \n",
              "count        178.000000  \n",
              "mean           1.938202  \n",
              "std            0.775035  \n",
              "min            1.000000  \n",
              "25%            1.000000  \n",
              "50%            2.000000  \n",
              "75%            3.000000  \n",
              "max            3.000000  "
            ],
            "text/html": [
              "\n",
              "  <div id=\"df-35fcdbd3-10a5-4bde-818f-4663ce520188\">\n",
              "    <div class=\"colab-df-container\">\n",
              "      <div>\n",
              "<style scoped>\n",
              "    .dataframe tbody tr th:only-of-type {\n",
              "        vertical-align: middle;\n",
              "    }\n",
              "\n",
              "    .dataframe tbody tr th {\n",
              "        vertical-align: top;\n",
              "    }\n",
              "\n",
              "    .dataframe thead th {\n",
              "        text-align: right;\n",
              "    }\n",
              "</style>\n",
              "<table border=\"1\" class=\"dataframe\">\n",
              "  <thead>\n",
              "    <tr style=\"text-align: right;\">\n",
              "      <th></th>\n",
              "      <th>Alcool</th>\n",
              "      <th>Malic_Acid</th>\n",
              "      <th>Po</th>\n",
              "      <th>Alcalinidade_po</th>\n",
              "      <th>Magnesio</th>\n",
              "      <th>Total_Phenols</th>\n",
              "      <th>Flavanoids</th>\n",
              "      <th>Nonflavanoid_Phenols</th>\n",
              "      <th>Proanthocyanins</th>\n",
              "      <th>Intensidade_de_cor</th>\n",
              "      <th>Hue</th>\n",
              "      <th>OD280</th>\n",
              "      <th>Proline</th>\n",
              "      <th>Customer_Segment</th>\n",
              "    </tr>\n",
              "  </thead>\n",
              "  <tbody>\n",
              "    <tr>\n",
              "      <th>count</th>\n",
              "      <td>178.000000</td>\n",
              "      <td>178.000000</td>\n",
              "      <td>178.000000</td>\n",
              "      <td>178.000000</td>\n",
              "      <td>178.000000</td>\n",
              "      <td>178.000000</td>\n",
              "      <td>178.000000</td>\n",
              "      <td>178.000000</td>\n",
              "      <td>178.000000</td>\n",
              "      <td>178.000000</td>\n",
              "      <td>178.000000</td>\n",
              "      <td>178.000000</td>\n",
              "      <td>178.000000</td>\n",
              "      <td>178.000000</td>\n",
              "    </tr>\n",
              "    <tr>\n",
              "      <th>mean</th>\n",
              "      <td>13.000618</td>\n",
              "      <td>2.336348</td>\n",
              "      <td>2.366517</td>\n",
              "      <td>19.494944</td>\n",
              "      <td>99.741573</td>\n",
              "      <td>2.295112</td>\n",
              "      <td>2.029270</td>\n",
              "      <td>0.361854</td>\n",
              "      <td>1.590899</td>\n",
              "      <td>5.058090</td>\n",
              "      <td>0.957449</td>\n",
              "      <td>2.611685</td>\n",
              "      <td>746.893258</td>\n",
              "      <td>1.938202</td>\n",
              "    </tr>\n",
              "    <tr>\n",
              "      <th>std</th>\n",
              "      <td>0.811827</td>\n",
              "      <td>1.117146</td>\n",
              "      <td>0.274344</td>\n",
              "      <td>3.339564</td>\n",
              "      <td>14.282484</td>\n",
              "      <td>0.625851</td>\n",
              "      <td>0.998859</td>\n",
              "      <td>0.124453</td>\n",
              "      <td>0.572359</td>\n",
              "      <td>2.318286</td>\n",
              "      <td>0.228572</td>\n",
              "      <td>0.709990</td>\n",
              "      <td>314.907474</td>\n",
              "      <td>0.775035</td>\n",
              "    </tr>\n",
              "    <tr>\n",
              "      <th>min</th>\n",
              "      <td>11.030000</td>\n",
              "      <td>0.740000</td>\n",
              "      <td>1.360000</td>\n",
              "      <td>10.600000</td>\n",
              "      <td>70.000000</td>\n",
              "      <td>0.980000</td>\n",
              "      <td>0.340000</td>\n",
              "      <td>0.130000</td>\n",
              "      <td>0.410000</td>\n",
              "      <td>1.280000</td>\n",
              "      <td>0.480000</td>\n",
              "      <td>1.270000</td>\n",
              "      <td>278.000000</td>\n",
              "      <td>1.000000</td>\n",
              "    </tr>\n",
              "    <tr>\n",
              "      <th>25%</th>\n",
              "      <td>12.362500</td>\n",
              "      <td>1.602500</td>\n",
              "      <td>2.210000</td>\n",
              "      <td>17.200000</td>\n",
              "      <td>88.000000</td>\n",
              "      <td>1.742500</td>\n",
              "      <td>1.205000</td>\n",
              "      <td>0.270000</td>\n",
              "      <td>1.250000</td>\n",
              "      <td>3.220000</td>\n",
              "      <td>0.782500</td>\n",
              "      <td>1.937500</td>\n",
              "      <td>500.500000</td>\n",
              "      <td>1.000000</td>\n",
              "    </tr>\n",
              "    <tr>\n",
              "      <th>50%</th>\n",
              "      <td>13.050000</td>\n",
              "      <td>1.865000</td>\n",
              "      <td>2.360000</td>\n",
              "      <td>19.500000</td>\n",
              "      <td>98.000000</td>\n",
              "      <td>2.355000</td>\n",
              "      <td>2.135000</td>\n",
              "      <td>0.340000</td>\n",
              "      <td>1.555000</td>\n",
              "      <td>4.690000</td>\n",
              "      <td>0.965000</td>\n",
              "      <td>2.780000</td>\n",
              "      <td>673.500000</td>\n",
              "      <td>2.000000</td>\n",
              "    </tr>\n",
              "    <tr>\n",
              "      <th>75%</th>\n",
              "      <td>13.677500</td>\n",
              "      <td>3.082500</td>\n",
              "      <td>2.557500</td>\n",
              "      <td>21.500000</td>\n",
              "      <td>107.000000</td>\n",
              "      <td>2.800000</td>\n",
              "      <td>2.875000</td>\n",
              "      <td>0.437500</td>\n",
              "      <td>1.950000</td>\n",
              "      <td>6.200000</td>\n",
              "      <td>1.120000</td>\n",
              "      <td>3.170000</td>\n",
              "      <td>985.000000</td>\n",
              "      <td>3.000000</td>\n",
              "    </tr>\n",
              "    <tr>\n",
              "      <th>max</th>\n",
              "      <td>14.830000</td>\n",
              "      <td>5.800000</td>\n",
              "      <td>3.230000</td>\n",
              "      <td>30.000000</td>\n",
              "      <td>162.000000</td>\n",
              "      <td>3.880000</td>\n",
              "      <td>5.080000</td>\n",
              "      <td>0.660000</td>\n",
              "      <td>3.580000</td>\n",
              "      <td>13.000000</td>\n",
              "      <td>1.710000</td>\n",
              "      <td>4.000000</td>\n",
              "      <td>1680.000000</td>\n",
              "      <td>3.000000</td>\n",
              "    </tr>\n",
              "  </tbody>\n",
              "</table>\n",
              "</div>\n",
              "      <button class=\"colab-df-convert\" onclick=\"convertToInteractive('df-35fcdbd3-10a5-4bde-818f-4663ce520188')\"\n",
              "              title=\"Convert this dataframe to an interactive table.\"\n",
              "              style=\"display:none;\">\n",
              "        \n",
              "  <svg xmlns=\"http://www.w3.org/2000/svg\" height=\"24px\"viewBox=\"0 0 24 24\"\n",
              "       width=\"24px\">\n",
              "    <path d=\"M0 0h24v24H0V0z\" fill=\"none\"/>\n",
              "    <path d=\"M18.56 5.44l.94 2.06.94-2.06 2.06-.94-2.06-.94-.94-2.06-.94 2.06-2.06.94zm-11 1L8.5 8.5l.94-2.06 2.06-.94-2.06-.94L8.5 2.5l-.94 2.06-2.06.94zm10 10l.94 2.06.94-2.06 2.06-.94-2.06-.94-.94-2.06-.94 2.06-2.06.94z\"/><path d=\"M17.41 7.96l-1.37-1.37c-.4-.4-.92-.59-1.43-.59-.52 0-1.04.2-1.43.59L10.3 9.45l-7.72 7.72c-.78.78-.78 2.05 0 2.83L4 21.41c.39.39.9.59 1.41.59.51 0 1.02-.2 1.41-.59l7.78-7.78 2.81-2.81c.8-.78.8-2.07 0-2.86zM5.41 20L4 18.59l7.72-7.72 1.47 1.35L5.41 20z\"/>\n",
              "  </svg>\n",
              "      </button>\n",
              "      \n",
              "  <style>\n",
              "    .colab-df-container {\n",
              "      display:flex;\n",
              "      flex-wrap:wrap;\n",
              "      gap: 12px;\n",
              "    }\n",
              "\n",
              "    .colab-df-convert {\n",
              "      background-color: #E8F0FE;\n",
              "      border: none;\n",
              "      border-radius: 50%;\n",
              "      cursor: pointer;\n",
              "      display: none;\n",
              "      fill: #1967D2;\n",
              "      height: 32px;\n",
              "      padding: 0 0 0 0;\n",
              "      width: 32px;\n",
              "    }\n",
              "\n",
              "    .colab-df-convert:hover {\n",
              "      background-color: #E2EBFA;\n",
              "      box-shadow: 0px 1px 2px rgba(60, 64, 67, 0.3), 0px 1px 3px 1px rgba(60, 64, 67, 0.15);\n",
              "      fill: #174EA6;\n",
              "    }\n",
              "\n",
              "    [theme=dark] .colab-df-convert {\n",
              "      background-color: #3B4455;\n",
              "      fill: #D2E3FC;\n",
              "    }\n",
              "\n",
              "    [theme=dark] .colab-df-convert:hover {\n",
              "      background-color: #434B5C;\n",
              "      box-shadow: 0px 1px 3px 1px rgba(0, 0, 0, 0.15);\n",
              "      filter: drop-shadow(0px 1px 2px rgba(0, 0, 0, 0.3));\n",
              "      fill: #FFFFFF;\n",
              "    }\n",
              "  </style>\n",
              "\n",
              "      <script>\n",
              "        const buttonEl =\n",
              "          document.querySelector('#df-35fcdbd3-10a5-4bde-818f-4663ce520188 button.colab-df-convert');\n",
              "        buttonEl.style.display =\n",
              "          google.colab.kernel.accessAllowed ? 'block' : 'none';\n",
              "\n",
              "        async function convertToInteractive(key) {\n",
              "          const element = document.querySelector('#df-35fcdbd3-10a5-4bde-818f-4663ce520188');\n",
              "          const dataTable =\n",
              "            await google.colab.kernel.invokeFunction('convertToInteractive',\n",
              "                                                     [key], {});\n",
              "          if (!dataTable) return;\n",
              "\n",
              "          const docLinkHtml = 'Like what you see? Visit the ' +\n",
              "            '<a target=\"_blank\" href=https://colab.research.google.com/notebooks/data_table.ipynb>data table notebook</a>'\n",
              "            + ' to learn more about interactive tables.';\n",
              "          element.innerHTML = '';\n",
              "          dataTable['output_type'] = 'display_data';\n",
              "          await google.colab.output.renderOutput(dataTable, element);\n",
              "          const docLink = document.createElement('div');\n",
              "          docLink.innerHTML = docLinkHtml;\n",
              "          element.appendChild(docLink);\n",
              "        }\n",
              "      </script>\n",
              "    </div>\n",
              "  </div>\n",
              "  "
            ]
          },
          "metadata": {},
          "execution_count": 5
        }
      ]
    },
    {
      "cell_type": "markdown",
      "metadata": {
        "id": "5c7XGVfdTMoH"
      },
      "source": [
        "Vamos saber a relação que existe entre os atributos do dataframe, para saber quais são realmente fundamentais para o seu DataFrame e quais não são."
      ]
    },
    {
      "cell_type": "code",
      "metadata": {
        "id": "2_pvMrqPMnHc",
        "colab": {
          "base_uri": "https://localhost:8080/"
        },
        "outputId": "214ebb99-80bd-4e84-efe1-e0cf2edb45e6"
      },
      "source": [
        "pip install biokit"
      ],
      "execution_count": 6,
      "outputs": [
        {
          "output_type": "stream",
          "name": "stdout",
          "text": [
            "Looking in indexes: https://pypi.org/simple, https://us-python.pkg.dev/colab-wheels/public/simple/\n",
            "Collecting biokit\n",
            "  Downloading biokit-0.5.0.tar.gz (162 kB)\n",
            "\u001b[2K     \u001b[90m━━━━━━━━━━━━━━━━━━━━━━━━━━━━━━━━━━━━━━━\u001b[0m \u001b[32m162.2/162.2 KB\u001b[0m \u001b[31m3.1 MB/s\u001b[0m eta \u001b[36m0:00:00\u001b[0m\n",
            "\u001b[?25h  Preparing metadata (setup.py) ... \u001b[?25l\u001b[?25hdone\n",
            "Collecting easydev>=0.9.34\n",
            "  Downloading easydev-0.12.0.tar.gz (47 kB)\n",
            "\u001b[2K     \u001b[90m━━━━━━━━━━━━━━━━━━━━━━━━━━━━━━━━━━━━━━━━\u001b[0m \u001b[32m47.1/47.1 KB\u001b[0m \u001b[31m1.7 MB/s\u001b[0m eta \u001b[36m0:00:00\u001b[0m\n",
            "\u001b[?25h  Preparing metadata (setup.py) ... \u001b[?25l\u001b[?25hdone\n",
            "Requirement already satisfied: pandas in /usr/local/lib/python3.8/dist-packages (from biokit) (1.3.5)\n",
            "Collecting bioservices>=1.4.5\n",
            "  Downloading bioservices-1.11.1.tar.gz (190 kB)\n",
            "\u001b[2K     \u001b[90m━━━━━━━━━━━━━━━━━━━━━━━━━━━━━━━━━━━━━━\u001b[0m \u001b[32m190.6/190.6 KB\u001b[0m \u001b[31m11.9 MB/s\u001b[0m eta \u001b[36m0:00:00\u001b[0m\n",
            "\u001b[?25h  Preparing metadata (setup.py) ... \u001b[?25l\u001b[?25hdone\n",
            "Collecting colormap\n",
            "  Downloading colormap-1.0.4.tar.gz (17 kB)\n",
            "  Preparing metadata (setup.py) ... \u001b[?25l\u001b[?25hdone\n",
            "Requirement already satisfied: scipy in /usr/local/lib/python3.8/dist-packages (from biokit) (1.7.3)\n",
            "Collecting biopython\n",
            "  Downloading biopython-1.80-cp38-cp38-manylinux_2_17_x86_64.manylinux2014_x86_64.whl (3.1 MB)\n",
            "\u001b[2K     \u001b[90m━━━━━━━━━━━━━━━━━━━━━━━━━━━━━━━━━━━━━━━━\u001b[0m \u001b[32m3.1/3.1 MB\u001b[0m \u001b[31m24.2 MB/s\u001b[0m eta \u001b[36m0:00:00\u001b[0m\n",
            "\u001b[?25hRequirement already satisfied: matplotlib in /usr/local/lib/python3.8/dist-packages (from biokit) (3.2.2)\n",
            "Collecting numpydoc\n",
            "  Downloading numpydoc-1.5.0-py3-none-any.whl (52 kB)\n",
            "\u001b[2K     \u001b[90m━━━━━━━━━━━━━━━━━━━━━━━━━━━━━━━━━━━━━━━━\u001b[0m \u001b[32m52.4/52.4 KB\u001b[0m \u001b[31m2.9 MB/s\u001b[0m eta \u001b[36m0:00:00\u001b[0m\n",
            "\u001b[?25hCollecting colorlog\n",
            "  Downloading colorlog-6.7.0-py2.py3-none-any.whl (11 kB)\n",
            "Requirement already satisfied: appdirs in /usr/local/lib/python3.8/dist-packages (from bioservices>=1.4.5->biokit) (1.4.4)\n",
            "Requirement already satisfied: beautifulsoup4 in /usr/local/lib/python3.8/dist-packages (from bioservices>=1.4.5->biokit) (4.6.3)\n",
            "Collecting grequests\n",
            "  Downloading grequests-0.6.0-py3-none-any.whl (5.2 kB)\n",
            "Requirement already satisfied: requests in /usr/local/lib/python3.8/dist-packages (from bioservices>=1.4.5->biokit) (2.25.1)\n",
            "Collecting requests_cache\n",
            "  Downloading requests_cache-0.9.8-py3-none-any.whl (48 kB)\n",
            "\u001b[2K     \u001b[90m━━━━━━━━━━━━━━━━━━━━━━━━━━━━━━━━━━━━━━━━\u001b[0m \u001b[32m48.7/48.7 KB\u001b[0m \u001b[31m3.0 MB/s\u001b[0m eta \u001b[36m0:00:00\u001b[0m\n",
            "\u001b[?25hCollecting suds-community>=0.7\n",
            "  Downloading suds_community-1.1.2-py3-none-any.whl (144 kB)\n",
            "\u001b[2K     \u001b[90m━━━━━━━━━━━━━━━━━━━━━━━━━━━━━━━━━━━━━━\u001b[0m \u001b[32m144.9/144.9 KB\u001b[0m \u001b[31m13.5 MB/s\u001b[0m eta \u001b[36m0:00:00\u001b[0m\n",
            "\u001b[?25hRequirement already satisfied: lxml in /usr/local/lib/python3.8/dist-packages (from bioservices>=1.4.5->biokit) (4.9.2)\n",
            "Requirement already satisfied: tqdm in /usr/local/lib/python3.8/dist-packages (from bioservices>=1.4.5->biokit) (4.64.1)\n",
            "Requirement already satisfied: wrapt in /usr/local/lib/python3.8/dist-packages (from bioservices>=1.4.5->biokit) (1.14.1)\n",
            "Collecting xmltodict\n",
            "  Downloading xmltodict-0.13.0-py2.py3-none-any.whl (10.0 kB)\n",
            "Collecting colorama\n",
            "  Downloading colorama-0.4.6-py2.py3-none-any.whl (25 kB)\n",
            "Requirement already satisfied: pexpect in /usr/local/lib/python3.8/dist-packages (from easydev>=0.9.34->biokit) (4.8.0)\n",
            "Requirement already satisfied: pytz>=2017.3 in /usr/local/lib/python3.8/dist-packages (from pandas->biokit) (2022.7)\n",
            "Requirement already satisfied: numpy>=1.17.3 in /usr/local/lib/python3.8/dist-packages (from pandas->biokit) (1.21.6)\n",
            "Requirement already satisfied: python-dateutil>=2.7.3 in /usr/local/lib/python3.8/dist-packages (from pandas->biokit) (2.8.2)\n",
            "Requirement already satisfied: kiwisolver>=1.0.1 in /usr/local/lib/python3.8/dist-packages (from matplotlib->biokit) (1.4.4)\n",
            "Requirement already satisfied: pyparsing!=2.0.4,!=2.1.2,!=2.1.6,>=2.0.1 in /usr/local/lib/python3.8/dist-packages (from matplotlib->biokit) (3.0.9)\n",
            "Requirement already satisfied: cycler>=0.10 in /usr/local/lib/python3.8/dist-packages (from matplotlib->biokit) (0.11.0)\n",
            "Requirement already satisfied: Jinja2>=2.10 in /usr/local/lib/python3.8/dist-packages (from numpydoc->biokit) (2.11.3)\n",
            "Collecting sphinx>=4.2\n",
            "  Downloading sphinx-6.1.3-py3-none-any.whl (3.0 MB)\n",
            "\u001b[2K     \u001b[90m━━━━━━━━━━━━━━━━━━━━━━━━━━━━━━━━━━━━━━━━\u001b[0m \u001b[32m3.0/3.0 MB\u001b[0m \u001b[31m61.7 MB/s\u001b[0m eta \u001b[36m0:00:00\u001b[0m\n",
            "\u001b[?25hRequirement already satisfied: MarkupSafe>=0.23 in /usr/local/lib/python3.8/dist-packages (from Jinja2>=2.10->numpydoc->biokit) (2.0.1)\n",
            "Requirement already satisfied: six>=1.5 in /usr/local/lib/python3.8/dist-packages (from python-dateutil>=2.7.3->pandas->biokit) (1.15.0)\n",
            "Requirement already satisfied: importlib-metadata>=4.8 in /usr/local/lib/python3.8/dist-packages (from sphinx>=4.2->numpydoc->biokit) (6.0.0)\n",
            "Requirement already satisfied: sphinxcontrib-jsmath in /usr/local/lib/python3.8/dist-packages (from sphinx>=4.2->numpydoc->biokit) (1.0.1)\n",
            "Requirement already satisfied: snowballstemmer>=2.0 in /usr/local/lib/python3.8/dist-packages (from sphinx>=4.2->numpydoc->biokit) (2.2.0)\n",
            "Requirement already satisfied: sphinxcontrib-devhelp in /usr/local/lib/python3.8/dist-packages (from sphinx>=4.2->numpydoc->biokit) (1.0.2)\n",
            "Requirement already satisfied: sphinxcontrib-htmlhelp>=2.0.0 in /usr/local/lib/python3.8/dist-packages (from sphinx>=4.2->numpydoc->biokit) (2.0.0)\n",
            "Requirement already satisfied: imagesize>=1.3 in /usr/local/lib/python3.8/dist-packages (from sphinx>=4.2->numpydoc->biokit) (1.4.1)\n",
            "Requirement already satisfied: sphinxcontrib-qthelp in /usr/local/lib/python3.8/dist-packages (from sphinx>=4.2->numpydoc->biokit) (1.0.3)\n",
            "Collecting Pygments>=2.13\n",
            "  Downloading Pygments-2.14.0-py3-none-any.whl (1.1 MB)\n",
            "\u001b[2K     \u001b[90m━━━━━━━━━━━━━━━━━━━━━━━━━━━━━━━━━━━━━━━━\u001b[0m \u001b[32m1.1/1.1 MB\u001b[0m \u001b[31m46.3 MB/s\u001b[0m eta \u001b[36m0:00:00\u001b[0m\n",
            "\u001b[?25hRequirement already satisfied: sphinxcontrib-serializinghtml>=1.1.5 in /usr/local/lib/python3.8/dist-packages (from sphinx>=4.2->numpydoc->biokit) (1.1.5)\n",
            "Requirement already satisfied: alabaster<0.8,>=0.7 in /usr/local/lib/python3.8/dist-packages (from sphinx>=4.2->numpydoc->biokit) (0.7.12)\n",
            "Collecting docutils<0.20,>=0.18\n",
            "  Downloading docutils-0.19-py3-none-any.whl (570 kB)\n",
            "\u001b[2K     \u001b[90m━━━━━━━━━━━━━━━━━━━━━━━━━━━━━━━━━━━━━━\u001b[0m \u001b[32m570.5/570.5 KB\u001b[0m \u001b[31m21.2 MB/s\u001b[0m eta \u001b[36m0:00:00\u001b[0m\n",
            "\u001b[?25hRequirement already satisfied: packaging>=21.0 in /usr/local/lib/python3.8/dist-packages (from sphinx>=4.2->numpydoc->biokit) (21.3)\n",
            "Collecting Jinja2>=2.10\n",
            "  Downloading Jinja2-3.1.2-py3-none-any.whl (133 kB)\n",
            "\u001b[2K     \u001b[90m━━━━━━━━━━━━━━━━━━━━━━━━━━━━━━━━━━━━━━\u001b[0m \u001b[32m133.1/133.1 KB\u001b[0m \u001b[31m12.1 MB/s\u001b[0m eta \u001b[36m0:00:00\u001b[0m\n",
            "\u001b[?25hRequirement already satisfied: sphinxcontrib-applehelp in /usr/local/lib/python3.8/dist-packages (from sphinx>=4.2->numpydoc->biokit) (1.0.3)\n",
            "Requirement already satisfied: babel>=2.9 in /usr/local/lib/python3.8/dist-packages (from sphinx>=4.2->numpydoc->biokit) (2.11.0)\n",
            "Requirement already satisfied: chardet<5,>=3.0.2 in /usr/local/lib/python3.8/dist-packages (from requests->bioservices>=1.4.5->biokit) (4.0.0)\n",
            "Requirement already satisfied: certifi>=2017.4.17 in /usr/local/lib/python3.8/dist-packages (from requests->bioservices>=1.4.5->biokit) (2022.12.7)\n",
            "Requirement already satisfied: urllib3<1.27,>=1.21.1 in /usr/local/lib/python3.8/dist-packages (from requests->bioservices>=1.4.5->biokit) (1.24.3)\n",
            "Requirement already satisfied: idna<3,>=2.5 in /usr/local/lib/python3.8/dist-packages (from requests->bioservices>=1.4.5->biokit) (2.10)\n",
            "Collecting gevent\n",
            "  Downloading gevent-22.10.2-cp38-cp38-manylinux_2_17_x86_64.manylinux2014_x86_64.whl (6.5 MB)\n",
            "\u001b[2K     \u001b[90m━━━━━━━━━━━━━━━━━━━━━━━━━━━━━━━━━━━━━━━━\u001b[0m \u001b[32m6.5/6.5 MB\u001b[0m \u001b[31m31.2 MB/s\u001b[0m eta \u001b[36m0:00:00\u001b[0m\n",
            "\u001b[?25hRequirement already satisfied: ptyprocess>=0.5 in /usr/local/lib/python3.8/dist-packages (from pexpect->easydev>=0.9.34->biokit) (0.7.0)\n",
            "Requirement already satisfied: attrs>=21.2 in /usr/local/lib/python3.8/dist-packages (from requests_cache->bioservices>=1.4.5->biokit) (22.2.0)\n",
            "Collecting urllib3<1.27,>=1.21.1\n",
            "  Downloading urllib3-1.26.14-py2.py3-none-any.whl (140 kB)\n",
            "\u001b[2K     \u001b[90m━━━━━━━━━━━━━━━━━━━━━━━━━━━━━━━━━━━━━━\u001b[0m \u001b[32m140.6/140.6 KB\u001b[0m \u001b[31m12.5 MB/s\u001b[0m eta \u001b[36m0:00:00\u001b[0m\n",
            "\u001b[?25hCollecting url-normalize>=1.4\n",
            "  Downloading url_normalize-1.4.3-py2.py3-none-any.whl (6.8 kB)\n",
            "Collecting cattrs>=22.2\n",
            "  Downloading cattrs-22.2.0-py3-none-any.whl (35 kB)\n",
            "Collecting exceptiongroup\n",
            "  Downloading exceptiongroup-1.1.0-py3-none-any.whl (14 kB)\n",
            "Requirement already satisfied: zipp>=0.5 in /usr/local/lib/python3.8/dist-packages (from importlib-metadata>=4.8->sphinx>=4.2->numpydoc->biokit) (3.11.0)\n",
            "Requirement already satisfied: setuptools in /usr/local/lib/python3.8/dist-packages (from gevent->grequests->bioservices>=1.4.5->biokit) (57.4.0)\n",
            "Requirement already satisfied: greenlet>=2.0.0 in /usr/local/lib/python3.8/dist-packages (from gevent->grequests->bioservices>=1.4.5->biokit) (2.0.1)\n",
            "Collecting zope.event\n",
            "  Downloading zope.event-4.6-py2.py3-none-any.whl (6.8 kB)\n",
            "Collecting zope.interface\n",
            "  Downloading zope.interface-5.5.2-cp38-cp38-manylinux_2_5_x86_64.manylinux1_x86_64.manylinux_2_12_x86_64.manylinux2010_x86_64.whl (261 kB)\n",
            "\u001b[2K     \u001b[90m━━━━━━━━━━━━━━━━━━━━━━━━━━━━━━━━━━━━━━\u001b[0m \u001b[32m261.4/261.4 KB\u001b[0m \u001b[31m24.0 MB/s\u001b[0m eta \u001b[36m0:00:00\u001b[0m\n",
            "\u001b[?25hBuilding wheels for collected packages: biokit, bioservices, easydev, colormap\n",
            "  Building wheel for biokit (setup.py) ... \u001b[?25l\u001b[?25hdone\n",
            "  Created wheel for biokit: filename=biokit-0.5.0-py3-none-any.whl size=177148 sha256=3aaa9050970483a29d48c063df73f1f0bc54efb34f15785ad753d517551923f6\n",
            "  Stored in directory: /root/.cache/pip/wheels/e1/45/cd/b9a99738f30bb8dc3cebb9edecc0b47c784ac4020c91f62c95\n",
            "  Building wheel for bioservices (setup.py) ... \u001b[?25l\u001b[?25hdone\n",
            "  Created wheel for bioservices: filename=bioservices-1.11.1-py3-none-any.whl size=221986 sha256=3bc3a5c6deb6c7fc872d9175fb0987489dd89b5bcd39938dbb857d95d94d7cfc\n",
            "  Stored in directory: /root/.cache/pip/wheels/b3/5c/80/d5af2b081013680ebc878f36675c4b7ea7424e92fd8269be13\n",
            "  Building wheel for easydev (setup.py) ... \u001b[?25l\u001b[?25hdone\n",
            "  Created wheel for easydev: filename=easydev-0.12.0-py3-none-any.whl size=64232 sha256=94519f04bcbb933d4e5e8a34aa94a1a7c7304fcec0d51fa24b6833d886ab04a8\n",
            "  Stored in directory: /root/.cache/pip/wheels/e2/47/9f/de01f291cfde341b33383bcf1292b17d64c700d4a12b318a7d\n",
            "  Building wheel for colormap (setup.py) ... \u001b[?25l\u001b[?25hdone\n",
            "  Created wheel for colormap: filename=colormap-1.0.4-py3-none-any.whl size=15638 sha256=3e141847c7db467fe27518871b027f97c2b809114e99a52190ea8300c0fd6358\n",
            "  Stored in directory: /root/.cache/pip/wheels/31/58/37/3b4e752e680f9eef40869ad6d3d6bb9932704207384f8259b0\n",
            "Successfully built biokit bioservices easydev colormap\n",
            "Installing collected packages: colormap, zope.interface, zope.event, xmltodict, urllib3, url-normalize, suds-community, Pygments, Jinja2, exceptiongroup, docutils, colorlog, colorama, biopython, gevent, easydev, cattrs, sphinx, requests_cache, grequests, numpydoc, bioservices, biokit\n",
            "  Attempting uninstall: urllib3\n",
            "    Found existing installation: urllib3 1.24.3\n",
            "    Uninstalling urllib3-1.24.3:\n",
            "      Successfully uninstalled urllib3-1.24.3\n",
            "  Attempting uninstall: Pygments\n",
            "    Found existing installation: Pygments 2.6.1\n",
            "    Uninstalling Pygments-2.6.1:\n",
            "      Successfully uninstalled Pygments-2.6.1\n",
            "  Attempting uninstall: Jinja2\n",
            "    Found existing installation: Jinja2 2.11.3\n",
            "    Uninstalling Jinja2-2.11.3:\n",
            "      Successfully uninstalled Jinja2-2.11.3\n",
            "  Attempting uninstall: docutils\n",
            "    Found existing installation: docutils 0.16\n",
            "    Uninstalling docutils-0.16:\n",
            "      Successfully uninstalled docutils-0.16\n",
            "  Attempting uninstall: sphinx\n",
            "    Found existing installation: Sphinx 3.5.4\n",
            "    Uninstalling Sphinx-3.5.4:\n",
            "      Successfully uninstalled Sphinx-3.5.4\n",
            "\u001b[31mERROR: pip's dependency resolver does not currently take into account all the packages that are installed. This behaviour is the source of the following dependency conflicts.\n",
            "ipython 7.9.0 requires jedi>=0.10, which is not installed.\n",
            "notebook 5.7.16 requires jinja2<=3.0.0, but you have jinja2 3.1.2 which is incompatible.\n",
            "flask 1.1.4 requires Jinja2<3.0,>=2.10.1, but you have jinja2 3.1.2 which is incompatible.\u001b[0m\u001b[31m\n",
            "\u001b[0mSuccessfully installed Jinja2-3.1.2 Pygments-2.14.0 biokit-0.5.0 biopython-1.80 bioservices-1.11.1 cattrs-22.2.0 colorama-0.4.6 colorlog-6.7.0 colormap-1.0.4 docutils-0.19 easydev-0.12.0 exceptiongroup-1.1.0 gevent-22.10.2 grequests-0.6.0 numpydoc-1.5.0 requests_cache-0.9.8 sphinx-6.1.3 suds-community-1.1.2 url-normalize-1.4.3 urllib3-1.26.14 xmltodict-0.13.0 zope.event-4.6 zope.interface-5.5.2\n"
          ]
        }
      ]
    },
    {
      "cell_type": "code",
      "metadata": {
        "id": "CWO05L-RTZxf",
        "colab": {
          "base_uri": "https://localhost:8080/"
        },
        "outputId": "bcd1c53e-98b0-4711-d756-9cb7294a1e9a"
      },
      "source": [
        "from biokit.viz import corrplot\n",
        "import matplotlib.pyplot as plt"
      ],
      "execution_count": 7,
      "outputs": [
        {
          "output_type": "stream",
          "name": "stdout",
          "text": [
            "Creating directory /root/.config/biokit \n",
            "Creating directory /root/.config/bioservices \n"
          ]
        }
      ]
    },
    {
      "cell_type": "code",
      "metadata": {
        "colab": {
          "base_uri": "https://localhost:8080/",
          "height": 552
        },
        "id": "RPw2o5b-UqiC",
        "outputId": "5618bb89-b85c-4284-b9ba-f1c0974b8a5b"
      },
      "source": [
        "matriz_corr = df.corr()\n",
        "matriz_corr"
      ],
      "execution_count": 8,
      "outputs": [
        {
          "output_type": "execute_result",
          "data": {
            "text/plain": [
              "                        Alcool  Malic_Acid        Po  Alcalinidade_po  \\\n",
              "Alcool                1.000000    0.094397  0.211545        -0.310235   \n",
              "Malic_Acid            0.094397    1.000000  0.164045         0.288500   \n",
              "Po                    0.211545    0.164045  1.000000         0.443367   \n",
              "Alcalinidade_po      -0.310235    0.288500  0.443367         1.000000   \n",
              "Magnesio              0.270798   -0.054575  0.286587        -0.083333   \n",
              "Total_Phenols         0.289101   -0.335167  0.128980        -0.321113   \n",
              "Flavanoids            0.236815   -0.411007  0.115077        -0.351370   \n",
              "Nonflavanoid_Phenols -0.155929    0.292977  0.186230         0.361922   \n",
              "Proanthocyanins       0.136698   -0.220746  0.009652        -0.197327   \n",
              "Intensidade_de_cor    0.546364    0.248985  0.258887         0.018732   \n",
              "Hue                  -0.071747   -0.561296 -0.074667        -0.273955   \n",
              "OD280                 0.072343   -0.368710  0.003911        -0.276769   \n",
              "Proline               0.643720   -0.192011  0.223626        -0.440597   \n",
              "Customer_Segment     -0.328222    0.437776 -0.049643         0.517859   \n",
              "\n",
              "                      Magnesio  Total_Phenols  Flavanoids  \\\n",
              "Alcool                0.270798       0.289101    0.236815   \n",
              "Malic_Acid           -0.054575      -0.335167   -0.411007   \n",
              "Po                    0.286587       0.128980    0.115077   \n",
              "Alcalinidade_po      -0.083333      -0.321113   -0.351370   \n",
              "Magnesio              1.000000       0.214401    0.195784   \n",
              "Total_Phenols         0.214401       1.000000    0.864564   \n",
              "Flavanoids            0.195784       0.864564    1.000000   \n",
              "Nonflavanoid_Phenols -0.256294      -0.449935   -0.537900   \n",
              "Proanthocyanins       0.236441       0.612413    0.652692   \n",
              "Intensidade_de_cor    0.199950      -0.055136   -0.172379   \n",
              "Hue                   0.055398       0.433681    0.543479   \n",
              "OD280                 0.066004       0.699949    0.787194   \n",
              "Proline               0.393351       0.498115    0.494193   \n",
              "Customer_Segment     -0.209179      -0.719163   -0.847498   \n",
              "\n",
              "                      Nonflavanoid_Phenols  Proanthocyanins  \\\n",
              "Alcool                           -0.155929         0.136698   \n",
              "Malic_Acid                        0.292977        -0.220746   \n",
              "Po                                0.186230         0.009652   \n",
              "Alcalinidade_po                   0.361922        -0.197327   \n",
              "Magnesio                         -0.256294         0.236441   \n",
              "Total_Phenols                    -0.449935         0.612413   \n",
              "Flavanoids                       -0.537900         0.652692   \n",
              "Nonflavanoid_Phenols              1.000000        -0.365845   \n",
              "Proanthocyanins                  -0.365845         1.000000   \n",
              "Intensidade_de_cor                0.139057        -0.025250   \n",
              "Hue                              -0.262640         0.295544   \n",
              "OD280                            -0.503270         0.519067   \n",
              "Proline                          -0.311385         0.330417   \n",
              "Customer_Segment                  0.489109        -0.499130   \n",
              "\n",
              "                      Intensidade_de_cor       Hue     OD280   Proline  \\\n",
              "Alcool                          0.546364 -0.071747  0.072343  0.643720   \n",
              "Malic_Acid                      0.248985 -0.561296 -0.368710 -0.192011   \n",
              "Po                              0.258887 -0.074667  0.003911  0.223626   \n",
              "Alcalinidade_po                 0.018732 -0.273955 -0.276769 -0.440597   \n",
              "Magnesio                        0.199950  0.055398  0.066004  0.393351   \n",
              "Total_Phenols                  -0.055136  0.433681  0.699949  0.498115   \n",
              "Flavanoids                     -0.172379  0.543479  0.787194  0.494193   \n",
              "Nonflavanoid_Phenols            0.139057 -0.262640 -0.503270 -0.311385   \n",
              "Proanthocyanins                -0.025250  0.295544  0.519067  0.330417   \n",
              "Intensidade_de_cor              1.000000 -0.521813 -0.428815  0.316100   \n",
              "Hue                            -0.521813  1.000000  0.565468  0.236183   \n",
              "OD280                          -0.428815  0.565468  1.000000  0.312761   \n",
              "Proline                         0.316100  0.236183  0.312761  1.000000   \n",
              "Customer_Segment                0.265668 -0.617369 -0.788230 -0.633717   \n",
              "\n",
              "                      Customer_Segment  \n",
              "Alcool                       -0.328222  \n",
              "Malic_Acid                    0.437776  \n",
              "Po                           -0.049643  \n",
              "Alcalinidade_po               0.517859  \n",
              "Magnesio                     -0.209179  \n",
              "Total_Phenols                -0.719163  \n",
              "Flavanoids                   -0.847498  \n",
              "Nonflavanoid_Phenols          0.489109  \n",
              "Proanthocyanins              -0.499130  \n",
              "Intensidade_de_cor            0.265668  \n",
              "Hue                          -0.617369  \n",
              "OD280                        -0.788230  \n",
              "Proline                      -0.633717  \n",
              "Customer_Segment              1.000000  "
            ],
            "text/html": [
              "\n",
              "  <div id=\"df-c99eb6d5-e4d7-4c01-84a0-237a5a1a1c8d\">\n",
              "    <div class=\"colab-df-container\">\n",
              "      <div>\n",
              "<style scoped>\n",
              "    .dataframe tbody tr th:only-of-type {\n",
              "        vertical-align: middle;\n",
              "    }\n",
              "\n",
              "    .dataframe tbody tr th {\n",
              "        vertical-align: top;\n",
              "    }\n",
              "\n",
              "    .dataframe thead th {\n",
              "        text-align: right;\n",
              "    }\n",
              "</style>\n",
              "<table border=\"1\" class=\"dataframe\">\n",
              "  <thead>\n",
              "    <tr style=\"text-align: right;\">\n",
              "      <th></th>\n",
              "      <th>Alcool</th>\n",
              "      <th>Malic_Acid</th>\n",
              "      <th>Po</th>\n",
              "      <th>Alcalinidade_po</th>\n",
              "      <th>Magnesio</th>\n",
              "      <th>Total_Phenols</th>\n",
              "      <th>Flavanoids</th>\n",
              "      <th>Nonflavanoid_Phenols</th>\n",
              "      <th>Proanthocyanins</th>\n",
              "      <th>Intensidade_de_cor</th>\n",
              "      <th>Hue</th>\n",
              "      <th>OD280</th>\n",
              "      <th>Proline</th>\n",
              "      <th>Customer_Segment</th>\n",
              "    </tr>\n",
              "  </thead>\n",
              "  <tbody>\n",
              "    <tr>\n",
              "      <th>Alcool</th>\n",
              "      <td>1.000000</td>\n",
              "      <td>0.094397</td>\n",
              "      <td>0.211545</td>\n",
              "      <td>-0.310235</td>\n",
              "      <td>0.270798</td>\n",
              "      <td>0.289101</td>\n",
              "      <td>0.236815</td>\n",
              "      <td>-0.155929</td>\n",
              "      <td>0.136698</td>\n",
              "      <td>0.546364</td>\n",
              "      <td>-0.071747</td>\n",
              "      <td>0.072343</td>\n",
              "      <td>0.643720</td>\n",
              "      <td>-0.328222</td>\n",
              "    </tr>\n",
              "    <tr>\n",
              "      <th>Malic_Acid</th>\n",
              "      <td>0.094397</td>\n",
              "      <td>1.000000</td>\n",
              "      <td>0.164045</td>\n",
              "      <td>0.288500</td>\n",
              "      <td>-0.054575</td>\n",
              "      <td>-0.335167</td>\n",
              "      <td>-0.411007</td>\n",
              "      <td>0.292977</td>\n",
              "      <td>-0.220746</td>\n",
              "      <td>0.248985</td>\n",
              "      <td>-0.561296</td>\n",
              "      <td>-0.368710</td>\n",
              "      <td>-0.192011</td>\n",
              "      <td>0.437776</td>\n",
              "    </tr>\n",
              "    <tr>\n",
              "      <th>Po</th>\n",
              "      <td>0.211545</td>\n",
              "      <td>0.164045</td>\n",
              "      <td>1.000000</td>\n",
              "      <td>0.443367</td>\n",
              "      <td>0.286587</td>\n",
              "      <td>0.128980</td>\n",
              "      <td>0.115077</td>\n",
              "      <td>0.186230</td>\n",
              "      <td>0.009652</td>\n",
              "      <td>0.258887</td>\n",
              "      <td>-0.074667</td>\n",
              "      <td>0.003911</td>\n",
              "      <td>0.223626</td>\n",
              "      <td>-0.049643</td>\n",
              "    </tr>\n",
              "    <tr>\n",
              "      <th>Alcalinidade_po</th>\n",
              "      <td>-0.310235</td>\n",
              "      <td>0.288500</td>\n",
              "      <td>0.443367</td>\n",
              "      <td>1.000000</td>\n",
              "      <td>-0.083333</td>\n",
              "      <td>-0.321113</td>\n",
              "      <td>-0.351370</td>\n",
              "      <td>0.361922</td>\n",
              "      <td>-0.197327</td>\n",
              "      <td>0.018732</td>\n",
              "      <td>-0.273955</td>\n",
              "      <td>-0.276769</td>\n",
              "      <td>-0.440597</td>\n",
              "      <td>0.517859</td>\n",
              "    </tr>\n",
              "    <tr>\n",
              "      <th>Magnesio</th>\n",
              "      <td>0.270798</td>\n",
              "      <td>-0.054575</td>\n",
              "      <td>0.286587</td>\n",
              "      <td>-0.083333</td>\n",
              "      <td>1.000000</td>\n",
              "      <td>0.214401</td>\n",
              "      <td>0.195784</td>\n",
              "      <td>-0.256294</td>\n",
              "      <td>0.236441</td>\n",
              "      <td>0.199950</td>\n",
              "      <td>0.055398</td>\n",
              "      <td>0.066004</td>\n",
              "      <td>0.393351</td>\n",
              "      <td>-0.209179</td>\n",
              "    </tr>\n",
              "    <tr>\n",
              "      <th>Total_Phenols</th>\n",
              "      <td>0.289101</td>\n",
              "      <td>-0.335167</td>\n",
              "      <td>0.128980</td>\n",
              "      <td>-0.321113</td>\n",
              "      <td>0.214401</td>\n",
              "      <td>1.000000</td>\n",
              "      <td>0.864564</td>\n",
              "      <td>-0.449935</td>\n",
              "      <td>0.612413</td>\n",
              "      <td>-0.055136</td>\n",
              "      <td>0.433681</td>\n",
              "      <td>0.699949</td>\n",
              "      <td>0.498115</td>\n",
              "      <td>-0.719163</td>\n",
              "    </tr>\n",
              "    <tr>\n",
              "      <th>Flavanoids</th>\n",
              "      <td>0.236815</td>\n",
              "      <td>-0.411007</td>\n",
              "      <td>0.115077</td>\n",
              "      <td>-0.351370</td>\n",
              "      <td>0.195784</td>\n",
              "      <td>0.864564</td>\n",
              "      <td>1.000000</td>\n",
              "      <td>-0.537900</td>\n",
              "      <td>0.652692</td>\n",
              "      <td>-0.172379</td>\n",
              "      <td>0.543479</td>\n",
              "      <td>0.787194</td>\n",
              "      <td>0.494193</td>\n",
              "      <td>-0.847498</td>\n",
              "    </tr>\n",
              "    <tr>\n",
              "      <th>Nonflavanoid_Phenols</th>\n",
              "      <td>-0.155929</td>\n",
              "      <td>0.292977</td>\n",
              "      <td>0.186230</td>\n",
              "      <td>0.361922</td>\n",
              "      <td>-0.256294</td>\n",
              "      <td>-0.449935</td>\n",
              "      <td>-0.537900</td>\n",
              "      <td>1.000000</td>\n",
              "      <td>-0.365845</td>\n",
              "      <td>0.139057</td>\n",
              "      <td>-0.262640</td>\n",
              "      <td>-0.503270</td>\n",
              "      <td>-0.311385</td>\n",
              "      <td>0.489109</td>\n",
              "    </tr>\n",
              "    <tr>\n",
              "      <th>Proanthocyanins</th>\n",
              "      <td>0.136698</td>\n",
              "      <td>-0.220746</td>\n",
              "      <td>0.009652</td>\n",
              "      <td>-0.197327</td>\n",
              "      <td>0.236441</td>\n",
              "      <td>0.612413</td>\n",
              "      <td>0.652692</td>\n",
              "      <td>-0.365845</td>\n",
              "      <td>1.000000</td>\n",
              "      <td>-0.025250</td>\n",
              "      <td>0.295544</td>\n",
              "      <td>0.519067</td>\n",
              "      <td>0.330417</td>\n",
              "      <td>-0.499130</td>\n",
              "    </tr>\n",
              "    <tr>\n",
              "      <th>Intensidade_de_cor</th>\n",
              "      <td>0.546364</td>\n",
              "      <td>0.248985</td>\n",
              "      <td>0.258887</td>\n",
              "      <td>0.018732</td>\n",
              "      <td>0.199950</td>\n",
              "      <td>-0.055136</td>\n",
              "      <td>-0.172379</td>\n",
              "      <td>0.139057</td>\n",
              "      <td>-0.025250</td>\n",
              "      <td>1.000000</td>\n",
              "      <td>-0.521813</td>\n",
              "      <td>-0.428815</td>\n",
              "      <td>0.316100</td>\n",
              "      <td>0.265668</td>\n",
              "    </tr>\n",
              "    <tr>\n",
              "      <th>Hue</th>\n",
              "      <td>-0.071747</td>\n",
              "      <td>-0.561296</td>\n",
              "      <td>-0.074667</td>\n",
              "      <td>-0.273955</td>\n",
              "      <td>0.055398</td>\n",
              "      <td>0.433681</td>\n",
              "      <td>0.543479</td>\n",
              "      <td>-0.262640</td>\n",
              "      <td>0.295544</td>\n",
              "      <td>-0.521813</td>\n",
              "      <td>1.000000</td>\n",
              "      <td>0.565468</td>\n",
              "      <td>0.236183</td>\n",
              "      <td>-0.617369</td>\n",
              "    </tr>\n",
              "    <tr>\n",
              "      <th>OD280</th>\n",
              "      <td>0.072343</td>\n",
              "      <td>-0.368710</td>\n",
              "      <td>0.003911</td>\n",
              "      <td>-0.276769</td>\n",
              "      <td>0.066004</td>\n",
              "      <td>0.699949</td>\n",
              "      <td>0.787194</td>\n",
              "      <td>-0.503270</td>\n",
              "      <td>0.519067</td>\n",
              "      <td>-0.428815</td>\n",
              "      <td>0.565468</td>\n",
              "      <td>1.000000</td>\n",
              "      <td>0.312761</td>\n",
              "      <td>-0.788230</td>\n",
              "    </tr>\n",
              "    <tr>\n",
              "      <th>Proline</th>\n",
              "      <td>0.643720</td>\n",
              "      <td>-0.192011</td>\n",
              "      <td>0.223626</td>\n",
              "      <td>-0.440597</td>\n",
              "      <td>0.393351</td>\n",
              "      <td>0.498115</td>\n",
              "      <td>0.494193</td>\n",
              "      <td>-0.311385</td>\n",
              "      <td>0.330417</td>\n",
              "      <td>0.316100</td>\n",
              "      <td>0.236183</td>\n",
              "      <td>0.312761</td>\n",
              "      <td>1.000000</td>\n",
              "      <td>-0.633717</td>\n",
              "    </tr>\n",
              "    <tr>\n",
              "      <th>Customer_Segment</th>\n",
              "      <td>-0.328222</td>\n",
              "      <td>0.437776</td>\n",
              "      <td>-0.049643</td>\n",
              "      <td>0.517859</td>\n",
              "      <td>-0.209179</td>\n",
              "      <td>-0.719163</td>\n",
              "      <td>-0.847498</td>\n",
              "      <td>0.489109</td>\n",
              "      <td>-0.499130</td>\n",
              "      <td>0.265668</td>\n",
              "      <td>-0.617369</td>\n",
              "      <td>-0.788230</td>\n",
              "      <td>-0.633717</td>\n",
              "      <td>1.000000</td>\n",
              "    </tr>\n",
              "  </tbody>\n",
              "</table>\n",
              "</div>\n",
              "      <button class=\"colab-df-convert\" onclick=\"convertToInteractive('df-c99eb6d5-e4d7-4c01-84a0-237a5a1a1c8d')\"\n",
              "              title=\"Convert this dataframe to an interactive table.\"\n",
              "              style=\"display:none;\">\n",
              "        \n",
              "  <svg xmlns=\"http://www.w3.org/2000/svg\" height=\"24px\"viewBox=\"0 0 24 24\"\n",
              "       width=\"24px\">\n",
              "    <path d=\"M0 0h24v24H0V0z\" fill=\"none\"/>\n",
              "    <path d=\"M18.56 5.44l.94 2.06.94-2.06 2.06-.94-2.06-.94-.94-2.06-.94 2.06-2.06.94zm-11 1L8.5 8.5l.94-2.06 2.06-.94-2.06-.94L8.5 2.5l-.94 2.06-2.06.94zm10 10l.94 2.06.94-2.06 2.06-.94-2.06-.94-.94-2.06-.94 2.06-2.06.94z\"/><path d=\"M17.41 7.96l-1.37-1.37c-.4-.4-.92-.59-1.43-.59-.52 0-1.04.2-1.43.59L10.3 9.45l-7.72 7.72c-.78.78-.78 2.05 0 2.83L4 21.41c.39.39.9.59 1.41.59.51 0 1.02-.2 1.41-.59l7.78-7.78 2.81-2.81c.8-.78.8-2.07 0-2.86zM5.41 20L4 18.59l7.72-7.72 1.47 1.35L5.41 20z\"/>\n",
              "  </svg>\n",
              "      </button>\n",
              "      \n",
              "  <style>\n",
              "    .colab-df-container {\n",
              "      display:flex;\n",
              "      flex-wrap:wrap;\n",
              "      gap: 12px;\n",
              "    }\n",
              "\n",
              "    .colab-df-convert {\n",
              "      background-color: #E8F0FE;\n",
              "      border: none;\n",
              "      border-radius: 50%;\n",
              "      cursor: pointer;\n",
              "      display: none;\n",
              "      fill: #1967D2;\n",
              "      height: 32px;\n",
              "      padding: 0 0 0 0;\n",
              "      width: 32px;\n",
              "    }\n",
              "\n",
              "    .colab-df-convert:hover {\n",
              "      background-color: #E2EBFA;\n",
              "      box-shadow: 0px 1px 2px rgba(60, 64, 67, 0.3), 0px 1px 3px 1px rgba(60, 64, 67, 0.15);\n",
              "      fill: #174EA6;\n",
              "    }\n",
              "\n",
              "    [theme=dark] .colab-df-convert {\n",
              "      background-color: #3B4455;\n",
              "      fill: #D2E3FC;\n",
              "    }\n",
              "\n",
              "    [theme=dark] .colab-df-convert:hover {\n",
              "      background-color: #434B5C;\n",
              "      box-shadow: 0px 1px 3px 1px rgba(0, 0, 0, 0.15);\n",
              "      filter: drop-shadow(0px 1px 2px rgba(0, 0, 0, 0.3));\n",
              "      fill: #FFFFFF;\n",
              "    }\n",
              "  </style>\n",
              "\n",
              "      <script>\n",
              "        const buttonEl =\n",
              "          document.querySelector('#df-c99eb6d5-e4d7-4c01-84a0-237a5a1a1c8d button.colab-df-convert');\n",
              "        buttonEl.style.display =\n",
              "          google.colab.kernel.accessAllowed ? 'block' : 'none';\n",
              "\n",
              "        async function convertToInteractive(key) {\n",
              "          const element = document.querySelector('#df-c99eb6d5-e4d7-4c01-84a0-237a5a1a1c8d');\n",
              "          const dataTable =\n",
              "            await google.colab.kernel.invokeFunction('convertToInteractive',\n",
              "                                                     [key], {});\n",
              "          if (!dataTable) return;\n",
              "\n",
              "          const docLinkHtml = 'Like what you see? Visit the ' +\n",
              "            '<a target=\"_blank\" href=https://colab.research.google.com/notebooks/data_table.ipynb>data table notebook</a>'\n",
              "            + ' to learn more about interactive tables.';\n",
              "          element.innerHTML = '';\n",
              "          dataTable['output_type'] = 'display_data';\n",
              "          await google.colab.output.renderOutput(dataTable, element);\n",
              "          const docLink = document.createElement('div');\n",
              "          docLink.innerHTML = docLinkHtml;\n",
              "          element.appendChild(docLink);\n",
              "        }\n",
              "      </script>\n",
              "    </div>\n",
              "  </div>\n",
              "  "
            ]
          },
          "metadata": {},
          "execution_count": 8
        }
      ]
    },
    {
      "cell_type": "code",
      "metadata": {
        "colab": {
          "base_uri": "https://localhost:8080/",
          "height": 441
        },
        "id": "zpa6j1WqTsMQ",
        "outputId": "677f6f34-85e4-485c-f9ac-dbf57a13775e"
      },
      "source": [
        "corr_graf = corrplot.Corrplot(matriz_corr)\n",
        "corr_graf.plot(upper='ellipse', fontsize='x-large')\n",
        "fig = plt.gcf()\n",
        "fig.set_size_inches(20,8);"
      ],
      "execution_count": 9,
      "outputs": [
        {
          "output_type": "display_data",
          "data": {
            "text/plain": [
              "<Figure size 1440x576 with 2 Axes>"
            ],
            "image/png": "[encoded data removed]"
          },
          "metadata": {}
        }
      ]
    },
    {
      "cell_type": "markdown",
      "metadata": {
        "id": "u5iunKs4VlwV"
      },
      "source": [
        "Chegamos a algumas conclusões:\n",
        "* “Total_Fenois” é bastante correlacionado com “Flavanoids”\n",
        "* A correlação entre “Hue” e “Malic_Acid” é uma correlação negativa\n",
        "\n",
        "Isso é muito bom quando nós queremos remover alguns atributos de informação redundante. Nós poderíamos remover um deles e deixar o nosso DataFrame menor, com isso nós necessitaríamos de menos espaço para armazenar os nossos dados e também poderíamos utilizar modelos de inteligência artificial menor."
      ]
    },
    {
      "cell_type": "markdown",
      "metadata": {
        "id": "oPqodtbuWMdn"
      },
      "source": [
        "Como nós podemos perceber, os atributos dos nossos dados variam diferentemente. \n",
        "\n",
        "A maioria dos modelos de inteligência artificial e clusterização não trabalham bem com dados que variam de maneira diferente. Para nós resolvermos esse problema vai ser necessário colocarmos os nossos atributos variando na mesma faixa, ou seja, de 0 a 1 e de -1 a 1 através de um processo chamado normalização.\n",
        "\n",
        "Nós iremos utilizar uma forma de normalização chamado “MinMaxScaler”, ou seja, normalização pelo mínimo e pelo máximo."
      ]
    },
    {
      "cell_type": "code",
      "metadata": {
        "id": "ZeY20oyuUQkm"
      },
      "source": [
        "from sklearn import preprocessing"
      ],
      "execution_count": 10,
      "outputs": []
    },
    {
      "cell_type": "code",
      "metadata": {
        "colab": {
          "base_uri": "https://localhost:8080/",
          "height": 270
        },
        "id": "4IL-0gQAXcfJ",
        "outputId": "062295bc-e3d4-4f2d-ad8e-168e124af91e"
      },
      "source": [
        "min_max_scaler = preprocessing.MinMaxScaler()\n",
        "\n",
        "d = min_max_scaler.fit_transform(df)\n",
        "df_normalized = pd.DataFrame(d, columns=df.columns)\n",
        "df_normalized.head()"
      ],
      "execution_count": 11,
      "outputs": [
        {
          "output_type": "execute_result",
          "data": {
            "text/plain": [
              "     Alcool  Malic_Acid        Po  Alcalinidade_po  Magnesio  Total_Phenols  \\\n",
              "0  0.842105    0.191700  0.572193         0.257732  0.619565       0.627586   \n",
              "1  0.571053    0.205534  0.417112         0.030928  0.326087       0.575862   \n",
              "2  0.560526    0.320158  0.700535         0.412371  0.336957       0.627586   \n",
              "3  0.878947    0.239130  0.609626         0.319588  0.467391       0.989655   \n",
              "4  0.581579    0.365613  0.807487         0.536082  0.521739       0.627586   \n",
              "\n",
              "   Flavanoids  Nonflavanoid_Phenols  Proanthocyanins  Intensidade_de_cor  \\\n",
              "0    0.573840              0.283019         0.593060            0.372014   \n",
              "1    0.510549              0.245283         0.274448            0.264505   \n",
              "2    0.611814              0.320755         0.757098            0.375427   \n",
              "3    0.664557              0.207547         0.558360            0.556314   \n",
              "4    0.495781              0.490566         0.444795            0.259386   \n",
              "\n",
              "        Hue     OD280   Proline  Customer_Segment  \n",
              "0  0.455285  0.970696  0.561341               0.0  \n",
              "1  0.463415  0.780220  0.550642               0.0  \n",
              "2  0.447154  0.695971  0.646933               0.0  \n",
              "3  0.308943  0.798535  0.857347               0.0  \n",
              "4  0.455285  0.608059  0.325963               0.0  "
            ],
            "text/html": [
              "\n",
              "  <div id=\"df-6a0ccaea-b7d3-4112-8d4c-4f817e99a0f2\">\n",
              "    <div class=\"colab-df-container\">\n",
              "      <div>\n",
              "<style scoped>\n",
              "    .dataframe tbody tr th:only-of-type {\n",
              "        vertical-align: middle;\n",
              "    }\n",
              "\n",
              "    .dataframe tbody tr th {\n",
              "        vertical-align: top;\n",
              "    }\n",
              "\n",
              "    .dataframe thead th {\n",
              "        text-align: right;\n",
              "    }\n",
              "</style>\n",
              "<table border=\"1\" class=\"dataframe\">\n",
              "  <thead>\n",
              "    <tr style=\"text-align: right;\">\n",
              "      <th></th>\n",
              "      <th>Alcool</th>\n",
              "      <th>Malic_Acid</th>\n",
              "      <th>Po</th>\n",
              "      <th>Alcalinidade_po</th>\n",
              "      <th>Magnesio</th>\n",
              "      <th>Total_Phenols</th>\n",
              "      <th>Flavanoids</th>\n",
              "      <th>Nonflavanoid_Phenols</th>\n",
              "      <th>Proanthocyanins</th>\n",
              "      <th>Intensidade_de_cor</th>\n",
              "      <th>Hue</th>\n",
              "      <th>OD280</th>\n",
              "      <th>Proline</th>\n",
              "      <th>Customer_Segment</th>\n",
              "    </tr>\n",
              "  </thead>\n",
              "  <tbody>\n",
              "    <tr>\n",
              "      <th>0</th>\n",
              "      <td>0.842105</td>\n",
              "      <td>0.191700</td>\n",
              "      <td>0.572193</td>\n",
              "      <td>0.257732</td>\n",
              "      <td>0.619565</td>\n",
              "      <td>0.627586</td>\n",
              "      <td>0.573840</td>\n",
              "      <td>0.283019</td>\n",
              "      <td>0.593060</td>\n",
              "      <td>0.372014</td>\n",
              "      <td>0.455285</td>\n",
              "      <td>0.970696</td>\n",
              "      <td>0.561341</td>\n",
              "      <td>0.0</td>\n",
              "    </tr>\n",
              "    <tr>\n",
              "      <th>1</th>\n",
              "      <td>0.571053</td>\n",
              "      <td>0.205534</td>\n",
              "      <td>0.417112</td>\n",
              "      <td>0.030928</td>\n",
              "      <td>0.326087</td>\n",
              "      <td>0.575862</td>\n",
              "      <td>0.510549</td>\n",
              "      <td>0.245283</td>\n",
              "      <td>0.274448</td>\n",
              "      <td>0.264505</td>\n",
              "      <td>0.463415</td>\n",
              "      <td>0.780220</td>\n",
              "      <td>0.550642</td>\n",
              "      <td>0.0</td>\n",
              "    </tr>\n",
              "    <tr>\n",
              "      <th>2</th>\n",
              "      <td>0.560526</td>\n",
              "      <td>0.320158</td>\n",
              "      <td>0.700535</td>\n",
              "      <td>0.412371</td>\n",
              "      <td>0.336957</td>\n",
              "      <td>0.627586</td>\n",
              "      <td>0.611814</td>\n",
              "      <td>0.320755</td>\n",
              "      <td>0.757098</td>\n",
              "      <td>0.375427</td>\n",
              "      <td>0.447154</td>\n",
              "      <td>0.695971</td>\n",
              "      <td>0.646933</td>\n",
              "      <td>0.0</td>\n",
              "    </tr>\n",
              "    <tr>\n",
              "      <th>3</th>\n",
              "      <td>0.878947</td>\n",
              "      <td>0.239130</td>\n",
              "      <td>0.609626</td>\n",
              "      <td>0.319588</td>\n",
              "      <td>0.467391</td>\n",
              "      <td>0.989655</td>\n",
              "      <td>0.664557</td>\n",
              "      <td>0.207547</td>\n",
              "      <td>0.558360</td>\n",
              "      <td>0.556314</td>\n",
              "      <td>0.308943</td>\n",
              "      <td>0.798535</td>\n",
              "      <td>0.857347</td>\n",
              "      <td>0.0</td>\n",
              "    </tr>\n",
              "    <tr>\n",
              "      <th>4</th>\n",
              "      <td>0.581579</td>\n",
              "      <td>0.365613</td>\n",
              "      <td>0.807487</td>\n",
              "      <td>0.536082</td>\n",
              "      <td>0.521739</td>\n",
              "      <td>0.627586</td>\n",
              "      <td>0.495781</td>\n",
              "      <td>0.490566</td>\n",
              "      <td>0.444795</td>\n",
              "      <td>0.259386</td>\n",
              "      <td>0.455285</td>\n",
              "      <td>0.608059</td>\n",
              "      <td>0.325963</td>\n",
              "      <td>0.0</td>\n",
              "    </tr>\n",
              "  </tbody>\n",
              "</table>\n",
              "</div>\n",
              "      <button class=\"colab-df-convert\" onclick=\"convertToInteractive('df-6a0ccaea-b7d3-4112-8d4c-4f817e99a0f2')\"\n",
              "              title=\"Convert this dataframe to an interactive table.\"\n",
              "              style=\"display:none;\">\n",
              "        \n",
              "  <svg xmlns=\"http://www.w3.org/2000/svg\" height=\"24px\"viewBox=\"0 0 24 24\"\n",
              "       width=\"24px\">\n",
              "    <path d=\"M0 0h24v24H0V0z\" fill=\"none\"/>\n",
              "    <path d=\"M18.56 5.44l.94 2.06.94-2.06 2.06-.94-2.06-.94-.94-2.06-.94 2.06-2.06.94zm-11 1L8.5 8.5l.94-2.06 2.06-.94-2.06-.94L8.5 2.5l-.94 2.06-2.06.94zm10 10l.94 2.06.94-2.06 2.06-.94-2.06-.94-.94-2.06-.94 2.06-2.06.94z\"/><path d=\"M17.41 7.96l-1.37-1.37c-.4-.4-.92-.59-1.43-.59-.52 0-1.04.2-1.43.59L10.3 9.45l-7.72 7.72c-.78.78-.78 2.05 0 2.83L4 21.41c.39.39.9.59 1.41.59.51 0 1.02-.2 1.41-.59l7.78-7.78 2.81-2.81c.8-.78.8-2.07 0-2.86zM5.41 20L4 18.59l7.72-7.72 1.47 1.35L5.41 20z\"/>\n",
              "  </svg>\n",
              "      </button>\n",
              "      \n",
              "  <style>\n",
              "    .colab-df-container {\n",
              "      display:flex;\n",
              "      flex-wrap:wrap;\n",
              "      gap: 12px;\n",
              "    }\n",
              "\n",
              "    .colab-df-convert {\n",
              "      background-color: #E8F0FE;\n",
              "      border: none;\n",
              "      border-radius: 50%;\n",
              "      cursor: pointer;\n",
              "      display: none;\n",
              "      fill: #1967D2;\n",
              "      height: 32px;\n",
              "      padding: 0 0 0 0;\n",
              "      width: 32px;\n",
              "    }\n",
              "\n",
              "    .colab-df-convert:hover {\n",
              "      background-color: #E2EBFA;\n",
              "      box-shadow: 0px 1px 2px rgba(60, 64, 67, 0.3), 0px 1px 3px 1px rgba(60, 64, 67, 0.15);\n",
              "      fill: #174EA6;\n",
              "    }\n",
              "\n",
              "    [theme=dark] .colab-df-convert {\n",
              "      background-color: #3B4455;\n",
              "      fill: #D2E3FC;\n",
              "    }\n",
              "\n",
              "    [theme=dark] .colab-df-convert:hover {\n",
              "      background-color: #434B5C;\n",
              "      box-shadow: 0px 1px 3px 1px rgba(0, 0, 0, 0.15);\n",
              "      filter: drop-shadow(0px 1px 2px rgba(0, 0, 0, 0.3));\n",
              "      fill: #FFFFFF;\n",
              "    }\n",
              "  </style>\n",
              "\n",
              "      <script>\n",
              "        const buttonEl =\n",
              "          document.querySelector('#df-6a0ccaea-b7d3-4112-8d4c-4f817e99a0f2 button.colab-df-convert');\n",
              "        buttonEl.style.display =\n",
              "          google.colab.kernel.accessAllowed ? 'block' : 'none';\n",
              "\n",
              "        async function convertToInteractive(key) {\n",
              "          const element = document.querySelector('#df-6a0ccaea-b7d3-4112-8d4c-4f817e99a0f2');\n",
              "          const dataTable =\n",
              "            await google.colab.kernel.invokeFunction('convertToInteractive',\n",
              "                                                     [key], {});\n",
              "          if (!dataTable) return;\n",
              "\n",
              "          const docLinkHtml = 'Like what you see? Visit the ' +\n",
              "            '<a target=\"_blank\" href=https://colab.research.google.com/notebooks/data_table.ipynb>data table notebook</a>'\n",
              "            + ' to learn more about interactive tables.';\n",
              "          element.innerHTML = '';\n",
              "          dataTable['output_type'] = 'display_data';\n",
              "          await google.colab.output.renderOutput(dataTable, element);\n",
              "          const docLink = document.createElement('div');\n",
              "          docLink.innerHTML = docLinkHtml;\n",
              "          element.appendChild(docLink);\n",
              "        }\n",
              "      </script>\n",
              "    </div>\n",
              "  </div>\n",
              "  "
            ]
          },
          "metadata": {},
          "execution_count": 11
        }
      ]
    },
    {
      "cell_type": "markdown",
      "metadata": {
        "id": "h9XtbAg6aP6M"
      },
      "source": [
        "Como nós podemos perceber agora, todos os atributos das nossas amostras estão variando de 0 a 1."
      ]
    },
    {
      "cell_type": "code",
      "metadata": {
        "colab": {
          "base_uri": "https://localhost:8080/",
          "height": 364
        },
        "id": "-tprJufyXqGH",
        "outputId": "66730cc6-5d3e-4baa-acb4-561f300be29f"
      },
      "source": [
        "df_normalized.describe()"
      ],
      "execution_count": 12,
      "outputs": [
        {
          "output_type": "execute_result",
          "data": {
            "text/plain": [
              "           Alcool  Malic_Acid          Po  Alcalinidade_po    Magnesio  \\\n",
              "count  178.000000  178.000000  178.000000       178.000000  178.000000   \n",
              "mean     0.518584    0.315484    0.538244         0.458502    0.323278   \n",
              "std      0.213639    0.220780    0.146708         0.172142    0.155244   \n",
              "min      0.000000    0.000000    0.000000         0.000000    0.000000   \n",
              "25%      0.350658    0.170455    0.454545         0.340206    0.195652   \n",
              "50%      0.531579    0.222332    0.534759         0.458763    0.304348   \n",
              "75%      0.696711    0.462945    0.640374         0.561856    0.402174   \n",
              "max      1.000000    1.000000    1.000000         1.000000    1.000000   \n",
              "\n",
              "       Total_Phenols  Flavanoids  Nonflavanoid_Phenols  Proanthocyanins  \\\n",
              "count     178.000000  178.000000            178.000000       178.000000   \n",
              "mean        0.453487    0.356386              0.437460         0.372523   \n",
              "std         0.215811    0.210730              0.234818         0.180555   \n",
              "min         0.000000    0.000000              0.000000         0.000000   \n",
              "25%         0.262931    0.182489              0.264151         0.264984   \n",
              "50%         0.474138    0.378692              0.396226         0.361199   \n",
              "75%         0.627586    0.534810              0.580189         0.485804   \n",
              "max         1.000000    1.000000              1.000000         1.000000   \n",
              "\n",
              "       Intensidade_de_cor         Hue       OD280     Proline  \\\n",
              "count          178.000000  178.000000  178.000000  178.000000   \n",
              "mean             0.322363    0.388170    0.491460    0.334446   \n",
              "std              0.197806    0.185831    0.260070    0.224613   \n",
              "min              0.000000    0.000000    0.000000    0.000000   \n",
              "25%              0.165529    0.245935    0.244505    0.158702   \n",
              "50%              0.290956    0.394309    0.553114    0.282097   \n",
              "75%              0.419795    0.520325    0.695971    0.504280   \n",
              "max              1.000000    1.000000    1.000000    1.000000   \n",
              "\n",
              "       Customer_Segment  \n",
              "count        178.000000  \n",
              "mean           0.469101  \n",
              "std            0.387517  \n",
              "min            0.000000  \n",
              "25%            0.000000  \n",
              "50%            0.500000  \n",
              "75%            1.000000  \n",
              "max            1.000000  "
            ],
            "text/html": [
              "\n",
              "  <div id=\"df-599c606a-8177-469d-9f26-719d66ddc0ac\">\n",
              "    <div class=\"colab-df-container\">\n",
              "      <div>\n",
              "<style scoped>\n",
              "    .dataframe tbody tr th:only-of-type {\n",
              "        vertical-align: middle;\n",
              "    }\n",
              "\n",
              "    .dataframe tbody tr th {\n",
              "        vertical-align: top;\n",
              "    }\n",
              "\n",
              "    .dataframe thead th {\n",
              "        text-align: right;\n",
              "    }\n",
              "</style>\n",
              "<table border=\"1\" class=\"dataframe\">\n",
              "  <thead>\n",
              "    <tr style=\"text-align: right;\">\n",
              "      <th></th>\n",
              "      <th>Alcool</th>\n",
              "      <th>Malic_Acid</th>\n",
              "      <th>Po</th>\n",
              "      <th>Alcalinidade_po</th>\n",
              "      <th>Magnesio</th>\n",
              "      <th>Total_Phenols</th>\n",
              "      <th>Flavanoids</th>\n",
              "      <th>Nonflavanoid_Phenols</th>\n",
              "      <th>Proanthocyanins</th>\n",
              "      <th>Intensidade_de_cor</th>\n",
              "      <th>Hue</th>\n",
              "      <th>OD280</th>\n",
              "      <th>Proline</th>\n",
              "      <th>Customer_Segment</th>\n",
              "    </tr>\n",
              "  </thead>\n",
              "  <tbody>\n",
              "    <tr>\n",
              "      <th>count</th>\n",
              "      <td>178.000000</td>\n",
              "      <td>178.000000</td>\n",
              "      <td>178.000000</td>\n",
              "      <td>178.000000</td>\n",
              "      <td>178.000000</td>\n",
              "      <td>178.000000</td>\n",
              "      <td>178.000000</td>\n",
              "      <td>178.000000</td>\n",
              "      <td>178.000000</td>\n",
              "      <td>178.000000</td>\n",
              "      <td>178.000000</td>\n",
              "      <td>178.000000</td>\n",
              "      <td>178.000000</td>\n",
              "      <td>178.000000</td>\n",
              "    </tr>\n",
              "    <tr>\n",
              "      <th>mean</th>\n",
              "      <td>0.518584</td>\n",
              "      <td>0.315484</td>\n",
              "      <td>0.538244</td>\n",
              "      <td>0.458502</td>\n",
              "      <td>0.323278</td>\n",
              "      <td>0.453487</td>\n",
              "      <td>0.356386</td>\n",
              "      <td>0.437460</td>\n",
              "      <td>0.372523</td>\n",
              "      <td>0.322363</td>\n",
              "      <td>0.388170</td>\n",
              "      <td>0.491460</td>\n",
              "      <td>0.334446</td>\n",
              "      <td>0.469101</td>\n",
              "    </tr>\n",
              "    <tr>\n",
              "      <th>std</th>\n",
              "      <td>0.213639</td>\n",
              "      <td>0.220780</td>\n",
              "      <td>0.146708</td>\n",
              "      <td>0.172142</td>\n",
              "      <td>0.155244</td>\n",
              "      <td>0.215811</td>\n",
              "      <td>0.210730</td>\n",
              "      <td>0.234818</td>\n",
              "      <td>0.180555</td>\n",
              "      <td>0.197806</td>\n",
              "      <td>0.185831</td>\n",
              "      <td>0.260070</td>\n",
              "      <td>0.224613</td>\n",
              "      <td>0.387517</td>\n",
              "    </tr>\n",
              "    <tr>\n",
              "      <th>min</th>\n",
              "      <td>0.000000</td>\n",
              "      <td>0.000000</td>\n",
              "      <td>0.000000</td>\n",
              "      <td>0.000000</td>\n",
              "      <td>0.000000</td>\n",
              "      <td>0.000000</td>\n",
              "      <td>0.000000</td>\n",
              "      <td>0.000000</td>\n",
              "      <td>0.000000</td>\n",
              "      <td>0.000000</td>\n",
              "      <td>0.000000</td>\n",
              "      <td>0.000000</td>\n",
              "      <td>0.000000</td>\n",
              "      <td>0.000000</td>\n",
              "    </tr>\n",
              "    <tr>\n",
              "      <th>25%</th>\n",
              "      <td>0.350658</td>\n",
              "      <td>0.170455</td>\n",
              "      <td>0.454545</td>\n",
              "      <td>0.340206</td>\n",
              "      <td>0.195652</td>\n",
              "      <td>0.262931</td>\n",
              "      <td>0.182489</td>\n",
              "      <td>0.264151</td>\n",
              "      <td>0.264984</td>\n",
              "      <td>0.165529</td>\n",
              "      <td>0.245935</td>\n",
              "      <td>0.244505</td>\n",
              "      <td>0.158702</td>\n",
              "      <td>0.000000</td>\n",
              "    </tr>\n",
              "    <tr>\n",
              "      <th>50%</th>\n",
              "      <td>0.531579</td>\n",
              "      <td>0.222332</td>\n",
              "      <td>0.534759</td>\n",
              "      <td>0.458763</td>\n",
              "      <td>0.304348</td>\n",
              "      <td>0.474138</td>\n",
              "      <td>0.378692</td>\n",
              "      <td>0.396226</td>\n",
              "      <td>0.361199</td>\n",
              "      <td>0.290956</td>\n",
              "      <td>0.394309</td>\n",
              "      <td>0.553114</td>\n",
              "      <td>0.282097</td>\n",
              "      <td>0.500000</td>\n",
              "    </tr>\n",
              "    <tr>\n",
              "      <th>75%</th>\n",
              "      <td>0.696711</td>\n",
              "      <td>0.462945</td>\n",
              "      <td>0.640374</td>\n",
              "      <td>0.561856</td>\n",
              "      <td>0.402174</td>\n",
              "      <td>0.627586</td>\n",
              "      <td>0.534810</td>\n",
              "      <td>0.580189</td>\n",
              "      <td>0.485804</td>\n",
              "      <td>0.419795</td>\n",
              "      <td>0.520325</td>\n",
              "      <td>0.695971</td>\n",
              "      <td>0.504280</td>\n",
              "      <td>1.000000</td>\n",
              "    </tr>\n",
              "    <tr>\n",
              "      <th>max</th>\n",
              "      <td>1.000000</td>\n",
              "      <td>1.000000</td>\n",
              "      <td>1.000000</td>\n",
              "      <td>1.000000</td>\n",
              "      <td>1.000000</td>\n",
              "      <td>1.000000</td>\n",
              "      <td>1.000000</td>\n",
              "      <td>1.000000</td>\n",
              "      <td>1.000000</td>\n",
              "      <td>1.000000</td>\n",
              "      <td>1.000000</td>\n",
              "      <td>1.000000</td>\n",
              "      <td>1.000000</td>\n",
              "      <td>1.000000</td>\n",
              "    </tr>\n",
              "  </tbody>\n",
              "</table>\n",
              "</div>\n",
              "      <button class=\"colab-df-convert\" onclick=\"convertToInteractive('df-599c606a-8177-469d-9f26-719d66ddc0ac')\"\n",
              "              title=\"Convert this dataframe to an interactive table.\"\n",
              "              style=\"display:none;\">\n",
              "        \n",
              "  <svg xmlns=\"http://www.w3.org/2000/svg\" height=\"24px\"viewBox=\"0 0 24 24\"\n",
              "       width=\"24px\">\n",
              "    <path d=\"M0 0h24v24H0V0z\" fill=\"none\"/>\n",
              "    <path d=\"M18.56 5.44l.94 2.06.94-2.06 2.06-.94-2.06-.94-.94-2.06-.94 2.06-2.06.94zm-11 1L8.5 8.5l.94-2.06 2.06-.94-2.06-.94L8.5 2.5l-.94 2.06-2.06.94zm10 10l.94 2.06.94-2.06 2.06-.94-2.06-.94-.94-2.06-.94 2.06-2.06.94z\"/><path d=\"M17.41 7.96l-1.37-1.37c-.4-.4-.92-.59-1.43-.59-.52 0-1.04.2-1.43.59L10.3 9.45l-7.72 7.72c-.78.78-.78 2.05 0 2.83L4 21.41c.39.39.9.59 1.41.59.51 0 1.02-.2 1.41-.59l7.78-7.78 2.81-2.81c.8-.78.8-2.07 0-2.86zM5.41 20L4 18.59l7.72-7.72 1.47 1.35L5.41 20z\"/>\n",
              "  </svg>\n",
              "      </button>\n",
              "      \n",
              "  <style>\n",
              "    .colab-df-container {\n",
              "      display:flex;\n",
              "      flex-wrap:wrap;\n",
              "      gap: 12px;\n",
              "    }\n",
              "\n",
              "    .colab-df-convert {\n",
              "      background-color: #E8F0FE;\n",
              "      border: none;\n",
              "      border-radius: 50%;\n",
              "      cursor: pointer;\n",
              "      display: none;\n",
              "      fill: #1967D2;\n",
              "      height: 32px;\n",
              "      padding: 0 0 0 0;\n",
              "      width: 32px;\n",
              "    }\n",
              "\n",
              "    .colab-df-convert:hover {\n",
              "      background-color: #E2EBFA;\n",
              "      box-shadow: 0px 1px 2px rgba(60, 64, 67, 0.3), 0px 1px 3px 1px rgba(60, 64, 67, 0.15);\n",
              "      fill: #174EA6;\n",
              "    }\n",
              "\n",
              "    [theme=dark] .colab-df-convert {\n",
              "      background-color: #3B4455;\n",
              "      fill: #D2E3FC;\n",
              "    }\n",
              "\n",
              "    [theme=dark] .colab-df-convert:hover {\n",
              "      background-color: #434B5C;\n",
              "      box-shadow: 0px 1px 3px 1px rgba(0, 0, 0, 0.15);\n",
              "      filter: drop-shadow(0px 1px 2px rgba(0, 0, 0, 0.3));\n",
              "      fill: #FFFFFF;\n",
              "    }\n",
              "  </style>\n",
              "\n",
              "      <script>\n",
              "        const buttonEl =\n",
              "          document.querySelector('#df-599c606a-8177-469d-9f26-719d66ddc0ac button.colab-df-convert');\n",
              "        buttonEl.style.display =\n",
              "          google.colab.kernel.accessAllowed ? 'block' : 'none';\n",
              "\n",
              "        async function convertToInteractive(key) {\n",
              "          const element = document.querySelector('#df-599c606a-8177-469d-9f26-719d66ddc0ac');\n",
              "          const dataTable =\n",
              "            await google.colab.kernel.invokeFunction('convertToInteractive',\n",
              "                                                     [key], {});\n",
              "          if (!dataTable) return;\n",
              "\n",
              "          const docLinkHtml = 'Like what you see? Visit the ' +\n",
              "            '<a target=\"_blank\" href=https://colab.research.google.com/notebooks/data_table.ipynb>data table notebook</a>'\n",
              "            + ' to learn more about interactive tables.';\n",
              "          element.innerHTML = '';\n",
              "          dataTable['output_type'] = 'display_data';\n",
              "          await google.colab.output.renderOutput(dataTable, element);\n",
              "          const docLink = document.createElement('div');\n",
              "          docLink.innerHTML = docLinkHtml;\n",
              "          element.appendChild(docLink);\n",
              "        }\n",
              "      </script>\n",
              "    </div>\n",
              "  </div>\n",
              "  "
            ]
          },
          "metadata": {},
          "execution_count": 12
        }
      ]
    },
    {
      "cell_type": "markdown",
      "metadata": {
        "id": "m09kA1xgcljP"
      },
      "source": [
        "Podemos fazer a transformação inversa e obter o dataframe original a partir do normalizado."
      ]
    },
    {
      "cell_type": "code",
      "metadata": {
        "colab": {
          "base_uri": "https://localhost:8080/",
          "height": 605
        },
        "id": "UalKl7pwaS7X",
        "outputId": "8dbd980c-1269-4d0b-ab30-efd7464e6f8d"
      },
      "source": [
        "d = min_max_scaler.inverse_transform(df_normalized)\n",
        "df = pd.DataFrame(d, columns=df_normalized.columns)\n",
        "display(df.head())\n",
        "print('\\n\\n')\n",
        "display(df.describe())"
      ],
      "execution_count": 13,
      "outputs": [
        {
          "output_type": "display_data",
          "data": {
            "text/plain": [
              "   Alcool  Malic_Acid    Po  Alcalinidade_po  Magnesio  Total_Phenols  \\\n",
              "0   14.23        1.71  2.43             15.6     127.0           2.80   \n",
              "1   13.20        1.78  2.14             11.2     100.0           2.65   \n",
              "2   13.16        2.36  2.67             18.6     101.0           2.80   \n",
              "3   14.37        1.95  2.50             16.8     113.0           3.85   \n",
              "4   13.24        2.59  2.87             21.0     118.0           2.80   \n",
              "\n",
              "   Flavanoids  Nonflavanoid_Phenols  Proanthocyanins  Intensidade_de_cor  \\\n",
              "0        3.06                  0.28             2.29                5.64   \n",
              "1        2.76                  0.26             1.28                4.38   \n",
              "2        3.24                  0.30             2.81                5.68   \n",
              "3        3.49                  0.24             2.18                7.80   \n",
              "4        2.69                  0.39             1.82                4.32   \n",
              "\n",
              "    Hue  OD280  Proline  Customer_Segment  \n",
              "0  1.04   3.92   1065.0               1.0  \n",
              "1  1.05   3.40   1050.0               1.0  \n",
              "2  1.03   3.17   1185.0               1.0  \n",
              "3  0.86   3.45   1480.0               1.0  \n",
              "4  1.04   2.93    735.0               1.0  "
            ],
            "text/html": [
              "\n",
              "  <div id=\"df-223ac3f5-b333-4903-9a3b-357dbabcac24\">\n",
              "    <div class=\"colab-df-container\">\n",
              "      <div>\n",
              "<style scoped>\n",
              "    .dataframe tbody tr th:only-of-type {\n",
              "        vertical-align: middle;\n",
              "    }\n",
              "\n",
              "    .dataframe tbody tr th {\n",
              "        vertical-align: top;\n",
              "    }\n",
              "\n",
              "    .dataframe thead th {\n",
              "        text-align: right;\n",
              "    }\n",
              "</style>\n",
              "<table border=\"1\" class=\"dataframe\">\n",
              "  <thead>\n",
              "    <tr style=\"text-align: right;\">\n",
              "      <th></th>\n",
              "      <th>Alcool</th>\n",
              "      <th>Malic_Acid</th>\n",
              "      <th>Po</th>\n",
              "      <th>Alcalinidade_po</th>\n",
              "      <th>Magnesio</th>\n",
              "      <th>Total_Phenols</th>\n",
              "      <th>Flavanoids</th>\n",
              "      <th>Nonflavanoid_Phenols</th>\n",
              "      <th>Proanthocyanins</th>\n",
              "      <th>Intensidade_de_cor</th>\n",
              "      <th>Hue</th>\n",
              "      <th>OD280</th>\n",
              "      <th>Proline</th>\n",
              "      <th>Customer_Segment</th>\n",
              "    </tr>\n",
              "  </thead>\n",
              "  <tbody>\n",
              "    <tr>\n",
              "      <th>0</th>\n",
              "      <td>14.23</td>\n",
              "      <td>1.71</td>\n",
              "      <td>2.43</td>\n",
              "      <td>15.6</td>\n",
              "      <td>127.0</td>\n",
              "      <td>2.80</td>\n",
              "      <td>3.06</td>\n",
              "      <td>0.28</td>\n",
              "      <td>2.29</td>\n",
              "      <td>5.64</td>\n",
              "      <td>1.04</td>\n",
              "      <td>3.92</td>\n",
              "      <td>1065.0</td>\n",
              "      <td>1.0</td>\n",
              "    </tr>\n",
              "    <tr>\n",
              "      <th>1</th>\n",
              "      <td>13.20</td>\n",
              "      <td>1.78</td>\n",
              "      <td>2.14</td>\n",
              "      <td>11.2</td>\n",
              "      <td>100.0</td>\n",
              "      <td>2.65</td>\n",
              "      <td>2.76</td>\n",
              "      <td>0.26</td>\n",
              "      <td>1.28</td>\n",
              "      <td>4.38</td>\n",
              "      <td>1.05</td>\n",
              "      <td>3.40</td>\n",
              "      <td>1050.0</td>\n",
              "      <td>1.0</td>\n",
              "    </tr>\n",
              "    <tr>\n",
              "      <th>2</th>\n",
              "      <td>13.16</td>\n",
              "      <td>2.36</td>\n",
              "      <td>2.67</td>\n",
              "      <td>18.6</td>\n",
              "      <td>101.0</td>\n",
              "      <td>2.80</td>\n",
              "      <td>3.24</td>\n",
              "      <td>0.30</td>\n",
              "      <td>2.81</td>\n",
              "      <td>5.68</td>\n",
              "      <td>1.03</td>\n",
              "      <td>3.17</td>\n",
              "      <td>1185.0</td>\n",
              "      <td>1.0</td>\n",
              "    </tr>\n",
              "    <tr>\n",
              "      <th>3</th>\n",
              "      <td>14.37</td>\n",
              "      <td>1.95</td>\n",
              "      <td>2.50</td>\n",
              "      <td>16.8</td>\n",
              "      <td>113.0</td>\n",
              "      <td>3.85</td>\n",
              "      <td>3.49</td>\n",
              "      <td>0.24</td>\n",
              "      <td>2.18</td>\n",
              "      <td>7.80</td>\n",
              "      <td>0.86</td>\n",
              "      <td>3.45</td>\n",
              "      <td>1480.0</td>\n",
              "      <td>1.0</td>\n",
              "    </tr>\n",
              "    <tr>\n",
              "      <th>4</th>\n",
              "      <td>13.24</td>\n",
              "      <td>2.59</td>\n",
              "      <td>2.87</td>\n",
              "      <td>21.0</td>\n",
              "      <td>118.0</td>\n",
              "      <td>2.80</td>\n",
              "      <td>2.69</td>\n",
              "      <td>0.39</td>\n",
              "      <td>1.82</td>\n",
              "      <td>4.32</td>\n",
              "      <td>1.04</td>\n",
              "      <td>2.93</td>\n",
              "      <td>735.0</td>\n",
              "      <td>1.0</td>\n",
              "    </tr>\n",
              "  </tbody>\n",
              "</table>\n",
              "</div>\n",
              "      <button class=\"colab-df-convert\" onclick=\"convertToInteractive('df-223ac3f5-b333-4903-9a3b-357dbabcac24')\"\n",
              "              title=\"Convert this dataframe to an interactive table.\"\n",
              "              style=\"display:none;\">\n",
              "        \n",
              "  <svg xmlns=\"http://www.w3.org/2000/svg\" height=\"24px\"viewBox=\"0 0 24 24\"\n",
              "       width=\"24px\">\n",
              "    <path d=\"M0 0h24v24H0V0z\" fill=\"none\"/>\n",
              "    <path d=\"M18.56 5.44l.94 2.06.94-2.06 2.06-.94-2.06-.94-.94-2.06-.94 2.06-2.06.94zm-11 1L8.5 8.5l.94-2.06 2.06-.94-2.06-.94L8.5 2.5l-.94 2.06-2.06.94zm10 10l.94 2.06.94-2.06 2.06-.94-2.06-.94-.94-2.06-.94 2.06-2.06.94z\"/><path d=\"M17.41 7.96l-1.37-1.37c-.4-.4-.92-.59-1.43-.59-.52 0-1.04.2-1.43.59L10.3 9.45l-7.72 7.72c-.78.78-.78 2.05 0 2.83L4 21.41c.39.39.9.59 1.41.59.51 0 1.02-.2 1.41-.59l7.78-7.78 2.81-2.81c.8-.78.8-2.07 0-2.86zM5.41 20L4 18.59l7.72-7.72 1.47 1.35L5.41 20z\"/>\n",
              "  </svg>\n",
              "      </button>\n",
              "      \n",
              "  <style>\n",
              "    .colab-df-container {\n",
              "      display:flex;\n",
              "      flex-wrap:wrap;\n",
              "      gap: 12px;\n",
              "    }\n",
              "\n",
              "    .colab-df-convert {\n",
              "      background-color: #E8F0FE;\n",
              "      border: none;\n",
              "      border-radius: 50%;\n",
              "      cursor: pointer;\n",
              "      display: none;\n",
              "      fill: #1967D2;\n",
              "      height: 32px;\n",
              "      padding: 0 0 0 0;\n",
              "      width: 32px;\n",
              "    }\n",
              "\n",
              "    .colab-df-convert:hover {\n",
              "      background-color: #E2EBFA;\n",
              "      box-shadow: 0px 1px 2px rgba(60, 64, 67, 0.3), 0px 1px 3px 1px rgba(60, 64, 67, 0.15);\n",
              "      fill: #174EA6;\n",
              "    }\n",
              "\n",
              "    [theme=dark] .colab-df-convert {\n",
              "      background-color: #3B4455;\n",
              "      fill: #D2E3FC;\n",
              "    }\n",
              "\n",
              "    [theme=dark] .colab-df-convert:hover {\n",
              "      background-color: #434B5C;\n",
              "      box-shadow: 0px 1px 3px 1px rgba(0, 0, 0, 0.15);\n",
              "      filter: drop-shadow(0px 1px 2px rgba(0, 0, 0, 0.3));\n",
              "      fill: #FFFFFF;\n",
              "    }\n",
              "  </style>\n",
              "\n",
              "      <script>\n",
              "        const buttonEl =\n",
              "          document.querySelector('#df-223ac3f5-b333-4903-9a3b-357dbabcac24 button.colab-df-convert');\n",
              "        buttonEl.style.display =\n",
              "          google.colab.kernel.accessAllowed ? 'block' : 'none';\n",
              "\n",
              "        async function convertToInteractive(key) {\n",
              "          const element = document.querySelector('#df-223ac3f5-b333-4903-9a3b-357dbabcac24');\n",
              "          const dataTable =\n",
              "            await google.colab.kernel.invokeFunction('convertToInteractive',\n",
              "                                                     [key], {});\n",
              "          if (!dataTable) return;\n",
              "\n",
              "          const docLinkHtml = 'Like what you see? Visit the ' +\n",
              "            '<a target=\"_blank\" href=https://colab.research.google.com/notebooks/data_table.ipynb>data table notebook</a>'\n",
              "            + ' to learn more about interactive tables.';\n",
              "          element.innerHTML = '';\n",
              "          dataTable['output_type'] = 'display_data';\n",
              "          await google.colab.output.renderOutput(dataTable, element);\n",
              "          const docLink = document.createElement('div');\n",
              "          docLink.innerHTML = docLinkHtml;\n",
              "          element.appendChild(docLink);\n",
              "        }\n",
              "      </script>\n",
              "    </div>\n",
              "  </div>\n",
              "  "
            ]
          },
          "metadata": {}
        },
        {
          "output_type": "stream",
          "name": "stdout",
          "text": [
            "\n",
            "\n",
            "\n"
          ]
        },
        {
          "output_type": "display_data",
          "data": {
            "text/plain": [
              "           Alcool  Malic_Acid          Po  Alcalinidade_po    Magnesio  \\\n",
              "count  178.000000  178.000000  178.000000       178.000000  178.000000   \n",
              "mean    13.000618    2.336348    2.366517        19.494944   99.741573   \n",
              "std      0.811827    1.117146    0.274344         3.339564   14.282484   \n",
              "min     11.030000    0.740000    1.360000        10.600000   70.000000   \n",
              "25%     12.362500    1.602500    2.210000        17.200000   88.000000   \n",
              "50%     13.050000    1.865000    2.360000        19.500000   98.000000   \n",
              "75%     13.677500    3.082500    2.557500        21.500000  107.000000   \n",
              "max     14.830000    5.800000    3.230000        30.000000  162.000000   \n",
              "\n",
              "       Total_Phenols  Flavanoids  Nonflavanoid_Phenols  Proanthocyanins  \\\n",
              "count     178.000000  178.000000            178.000000       178.000000   \n",
              "mean        2.295112    2.029270              0.361854         1.590899   \n",
              "std         0.625851    0.998859              0.124453         0.572359   \n",
              "min         0.980000    0.340000              0.130000         0.410000   \n",
              "25%         1.742500    1.205000              0.270000         1.250000   \n",
              "50%         2.355000    2.135000              0.340000         1.555000   \n",
              "75%         2.800000    2.875000              0.437500         1.950000   \n",
              "max         3.880000    5.080000              0.660000         3.580000   \n",
              "\n",
              "       Intensidade_de_cor         Hue       OD280      Proline  \\\n",
              "count          178.000000  178.000000  178.000000   178.000000   \n",
              "mean             5.058090    0.957449    2.611685   746.893258   \n",
              "std              2.318286    0.228572    0.709990   314.907474   \n",
              "min              1.280000    0.480000    1.270000   278.000000   \n",
              "25%              3.220000    0.782500    1.937500   500.500000   \n",
              "50%              4.690000    0.965000    2.780000   673.500000   \n",
              "75%              6.200000    1.120000    3.170000   985.000000   \n",
              "max             13.000000    1.710000    4.000000  1680.000000   \n",
              "\n",
              "       Customer_Segment  \n",
              "count        178.000000  \n",
              "mean           1.938202  \n",
              "std            0.775035  \n",
              "min            1.000000  \n",
              "25%            1.000000  \n",
              "50%            2.000000  \n",
              "75%            3.000000  \n",
              "max            3.000000  "
            ],
            "text/html": [
              "\n",
              "  <div id=\"df-01a69674-9a9e-4683-ad49-7c0f2a5f55d9\">\n",
              "    <div class=\"colab-df-container\">\n",
              "      <div>\n",
              "<style scoped>\n",
              "    .dataframe tbody tr th:only-of-type {\n",
              "        vertical-align: middle;\n",
              "    }\n",
              "\n",
              "    .dataframe tbody tr th {\n",
              "        vertical-align: top;\n",
              "    }\n",
              "\n",
              "    .dataframe thead th {\n",
              "        text-align: right;\n",
              "    }\n",
              "</style>\n",
              "<table border=\"1\" class=\"dataframe\">\n",
              "  <thead>\n",
              "    <tr style=\"text-align: right;\">\n",
              "      <th></th>\n",
              "      <th>Alcool</th>\n",
              "      <th>Malic_Acid</th>\n",
              "      <th>Po</th>\n",
              "      <th>Alcalinidade_po</th>\n",
              "      <th>Magnesio</th>\n",
              "      <th>Total_Phenols</th>\n",
              "      <th>Flavanoids</th>\n",
              "      <th>Nonflavanoid_Phenols</th>\n",
              "      <th>Proanthocyanins</th>\n",
              "      <th>Intensidade_de_cor</th>\n",
              "      <th>Hue</th>\n",
              "      <th>OD280</th>\n",
              "      <th>Proline</th>\n",
              "      <th>Customer_Segment</th>\n",
              "    </tr>\n",
              "  </thead>\n",
              "  <tbody>\n",
              "    <tr>\n",
              "      <th>count</th>\n",
              "      <td>178.000000</td>\n",
              "      <td>178.000000</td>\n",
              "      <td>178.000000</td>\n",
              "      <td>178.000000</td>\n",
              "      <td>178.000000</td>\n",
              "      <td>178.000000</td>\n",
              "      <td>178.000000</td>\n",
              "      <td>178.000000</td>\n",
              "      <td>178.000000</td>\n",
              "      <td>178.000000</td>\n",
              "      <td>178.000000</td>\n",
              "      <td>178.000000</td>\n",
              "      <td>178.000000</td>\n",
              "      <td>178.000000</td>\n",
              "    </tr>\n",
              "    <tr>\n",
              "      <th>mean</th>\n",
              "      <td>13.000618</td>\n",
              "      <td>2.336348</td>\n",
              "      <td>2.366517</td>\n",
              "      <td>19.494944</td>\n",
              "      <td>99.741573</td>\n",
              "      <td>2.295112</td>\n",
              "      <td>2.029270</td>\n",
              "      <td>0.361854</td>\n",
              "      <td>1.590899</td>\n",
              "      <td>5.058090</td>\n",
              "      <td>0.957449</td>\n",
              "      <td>2.611685</td>\n",
              "      <td>746.893258</td>\n",
              "      <td>1.938202</td>\n",
              "    </tr>\n",
              "    <tr>\n",
              "      <th>std</th>\n",
              "      <td>0.811827</td>\n",
              "      <td>1.117146</td>\n",
              "      <td>0.274344</td>\n",
              "      <td>3.339564</td>\n",
              "      <td>14.282484</td>\n",
              "      <td>0.625851</td>\n",
              "      <td>0.998859</td>\n",
              "      <td>0.124453</td>\n",
              "      <td>0.572359</td>\n",
              "      <td>2.318286</td>\n",
              "      <td>0.228572</td>\n",
              "      <td>0.709990</td>\n",
              "      <td>314.907474</td>\n",
              "      <td>0.775035</td>\n",
              "    </tr>\n",
              "    <tr>\n",
              "      <th>min</th>\n",
              "      <td>11.030000</td>\n",
              "      <td>0.740000</td>\n",
              "      <td>1.360000</td>\n",
              "      <td>10.600000</td>\n",
              "      <td>70.000000</td>\n",
              "      <td>0.980000</td>\n",
              "      <td>0.340000</td>\n",
              "      <td>0.130000</td>\n",
              "      <td>0.410000</td>\n",
              "      <td>1.280000</td>\n",
              "      <td>0.480000</td>\n",
              "      <td>1.270000</td>\n",
              "      <td>278.000000</td>\n",
              "      <td>1.000000</td>\n",
              "    </tr>\n",
              "    <tr>\n",
              "      <th>25%</th>\n",
              "      <td>12.362500</td>\n",
              "      <td>1.602500</td>\n",
              "      <td>2.210000</td>\n",
              "      <td>17.200000</td>\n",
              "      <td>88.000000</td>\n",
              "      <td>1.742500</td>\n",
              "      <td>1.205000</td>\n",
              "      <td>0.270000</td>\n",
              "      <td>1.250000</td>\n",
              "      <td>3.220000</td>\n",
              "      <td>0.782500</td>\n",
              "      <td>1.937500</td>\n",
              "      <td>500.500000</td>\n",
              "      <td>1.000000</td>\n",
              "    </tr>\n",
              "    <tr>\n",
              "      <th>50%</th>\n",
              "      <td>13.050000</td>\n",
              "      <td>1.865000</td>\n",
              "      <td>2.360000</td>\n",
              "      <td>19.500000</td>\n",
              "      <td>98.000000</td>\n",
              "      <td>2.355000</td>\n",
              "      <td>2.135000</td>\n",
              "      <td>0.340000</td>\n",
              "      <td>1.555000</td>\n",
              "      <td>4.690000</td>\n",
              "      <td>0.965000</td>\n",
              "      <td>2.780000</td>\n",
              "      <td>673.500000</td>\n",
              "      <td>2.000000</td>\n",
              "    </tr>\n",
              "    <tr>\n",
              "      <th>75%</th>\n",
              "      <td>13.677500</td>\n",
              "      <td>3.082500</td>\n",
              "      <td>2.557500</td>\n",
              "      <td>21.500000</td>\n",
              "      <td>107.000000</td>\n",
              "      <td>2.800000</td>\n",
              "      <td>2.875000</td>\n",
              "      <td>0.437500</td>\n",
              "      <td>1.950000</td>\n",
              "      <td>6.200000</td>\n",
              "      <td>1.120000</td>\n",
              "      <td>3.170000</td>\n",
              "      <td>985.000000</td>\n",
              "      <td>3.000000</td>\n",
              "    </tr>\n",
              "    <tr>\n",
              "      <th>max</th>\n",
              "      <td>14.830000</td>\n",
              "      <td>5.800000</td>\n",
              "      <td>3.230000</td>\n",
              "      <td>30.000000</td>\n",
              "      <td>162.000000</td>\n",
              "      <td>3.880000</td>\n",
              "      <td>5.080000</td>\n",
              "      <td>0.660000</td>\n",
              "      <td>3.580000</td>\n",
              "      <td>13.000000</td>\n",
              "      <td>1.710000</td>\n",
              "      <td>4.000000</td>\n",
              "      <td>1680.000000</td>\n",
              "      <td>3.000000</td>\n",
              "    </tr>\n",
              "  </tbody>\n",
              "</table>\n",
              "</div>\n",
              "      <button class=\"colab-df-convert\" onclick=\"convertToInteractive('df-01a69674-9a9e-4683-ad49-7c0f2a5f55d9')\"\n",
              "              title=\"Convert this dataframe to an interactive table.\"\n",
              "              style=\"display:none;\">\n",
              "        \n",
              "  <svg xmlns=\"http://www.w3.org/2000/svg\" height=\"24px\"viewBox=\"0 0 24 24\"\n",
              "       width=\"24px\">\n",
              "    <path d=\"M0 0h24v24H0V0z\" fill=\"none\"/>\n",
              "    <path d=\"M18.56 5.44l.94 2.06.94-2.06 2.06-.94-2.06-.94-.94-2.06-.94 2.06-2.06.94zm-11 1L8.5 8.5l.94-2.06 2.06-.94-2.06-.94L8.5 2.5l-.94 2.06-2.06.94zm10 10l.94 2.06.94-2.06 2.06-.94-2.06-.94-.94-2.06-.94 2.06-2.06.94z\"/><path d=\"M17.41 7.96l-1.37-1.37c-.4-.4-.92-.59-1.43-.59-.52 0-1.04.2-1.43.59L10.3 9.45l-7.72 7.72c-.78.78-.78 2.05 0 2.83L4 21.41c.39.39.9.59 1.41.59.51 0 1.02-.2 1.41-.59l7.78-7.78 2.81-2.81c.8-.78.8-2.07 0-2.86zM5.41 20L4 18.59l7.72-7.72 1.47 1.35L5.41 20z\"/>\n",
              "  </svg>\n",
              "      </button>\n",
              "      \n",
              "  <style>\n",
              "    .colab-df-container {\n",
              "      display:flex;\n",
              "      flex-wrap:wrap;\n",
              "      gap: 12px;\n",
              "    }\n",
              "\n",
              "    .colab-df-convert {\n",
              "      background-color: #E8F0FE;\n",
              "      border: none;\n",
              "      border-radius: 50%;\n",
              "      cursor: pointer;\n",
              "      display: none;\n",
              "      fill: #1967D2;\n",
              "      height: 32px;\n",
              "      padding: 0 0 0 0;\n",
              "      width: 32px;\n",
              "    }\n",
              "\n",
              "    .colab-df-convert:hover {\n",
              "      background-color: #E2EBFA;\n",
              "      box-shadow: 0px 1px 2px rgba(60, 64, 67, 0.3), 0px 1px 3px 1px rgba(60, 64, 67, 0.15);\n",
              "      fill: #174EA6;\n",
              "    }\n",
              "\n",
              "    [theme=dark] .colab-df-convert {\n",
              "      background-color: #3B4455;\n",
              "      fill: #D2E3FC;\n",
              "    }\n",
              "\n",
              "    [theme=dark] .colab-df-convert:hover {\n",
              "      background-color: #434B5C;\n",
              "      box-shadow: 0px 1px 3px 1px rgba(0, 0, 0, 0.15);\n",
              "      filter: drop-shadow(0px 1px 2px rgba(0, 0, 0, 0.3));\n",
              "      fill: #FFFFFF;\n",
              "    }\n",
              "  </style>\n",
              "\n",
              "      <script>\n",
              "        const buttonEl =\n",
              "          document.querySelector('#df-01a69674-9a9e-4683-ad49-7c0f2a5f55d9 button.colab-df-convert');\n",
              "        buttonEl.style.display =\n",
              "          google.colab.kernel.accessAllowed ? 'block' : 'none';\n",
              "\n",
              "        async function convertToInteractive(key) {\n",
              "          const element = document.querySelector('#df-01a69674-9a9e-4683-ad49-7c0f2a5f55d9');\n",
              "          const dataTable =\n",
              "            await google.colab.kernel.invokeFunction('convertToInteractive',\n",
              "                                                     [key], {});\n",
              "          if (!dataTable) return;\n",
              "\n",
              "          const docLinkHtml = 'Like what you see? Visit the ' +\n",
              "            '<a target=\"_blank\" href=https://colab.research.google.com/notebooks/data_table.ipynb>data table notebook</a>'\n",
              "            + ' to learn more about interactive tables.';\n",
              "          element.innerHTML = '';\n",
              "          dataTable['output_type'] = 'display_data';\n",
              "          await google.colab.output.renderOutput(dataTable, element);\n",
              "          const docLink = document.createElement('div');\n",
              "          docLink.innerHTML = docLinkHtml;\n",
              "          element.appendChild(docLink);\n",
              "        }\n",
              "      </script>\n",
              "    </div>\n",
              "  </div>\n",
              "  "
            ]
          },
          "metadata": {}
        }
      ]
    },
    {
      "cell_type": "markdown",
      "metadata": {
        "id": "TSQCBfJMdM7L"
      },
      "source": [
        "# Aula 2 - K-means\n",
        "\n",
        "O método de clusterização K-means classifica os objetos dentro de múltiplos grupos, de forma que a variação intra-cluster seja minimizada pela soma dos quadrados das distâncias Euclidianas entre os itens e seus centroides.\n",
        "\n",
        "Os pontos de dados dentro de um cluster são homogêneas e heterogêneas para grupos de pares.\n",
        "\n",
        "Como K-means faz os clusters:\n",
        "\n",
        "1. K-means pega número k de pontos para cada grupo conhecido como centróide.\n",
        "2. Cada ponto de dados forma um cluster com o centróide mais próximo, i.e. k aglomerados.\n",
        "3. Encontra-se o centróide de cada cluster com base em membros do cluster existente. Aqui temos novos centróides.\n",
        "4. Em tendo novos centróides, repita o passo 2 e 3. Encontre a distância mais próxima para cada ponto de dados a partir de novos centróides e os associe com as novas-k clusters. Repita este processo até que a convergência ocorra, isto é, os centróides não mudem."
      ]
    },
    {
      "cell_type": "code",
      "metadata": {
        "id": "cVEltMj3cMAW"
      },
      "source": [
        "from sklearn.cluster import KMeans"
      ],
      "execution_count": 14,
      "outputs": []
    },
    {
      "cell_type": "code",
      "metadata": {
        "colab": {
          "base_uri": "https://localhost:8080/"
        },
        "id": "xqOOBEawdiBV",
        "outputId": "cb11d821-9346-4787-eee0-247627a78a47"
      },
      "source": [
        "agrupador = KMeans(n_clusters=4)\n",
        "agrupador.fit(df)"
      ],
      "execution_count": 15,
      "outputs": [
        {
          "output_type": "execute_result",
          "data": {
            "text/plain": [
              "KMeans(n_clusters=4)"
            ]
          },
          "metadata": {},
          "execution_count": 15
        }
      ]
    },
    {
      "cell_type": "code",
      "metadata": {
        "colab": {
          "base_uri": "https://localhost:8080/"
        },
        "id": "p-hExf22dvBd",
        "outputId": "d7cd44a8-d52f-407a-8ad7-d908a4c64785"
      },
      "source": [
        "agrupador.fit(df)\n",
        "labels = agrupador.labels_\n",
        "print(labels)"
      ],
      "execution_count": 16,
      "outputs": [
        {
          "output_type": "stream",
          "name": "stdout",
          "text": [
            "[0 0 0 3 1 3 3 3 0 0 3 3 3 0 3 3 3 0 3 1 1 1 0 0 1 1 0 3 0 0 3 3 0 3 0 0 0\n",
            " 0 0 1 1 0 0 1 0 0 0 0 0 3 0 3 0 3 0 0 0 3 3 2 1 2 1 2 2 1 2 2 1 1 0 2 2 0\n",
            " 0 2 2 2 1 2 2 1 1 2 2 2 2 2 1 1 2 2 2 2 2 0 1 2 1 2 1 2 2 2 1 2 2 2 2 1 2\n",
            " 2 1 2 2 2 2 2 2 2 1 2 2 2 2 2 2 2 2 1 1 2 2 1 1 1 1 2 1 1 1 1 2 2 1 1 2 1\n",
            " 1 2 2 2 2 1 1 1 2 0 1 1 2 1 2 1 1 2 1 1 1 1 2 2 1 1 1 1 1 2]\n"
          ]
        }
      ]
    },
    {
      "cell_type": "code",
      "metadata": {
        "colab": {
          "base_uri": "https://localhost:8080/"
        },
        "id": "oxszDOxPd3TM",
        "outputId": "052d8bd3-bfeb-44ea-e6b0-111cbcf4dbb9"
      },
      "source": [
        "agrupador.fit(df)\n",
        "labels = agrupador.labels_\n",
        "print(labels)"
      ],
      "execution_count": 17,
      "outputs": [
        {
          "output_type": "stream",
          "name": "stdout",
          "text": [
            "[3 3 1 1 0 1 1 1 3 3 1 1 1 3 1 1 1 3 1 3 0 0 3 3 3 3 1 1 3 3 1 1 3 1 3 3 3\n",
            " 3 3 0 0 3 3 0 3 3 3 3 3 1 3 1 1 1 3 3 3 1 1 2 0 2 0 2 2 0 2 2 0 0 3 2 2 3\n",
            " 3 2 2 2 0 2 2 0 0 2 2 2 2 0 0 0 2 2 2 2 2 3 0 2 0 2 0 0 2 2 0 2 2 2 2 0 0\n",
            " 2 0 2 2 2 2 2 2 0 0 2 2 2 2 2 2 2 2 0 0 2 0 0 0 0 0 2 0 0 0 0 2 0 3 3 2 0\n",
            " 0 0 2 2 2 0 0 0 2 3 0 0 2 0 0 0 0 2 0 0 0 0 2 2 0 0 0 3 3 0]\n"
          ]
        }
      ]
    },
    {
      "cell_type": "markdown",
      "metadata": {
        "id": "hwAZUTKZaP4d"
      },
      "source": [
        "A visualização dos clusters na forma de lista não ajuda muito a perceber a distribuição dos dados.\n",
        "\n",
        "Para facilitar isso iremos visualizar esses clusters num gráfico 2D."
      ]
    },
    {
      "cell_type": "code",
      "metadata": {
        "colab": {
          "base_uri": "https://localhost:8080/",
          "height": 270
        },
        "id": "Dk-tX0UdYQwr",
        "outputId": "e3ddaf92-9733-4b7b-f355-d6e48f6e27a9"
      },
      "source": [
        "df_normalized['labels'] = labels\n",
        "df_normalized.head()"
      ],
      "execution_count": 18,
      "outputs": [
        {
          "output_type": "execute_result",
          "data": {
            "text/plain": [
              "     Alcool  Malic_Acid        Po  Alcalinidade_po  Magnesio  Total_Phenols  \\\n",
              "0  0.842105    0.191700  0.572193         0.257732  0.619565       0.627586   \n",
              "1  0.571053    0.205534  0.417112         0.030928  0.326087       0.575862   \n",
              "2  0.560526    0.320158  0.700535         0.412371  0.336957       0.627586   \n",
              "3  0.878947    0.239130  0.609626         0.319588  0.467391       0.989655   \n",
              "4  0.581579    0.365613  0.807487         0.536082  0.521739       0.627586   \n",
              "\n",
              "   Flavanoids  Nonflavanoid_Phenols  Proanthocyanins  Intensidade_de_cor  \\\n",
              "0    0.573840              0.283019         0.593060            0.372014   \n",
              "1    0.510549              0.245283         0.274448            0.264505   \n",
              "2    0.611814              0.320755         0.757098            0.375427   \n",
              "3    0.664557              0.207547         0.558360            0.556314   \n",
              "4    0.495781              0.490566         0.444795            0.259386   \n",
              "\n",
              "        Hue     OD280   Proline  Customer_Segment  labels  \n",
              "0  0.455285  0.970696  0.561341               0.0       3  \n",
              "1  0.463415  0.780220  0.550642               0.0       3  \n",
              "2  0.447154  0.695971  0.646933               0.0       1  \n",
              "3  0.308943  0.798535  0.857347               0.0       1  \n",
              "4  0.455285  0.608059  0.325963               0.0       0  "
            ],
            "text/html": [
              "\n",
              "  <div id=\"df-fc7bd9a8-18f0-42a4-885a-28b80124ebe8\">\n",
              "    <div class=\"colab-df-container\">\n",
              "      <div>\n",
              "<style scoped>\n",
              "    .dataframe tbody tr th:only-of-type {\n",
              "        vertical-align: middle;\n",
              "    }\n",
              "\n",
              "    .dataframe tbody tr th {\n",
              "        vertical-align: top;\n",
              "    }\n",
              "\n",
              "    .dataframe thead th {\n",
              "        text-align: right;\n",
              "    }\n",
              "</style>\n",
              "<table border=\"1\" class=\"dataframe\">\n",
              "  <thead>\n",
              "    <tr style=\"text-align: right;\">\n",
              "      <th></th>\n",
              "      <th>Alcool</th>\n",
              "      <th>Malic_Acid</th>\n",
              "      <th>Po</th>\n",
              "      <th>Alcalinidade_po</th>\n",
              "      <th>Magnesio</th>\n",
              "      <th>Total_Phenols</th>\n",
              "      <th>Flavanoids</th>\n",
              "      <th>Nonflavanoid_Phenols</th>\n",
              "      <th>Proanthocyanins</th>\n",
              "      <th>Intensidade_de_cor</th>\n",
              "      <th>Hue</th>\n",
              "      <th>OD280</th>\n",
              "      <th>Proline</th>\n",
              "      <th>Customer_Segment</th>\n",
              "      <th>labels</th>\n",
              "    </tr>\n",
              "  </thead>\n",
              "  <tbody>\n",
              "    <tr>\n",
              "      <th>0</th>\n",
              "      <td>0.842105</td>\n",
              "      <td>0.191700</td>\n",
              "      <td>0.572193</td>\n",
              "      <td>0.257732</td>\n",
              "      <td>0.619565</td>\n",
              "      <td>0.627586</td>\n",
              "      <td>0.573840</td>\n",
              "      <td>0.283019</td>\n",
              "      <td>0.593060</td>\n",
              "      <td>0.372014</td>\n",
              "      <td>0.455285</td>\n",
              "      <td>0.970696</td>\n",
              "      <td>0.561341</td>\n",
              "      <td>0.0</td>\n",
              "      <td>3</td>\n",
              "    </tr>\n",
              "    <tr>\n",
              "      <th>1</th>\n",
              "      <td>0.571053</td>\n",
              "      <td>0.205534</td>\n",
              "      <td>0.417112</td>\n",
              "      <td>0.030928</td>\n",
              "      <td>0.326087</td>\n",
              "      <td>0.575862</td>\n",
              "      <td>0.510549</td>\n",
              "      <td>0.245283</td>\n",
              "      <td>0.274448</td>\n",
              "      <td>0.264505</td>\n",
              "      <td>0.463415</td>\n",
              "      <td>0.780220</td>\n",
              "      <td>0.550642</td>\n",
              "      <td>0.0</td>\n",
              "      <td>3</td>\n",
              "    </tr>\n",
              "    <tr>\n",
              "      <th>2</th>\n",
              "      <td>0.560526</td>\n",
              "      <td>0.320158</td>\n",
              "      <td>0.700535</td>\n",
              "      <td>0.412371</td>\n",
              "      <td>0.336957</td>\n",
              "      <td>0.627586</td>\n",
              "      <td>0.611814</td>\n",
              "      <td>0.320755</td>\n",
              "      <td>0.757098</td>\n",
              "      <td>0.375427</td>\n",
              "      <td>0.447154</td>\n",
              "      <td>0.695971</td>\n",
              "      <td>0.646933</td>\n",
              "      <td>0.0</td>\n",
              "      <td>1</td>\n",
              "    </tr>\n",
              "    <tr>\n",
              "      <th>3</th>\n",
              "      <td>0.878947</td>\n",
              "      <td>0.239130</td>\n",
              "      <td>0.609626</td>\n",
              "      <td>0.319588</td>\n",
              "      <td>0.467391</td>\n",
              "      <td>0.989655</td>\n",
              "      <td>0.664557</td>\n",
              "      <td>0.207547</td>\n",
              "      <td>0.558360</td>\n",
              "      <td>0.556314</td>\n",
              "      <td>0.308943</td>\n",
              "      <td>0.798535</td>\n",
              "      <td>0.857347</td>\n",
              "      <td>0.0</td>\n",
              "      <td>1</td>\n",
              "    </tr>\n",
              "    <tr>\n",
              "      <th>4</th>\n",
              "      <td>0.581579</td>\n",
              "      <td>0.365613</td>\n",
              "      <td>0.807487</td>\n",
              "      <td>0.536082</td>\n",
              "      <td>0.521739</td>\n",
              "      <td>0.627586</td>\n",
              "      <td>0.495781</td>\n",
              "      <td>0.490566</td>\n",
              "      <td>0.444795</td>\n",
              "      <td>0.259386</td>\n",
              "      <td>0.455285</td>\n",
              "      <td>0.608059</td>\n",
              "      <td>0.325963</td>\n",
              "      <td>0.0</td>\n",
              "      <td>0</td>\n",
              "    </tr>\n",
              "  </tbody>\n",
              "</table>\n",
              "</div>\n",
              "      <button class=\"colab-df-convert\" onclick=\"convertToInteractive('df-fc7bd9a8-18f0-42a4-885a-28b80124ebe8')\"\n",
              "              title=\"Convert this dataframe to an interactive table.\"\n",
              "              style=\"display:none;\">\n",
              "        \n",
              "  <svg xmlns=\"http://www.w3.org/2000/svg\" height=\"24px\"viewBox=\"0 0 24 24\"\n",
              "       width=\"24px\">\n",
              "    <path d=\"M0 0h24v24H0V0z\" fill=\"none\"/>\n",
              "    <path d=\"M18.56 5.44l.94 2.06.94-2.06 2.06-.94-2.06-.94-.94-2.06-.94 2.06-2.06.94zm-11 1L8.5 8.5l.94-2.06 2.06-.94-2.06-.94L8.5 2.5l-.94 2.06-2.06.94zm10 10l.94 2.06.94-2.06 2.06-.94-2.06-.94-.94-2.06-.94 2.06-2.06.94z\"/><path d=\"M17.41 7.96l-1.37-1.37c-.4-.4-.92-.59-1.43-.59-.52 0-1.04.2-1.43.59L10.3 9.45l-7.72 7.72c-.78.78-.78 2.05 0 2.83L4 21.41c.39.39.9.59 1.41.59.51 0 1.02-.2 1.41-.59l7.78-7.78 2.81-2.81c.8-.78.8-2.07 0-2.86zM5.41 20L4 18.59l7.72-7.72 1.47 1.35L5.41 20z\"/>\n",
              "  </svg>\n",
              "      </button>\n",
              "      \n",
              "  <style>\n",
              "    .colab-df-container {\n",
              "      display:flex;\n",
              "      flex-wrap:wrap;\n",
              "      gap: 12px;\n",
              "    }\n",
              "\n",
              "    .colab-df-convert {\n",
              "      background-color: #E8F0FE;\n",
              "      border: none;\n",
              "      border-radius: 50%;\n",
              "      cursor: pointer;\n",
              "      display: none;\n",
              "      fill: #1967D2;\n",
              "      height: 32px;\n",
              "      padding: 0 0 0 0;\n",
              "      width: 32px;\n",
              "    }\n",
              "\n",
              "    .colab-df-convert:hover {\n",
              "      background-color: #E2EBFA;\n",
              "      box-shadow: 0px 1px 2px rgba(60, 64, 67, 0.3), 0px 1px 3px 1px rgba(60, 64, 67, 0.15);\n",
              "      fill: #174EA6;\n",
              "    }\n",
              "\n",
              "    [theme=dark] .colab-df-convert {\n",
              "      background-color: #3B4455;\n",
              "      fill: #D2E3FC;\n",
              "    }\n",
              "\n",
              "    [theme=dark] .colab-df-convert:hover {\n",
              "      background-color: #434B5C;\n",
              "      box-shadow: 0px 1px 3px 1px rgba(0, 0, 0, 0.15);\n",
              "      filter: drop-shadow(0px 1px 2px rgba(0, 0, 0, 0.3));\n",
              "      fill: #FFFFFF;\n",
              "    }\n",
              "  </style>\n",
              "\n",
              "      <script>\n",
              "        const buttonEl =\n",
              "          document.querySelector('#df-fc7bd9a8-18f0-42a4-885a-28b80124ebe8 button.colab-df-convert');\n",
              "        buttonEl.style.display =\n",
              "          google.colab.kernel.accessAllowed ? 'block' : 'none';\n",
              "\n",
              "        async function convertToInteractive(key) {\n",
              "          const element = document.querySelector('#df-fc7bd9a8-18f0-42a4-885a-28b80124ebe8');\n",
              "          const dataTable =\n",
              "            await google.colab.kernel.invokeFunction('convertToInteractive',\n",
              "                                                     [key], {});\n",
              "          if (!dataTable) return;\n",
              "\n",
              "          const docLinkHtml = 'Like what you see? Visit the ' +\n",
              "            '<a target=\"_blank\" href=https://colab.research.google.com/notebooks/data_table.ipynb>data table notebook</a>'\n",
              "            + ' to learn more about interactive tables.';\n",
              "          element.innerHTML = '';\n",
              "          dataTable['output_type'] = 'display_data';\n",
              "          await google.colab.output.renderOutput(dataTable, element);\n",
              "          const docLink = document.createElement('div');\n",
              "          docLink.innerHTML = docLinkHtml;\n",
              "          element.appendChild(docLink);\n",
              "        }\n",
              "      </script>\n",
              "    </div>\n",
              "  </div>\n",
              "  "
            ]
          },
          "metadata": {},
          "execution_count": 18
        }
      ]
    },
    {
      "cell_type": "code",
      "metadata": {
        "colab": {
          "base_uri": "https://localhost:8080/",
          "height": 817
        },
        "id": "M1T40iMYVNOg",
        "outputId": "c763d05d-cf17-4e03-a661-966124e3c448"
      },
      "source": [
        "fig = px.scatter(df_normalized, x='Intensidade_de_cor', y='Alcool', color='labels', width=800, height=800)\n",
        "fig.show()"
      ],
      "execution_count": 19,
      "outputs": [
        {
          "output_type": "display_data",
          "data": {
            "text/html": [
              "<html>\n",
              "<head><meta charset=\"utf-8\" /></head>\n",
              "<body>\n",
              "    <div>            <script src=\"https://cdnjs.cloudflare.com/ajax/libs/mathjax/2.7.5/MathJax.js?config=TeX-AMS-MML_SVG\"></script><script type=\"text/javascript\">if (window.MathJax) {MathJax.Hub.Config({SVG: {font: \"STIX-Web\"}});}</script>                <script type=\"text/javascript\">window.PlotlyConfig = {MathJaxConfig: 'local'};</script>\n",
              "        <script src=\"https://cdn.plot.ly/plotly-2.8.3.min.js\"></script>                <div id=\"b1a9ec34-7cfc-479e-bf27-be3feab00e86\" class=\"plotly-graph-div\" style=\"height:800px; width:800px;\"></div>            <script type=\"text/javascript\">                                    window.PLOTLYENV=window.PLOTLYENV || {};                                    if (document.getElementById(\"b1a9ec34-7cfc-479e-bf27-be3feab00e86\")) {                    Plotly.newPlot(                        \"b1a9ec34-7cfc-479e-bf27-be3feab00e86\",                        [{\"hovertemplate\":\"Intensidade_de_cor=%{x}<br>Alcool=%{y}<br>labels=%{marker.color}<extra></extra>\",\"legendgroup\":\"\",\"marker\":{\"color\":[3,3,1,1,0,1,1,1,3,3,1,1,1,3,1,1,1,3,1,3,0,0,3,3,3,3,1,1,3,3,1,1,3,1,3,3,3,3,3,0,0,3,3,0,3,3,3,3,3,1,3,1,1,1,3,3,3,1,1,2,0,2,0,2,2,0,2,2,0,0,3,2,2,3,3,2,2,2,0,2,2,0,0,2,2,2,2,0,0,0,2,2,2,2,2,3,0,2,0,2,0,0,2,2,0,2,2,2,2,0,0,2,0,2,2,2,2,2,2,0,0,2,2,2,2,2,2,2,2,0,0,2,0,0,0,0,0,2,0,0,0,0,2,0,3,3,2,0,0,0,2,2,2,0,0,0,2,3,0,0,2,0,0,0,0,2,0,0,0,0,2,2,0,0,0,3,3,0],\"coloraxis\":\"coloraxis\",\"symbol\":\"circle\"},\"mode\":\"markers\",\"name\":\"\",\"orientation\":\"v\",\"showlegend\":false,\"x\":[0.3720136518771331,0.26450511945392485,0.3754266211604095,0.5563139931740614,0.2593856655290102,0.4667235494880546,0.3387372013651877,0.3216723549488054,0.33447098976109213,0.5068259385665529,0.3813993174061433,0.31740614334470985,0.3686006825938566,0.3515358361774744,0.5307167235494881,0.5136518771331058,0.41979522184300344,0.4539249146757679,0.6331058020477814,0.325938566552901,0.37286689419795227,0.27474402730375425,0.21501706484641633,0.22610921501706485,0.1911262798634812,0.1962457337883959,0.30034129692832756,0.22781569965870305,0.27474402730375425,0.29180887372013653,0.37713310580204773,0.4795221843003413,0.21843003412969278,0.3515358361774744,0.2491467576791809,0.325938566552901,0.2832764505119454,0.2534129692832764,0.20648464163822525,0.325938566552901,0.4138225255972696,0.2559726962457338,0.35409556313993173,0.2627986348122867,0.32081911262798635,0.33788395904436863,0.3088737201365188,0.4112627986348123,0.41979522184300344,0.6501706484641638,0.5051194539249146,0.3686006825938566,0.4923208191126279,0.42832764505119447,0.38993174061433444,0.424061433447099,0.4351535836177475,0.40273037542662116,0.4709897610921502,0.057167235494880536,0.1697952218430034,0.3813993174061433,0.21501706484641633,0.2704778156996587,0.1424914675767918,0.2832764505119454,0.3430034129692833,0.2901023890784983,0.16126279863481227,0.13395904436860068,0.15102389078498293,0.17918088737201363,0.2098976109215017,0.1766211604095563,0.16467576791808872,0.21501706484641633,0.2832764505119454,0.11689419795221842,0.18088737201365188,0.1100682593856655,0.10409556313993173,0.22354948805460748,0.07849829351535836,0.30034129692832756,0.15102389078498293,0.1143344709897611,0.09982935153583619,0.11262798634812288,0.1296928327645051,0.03924914675767918,0.09556313993174059,0.1979522184300341,0.15102389078498293,0.07423208191126279,0.16808873720136516,0.11262798634812288,0.10409556313993173,0.13822525597269622,0.27474402730375425,0.08703071672354948,0.17235494880546073,0.09982935153583619,0.1296928327645051,0.06655290102389078,0.14163822525597267,0.12116040955631399,0.18088737201365188,0.17235494880546073,0.12116040955631399,0.11689419795221842,0.13822525597269622,0.06143344709897611,0.21501706484641633,0.15358361774744025,0.13822525597269622,0.052901023890784965,0.057167235494880536,0.06655290102389078,0.18088737201365188,0.0,0.16808873720136516,0.40273037542662116,0.06825938566552903,0.11262798634812288,0.1296928327645051,0.12627986348122863,0.22696245733788392,0.14675767918088736,0.07167235494880547,0.11262798634812288,0.2406143344709897,0.3515358361774744,0.37713310580204773,0.31740614334470985,0.35580204778157,0.4965870307167235,0.21928327645051196,0.31740614334470985,0.37713310580204773,0.31058020477815695,0.2832764505119454,0.3686006825938566,0.26194539249146753,0.2662116040955631,0.5912969283276451,0.23208191126279862,0.3088737201365188,0.5435153583617748,0.6092150170648464,0.6928327645051194,0.6245733788395904,0.8122866894197952,0.4965870307167235,0.78839590443686,0.5392491467576791,0.5648464163822525,0.659556313993174,0.5307167235494881,0.9999999999999999,0.893344709897611,0.5435153583617748,0.39249146757679176,0.36689419795221845,0.341296928327645,0.7081911262798635,0.45563139931740615,0.8020477815699658,0.7662116040955631,0.6296928327645052,0.6160409556313993,0.36006825938566556,0.7354947952218429,0.7184300341296928,0.5477815699658704,0.5136518771331058,0.7610921501706484,0.6843003412969284,0.6757679180887372],\"xaxis\":\"x\",\"y\":[0.8421052631578951,0.5710526315789473,0.560526315789474,0.8789473684210525,0.5815789473684214,0.8342105263157893,0.8842105263157896,0.797368421052632,1.0,0.7447368421052629,0.8078947368421052,0.8131578947368419,0.7157894736842105,0.9789473684210526,0.8815789473684212,0.6842105263157898,0.8605263157894738,0.736842105263158,0.831578947368421,0.6868421052631581,0.797368421052632,0.5,0.7052631578947373,0.47894736842105257,0.6499999999999999,0.5315789473684216,0.6210526315789475,0.5973684210526318,0.7473684210526317,0.7868421052631578,0.7105263157894739,0.6710526315789473,0.6973684210526314,0.7184210526315788,0.6526315789473687,0.6447368421052633,0.5921052631578947,0.5315789473684216,0.5368421052631582,0.8394736842105264,0.6657894736842107,0.6263157894736846,0.7500000000000004,0.5815789473684214,0.5315789473684216,0.836842105263158,0.8815789473684212,0.7552631578947371,0.8078947368421052,0.7657894736842104,0.5315789473684216,0.736842105263158,0.7342105263157896,0.7210526315789472,0.7131578947368422,0.6657894736842107,0.8394736842105264,0.594736842105263,0.7078947368421056,0.3526315789473684,0.34210526315789513,0.4236842105263161,0.6947368421052631,0.3526315789473684,0.30000000000000027,0.3526315789473684,0.5473684210526315,0.3526315789473684,0.6078947368421055,0.310526315789474,0.331578947368421,0.7447368421052629,0.6473684210526316,0.5157894736842108,0.2447368421052638,0.1657894736842107,0.5263157894736841,0.2131578947368422,0.34210526315789513,0.43947368421052646,0.2552631578947371,0.44473684210526354,0.2763157894736845,0.5315789473684216,0.2131578947368422,0.43157894736842106,0.29736842105263195,0.1631578947368424,0.16052631578947407,0.2763157894736845,0.2763157894736845,0.2552631578947371,0.43684210526315814,0.331578947368421,0.155263157894737,0.3789473684210529,0.20526315789473726,0.331578947368421,0.3526315789473684,0.331578947368421,0.2763157894736845,0.4131578947368424,0.34473684210526345,0.20789473684210558,0.38947368421052664,0.3657894736842109,0.3210526315789477,0.44473684210526354,0.3131578947368423,0.15263157894736867,0.11315789473684257,0.39210526315789496,0.19210526315789478,0.10000000000000053,0.2763157894736845,0.0,0.20789473684210558,0.3657894736842109,0.45789473684210513,0.2552631578947371,0.1105263157894738,0.13947368421052664,0.3657894736842109,0.5315789473684216,0.2210526315789476,0.2736842105263162,0.3684210526315792,0.20000000000000018,0.3526315789473684,0.26578947368421035,0.4815789473684209,0.4868421052631584,0.4684210526315793,0.43947368421052646,0.38947368421052664,0.4131578947368424,0.3210526315789477,0.3947368421052633,0.6473684210526316,0.47631578947368425,0.5,0.6131578947368421,0.655263157894737,0.6815789473684211,0.3210526315789477,0.560526315789474,0.7500000000000004,0.48421052631578965,0.6026315789473689,0.5394736842105265,0.6499999999999999,0.4631578947368422,0.5473684210526315,0.5789473684210531,0.4078947368421053,0.5631578947368423,0.7394736842105263,0.37368421052631584,0.8710526315789475,0.6447368421052633,0.3500000000000001,0.7000000000000002,0.47894736842105257,0.5078947368421058,0.7236842105263159,0.7105263157894739,0.6368421052631579,0.4710526315789476,0.6710526315789473,0.6236842105263158,0.3078947368421052,0.45789473684210513,0.823684210526316,0.7052631578947373,0.6236842105263158,0.5894736842105264,0.5631578947368423,0.8157894736842106],\"yaxis\":\"y\",\"type\":\"scatter\"}],                        {\"template\":{\"data\":{\"bar\":[{\"error_x\":{\"color\":\"#2a3f5f\"},\"error_y\":{\"color\":\"#2a3f5f\"},\"marker\":{\"line\":{\"color\":\"#E5ECF6\",\"width\":0.5},\"pattern\":{\"fillmode\":\"overlay\",\"size\":10,\"solidity\":0.2}},\"type\":\"bar\"}],\"barpolar\":[{\"marker\":{\"line\":{\"color\":\"#E5ECF6\",\"width\":0.5},\"pattern\":{\"fillmode\":\"overlay\",\"size\":10,\"solidity\":0.2}},\"type\":\"barpolar\"}],\"carpet\":[{\"aaxis\":{\"endlinecolor\":\"#2a3f5f\",\"gridcolor\":\"white\",\"linecolor\":\"white\",\"minorgridcolor\":\"white\",\"startlinecolor\":\"#2a3f5f\"},\"baxis\":{\"endlinecolor\":\"#2a3f5f\",\"gridcolor\":\"white\",\"linecolor\":\"white\",\"minorgridcolor\":\"white\",\"startlinecolor\":\"#2a3f5f\"},\"type\":\"carpet\"}],\"choropleth\":[{\"colorbar\":{\"outlinewidth\":0,\"ticks\":\"\"},\"type\":\"choropleth\"}],\"contour\":[{\"colorbar\":{\"outlinewidth\":0,\"ticks\":\"\"},\"colorscale\":[[0.0,\"#0d0887\"],[0.1111111111111111,\"#46039f\"],[0.2222222222222222,\"#7201a8\"],[0.3333333333333333,\"#9c179e\"],[0.4444444444444444,\"#bd3786\"],[0.5555555555555556,\"#d8576b\"],[0.6666666666666666,\"#ed7953\"],[0.7777777777777778,\"#fb9f3a\"],[0.8888888888888888,\"#fdca26\"],[1.0,\"#f0f921\"]],\"type\":\"contour\"}],\"contourcarpet\":[{\"colorbar\":{\"outlinewidth\":0,\"ticks\":\"\"},\"type\":\"contourcarpet\"}],\"heatmap\":[{\"colorbar\":{\"outlinewidth\":0,\"ticks\":\"\"},\"colorscale\":[[0.0,\"#0d0887\"],[0.1111111111111111,\"#46039f\"],[0.2222222222222222,\"#7201a8\"],[0.3333333333333333,\"#9c179e\"],[0.4444444444444444,\"#bd3786\"],[0.5555555555555556,\"#d8576b\"],[0.6666666666666666,\"#ed7953\"],[0.7777777777777778,\"#fb9f3a\"],[0.8888888888888888,\"#fdca26\"],[1.0,\"#f0f921\"]],\"type\":\"heatmap\"}],\"heatmapgl\":[{\"colorbar\":{\"outlinewidth\":0,\"ticks\":\"\"},\"colorscale\":[[0.0,\"#0d0887\"],[0.1111111111111111,\"#46039f\"],[0.2222222222222222,\"#7201a8\"],[0.3333333333333333,\"#9c179e\"],[0.4444444444444444,\"#bd3786\"],[0.5555555555555556,\"#d8576b\"],[0.6666666666666666,\"#ed7953\"],[0.7777777777777778,\"#fb9f3a\"],[0.8888888888888888,\"#fdca26\"],[1.0,\"#f0f921\"]],\"type\":\"heatmapgl\"}],\"histogram\":[{\"marker\":{\"pattern\":{\"fillmode\":\"overlay\",\"size\":10,\"solidity\":0.2}},\"type\":\"histogram\"}],\"histogram2d\":[{\"colorbar\":{\"outlinewidth\":0,\"ticks\":\"\"},\"colorscale\":[[0.0,\"#0d0887\"],[0.1111111111111111,\"#46039f\"],[0.2222222222222222,\"#7201a8\"],[0.3333333333333333,\"#9c179e\"],[0.4444444444444444,\"#bd3786\"],[0.5555555555555556,\"#d8576b\"],[0.6666666666666666,\"#ed7953\"],[0.7777777777777778,\"#fb9f3a\"],[0.8888888888888888,\"#fdca26\"],[1.0,\"#f0f921\"]],\"type\":\"histogram2d\"}],\"histogram2dcontour\":[{\"colorbar\":{\"outlinewidth\":0,\"ticks\":\"\"},\"colorscale\":[[0.0,\"#0d0887\"],[0.1111111111111111,\"#46039f\"],[0.2222222222222222,\"#7201a8\"],[0.3333333333333333,\"#9c179e\"],[0.4444444444444444,\"#bd3786\"],[0.5555555555555556,\"#d8576b\"],[0.6666666666666666,\"#ed7953\"],[0.7777777777777778,\"#fb9f3a\"],[0.8888888888888888,\"#fdca26\"],[1.0,\"#f0f921\"]],\"type\":\"histogram2dcontour\"}],\"mesh3d\":[{\"colorbar\":{\"outlinewidth\":0,\"ticks\":\"\"},\"type\":\"mesh3d\"}],\"parcoords\":[{\"line\":{\"colorbar\":{\"outlinewidth\":0,\"ticks\":\"\"}},\"type\":\"parcoords\"}],\"pie\":[{\"automargin\":true,\"type\":\"pie\"}],\"scatter\":[{\"marker\":{\"colorbar\":{\"outlinewidth\":0,\"ticks\":\"\"}},\"type\":\"scatter\"}],\"scatter3d\":[{\"line\":{\"colorbar\":{\"outlinewidth\":0,\"ticks\":\"\"}},\"marker\":{\"colorbar\":{\"outlinewidth\":0,\"ticks\":\"\"}},\"type\":\"scatter3d\"}],\"scattercarpet\":[{\"marker\":{\"colorbar\":{\"outlinewidth\":0,\"ticks\":\"\"}},\"type\":\"scattercarpet\"}],\"scattergeo\":[{\"marker\":{\"colorbar\":{\"outlinewidth\":0,\"ticks\":\"\"}},\"type\":\"scattergeo\"}],\"scattergl\":[{\"marker\":{\"colorbar\":{\"outlinewidth\":0,\"ticks\":\"\"}},\"type\":\"scattergl\"}],\"scattermapbox\":[{\"marker\":{\"colorbar\":{\"outlinewidth\":0,\"ticks\":\"\"}},\"type\":\"scattermapbox\"}],\"scatterpolar\":[{\"marker\":{\"colorbar\":{\"outlinewidth\":0,\"ticks\":\"\"}},\"type\":\"scatterpolar\"}],\"scatterpolargl\":[{\"marker\":{\"colorbar\":{\"outlinewidth\":0,\"ticks\":\"\"}},\"type\":\"scatterpolargl\"}],\"scatterternary\":[{\"marker\":{\"colorbar\":{\"outlinewidth\":0,\"ticks\":\"\"}},\"type\":\"scatterternary\"}],\"surface\":[{\"colorbar\":{\"outlinewidth\":0,\"ticks\":\"\"},\"colorscale\":[[0.0,\"#0d0887\"],[0.1111111111111111,\"#46039f\"],[0.2222222222222222,\"#7201a8\"],[0.3333333333333333,\"#9c179e\"],[0.4444444444444444,\"#bd3786\"],[0.5555555555555556,\"#d8576b\"],[0.6666666666666666,\"#ed7953\"],[0.7777777777777778,\"#fb9f3a\"],[0.8888888888888888,\"#fdca26\"],[1.0,\"#f0f921\"]],\"type\":\"surface\"}],\"table\":[{\"cells\":{\"fill\":{\"color\":\"#EBF0F8\"},\"line\":{\"color\":\"white\"}},\"header\":{\"fill\":{\"color\":\"#C8D4E3\"},\"line\":{\"color\":\"white\"}},\"type\":\"table\"}]},\"layout\":{\"annotationdefaults\":{\"arrowcolor\":\"#2a3f5f\",\"arrowhead\":0,\"arrowwidth\":1},\"autotypenumbers\":\"strict\",\"coloraxis\":{\"colorbar\":{\"outlinewidth\":0,\"ticks\":\"\"}},\"colorscale\":{\"diverging\":[[0,\"#8e0152\"],[0.1,\"#c51b7d\"],[0.2,\"#de77ae\"],[0.3,\"#f1b6da\"],[0.4,\"#fde0ef\"],[0.5,\"#f7f7f7\"],[0.6,\"#e6f5d0\"],[0.7,\"#b8e186\"],[0.8,\"#7fbc41\"],[0.9,\"#4d9221\"],[1,\"#276419\"]],\"sequential\":[[0.0,\"#0d0887\"],[0.1111111111111111,\"#46039f\"],[0.2222222222222222,\"#7201a8\"],[0.3333333333333333,\"#9c179e\"],[0.4444444444444444,\"#bd3786\"],[0.5555555555555556,\"#d8576b\"],[0.6666666666666666,\"#ed7953\"],[0.7777777777777778,\"#fb9f3a\"],[0.8888888888888888,\"#fdca26\"],[1.0,\"#f0f921\"]],\"sequentialminus\":[[0.0,\"#0d0887\"],[0.1111111111111111,\"#46039f\"],[0.2222222222222222,\"#7201a8\"],[0.3333333333333333,\"#9c179e\"],[0.4444444444444444,\"#bd3786\"],[0.5555555555555556,\"#d8576b\"],[0.6666666666666666,\"#ed7953\"],[0.7777777777777778,\"#fb9f3a\"],[0.8888888888888888,\"#fdca26\"],[1.0,\"#f0f921\"]]},\"colorway\":[\"#636efa\",\"#EF553B\",\"#00cc96\",\"#ab63fa\",\"#FFA15A\",\"#19d3f3\",\"#FF6692\",\"#B6E880\",\"#FF97FF\",\"#FECB52\"],\"font\":{\"color\":\"#2a3f5f\"},\"geo\":{\"bgcolor\":\"white\",\"lakecolor\":\"white\",\"landcolor\":\"#E5ECF6\",\"showlakes\":true,\"showland\":true,\"subunitcolor\":\"white\"},\"hoverlabel\":{\"align\":\"left\"},\"hovermode\":\"closest\",\"mapbox\":{\"style\":\"light\"},\"paper_bgcolor\":\"white\",\"plot_bgcolor\":\"#E5ECF6\",\"polar\":{\"angularaxis\":{\"gridcolor\":\"white\",\"linecolor\":\"white\",\"ticks\":\"\"},\"bgcolor\":\"#E5ECF6\",\"radialaxis\":{\"gridcolor\":\"white\",\"linecolor\":\"white\",\"ticks\":\"\"}},\"scene\":{\"xaxis\":{\"backgroundcolor\":\"#E5ECF6\",\"gridcolor\":\"white\",\"gridwidth\":2,\"linecolor\":\"white\",\"showbackground\":true,\"ticks\":\"\",\"zerolinecolor\":\"white\"},\"yaxis\":{\"backgroundcolor\":\"#E5ECF6\",\"gridcolor\":\"white\",\"gridwidth\":2,\"linecolor\":\"white\",\"showbackground\":true,\"ticks\":\"\",\"zerolinecolor\":\"white\"},\"zaxis\":{\"backgroundcolor\":\"#E5ECF6\",\"gridcolor\":\"white\",\"gridwidth\":2,\"linecolor\":\"white\",\"showbackground\":true,\"ticks\":\"\",\"zerolinecolor\":\"white\"}},\"shapedefaults\":{\"line\":{\"color\":\"#2a3f5f\"}},\"ternary\":{\"aaxis\":{\"gridcolor\":\"white\",\"linecolor\":\"white\",\"ticks\":\"\"},\"baxis\":{\"gridcolor\":\"white\",\"linecolor\":\"white\",\"ticks\":\"\"},\"bgcolor\":\"#E5ECF6\",\"caxis\":{\"gridcolor\":\"white\",\"linecolor\":\"white\",\"ticks\":\"\"}},\"title\":{\"x\":0.05},\"xaxis\":{\"automargin\":true,\"gridcolor\":\"white\",\"linecolor\":\"white\",\"ticks\":\"\",\"title\":{\"standoff\":15},\"zerolinecolor\":\"white\",\"zerolinewidth\":2},\"yaxis\":{\"automargin\":true,\"gridcolor\":\"white\",\"linecolor\":\"white\",\"ticks\":\"\",\"title\":{\"standoff\":15},\"zerolinecolor\":\"white\",\"zerolinewidth\":2}}},\"xaxis\":{\"anchor\":\"y\",\"domain\":[0.0,1.0],\"title\":{\"text\":\"Intensidade_de_cor\"}},\"yaxis\":{\"anchor\":\"x\",\"domain\":[0.0,1.0],\"title\":{\"text\":\"Alcool\"}},\"coloraxis\":{\"colorbar\":{\"title\":{\"text\":\"labels\"}},\"colorscale\":[[0.0,\"#0d0887\"],[0.1111111111111111,\"#46039f\"],[0.2222222222222222,\"#7201a8\"],[0.3333333333333333,\"#9c179e\"],[0.4444444444444444,\"#bd3786\"],[0.5555555555555556,\"#d8576b\"],[0.6666666666666666,\"#ed7953\"],[0.7777777777777778,\"#fb9f3a\"],[0.8888888888888888,\"#fdca26\"],[1.0,\"#f0f921\"]]},\"legend\":{\"tracegroupgap\":0},\"margin\":{\"t\":60},\"height\":800,\"width\":800},                        {\"responsive\": true}                    ).then(function(){\n",
              "                            \n",
              "var gd = document.getElementById('b1a9ec34-7cfc-479e-bf27-be3feab00e86');\n",
              "var x = new MutationObserver(function (mutations, observer) {{\n",
              "        var display = window.getComputedStyle(gd).display;\n",
              "        if (!display || display === 'none') {{\n",
              "            console.log([gd, 'removed!']);\n",
              "            Plotly.purge(gd);\n",
              "            observer.disconnect();\n",
              "        }}\n",
              "}});\n",
              "\n",
              "// Listen for the removal of the full notebook cells\n",
              "var notebookContainer = gd.closest('#notebook-container');\n",
              "if (notebookContainer) {{\n",
              "    x.observe(notebookContainer, {childList: true});\n",
              "}}\n",
              "\n",
              "// Listen for the clearing of the current output cell\n",
              "var outputEl = gd.closest('.output');\n",
              "if (outputEl) {{\n",
              "    x.observe(outputEl, {childList: true});\n",
              "}}\n",
              "\n",
              "                        })                };                            </script>        </div>\n",
              "</body>\n",
              "</html>"
            ]
          },
          "metadata": {}
        }
      ]
    },
    {
      "cell_type": "markdown",
      "metadata": {
        "id": "X8UajEV9cqsu"
      },
      "source": [
        "Agora podemos perceber cada grupo representado por sua respectiva cor.\n",
        "\n",
        "Vamos testar a clusterização com outra quantidade de clusters."
      ]
    },
    {
      "cell_type": "code",
      "metadata": {
        "colab": {
          "base_uri": "https://localhost:8080/"
        },
        "id": "JiqRBAwxZTLi",
        "outputId": "fc549077-c599-4984-fdb3-00ddaac3ebf0"
      },
      "source": [
        "df_normalized.drop('labels', axis=1, inplace=True)\n",
        "agrupador = KMeans(n_clusters=3)\n",
        "agrupador.fit(df_normalized)\n",
        "labels = agrupador.labels_\n",
        "df_normalized['labels'] = labels\n",
        "print(labels)"
      ],
      "execution_count": 20,
      "outputs": [
        {
          "output_type": "stream",
          "name": "stdout",
          "text": [
            "[1 1 1 1 1 1 1 1 1 1 1 1 1 1 1 1 1 1 1 1 1 1 1 1 1 1 1 1 1 1 1 1 1 1 1 1 1\n",
            " 1 1 1 1 1 1 1 1 1 1 1 1 1 1 1 1 1 1 1 1 1 1 2 2 2 2 2 2 2 2 2 2 2 2 2 2 1\n",
            " 2 2 2 2 2 2 2 2 2 0 2 2 2 2 2 2 2 2 2 2 2 2 2 2 2 2 2 2 2 2 2 2 2 2 2 2 2\n",
            " 2 2 2 2 2 2 2 2 2 2 2 2 2 2 2 2 2 2 2 0 0 0 0 0 0 0 0 0 0 0 0 0 0 0 0 0 0\n",
            " 0 0 0 0 0 0 0 0 0 0 0 0 0 0 0 0 0 0 0 0 0 0 0 0 0 0 0 0 0 0]\n"
          ]
        }
      ]
    },
    {
      "cell_type": "code",
      "metadata": {
        "colab": {
          "base_uri": "https://localhost:8080/",
          "height": 817
        },
        "id": "sVWDarT5dml2",
        "outputId": "24a11063-0abd-45d7-b1b1-c73a5fbdc91e"
      },
      "source": [
        "fig = px.scatter(df_normalized, x='Intensidade_de_cor', y='Alcool', color='labels', width=800, height=800)\n",
        "fig.show()"
      ],
      "execution_count": 21,
      "outputs": [
        {
          "output_type": "display_data",
          "data": {
            "text/html": [
              "<html>\n",
              "<head><meta charset=\"utf-8\" /></head>\n",
              "<body>\n",
              "    <div>            <script src=\"https://cdnjs.cloudflare.com/ajax/libs/mathjax/2.7.5/MathJax.js?config=TeX-AMS-MML_SVG\"></script><script type=\"text/javascript\">if (window.MathJax) {MathJax.Hub.Config({SVG: {font: \"STIX-Web\"}});}</script>                <script type=\"text/javascript\">window.PlotlyConfig = {MathJaxConfig: 'local'};</script>\n",
              "        <script src=\"https://cdn.plot.ly/plotly-2.8.3.min.js\"></script>                <div id=\"770d22ad-7b90-4cf9-8e8f-85cdfdbfc6f0\" class=\"plotly-graph-div\" style=\"height:800px; width:800px;\"></div>            <script type=\"text/javascript\">                                    window.PLOTLYENV=window.PLOTLYENV || {};                                    if (document.getElementById(\"770d22ad-7b90-4cf9-8e8f-85cdfdbfc6f0\")) {                    Plotly.newPlot(                        \"770d22ad-7b90-4cf9-8e8f-85cdfdbfc6f0\",                        [{\"hovertemplate\":\"Intensidade_de_cor=%{x}<br>Alcool=%{y}<br>labels=%{marker.color}<extra></extra>\",\"legendgroup\":\"\",\"marker\":{\"color\":[1,1,1,1,1,1,1,1,1,1,1,1,1,1,1,1,1,1,1,1,1,1,1,1,1,1,1,1,1,1,1,1,1,1,1,1,1,1,1,1,1,1,1,1,1,1,1,1,1,1,1,1,1,1,1,1,1,1,1,2,2,2,2,2,2,2,2,2,2,2,2,2,2,1,2,2,2,2,2,2,2,2,2,0,2,2,2,2,2,2,2,2,2,2,2,2,2,2,2,2,2,2,2,2,2,2,2,2,2,2,2,2,2,2,2,2,2,2,2,2,2,2,2,2,2,2,2,2,2,2,0,0,0,0,0,0,0,0,0,0,0,0,0,0,0,0,0,0,0,0,0,0,0,0,0,0,0,0,0,0,0,0,0,0,0,0,0,0,0,0,0,0,0,0,0,0,0,0],\"coloraxis\":\"coloraxis\",\"symbol\":\"circle\"},\"mode\":\"markers\",\"name\":\"\",\"orientation\":\"v\",\"showlegend\":false,\"x\":[0.3720136518771331,0.26450511945392485,0.3754266211604095,0.5563139931740614,0.2593856655290102,0.4667235494880546,0.3387372013651877,0.3216723549488054,0.33447098976109213,0.5068259385665529,0.3813993174061433,0.31740614334470985,0.3686006825938566,0.3515358361774744,0.5307167235494881,0.5136518771331058,0.41979522184300344,0.4539249146757679,0.6331058020477814,0.325938566552901,0.37286689419795227,0.27474402730375425,0.21501706484641633,0.22610921501706485,0.1911262798634812,0.1962457337883959,0.30034129692832756,0.22781569965870305,0.27474402730375425,0.29180887372013653,0.37713310580204773,0.4795221843003413,0.21843003412969278,0.3515358361774744,0.2491467576791809,0.325938566552901,0.2832764505119454,0.2534129692832764,0.20648464163822525,0.325938566552901,0.4138225255972696,0.2559726962457338,0.35409556313993173,0.2627986348122867,0.32081911262798635,0.33788395904436863,0.3088737201365188,0.4112627986348123,0.41979522184300344,0.6501706484641638,0.5051194539249146,0.3686006825938566,0.4923208191126279,0.42832764505119447,0.38993174061433444,0.424061433447099,0.4351535836177475,0.40273037542662116,0.4709897610921502,0.057167235494880536,0.1697952218430034,0.3813993174061433,0.21501706484641633,0.2704778156996587,0.1424914675767918,0.2832764505119454,0.3430034129692833,0.2901023890784983,0.16126279863481227,0.13395904436860068,0.15102389078498293,0.17918088737201363,0.2098976109215017,0.1766211604095563,0.16467576791808872,0.21501706484641633,0.2832764505119454,0.11689419795221842,0.18088737201365188,0.1100682593856655,0.10409556313993173,0.22354948805460748,0.07849829351535836,0.30034129692832756,0.15102389078498293,0.1143344709897611,0.09982935153583619,0.11262798634812288,0.1296928327645051,0.03924914675767918,0.09556313993174059,0.1979522184300341,0.15102389078498293,0.07423208191126279,0.16808873720136516,0.11262798634812288,0.10409556313993173,0.13822525597269622,0.27474402730375425,0.08703071672354948,0.17235494880546073,0.09982935153583619,0.1296928327645051,0.06655290102389078,0.14163822525597267,0.12116040955631399,0.18088737201365188,0.17235494880546073,0.12116040955631399,0.11689419795221842,0.13822525597269622,0.06143344709897611,0.21501706484641633,0.15358361774744025,0.13822525597269622,0.052901023890784965,0.057167235494880536,0.06655290102389078,0.18088737201365188,0.0,0.16808873720136516,0.40273037542662116,0.06825938566552903,0.11262798634812288,0.1296928327645051,0.12627986348122863,0.22696245733788392,0.14675767918088736,0.07167235494880547,0.11262798634812288,0.2406143344709897,0.3515358361774744,0.37713310580204773,0.31740614334470985,0.35580204778157,0.4965870307167235,0.21928327645051196,0.31740614334470985,0.37713310580204773,0.31058020477815695,0.2832764505119454,0.3686006825938566,0.26194539249146753,0.2662116040955631,0.5912969283276451,0.23208191126279862,0.3088737201365188,0.5435153583617748,0.6092150170648464,0.6928327645051194,0.6245733788395904,0.8122866894197952,0.4965870307167235,0.78839590443686,0.5392491467576791,0.5648464163822525,0.659556313993174,0.5307167235494881,0.9999999999999999,0.893344709897611,0.5435153583617748,0.39249146757679176,0.36689419795221845,0.341296928327645,0.7081911262798635,0.45563139931740615,0.8020477815699658,0.7662116040955631,0.6296928327645052,0.6160409556313993,0.36006825938566556,0.7354947952218429,0.7184300341296928,0.5477815699658704,0.5136518771331058,0.7610921501706484,0.6843003412969284,0.6757679180887372],\"xaxis\":\"x\",\"y\":[0.8421052631578951,0.5710526315789473,0.560526315789474,0.8789473684210525,0.5815789473684214,0.8342105263157893,0.8842105263157896,0.797368421052632,1.0,0.7447368421052629,0.8078947368421052,0.8131578947368419,0.7157894736842105,0.9789473684210526,0.8815789473684212,0.6842105263157898,0.8605263157894738,0.736842105263158,0.831578947368421,0.6868421052631581,0.797368421052632,0.5,0.7052631578947373,0.47894736842105257,0.6499999999999999,0.5315789473684216,0.6210526315789475,0.5973684210526318,0.7473684210526317,0.7868421052631578,0.7105263157894739,0.6710526315789473,0.6973684210526314,0.7184210526315788,0.6526315789473687,0.6447368421052633,0.5921052631578947,0.5315789473684216,0.5368421052631582,0.8394736842105264,0.6657894736842107,0.6263157894736846,0.7500000000000004,0.5815789473684214,0.5315789473684216,0.836842105263158,0.8815789473684212,0.7552631578947371,0.8078947368421052,0.7657894736842104,0.5315789473684216,0.736842105263158,0.7342105263157896,0.7210526315789472,0.7131578947368422,0.6657894736842107,0.8394736842105264,0.594736842105263,0.7078947368421056,0.3526315789473684,0.34210526315789513,0.4236842105263161,0.6947368421052631,0.3526315789473684,0.30000000000000027,0.3526315789473684,0.5473684210526315,0.3526315789473684,0.6078947368421055,0.310526315789474,0.331578947368421,0.7447368421052629,0.6473684210526316,0.5157894736842108,0.2447368421052638,0.1657894736842107,0.5263157894736841,0.2131578947368422,0.34210526315789513,0.43947368421052646,0.2552631578947371,0.44473684210526354,0.2763157894736845,0.5315789473684216,0.2131578947368422,0.43157894736842106,0.29736842105263195,0.1631578947368424,0.16052631578947407,0.2763157894736845,0.2763157894736845,0.2552631578947371,0.43684210526315814,0.331578947368421,0.155263157894737,0.3789473684210529,0.20526315789473726,0.331578947368421,0.3526315789473684,0.331578947368421,0.2763157894736845,0.4131578947368424,0.34473684210526345,0.20789473684210558,0.38947368421052664,0.3657894736842109,0.3210526315789477,0.44473684210526354,0.3131578947368423,0.15263157894736867,0.11315789473684257,0.39210526315789496,0.19210526315789478,0.10000000000000053,0.2763157894736845,0.0,0.20789473684210558,0.3657894736842109,0.45789473684210513,0.2552631578947371,0.1105263157894738,0.13947368421052664,0.3657894736842109,0.5315789473684216,0.2210526315789476,0.2736842105263162,0.3684210526315792,0.20000000000000018,0.3526315789473684,0.26578947368421035,0.4815789473684209,0.4868421052631584,0.4684210526315793,0.43947368421052646,0.38947368421052664,0.4131578947368424,0.3210526315789477,0.3947368421052633,0.6473684210526316,0.47631578947368425,0.5,0.6131578947368421,0.655263157894737,0.6815789473684211,0.3210526315789477,0.560526315789474,0.7500000000000004,0.48421052631578965,0.6026315789473689,0.5394736842105265,0.6499999999999999,0.4631578947368422,0.5473684210526315,0.5789473684210531,0.4078947368421053,0.5631578947368423,0.7394736842105263,0.37368421052631584,0.8710526315789475,0.6447368421052633,0.3500000000000001,0.7000000000000002,0.47894736842105257,0.5078947368421058,0.7236842105263159,0.7105263157894739,0.6368421052631579,0.4710526315789476,0.6710526315789473,0.6236842105263158,0.3078947368421052,0.45789473684210513,0.823684210526316,0.7052631578947373,0.6236842105263158,0.5894736842105264,0.5631578947368423,0.8157894736842106],\"yaxis\":\"y\",\"type\":\"scatter\"}],                        {\"template\":{\"data\":{\"bar\":[{\"error_x\":{\"color\":\"#2a3f5f\"},\"error_y\":{\"color\":\"#2a3f5f\"},\"marker\":{\"line\":{\"color\":\"#E5ECF6\",\"width\":0.5},\"pattern\":{\"fillmode\":\"overlay\",\"size\":10,\"solidity\":0.2}},\"type\":\"bar\"}],\"barpolar\":[{\"marker\":{\"line\":{\"color\":\"#E5ECF6\",\"width\":0.5},\"pattern\":{\"fillmode\":\"overlay\",\"size\":10,\"solidity\":0.2}},\"type\":\"barpolar\"}],\"carpet\":[{\"aaxis\":{\"endlinecolor\":\"#2a3f5f\",\"gridcolor\":\"white\",\"linecolor\":\"white\",\"minorgridcolor\":\"white\",\"startlinecolor\":\"#2a3f5f\"},\"baxis\":{\"endlinecolor\":\"#2a3f5f\",\"gridcolor\":\"white\",\"linecolor\":\"white\",\"minorgridcolor\":\"white\",\"startlinecolor\":\"#2a3f5f\"},\"type\":\"carpet\"}],\"choropleth\":[{\"colorbar\":{\"outlinewidth\":0,\"ticks\":\"\"},\"type\":\"choropleth\"}],\"contour\":[{\"colorbar\":{\"outlinewidth\":0,\"ticks\":\"\"},\"colorscale\":[[0.0,\"#0d0887\"],[0.1111111111111111,\"#46039f\"],[0.2222222222222222,\"#7201a8\"],[0.3333333333333333,\"#9c179e\"],[0.4444444444444444,\"#bd3786\"],[0.5555555555555556,\"#d8576b\"],[0.6666666666666666,\"#ed7953\"],[0.7777777777777778,\"#fb9f3a\"],[0.8888888888888888,\"#fdca26\"],[1.0,\"#f0f921\"]],\"type\":\"contour\"}],\"contourcarpet\":[{\"colorbar\":{\"outlinewidth\":0,\"ticks\":\"\"},\"type\":\"contourcarpet\"}],\"heatmap\":[{\"colorbar\":{\"outlinewidth\":0,\"ticks\":\"\"},\"colorscale\":[[0.0,\"#0d0887\"],[0.1111111111111111,\"#46039f\"],[0.2222222222222222,\"#7201a8\"],[0.3333333333333333,\"#9c179e\"],[0.4444444444444444,\"#bd3786\"],[0.5555555555555556,\"#d8576b\"],[0.6666666666666666,\"#ed7953\"],[0.7777777777777778,\"#fb9f3a\"],[0.8888888888888888,\"#fdca26\"],[1.0,\"#f0f921\"]],\"type\":\"heatmap\"}],\"heatmapgl\":[{\"colorbar\":{\"outlinewidth\":0,\"ticks\":\"\"},\"colorscale\":[[0.0,\"#0d0887\"],[0.1111111111111111,\"#46039f\"],[0.2222222222222222,\"#7201a8\"],[0.3333333333333333,\"#9c179e\"],[0.4444444444444444,\"#bd3786\"],[0.5555555555555556,\"#d8576b\"],[0.6666666666666666,\"#ed7953\"],[0.7777777777777778,\"#fb9f3a\"],[0.8888888888888888,\"#fdca26\"],[1.0,\"#f0f921\"]],\"type\":\"heatmapgl\"}],\"histogram\":[{\"marker\":{\"pattern\":{\"fillmode\":\"overlay\",\"size\":10,\"solidity\":0.2}},\"type\":\"histogram\"}],\"histogram2d\":[{\"colorbar\":{\"outlinewidth\":0,\"ticks\":\"\"},\"colorscale\":[[0.0,\"#0d0887\"],[0.1111111111111111,\"#46039f\"],[0.2222222222222222,\"#7201a8\"],[0.3333333333333333,\"#9c179e\"],[0.4444444444444444,\"#bd3786\"],[0.5555555555555556,\"#d8576b\"],[0.6666666666666666,\"#ed7953\"],[0.7777777777777778,\"#fb9f3a\"],[0.8888888888888888,\"#fdca26\"],[1.0,\"#f0f921\"]],\"type\":\"histogram2d\"}],\"histogram2dcontour\":[{\"colorbar\":{\"outlinewidth\":0,\"ticks\":\"\"},\"colorscale\":[[0.0,\"#0d0887\"],[0.1111111111111111,\"#46039f\"],[0.2222222222222222,\"#7201a8\"],[0.3333333333333333,\"#9c179e\"],[0.4444444444444444,\"#bd3786\"],[0.5555555555555556,\"#d8576b\"],[0.6666666666666666,\"#ed7953\"],[0.7777777777777778,\"#fb9f3a\"],[0.8888888888888888,\"#fdca26\"],[1.0,\"#f0f921\"]],\"type\":\"histogram2dcontour\"}],\"mesh3d\":[{\"colorbar\":{\"outlinewidth\":0,\"ticks\":\"\"},\"type\":\"mesh3d\"}],\"parcoords\":[{\"line\":{\"colorbar\":{\"outlinewidth\":0,\"ticks\":\"\"}},\"type\":\"parcoords\"}],\"pie\":[{\"automargin\":true,\"type\":\"pie\"}],\"scatter\":[{\"marker\":{\"colorbar\":{\"outlinewidth\":0,\"ticks\":\"\"}},\"type\":\"scatter\"}],\"scatter3d\":[{\"line\":{\"colorbar\":{\"outlinewidth\":0,\"ticks\":\"\"}},\"marker\":{\"colorbar\":{\"outlinewidth\":0,\"ticks\":\"\"}},\"type\":\"scatter3d\"}],\"scattercarpet\":[{\"marker\":{\"colorbar\":{\"outlinewidth\":0,\"ticks\":\"\"}},\"type\":\"scattercarpet\"}],\"scattergeo\":[{\"marker\":{\"colorbar\":{\"outlinewidth\":0,\"ticks\":\"\"}},\"type\":\"scattergeo\"}],\"scattergl\":[{\"marker\":{\"colorbar\":{\"outlinewidth\":0,\"ticks\":\"\"}},\"type\":\"scattergl\"}],\"scattermapbox\":[{\"marker\":{\"colorbar\":{\"outlinewidth\":0,\"ticks\":\"\"}},\"type\":\"scattermapbox\"}],\"scatterpolar\":[{\"marker\":{\"colorbar\":{\"outlinewidth\":0,\"ticks\":\"\"}},\"type\":\"scatterpolar\"}],\"scatterpolargl\":[{\"marker\":{\"colorbar\":{\"outlinewidth\":0,\"ticks\":\"\"}},\"type\":\"scatterpolargl\"}],\"scatterternary\":[{\"marker\":{\"colorbar\":{\"outlinewidth\":0,\"ticks\":\"\"}},\"type\":\"scatterternary\"}],\"surface\":[{\"colorbar\":{\"outlinewidth\":0,\"ticks\":\"\"},\"colorscale\":[[0.0,\"#0d0887\"],[0.1111111111111111,\"#46039f\"],[0.2222222222222222,\"#7201a8\"],[0.3333333333333333,\"#9c179e\"],[0.4444444444444444,\"#bd3786\"],[0.5555555555555556,\"#d8576b\"],[0.6666666666666666,\"#ed7953\"],[0.7777777777777778,\"#fb9f3a\"],[0.8888888888888888,\"#fdca26\"],[1.0,\"#f0f921\"]],\"type\":\"surface\"}],\"table\":[{\"cells\":{\"fill\":{\"color\":\"#EBF0F8\"},\"line\":{\"color\":\"white\"}},\"header\":{\"fill\":{\"color\":\"#C8D4E3\"},\"line\":{\"color\":\"white\"}},\"type\":\"table\"}]},\"layout\":{\"annotationdefaults\":{\"arrowcolor\":\"#2a3f5f\",\"arrowhead\":0,\"arrowwidth\":1},\"autotypenumbers\":\"strict\",\"coloraxis\":{\"colorbar\":{\"outlinewidth\":0,\"ticks\":\"\"}},\"colorscale\":{\"diverging\":[[0,\"#8e0152\"],[0.1,\"#c51b7d\"],[0.2,\"#de77ae\"],[0.3,\"#f1b6da\"],[0.4,\"#fde0ef\"],[0.5,\"#f7f7f7\"],[0.6,\"#e6f5d0\"],[0.7,\"#b8e186\"],[0.8,\"#7fbc41\"],[0.9,\"#4d9221\"],[1,\"#276419\"]],\"sequential\":[[0.0,\"#0d0887\"],[0.1111111111111111,\"#46039f\"],[0.2222222222222222,\"#7201a8\"],[0.3333333333333333,\"#9c179e\"],[0.4444444444444444,\"#bd3786\"],[0.5555555555555556,\"#d8576b\"],[0.6666666666666666,\"#ed7953\"],[0.7777777777777778,\"#fb9f3a\"],[0.8888888888888888,\"#fdca26\"],[1.0,\"#f0f921\"]],\"sequentialminus\":[[0.0,\"#0d0887\"],[0.1111111111111111,\"#46039f\"],[0.2222222222222222,\"#7201a8\"],[0.3333333333333333,\"#9c179e\"],[0.4444444444444444,\"#bd3786\"],[0.5555555555555556,\"#d8576b\"],[0.6666666666666666,\"#ed7953\"],[0.7777777777777778,\"#fb9f3a\"],[0.8888888888888888,\"#fdca26\"],[1.0,\"#f0f921\"]]},\"colorway\":[\"#636efa\",\"#EF553B\",\"#00cc96\",\"#ab63fa\",\"#FFA15A\",\"#19d3f3\",\"#FF6692\",\"#B6E880\",\"#FF97FF\",\"#FECB52\"],\"font\":{\"color\":\"#2a3f5f\"},\"geo\":{\"bgcolor\":\"white\",\"lakecolor\":\"white\",\"landcolor\":\"#E5ECF6\",\"showlakes\":true,\"showland\":true,\"subunitcolor\":\"white\"},\"hoverlabel\":{\"align\":\"left\"},\"hovermode\":\"closest\",\"mapbox\":{\"style\":\"light\"},\"paper_bgcolor\":\"white\",\"plot_bgcolor\":\"#E5ECF6\",\"polar\":{\"angularaxis\":{\"gridcolor\":\"white\",\"linecolor\":\"white\",\"ticks\":\"\"},\"bgcolor\":\"#E5ECF6\",\"radialaxis\":{\"gridcolor\":\"white\",\"linecolor\":\"white\",\"ticks\":\"\"}},\"scene\":{\"xaxis\":{\"backgroundcolor\":\"#E5ECF6\",\"gridcolor\":\"white\",\"gridwidth\":2,\"linecolor\":\"white\",\"showbackground\":true,\"ticks\":\"\",\"zerolinecolor\":\"white\"},\"yaxis\":{\"backgroundcolor\":\"#E5ECF6\",\"gridcolor\":\"white\",\"gridwidth\":2,\"linecolor\":\"white\",\"showbackground\":true,\"ticks\":\"\",\"zerolinecolor\":\"white\"},\"zaxis\":{\"backgroundcolor\":\"#E5ECF6\",\"gridcolor\":\"white\",\"gridwidth\":2,\"linecolor\":\"white\",\"showbackground\":true,\"ticks\":\"\",\"zerolinecolor\":\"white\"}},\"shapedefaults\":{\"line\":{\"color\":\"#2a3f5f\"}},\"ternary\":{\"aaxis\":{\"gridcolor\":\"white\",\"linecolor\":\"white\",\"ticks\":\"\"},\"baxis\":{\"gridcolor\":\"white\",\"linecolor\":\"white\",\"ticks\":\"\"},\"bgcolor\":\"#E5ECF6\",\"caxis\":{\"gridcolor\":\"white\",\"linecolor\":\"white\",\"ticks\":\"\"}},\"title\":{\"x\":0.05},\"xaxis\":{\"automargin\":true,\"gridcolor\":\"white\",\"linecolor\":\"white\",\"ticks\":\"\",\"title\":{\"standoff\":15},\"zerolinecolor\":\"white\",\"zerolinewidth\":2},\"yaxis\":{\"automargin\":true,\"gridcolor\":\"white\",\"linecolor\":\"white\",\"ticks\":\"\",\"title\":{\"standoff\":15},\"zerolinecolor\":\"white\",\"zerolinewidth\":2}}},\"xaxis\":{\"anchor\":\"y\",\"domain\":[0.0,1.0],\"title\":{\"text\":\"Intensidade_de_cor\"}},\"yaxis\":{\"anchor\":\"x\",\"domain\":[0.0,1.0],\"title\":{\"text\":\"Alcool\"}},\"coloraxis\":{\"colorbar\":{\"title\":{\"text\":\"labels\"}},\"colorscale\":[[0.0,\"#0d0887\"],[0.1111111111111111,\"#46039f\"],[0.2222222222222222,\"#7201a8\"],[0.3333333333333333,\"#9c179e\"],[0.4444444444444444,\"#bd3786\"],[0.5555555555555556,\"#d8576b\"],[0.6666666666666666,\"#ed7953\"],[0.7777777777777778,\"#fb9f3a\"],[0.8888888888888888,\"#fdca26\"],[1.0,\"#f0f921\"]]},\"legend\":{\"tracegroupgap\":0},\"margin\":{\"t\":60},\"height\":800,\"width\":800},                        {\"responsive\": true}                    ).then(function(){\n",
              "                            \n",
              "var gd = document.getElementById('770d22ad-7b90-4cf9-8e8f-85cdfdbfc6f0');\n",
              "var x = new MutationObserver(function (mutations, observer) {{\n",
              "        var display = window.getComputedStyle(gd).display;\n",
              "        if (!display || display === 'none') {{\n",
              "            console.log([gd, 'removed!']);\n",
              "            Plotly.purge(gd);\n",
              "            observer.disconnect();\n",
              "        }}\n",
              "}});\n",
              "\n",
              "// Listen for the removal of the full notebook cells\n",
              "var notebookContainer = gd.closest('#notebook-container');\n",
              "if (notebookContainer) {{\n",
              "    x.observe(notebookContainer, {childList: true});\n",
              "}}\n",
              "\n",
              "// Listen for the clearing of the current output cell\n",
              "var outputEl = gd.closest('.output');\n",
              "if (outputEl) {{\n",
              "    x.observe(outputEl, {childList: true});\n",
              "}}\n",
              "\n",
              "                        })                };                            </script>        </div>\n",
              "</body>\n",
              "</html>"
            ]
          },
          "metadata": {}
        }
      ]
    },
    {
      "cell_type": "markdown",
      "metadata": {
        "id": "c_MpCTIgel8_"
      },
      "source": [
        "Como nós podemos perceber ficou melhor organizado, os grupos ficaram mais bem definidos.\n",
        "\n",
        "Vamos agora passar para o gráfico 3D."
      ]
    },
    {
      "cell_type": "code",
      "metadata": {
        "colab": {
          "base_uri": "https://localhost:8080/",
          "height": 817
        },
        "id": "IWnJhrmLeH6F",
        "outputId": "66a4bebf-d49d-4094-f2e6-0d23db1b0b95"
      },
      "source": [
        "fig = px.scatter_3d(df_normalized, x='Intensidade_de_cor', y='Alcool', z='Proline', color='labels', width=800, height=800)\n",
        "fig.show()"
      ],
      "execution_count": 22,
      "outputs": [
        {
          "output_type": "display_data",
          "data": {
            "text/html": [
              "<html>\n",
              "<head><meta charset=\"utf-8\" /></head>\n",
              "<body>\n",
              "    <div>            <script src=\"https://cdnjs.cloudflare.com/ajax/libs/mathjax/2.7.5/MathJax.js?config=TeX-AMS-MML_SVG\"></script><script type=\"text/javascript\">if (window.MathJax) {MathJax.Hub.Config({SVG: {font: \"STIX-Web\"}});}</script>                <script type=\"text/javascript\">window.PlotlyConfig = {MathJaxConfig: 'local'};</script>\n",
              "        <script src=\"https://cdn.plot.ly/plotly-2.8.3.min.js\"></script>                <div id=\"dd03fbb4-9721-4641-ae70-8c4ca34dc1cc\" class=\"plotly-graph-div\" style=\"height:800px; width:800px;\"></div>            <script type=\"text/javascript\">                                    window.PLOTLYENV=window.PLOTLYENV || {};                                    if (document.getElementById(\"dd03fbb4-9721-4641-ae70-8c4ca34dc1cc\")) {                    Plotly.newPlot(                        \"dd03fbb4-9721-4641-ae70-8c4ca34dc1cc\",                        [{\"hovertemplate\":\"Intensidade_de_cor=%{x}<br>Alcool=%{y}<br>Proline=%{z}<br>labels=%{marker.color}<extra></extra>\",\"legendgroup\":\"\",\"marker\":{\"color\":[1,1,1,1,1,1,1,1,1,1,1,1,1,1,1,1,1,1,1,1,1,1,1,1,1,1,1,1,1,1,1,1,1,1,1,1,1,1,1,1,1,1,1,1,1,1,1,1,1,1,1,1,1,1,1,1,1,1,1,2,2,2,2,2,2,2,2,2,2,2,2,2,2,1,2,2,2,2,2,2,2,2,2,0,2,2,2,2,2,2,2,2,2,2,2,2,2,2,2,2,2,2,2,2,2,2,2,2,2,2,2,2,2,2,2,2,2,2,2,2,2,2,2,2,2,2,2,2,2,2,0,0,0,0,0,0,0,0,0,0,0,0,0,0,0,0,0,0,0,0,0,0,0,0,0,0,0,0,0,0,0,0,0,0,0,0,0,0,0,0,0,0,0,0,0,0,0,0],\"coloraxis\":\"coloraxis\",\"symbol\":\"circle\"},\"mode\":\"markers\",\"name\":\"\",\"scene\":\"scene\",\"showlegend\":false,\"x\":[0.3720136518771331,0.26450511945392485,0.3754266211604095,0.5563139931740614,0.2593856655290102,0.4667235494880546,0.3387372013651877,0.3216723549488054,0.33447098976109213,0.5068259385665529,0.3813993174061433,0.31740614334470985,0.3686006825938566,0.3515358361774744,0.5307167235494881,0.5136518771331058,0.41979522184300344,0.4539249146757679,0.6331058020477814,0.325938566552901,0.37286689419795227,0.27474402730375425,0.21501706484641633,0.22610921501706485,0.1911262798634812,0.1962457337883959,0.30034129692832756,0.22781569965870305,0.27474402730375425,0.29180887372013653,0.37713310580204773,0.4795221843003413,0.21843003412969278,0.3515358361774744,0.2491467576791809,0.325938566552901,0.2832764505119454,0.2534129692832764,0.20648464163822525,0.325938566552901,0.4138225255972696,0.2559726962457338,0.35409556313993173,0.2627986348122867,0.32081911262798635,0.33788395904436863,0.3088737201365188,0.4112627986348123,0.41979522184300344,0.6501706484641638,0.5051194539249146,0.3686006825938566,0.4923208191126279,0.42832764505119447,0.38993174061433444,0.424061433447099,0.4351535836177475,0.40273037542662116,0.4709897610921502,0.057167235494880536,0.1697952218430034,0.3813993174061433,0.21501706484641633,0.2704778156996587,0.1424914675767918,0.2832764505119454,0.3430034129692833,0.2901023890784983,0.16126279863481227,0.13395904436860068,0.15102389078498293,0.17918088737201363,0.2098976109215017,0.1766211604095563,0.16467576791808872,0.21501706484641633,0.2832764505119454,0.11689419795221842,0.18088737201365188,0.1100682593856655,0.10409556313993173,0.22354948805460748,0.07849829351535836,0.30034129692832756,0.15102389078498293,0.1143344709897611,0.09982935153583619,0.11262798634812288,0.1296928327645051,0.03924914675767918,0.09556313993174059,0.1979522184300341,0.15102389078498293,0.07423208191126279,0.16808873720136516,0.11262798634812288,0.10409556313993173,0.13822525597269622,0.27474402730375425,0.08703071672354948,0.17235494880546073,0.09982935153583619,0.1296928327645051,0.06655290102389078,0.14163822525597267,0.12116040955631399,0.18088737201365188,0.17235494880546073,0.12116040955631399,0.11689419795221842,0.13822525597269622,0.06143344709897611,0.21501706484641633,0.15358361774744025,0.13822525597269622,0.052901023890784965,0.057167235494880536,0.06655290102389078,0.18088737201365188,0.0,0.16808873720136516,0.40273037542662116,0.06825938566552903,0.11262798634812288,0.1296928327645051,0.12627986348122863,0.22696245733788392,0.14675767918088736,0.07167235494880547,0.11262798634812288,0.2406143344709897,0.3515358361774744,0.37713310580204773,0.31740614334470985,0.35580204778157,0.4965870307167235,0.21928327645051196,0.31740614334470985,0.37713310580204773,0.31058020477815695,0.2832764505119454,0.3686006825938566,0.26194539249146753,0.2662116040955631,0.5912969283276451,0.23208191126279862,0.3088737201365188,0.5435153583617748,0.6092150170648464,0.6928327645051194,0.6245733788395904,0.8122866894197952,0.4965870307167235,0.78839590443686,0.5392491467576791,0.5648464163822525,0.659556313993174,0.5307167235494881,0.9999999999999999,0.893344709897611,0.5435153583617748,0.39249146757679176,0.36689419795221845,0.341296928327645,0.7081911262798635,0.45563139931740615,0.8020477815699658,0.7662116040955631,0.6296928327645052,0.6160409556313993,0.36006825938566556,0.7354947952218429,0.7184300341296928,0.5477815699658704,0.5136518771331058,0.7610921501706484,0.6843003412969284,0.6757679180887372],\"y\":[0.8421052631578951,0.5710526315789473,0.560526315789474,0.8789473684210525,0.5815789473684214,0.8342105263157893,0.8842105263157896,0.797368421052632,1.0,0.7447368421052629,0.8078947368421052,0.8131578947368419,0.7157894736842105,0.9789473684210526,0.8815789473684212,0.6842105263157898,0.8605263157894738,0.736842105263158,0.831578947368421,0.6868421052631581,0.797368421052632,0.5,0.7052631578947373,0.47894736842105257,0.6499999999999999,0.5315789473684216,0.6210526315789475,0.5973684210526318,0.7473684210526317,0.7868421052631578,0.7105263157894739,0.6710526315789473,0.6973684210526314,0.7184210526315788,0.6526315789473687,0.6447368421052633,0.5921052631578947,0.5315789473684216,0.5368421052631582,0.8394736842105264,0.6657894736842107,0.6263157894736846,0.7500000000000004,0.5815789473684214,0.5315789473684216,0.836842105263158,0.8815789473684212,0.7552631578947371,0.8078947368421052,0.7657894736842104,0.5315789473684216,0.736842105263158,0.7342105263157896,0.7210526315789472,0.7131578947368422,0.6657894736842107,0.8394736842105264,0.594736842105263,0.7078947368421056,0.3526315789473684,0.34210526315789513,0.4236842105263161,0.6947368421052631,0.3526315789473684,0.30000000000000027,0.3526315789473684,0.5473684210526315,0.3526315789473684,0.6078947368421055,0.310526315789474,0.331578947368421,0.7447368421052629,0.6473684210526316,0.5157894736842108,0.2447368421052638,0.1657894736842107,0.5263157894736841,0.2131578947368422,0.34210526315789513,0.43947368421052646,0.2552631578947371,0.44473684210526354,0.2763157894736845,0.5315789473684216,0.2131578947368422,0.43157894736842106,0.29736842105263195,0.1631578947368424,0.16052631578947407,0.2763157894736845,0.2763157894736845,0.2552631578947371,0.43684210526315814,0.331578947368421,0.155263157894737,0.3789473684210529,0.20526315789473726,0.331578947368421,0.3526315789473684,0.331578947368421,0.2763157894736845,0.4131578947368424,0.34473684210526345,0.20789473684210558,0.38947368421052664,0.3657894736842109,0.3210526315789477,0.44473684210526354,0.3131578947368423,0.15263157894736867,0.11315789473684257,0.39210526315789496,0.19210526315789478,0.10000000000000053,0.2763157894736845,0.0,0.20789473684210558,0.3657894736842109,0.45789473684210513,0.2552631578947371,0.1105263157894738,0.13947368421052664,0.3657894736842109,0.5315789473684216,0.2210526315789476,0.2736842105263162,0.3684210526315792,0.20000000000000018,0.3526315789473684,0.26578947368421035,0.4815789473684209,0.4868421052631584,0.4684210526315793,0.43947368421052646,0.38947368421052664,0.4131578947368424,0.3210526315789477,0.3947368421052633,0.6473684210526316,0.47631578947368425,0.5,0.6131578947368421,0.655263157894737,0.6815789473684211,0.3210526315789477,0.560526315789474,0.7500000000000004,0.48421052631578965,0.6026315789473689,0.5394736842105265,0.6499999999999999,0.4631578947368422,0.5473684210526315,0.5789473684210531,0.4078947368421053,0.5631578947368423,0.7394736842105263,0.37368421052631584,0.8710526315789475,0.6447368421052633,0.3500000000000001,0.7000000000000002,0.47894736842105257,0.5078947368421058,0.7236842105263159,0.7105263157894739,0.6368421052631579,0.4710526315789476,0.6710526315789473,0.6236842105263158,0.3078947368421052,0.45789473684210513,0.823684210526316,0.7052631578947373,0.6236842105263158,0.5894736842105264,0.5631578947368423,0.8157894736842106],\"z\":[0.5613409415121255,0.5506419400855921,0.6469329529243938,0.8573466476462198,0.3259629101283881,0.8359486447931527,0.7218259629101285,0.725392296718973,0.5470756062767476,0.5470756062767476,0.8787446504992867,0.7146932952924394,0.7432239657631955,0.6219686162624822,0.9051355206847361,0.7360912981455064,0.7146932952924394,0.6077032810271041,1.0,0.40442225392296727,0.35805991440798857,0.35092724679029963,0.5399429386590585,0.5256776034236805,0.40442225392296727,0.3937232524964337,0.6540656205420827,0.7182596291012839,0.4543509272467904,0.5399429386590585,0.7182596291012839,0.8823109843081313,0.5078459343794579,0.6825962910128388,0.5827389443651926,0.4579172610556348,0.4293865905848788,0.5898716119828816,0.529243937232525,0.3437945791726106,0.36875891583452214,0.5399429386590585,0.5827389443651926,0.2867332382310984,0.43295292439372324,0.5720399429386591,0.5613409415121255,0.5042796005706135,0.557774607703281,0.7004279600570614,0.6219686162624822,0.7039942938659058,0.6504992867332383,0.782453637660485,0.557774607703281,0.6005706134094152,0.4935805991440799,0.7075606276747504,0.7182596291012839,0.17261055634807418,0.2867332382310984,0.12268188302425106,0.2510699001426534,0.10128388017118403,0.054921540656205386,0.2853067047075606,0.15977175463623397,0.1654778887303852,0.33666191155492153,0.31383737517831667,0.4222539229671898,0.09415121255349498,0.13837375178316688,0.5042796005706135,0.4336661911554922,0.10699001426533525,0.08131241084165478,0.15834522111269614,0.33666191155492153,0.1319543509272468,0.0,0.3109843081312411,0.2510699001426534,0.16904422253922965,0.17261055634807418,0.12268188302425106,0.15477888730385161,0.20256776034236804,0.2867332382310984,0.24750356633380885,0.1440798858773181,0.12268188302425106,0.15477888730385161,0.008559201141226797,0.047788873038516394,0.4700427960057062,0.24750356633380885,0.10699001426533525,0.27246790299572043,0.09129814550641938,0.30813124108416545,0.20256776034236804,0.11412268188302424,0.09771754636233951,0.2810271041369472,0.02639087018544936,0.1654778887303852,0.14978601997146931,0.02425106990014264,0.2867332382310984,0.20256776034236804,0.033523537803138354,0.23466476462196864,0.11126961483594863,0.07631954350927247,0.09201141226818829,0.15477888730385161,0.047788873038516394,0.06704707560627673,0.20399429386590587,0.24750356633380885,0.13338088445078458,0.062054208273894434,0.07275320970042795,0.07275320970042795,0.07132667617689017,0.052781740370898694,0.1340941512125535,0.0456490727532097,0.21540656205420824,0.2510699001426534,0.17974322396576317,0.20114122681883026,0.22967189728958629,0.2653352353780314,0.297432239657632,0.3152639087018545,0.16904422253922965,0.21540656205420824,0.2225392296718973,0.22967189728958629,0.35805991440798857,0.17261055634807418,0.1940085592011412,0.4115549215406562,0.3937232524964337,0.09771754636233951,0.24750356633380885,0.2653352353780314,0.1940085592011412,0.15834522111269614,0.1440798858773181,0.1048502139800285,0.2831669044222539,0.25820256776034234,0.318830242510699,0.1440798858773181,0.4293865905848788,0.27246790299572043,0.24393723252496433,0.17261055634807418,0.2867332382310984,0.20827389443651925,0.2831669044222539,0.2403708987161198,0.17261055634807418,0.297432239657632,0.29029957203994294,0.33666191155492153,0.2510699001426534,0.1654778887303852,0.1369472182596291,0.27246790299572043,0.3295292439372326,0.33666191155492153,0.3972895863052782,0.40085592011412274,0.20114122681883026],\"type\":\"scatter3d\"}],                        {\"template\":{\"data\":{\"bar\":[{\"error_x\":{\"color\":\"#2a3f5f\"},\"error_y\":{\"color\":\"#2a3f5f\"},\"marker\":{\"line\":{\"color\":\"#E5ECF6\",\"width\":0.5},\"pattern\":{\"fillmode\":\"overlay\",\"size\":10,\"solidity\":0.2}},\"type\":\"bar\"}],\"barpolar\":[{\"marker\":{\"line\":{\"color\":\"#E5ECF6\",\"width\":0.5},\"pattern\":{\"fillmode\":\"overlay\",\"size\":10,\"solidity\":0.2}},\"type\":\"barpolar\"}],\"carpet\":[{\"aaxis\":{\"endlinecolor\":\"#2a3f5f\",\"gridcolor\":\"white\",\"linecolor\":\"white\",\"minorgridcolor\":\"white\",\"startlinecolor\":\"#2a3f5f\"},\"baxis\":{\"endlinecolor\":\"#2a3f5f\",\"gridcolor\":\"white\",\"linecolor\":\"white\",\"minorgridcolor\":\"white\",\"startlinecolor\":\"#2a3f5f\"},\"type\":\"carpet\"}],\"choropleth\":[{\"colorbar\":{\"outlinewidth\":0,\"ticks\":\"\"},\"type\":\"choropleth\"}],\"contour\":[{\"colorbar\":{\"outlinewidth\":0,\"ticks\":\"\"},\"colorscale\":[[0.0,\"#0d0887\"],[0.1111111111111111,\"#46039f\"],[0.2222222222222222,\"#7201a8\"],[0.3333333333333333,\"#9c179e\"],[0.4444444444444444,\"#bd3786\"],[0.5555555555555556,\"#d8576b\"],[0.6666666666666666,\"#ed7953\"],[0.7777777777777778,\"#fb9f3a\"],[0.8888888888888888,\"#fdca26\"],[1.0,\"#f0f921\"]],\"type\":\"contour\"}],\"contourcarpet\":[{\"colorbar\":{\"outlinewidth\":0,\"ticks\":\"\"},\"type\":\"contourcarpet\"}],\"heatmap\":[{\"colorbar\":{\"outlinewidth\":0,\"ticks\":\"\"},\"colorscale\":[[0.0,\"#0d0887\"],[0.1111111111111111,\"#46039f\"],[0.2222222222222222,\"#7201a8\"],[0.3333333333333333,\"#9c179e\"],[0.4444444444444444,\"#bd3786\"],[0.5555555555555556,\"#d8576b\"],[0.6666666666666666,\"#ed7953\"],[0.7777777777777778,\"#fb9f3a\"],[0.8888888888888888,\"#fdca26\"],[1.0,\"#f0f921\"]],\"type\":\"heatmap\"}],\"heatmapgl\":[{\"colorbar\":{\"outlinewidth\":0,\"ticks\":\"\"},\"colorscale\":[[0.0,\"#0d0887\"],[0.1111111111111111,\"#46039f\"],[0.2222222222222222,\"#7201a8\"],[0.3333333333333333,\"#9c179e\"],[0.4444444444444444,\"#bd3786\"],[0.5555555555555556,\"#d8576b\"],[0.6666666666666666,\"#ed7953\"],[0.7777777777777778,\"#fb9f3a\"],[0.8888888888888888,\"#fdca26\"],[1.0,\"#f0f921\"]],\"type\":\"heatmapgl\"}],\"histogram\":[{\"marker\":{\"pattern\":{\"fillmode\":\"overlay\",\"size\":10,\"solidity\":0.2}},\"type\":\"histogram\"}],\"histogram2d\":[{\"colorbar\":{\"outlinewidth\":0,\"ticks\":\"\"},\"colorscale\":[[0.0,\"#0d0887\"],[0.1111111111111111,\"#46039f\"],[0.2222222222222222,\"#7201a8\"],[0.3333333333333333,\"#9c179e\"],[0.4444444444444444,\"#bd3786\"],[0.5555555555555556,\"#d8576b\"],[0.6666666666666666,\"#ed7953\"],[0.7777777777777778,\"#fb9f3a\"],[0.8888888888888888,\"#fdca26\"],[1.0,\"#f0f921\"]],\"type\":\"histogram2d\"}],\"histogram2dcontour\":[{\"colorbar\":{\"outlinewidth\":0,\"ticks\":\"\"},\"colorscale\":[[0.0,\"#0d0887\"],[0.1111111111111111,\"#46039f\"],[0.2222222222222222,\"#7201a8\"],[0.3333333333333333,\"#9c179e\"],[0.4444444444444444,\"#bd3786\"],[0.5555555555555556,\"#d8576b\"],[0.6666666666666666,\"#ed7953\"],[0.7777777777777778,\"#fb9f3a\"],[0.8888888888888888,\"#fdca26\"],[1.0,\"#f0f921\"]],\"type\":\"histogram2dcontour\"}],\"mesh3d\":[{\"colorbar\":{\"outlinewidth\":0,\"ticks\":\"\"},\"type\":\"mesh3d\"}],\"parcoords\":[{\"line\":{\"colorbar\":{\"outlinewidth\":0,\"ticks\":\"\"}},\"type\":\"parcoords\"}],\"pie\":[{\"automargin\":true,\"type\":\"pie\"}],\"scatter\":[{\"marker\":{\"colorbar\":{\"outlinewidth\":0,\"ticks\":\"\"}},\"type\":\"scatter\"}],\"scatter3d\":[{\"line\":{\"colorbar\":{\"outlinewidth\":0,\"ticks\":\"\"}},\"marker\":{\"colorbar\":{\"outlinewidth\":0,\"ticks\":\"\"}},\"type\":\"scatter3d\"}],\"scattercarpet\":[{\"marker\":{\"colorbar\":{\"outlinewidth\":0,\"ticks\":\"\"}},\"type\":\"scattercarpet\"}],\"scattergeo\":[{\"marker\":{\"colorbar\":{\"outlinewidth\":0,\"ticks\":\"\"}},\"type\":\"scattergeo\"}],\"scattergl\":[{\"marker\":{\"colorbar\":{\"outlinewidth\":0,\"ticks\":\"\"}},\"type\":\"scattergl\"}],\"scattermapbox\":[{\"marker\":{\"colorbar\":{\"outlinewidth\":0,\"ticks\":\"\"}},\"type\":\"scattermapbox\"}],\"scatterpolar\":[{\"marker\":{\"colorbar\":{\"outlinewidth\":0,\"ticks\":\"\"}},\"type\":\"scatterpolar\"}],\"scatterpolargl\":[{\"marker\":{\"colorbar\":{\"outlinewidth\":0,\"ticks\":\"\"}},\"type\":\"scatterpolargl\"}],\"scatterternary\":[{\"marker\":{\"colorbar\":{\"outlinewidth\":0,\"ticks\":\"\"}},\"type\":\"scatterternary\"}],\"surface\":[{\"colorbar\":{\"outlinewidth\":0,\"ticks\":\"\"},\"colorscale\":[[0.0,\"#0d0887\"],[0.1111111111111111,\"#46039f\"],[0.2222222222222222,\"#7201a8\"],[0.3333333333333333,\"#9c179e\"],[0.4444444444444444,\"#bd3786\"],[0.5555555555555556,\"#d8576b\"],[0.6666666666666666,\"#ed7953\"],[0.7777777777777778,\"#fb9f3a\"],[0.8888888888888888,\"#fdca26\"],[1.0,\"#f0f921\"]],\"type\":\"surface\"}],\"table\":[{\"cells\":{\"fill\":{\"color\":\"#EBF0F8\"},\"line\":{\"color\":\"white\"}},\"header\":{\"fill\":{\"color\":\"#C8D4E3\"},\"line\":{\"color\":\"white\"}},\"type\":\"table\"}]},\"layout\":{\"annotationdefaults\":{\"arrowcolor\":\"#2a3f5f\",\"arrowhead\":0,\"arrowwidth\":1},\"autotypenumbers\":\"strict\",\"coloraxis\":{\"colorbar\":{\"outlinewidth\":0,\"ticks\":\"\"}},\"colorscale\":{\"diverging\":[[0,\"#8e0152\"],[0.1,\"#c51b7d\"],[0.2,\"#de77ae\"],[0.3,\"#f1b6da\"],[0.4,\"#fde0ef\"],[0.5,\"#f7f7f7\"],[0.6,\"#e6f5d0\"],[0.7,\"#b8e186\"],[0.8,\"#7fbc41\"],[0.9,\"#4d9221\"],[1,\"#276419\"]],\"sequential\":[[0.0,\"#0d0887\"],[0.1111111111111111,\"#46039f\"],[0.2222222222222222,\"#7201a8\"],[0.3333333333333333,\"#9c179e\"],[0.4444444444444444,\"#bd3786\"],[0.5555555555555556,\"#d8576b\"],[0.6666666666666666,\"#ed7953\"],[0.7777777777777778,\"#fb9f3a\"],[0.8888888888888888,\"#fdca26\"],[1.0,\"#f0f921\"]],\"sequentialminus\":[[0.0,\"#0d0887\"],[0.1111111111111111,\"#46039f\"],[0.2222222222222222,\"#7201a8\"],[0.3333333333333333,\"#9c179e\"],[0.4444444444444444,\"#bd3786\"],[0.5555555555555556,\"#d8576b\"],[0.6666666666666666,\"#ed7953\"],[0.7777777777777778,\"#fb9f3a\"],[0.8888888888888888,\"#fdca26\"],[1.0,\"#f0f921\"]]},\"colorway\":[\"#636efa\",\"#EF553B\",\"#00cc96\",\"#ab63fa\",\"#FFA15A\",\"#19d3f3\",\"#FF6692\",\"#B6E880\",\"#FF97FF\",\"#FECB52\"],\"font\":{\"color\":\"#2a3f5f\"},\"geo\":{\"bgcolor\":\"white\",\"lakecolor\":\"white\",\"landcolor\":\"#E5ECF6\",\"showlakes\":true,\"showland\":true,\"subunitcolor\":\"white\"},\"hoverlabel\":{\"align\":\"left\"},\"hovermode\":\"closest\",\"mapbox\":{\"style\":\"light\"},\"paper_bgcolor\":\"white\",\"plot_bgcolor\":\"#E5ECF6\",\"polar\":{\"angularaxis\":{\"gridcolor\":\"white\",\"linecolor\":\"white\",\"ticks\":\"\"},\"bgcolor\":\"#E5ECF6\",\"radialaxis\":{\"gridcolor\":\"white\",\"linecolor\":\"white\",\"ticks\":\"\"}},\"scene\":{\"xaxis\":{\"backgroundcolor\":\"#E5ECF6\",\"gridcolor\":\"white\",\"gridwidth\":2,\"linecolor\":\"white\",\"showbackground\":true,\"ticks\":\"\",\"zerolinecolor\":\"white\"},\"yaxis\":{\"backgroundcolor\":\"#E5ECF6\",\"gridcolor\":\"white\",\"gridwidth\":2,\"linecolor\":\"white\",\"showbackground\":true,\"ticks\":\"\",\"zerolinecolor\":\"white\"},\"zaxis\":{\"backgroundcolor\":\"#E5ECF6\",\"gridcolor\":\"white\",\"gridwidth\":2,\"linecolor\":\"white\",\"showbackground\":true,\"ticks\":\"\",\"zerolinecolor\":\"white\"}},\"shapedefaults\":{\"line\":{\"color\":\"#2a3f5f\"}},\"ternary\":{\"aaxis\":{\"gridcolor\":\"white\",\"linecolor\":\"white\",\"ticks\":\"\"},\"baxis\":{\"gridcolor\":\"white\",\"linecolor\":\"white\",\"ticks\":\"\"},\"bgcolor\":\"#E5ECF6\",\"caxis\":{\"gridcolor\":\"white\",\"linecolor\":\"white\",\"ticks\":\"\"}},\"title\":{\"x\":0.05},\"xaxis\":{\"automargin\":true,\"gridcolor\":\"white\",\"linecolor\":\"white\",\"ticks\":\"\",\"title\":{\"standoff\":15},\"zerolinecolor\":\"white\",\"zerolinewidth\":2},\"yaxis\":{\"automargin\":true,\"gridcolor\":\"white\",\"linecolor\":\"white\",\"ticks\":\"\",\"title\":{\"standoff\":15},\"zerolinecolor\":\"white\",\"zerolinewidth\":2}}},\"scene\":{\"domain\":{\"x\":[0.0,1.0],\"y\":[0.0,1.0]},\"xaxis\":{\"title\":{\"text\":\"Intensidade_de_cor\"}},\"yaxis\":{\"title\":{\"text\":\"Alcool\"}},\"zaxis\":{\"title\":{\"text\":\"Proline\"}}},\"coloraxis\":{\"colorbar\":{\"title\":{\"text\":\"labels\"}},\"colorscale\":[[0.0,\"#0d0887\"],[0.1111111111111111,\"#46039f\"],[0.2222222222222222,\"#7201a8\"],[0.3333333333333333,\"#9c179e\"],[0.4444444444444444,\"#bd3786\"],[0.5555555555555556,\"#d8576b\"],[0.6666666666666666,\"#ed7953\"],[0.7777777777777778,\"#fb9f3a\"],[0.8888888888888888,\"#fdca26\"],[1.0,\"#f0f921\"]]},\"legend\":{\"tracegroupgap\":0},\"margin\":{\"t\":60},\"height\":800,\"width\":800},                        {\"responsive\": true}                    ).then(function(){\n",
              "                            \n",
              "var gd = document.getElementById('dd03fbb4-9721-4641-ae70-8c4ca34dc1cc');\n",
              "var x = new MutationObserver(function (mutations, observer) {{\n",
              "        var display = window.getComputedStyle(gd).display;\n",
              "        if (!display || display === 'none') {{\n",
              "            console.log([gd, 'removed!']);\n",
              "            Plotly.purge(gd);\n",
              "            observer.disconnect();\n",
              "        }}\n",
              "}});\n",
              "\n",
              "// Listen for the removal of the full notebook cells\n",
              "var notebookContainer = gd.closest('#notebook-container');\n",
              "if (notebookContainer) {{\n",
              "    x.observe(notebookContainer, {childList: true});\n",
              "}}\n",
              "\n",
              "// Listen for the clearing of the current output cell\n",
              "var outputEl = gd.closest('.output');\n",
              "if (outputEl) {{\n",
              "    x.observe(outputEl, {childList: true});\n",
              "}}\n",
              "\n",
              "                        })                };                            </script>        </div>\n",
              "</body>\n",
              "</html>"
            ]
          },
          "metadata": {}
        }
      ]
    },
    {
      "cell_type": "markdown",
      "metadata": {
        "id": "LOV7iRyjtc6e"
      },
      "source": [
        "Já temos o gráfico 3D, mas não sabemos onde estão os centróides. Vamos adicioná-los."
      ]
    },
    {
      "cell_type": "code",
      "metadata": {
        "colab": {
          "base_uri": "https://localhost:8080/",
          "height": 207
        },
        "id": "k2Wp34cxfQah",
        "outputId": "d7d7a9fa-5b77-4664-afa1-dcd47a81962e"
      },
      "source": [
        "df_normalized.drop('labels', axis=1, inplace=True)\n",
        "centros = pd.DataFrame(agrupador.cluster_centers_)\n",
        "centros.columns = df_normalized.columns\n",
        "centros.head()"
      ],
      "execution_count": 23,
      "outputs": [
        {
          "output_type": "execute_result",
          "data": {
            "text/plain": [
              "     Alcool  Malic_Acid        Po  Alcalinidade_po  Magnesio  Total_Phenols  \\\n",
              "0  0.558324    0.514721  0.574703         0.558700  0.315439       0.240746   \n",
              "1  0.711096    0.250000  0.587166         0.342955  0.400906       0.644080   \n",
              "2  0.322960    0.230939  0.469813         0.487823  0.261342       0.438831   \n",
              "\n",
              "   Flavanoids  Nonflavanoid_Phenols  Proanthocyanins  Intensidade_de_cor  \\\n",
              "0    0.096616              0.605314         0.237559            0.517343   \n",
              "1    0.557138              0.299371         0.470137            0.359386   \n",
              "2    0.366294              0.438337         0.383486            0.151704   \n",
              "\n",
              "        Hue     OD280   Proline  Customer_Segment  \n",
              "0  0.167413  0.153921  0.249323          0.989796  \n",
              "1  0.476558  0.693590  0.595958          0.008333  \n",
              "2  0.468081  0.555396  0.167494          0.500000  "
            ],
            "text/html": [
              "\n",
              "  <div id=\"df-8aa10128-4941-4c38-8224-1f375c20a87f\">\n",
              "    <div class=\"colab-df-container\">\n",
              "      <div>\n",
              "<style scoped>\n",
              "    .dataframe tbody tr th:only-of-type {\n",
              "        vertical-align: middle;\n",
              "    }\n",
              "\n",
              "    .dataframe tbody tr th {\n",
              "        vertical-align: top;\n",
              "    }\n",
              "\n",
              "    .dataframe thead th {\n",
              "        text-align: right;\n",
              "    }\n",
              "</style>\n",
              "<table border=\"1\" class=\"dataframe\">\n",
              "  <thead>\n",
              "    <tr style=\"text-align: right;\">\n",
              "      <th></th>\n",
              "      <th>Alcool</th>\n",
              "      <th>Malic_Acid</th>\n",
              "      <th>Po</th>\n",
              "      <th>Alcalinidade_po</th>\n",
              "      <th>Magnesio</th>\n",
              "      <th>Total_Phenols</th>\n",
              "      <th>Flavanoids</th>\n",
              "      <th>Nonflavanoid_Phenols</th>\n",
              "      <th>Proanthocyanins</th>\n",
              "      <th>Intensidade_de_cor</th>\n",
              "      <th>Hue</th>\n",
              "      <th>OD280</th>\n",
              "      <th>Proline</th>\n",
              "      <th>Customer_Segment</th>\n",
              "    </tr>\n",
              "  </thead>\n",
              "  <tbody>\n",
              "    <tr>\n",
              "      <th>0</th>\n",
              "      <td>0.558324</td>\n",
              "      <td>0.514721</td>\n",
              "      <td>0.574703</td>\n",
              "      <td>0.558700</td>\n",
              "      <td>0.315439</td>\n",
              "      <td>0.240746</td>\n",
              "      <td>0.096616</td>\n",
              "      <td>0.605314</td>\n",
              "      <td>0.237559</td>\n",
              "      <td>0.517343</td>\n",
              "      <td>0.167413</td>\n",
              "      <td>0.153921</td>\n",
              "      <td>0.249323</td>\n",
              "      <td>0.989796</td>\n",
              "    </tr>\n",
              "    <tr>\n",
              "      <th>1</th>\n",
              "      <td>0.711096</td>\n",
              "      <td>0.250000</td>\n",
              "      <td>0.587166</td>\n",
              "      <td>0.342955</td>\n",
              "      <td>0.400906</td>\n",
              "      <td>0.644080</td>\n",
              "      <td>0.557138</td>\n",
              "      <td>0.299371</td>\n",
              "      <td>0.470137</td>\n",
              "      <td>0.359386</td>\n",
              "      <td>0.476558</td>\n",
              "      <td>0.693590</td>\n",
              "      <td>0.595958</td>\n",
              "      <td>0.008333</td>\n",
              "    </tr>\n",
              "    <tr>\n",
              "      <th>2</th>\n",
              "      <td>0.322960</td>\n",
              "      <td>0.230939</td>\n",
              "      <td>0.469813</td>\n",
              "      <td>0.487823</td>\n",
              "      <td>0.261342</td>\n",
              "      <td>0.438831</td>\n",
              "      <td>0.366294</td>\n",
              "      <td>0.438337</td>\n",
              "      <td>0.383486</td>\n",
              "      <td>0.151704</td>\n",
              "      <td>0.468081</td>\n",
              "      <td>0.555396</td>\n",
              "      <td>0.167494</td>\n",
              "      <td>0.500000</td>\n",
              "    </tr>\n",
              "  </tbody>\n",
              "</table>\n",
              "</div>\n",
              "      <button class=\"colab-df-convert\" onclick=\"convertToInteractive('df-8aa10128-4941-4c38-8224-1f375c20a87f')\"\n",
              "              title=\"Convert this dataframe to an interactive table.\"\n",
              "              style=\"display:none;\">\n",
              "        \n",
              "  <svg xmlns=\"http://www.w3.org/2000/svg\" height=\"24px\"viewBox=\"0 0 24 24\"\n",
              "       width=\"24px\">\n",
              "    <path d=\"M0 0h24v24H0V0z\" fill=\"none\"/>\n",
              "    <path d=\"M18.56 5.44l.94 2.06.94-2.06 2.06-.94-2.06-.94-.94-2.06-.94 2.06-2.06.94zm-11 1L8.5 8.5l.94-2.06 2.06-.94-2.06-.94L8.5 2.5l-.94 2.06-2.06.94zm10 10l.94 2.06.94-2.06 2.06-.94-2.06-.94-.94-2.06-.94 2.06-2.06.94z\"/><path d=\"M17.41 7.96l-1.37-1.37c-.4-.4-.92-.59-1.43-.59-.52 0-1.04.2-1.43.59L10.3 9.45l-7.72 7.72c-.78.78-.78 2.05 0 2.83L4 21.41c.39.39.9.59 1.41.59.51 0 1.02-.2 1.41-.59l7.78-7.78 2.81-2.81c.8-.78.8-2.07 0-2.86zM5.41 20L4 18.59l7.72-7.72 1.47 1.35L5.41 20z\"/>\n",
              "  </svg>\n",
              "      </button>\n",
              "      \n",
              "  <style>\n",
              "    .colab-df-container {\n",
              "      display:flex;\n",
              "      flex-wrap:wrap;\n",
              "      gap: 12px;\n",
              "    }\n",
              "\n",
              "    .colab-df-convert {\n",
              "      background-color: #E8F0FE;\n",
              "      border: none;\n",
              "      border-radius: 50%;\n",
              "      cursor: pointer;\n",
              "      display: none;\n",
              "      fill: #1967D2;\n",
              "      height: 32px;\n",
              "      padding: 0 0 0 0;\n",
              "      width: 32px;\n",
              "    }\n",
              "\n",
              "    .colab-df-convert:hover {\n",
              "      background-color: #E2EBFA;\n",
              "      box-shadow: 0px 1px 2px rgba(60, 64, 67, 0.3), 0px 1px 3px 1px rgba(60, 64, 67, 0.15);\n",
              "      fill: #174EA6;\n",
              "    }\n",
              "\n",
              "    [theme=dark] .colab-df-convert {\n",
              "      background-color: #3B4455;\n",
              "      fill: #D2E3FC;\n",
              "    }\n",
              "\n",
              "    [theme=dark] .colab-df-convert:hover {\n",
              "      background-color: #434B5C;\n",
              "      box-shadow: 0px 1px 3px 1px rgba(0, 0, 0, 0.15);\n",
              "      filter: drop-shadow(0px 1px 2px rgba(0, 0, 0, 0.3));\n",
              "      fill: #FFFFFF;\n",
              "    }\n",
              "  </style>\n",
              "\n",
              "      <script>\n",
              "        const buttonEl =\n",
              "          document.querySelector('#df-8aa10128-4941-4c38-8224-1f375c20a87f button.colab-df-convert');\n",
              "        buttonEl.style.display =\n",
              "          google.colab.kernel.accessAllowed ? 'block' : 'none';\n",
              "\n",
              "        async function convertToInteractive(key) {\n",
              "          const element = document.querySelector('#df-8aa10128-4941-4c38-8224-1f375c20a87f');\n",
              "          const dataTable =\n",
              "            await google.colab.kernel.invokeFunction('convertToInteractive',\n",
              "                                                     [key], {});\n",
              "          if (!dataTable) return;\n",
              "\n",
              "          const docLinkHtml = 'Like what you see? Visit the ' +\n",
              "            '<a target=\"_blank\" href=https://colab.research.google.com/notebooks/data_table.ipynb>data table notebook</a>'\n",
              "            + ' to learn more about interactive tables.';\n",
              "          element.innerHTML = '';\n",
              "          dataTable['output_type'] = 'display_data';\n",
              "          await google.colab.output.renderOutput(dataTable, element);\n",
              "          const docLink = document.createElement('div');\n",
              "          docLink.innerHTML = docLinkHtml;\n",
              "          element.appendChild(docLink);\n",
              "        }\n",
              "      </script>\n",
              "    </div>\n",
              "  </div>\n",
              "  "
            ]
          },
          "metadata": {},
          "execution_count": 23
        }
      ]
    },
    {
      "cell_type": "code",
      "metadata": {
        "colab": {
          "base_uri": "https://localhost:8080/",
          "height": 817
        },
        "id": "QgSRI9eJhp_D",
        "outputId": "c5544a84-57d4-4faf-cb99-1f9eddafa1c9"
      },
      "source": [
        "df_normalized['labels'] = labels\n",
        "fig.add_trace(go.Scatter3d(x=centros.Intensidade_de_cor, \n",
        "                           y=centros.Alcool, \n",
        "                           z=centros.Proline, \n",
        "                           mode='markers',\n",
        "                           marker=dict(color='cyan'),\n",
        "                           text=[0,1,2]))\n",
        "df_normalized.drop('labels', axis=1, inplace=True)\n",
        "fig.show()"
      ],
      "execution_count": 24,
      "outputs": [
        {
          "output_type": "display_data",
          "data": {
            "text/html": [
              "<html>\n",
              "<head><meta charset=\"utf-8\" /></head>\n",
              "<body>\n",
              "    <div>            <script src=\"https://cdnjs.cloudflare.com/ajax/libs/mathjax/2.7.5/MathJax.js?config=TeX-AMS-MML_SVG\"></script><script type=\"text/javascript\">if (window.MathJax) {MathJax.Hub.Config({SVG: {font: \"STIX-Web\"}});}</script>                <script type=\"text/javascript\">window.PlotlyConfig = {MathJaxConfig: 'local'};</script>\n",
              "        <script src=\"https://cdn.plot.ly/plotly-2.8.3.min.js\"></script>                <div id=\"2b8d82e2-692a-4651-96ec-974653abb43f\" class=\"plotly-graph-div\" style=\"height:800px; width:800px;\"></div>            <script type=\"text/javascript\">                                    window.PLOTLYENV=window.PLOTLYENV || {};                                    if (document.getElementById(\"2b8d82e2-692a-4651-96ec-974653abb43f\")) {                    Plotly.newPlot(                        \"2b8d82e2-692a-4651-96ec-974653abb43f\",                        [{\"hovertemplate\":\"Intensidade_de_cor=%{x}<br>Alcool=%{y}<br>Proline=%{z}<br>labels=%{marker.color}<extra></extra>\",\"legendgroup\":\"\",\"marker\":{\"color\":[1,1,1,1,1,1,1,1,1,1,1,1,1,1,1,1,1,1,1,1,1,1,1,1,1,1,1,1,1,1,1,1,1,1,1,1,1,1,1,1,1,1,1,1,1,1,1,1,1,1,1,1,1,1,1,1,1,1,1,2,2,2,2,2,2,2,2,2,2,2,2,2,2,1,2,2,2,2,2,2,2,2,2,0,2,2,2,2,2,2,2,2,2,2,2,2,2,2,2,2,2,2,2,2,2,2,2,2,2,2,2,2,2,2,2,2,2,2,2,2,2,2,2,2,2,2,2,2,2,2,0,0,0,0,0,0,0,0,0,0,0,0,0,0,0,0,0,0,0,0,0,0,0,0,0,0,0,0,0,0,0,0,0,0,0,0,0,0,0,0,0,0,0,0,0,0,0,0],\"coloraxis\":\"coloraxis\",\"symbol\":\"circle\"},\"mode\":\"markers\",\"name\":\"\",\"scene\":\"scene\",\"showlegend\":false,\"x\":[0.3720136518771331,0.26450511945392485,0.3754266211604095,0.5563139931740614,0.2593856655290102,0.4667235494880546,0.3387372013651877,0.3216723549488054,0.33447098976109213,0.5068259385665529,0.3813993174061433,0.31740614334470985,0.3686006825938566,0.3515358361774744,0.5307167235494881,0.5136518771331058,0.41979522184300344,0.4539249146757679,0.6331058020477814,0.325938566552901,0.37286689419795227,0.27474402730375425,0.21501706484641633,0.22610921501706485,0.1911262798634812,0.1962457337883959,0.30034129692832756,0.22781569965870305,0.27474402730375425,0.29180887372013653,0.37713310580204773,0.4795221843003413,0.21843003412969278,0.3515358361774744,0.2491467576791809,0.325938566552901,0.2832764505119454,0.2534129692832764,0.20648464163822525,0.325938566552901,0.4138225255972696,0.2559726962457338,0.35409556313993173,0.2627986348122867,0.32081911262798635,0.33788395904436863,0.3088737201365188,0.4112627986348123,0.41979522184300344,0.6501706484641638,0.5051194539249146,0.3686006825938566,0.4923208191126279,0.42832764505119447,0.38993174061433444,0.424061433447099,0.4351535836177475,0.40273037542662116,0.4709897610921502,0.057167235494880536,0.1697952218430034,0.3813993174061433,0.21501706484641633,0.2704778156996587,0.1424914675767918,0.2832764505119454,0.3430034129692833,0.2901023890784983,0.16126279863481227,0.13395904436860068,0.15102389078498293,0.17918088737201363,0.2098976109215017,0.1766211604095563,0.16467576791808872,0.21501706484641633,0.2832764505119454,0.11689419795221842,0.18088737201365188,0.1100682593856655,0.10409556313993173,0.22354948805460748,0.07849829351535836,0.30034129692832756,0.15102389078498293,0.1143344709897611,0.09982935153583619,0.11262798634812288,0.1296928327645051,0.03924914675767918,0.09556313993174059,0.1979522184300341,0.15102389078498293,0.07423208191126279,0.16808873720136516,0.11262798634812288,0.10409556313993173,0.13822525597269622,0.27474402730375425,0.08703071672354948,0.17235494880546073,0.09982935153583619,0.1296928327645051,0.06655290102389078,0.14163822525597267,0.12116040955631399,0.18088737201365188,0.17235494880546073,0.12116040955631399,0.11689419795221842,0.13822525597269622,0.06143344709897611,0.21501706484641633,0.15358361774744025,0.13822525597269622,0.052901023890784965,0.057167235494880536,0.06655290102389078,0.18088737201365188,0.0,0.16808873720136516,0.40273037542662116,0.06825938566552903,0.11262798634812288,0.1296928327645051,0.12627986348122863,0.22696245733788392,0.14675767918088736,0.07167235494880547,0.11262798634812288,0.2406143344709897,0.3515358361774744,0.37713310580204773,0.31740614334470985,0.35580204778157,0.4965870307167235,0.21928327645051196,0.31740614334470985,0.37713310580204773,0.31058020477815695,0.2832764505119454,0.3686006825938566,0.26194539249146753,0.2662116040955631,0.5912969283276451,0.23208191126279862,0.3088737201365188,0.5435153583617748,0.6092150170648464,0.6928327645051194,0.6245733788395904,0.8122866894197952,0.4965870307167235,0.78839590443686,0.5392491467576791,0.5648464163822525,0.659556313993174,0.5307167235494881,0.9999999999999999,0.893344709897611,0.5435153583617748,0.39249146757679176,0.36689419795221845,0.341296928327645,0.7081911262798635,0.45563139931740615,0.8020477815699658,0.7662116040955631,0.6296928327645052,0.6160409556313993,0.36006825938566556,0.7354947952218429,0.7184300341296928,0.5477815699658704,0.5136518771331058,0.7610921501706484,0.6843003412969284,0.6757679180887372],\"y\":[0.8421052631578951,0.5710526315789473,0.560526315789474,0.8789473684210525,0.5815789473684214,0.8342105263157893,0.8842105263157896,0.797368421052632,1.0,0.7447368421052629,0.8078947368421052,0.8131578947368419,0.7157894736842105,0.9789473684210526,0.8815789473684212,0.6842105263157898,0.8605263157894738,0.736842105263158,0.831578947368421,0.6868421052631581,0.797368421052632,0.5,0.7052631578947373,0.47894736842105257,0.6499999999999999,0.5315789473684216,0.6210526315789475,0.5973684210526318,0.7473684210526317,0.7868421052631578,0.7105263157894739,0.6710526315789473,0.6973684210526314,0.7184210526315788,0.6526315789473687,0.6447368421052633,0.5921052631578947,0.5315789473684216,0.5368421052631582,0.8394736842105264,0.6657894736842107,0.6263157894736846,0.7500000000000004,0.5815789473684214,0.5315789473684216,0.836842105263158,0.8815789473684212,0.7552631578947371,0.8078947368421052,0.7657894736842104,0.5315789473684216,0.736842105263158,0.7342105263157896,0.7210526315789472,0.7131578947368422,0.6657894736842107,0.8394736842105264,0.594736842105263,0.7078947368421056,0.3526315789473684,0.34210526315789513,0.4236842105263161,0.6947368421052631,0.3526315789473684,0.30000000000000027,0.3526315789473684,0.5473684210526315,0.3526315789473684,0.6078947368421055,0.310526315789474,0.331578947368421,0.7447368421052629,0.6473684210526316,0.5157894736842108,0.2447368421052638,0.1657894736842107,0.5263157894736841,0.2131578947368422,0.34210526315789513,0.43947368421052646,0.2552631578947371,0.44473684210526354,0.2763157894736845,0.5315789473684216,0.2131578947368422,0.43157894736842106,0.29736842105263195,0.1631578947368424,0.16052631578947407,0.2763157894736845,0.2763157894736845,0.2552631578947371,0.43684210526315814,0.331578947368421,0.155263157894737,0.3789473684210529,0.20526315789473726,0.331578947368421,0.3526315789473684,0.331578947368421,0.2763157894736845,0.4131578947368424,0.34473684210526345,0.20789473684210558,0.38947368421052664,0.3657894736842109,0.3210526315789477,0.44473684210526354,0.3131578947368423,0.15263157894736867,0.11315789473684257,0.39210526315789496,0.19210526315789478,0.10000000000000053,0.2763157894736845,0.0,0.20789473684210558,0.3657894736842109,0.45789473684210513,0.2552631578947371,0.1105263157894738,0.13947368421052664,0.3657894736842109,0.5315789473684216,0.2210526315789476,0.2736842105263162,0.3684210526315792,0.20000000000000018,0.3526315789473684,0.26578947368421035,0.4815789473684209,0.4868421052631584,0.4684210526315793,0.43947368421052646,0.38947368421052664,0.4131578947368424,0.3210526315789477,0.3947368421052633,0.6473684210526316,0.47631578947368425,0.5,0.6131578947368421,0.655263157894737,0.6815789473684211,0.3210526315789477,0.560526315789474,0.7500000000000004,0.48421052631578965,0.6026315789473689,0.5394736842105265,0.6499999999999999,0.4631578947368422,0.5473684210526315,0.5789473684210531,0.4078947368421053,0.5631578947368423,0.7394736842105263,0.37368421052631584,0.8710526315789475,0.6447368421052633,0.3500000000000001,0.7000000000000002,0.47894736842105257,0.5078947368421058,0.7236842105263159,0.7105263157894739,0.6368421052631579,0.4710526315789476,0.6710526315789473,0.6236842105263158,0.3078947368421052,0.45789473684210513,0.823684210526316,0.7052631578947373,0.6236842105263158,0.5894736842105264,0.5631578947368423,0.8157894736842106],\"z\":[0.5613409415121255,0.5506419400855921,0.6469329529243938,0.8573466476462198,0.3259629101283881,0.8359486447931527,0.7218259629101285,0.725392296718973,0.5470756062767476,0.5470756062767476,0.8787446504992867,0.7146932952924394,0.7432239657631955,0.6219686162624822,0.9051355206847361,0.7360912981455064,0.7146932952924394,0.6077032810271041,1.0,0.40442225392296727,0.35805991440798857,0.35092724679029963,0.5399429386590585,0.5256776034236805,0.40442225392296727,0.3937232524964337,0.6540656205420827,0.7182596291012839,0.4543509272467904,0.5399429386590585,0.7182596291012839,0.8823109843081313,0.5078459343794579,0.6825962910128388,0.5827389443651926,0.4579172610556348,0.4293865905848788,0.5898716119828816,0.529243937232525,0.3437945791726106,0.36875891583452214,0.5399429386590585,0.5827389443651926,0.2867332382310984,0.43295292439372324,0.5720399429386591,0.5613409415121255,0.5042796005706135,0.557774607703281,0.7004279600570614,0.6219686162624822,0.7039942938659058,0.6504992867332383,0.782453637660485,0.557774607703281,0.6005706134094152,0.4935805991440799,0.7075606276747504,0.7182596291012839,0.17261055634807418,0.2867332382310984,0.12268188302425106,0.2510699001426534,0.10128388017118403,0.054921540656205386,0.2853067047075606,0.15977175463623397,0.1654778887303852,0.33666191155492153,0.31383737517831667,0.4222539229671898,0.09415121255349498,0.13837375178316688,0.5042796005706135,0.4336661911554922,0.10699001426533525,0.08131241084165478,0.15834522111269614,0.33666191155492153,0.1319543509272468,0.0,0.3109843081312411,0.2510699001426534,0.16904422253922965,0.17261055634807418,0.12268188302425106,0.15477888730385161,0.20256776034236804,0.2867332382310984,0.24750356633380885,0.1440798858773181,0.12268188302425106,0.15477888730385161,0.008559201141226797,0.047788873038516394,0.4700427960057062,0.24750356633380885,0.10699001426533525,0.27246790299572043,0.09129814550641938,0.30813124108416545,0.20256776034236804,0.11412268188302424,0.09771754636233951,0.2810271041369472,0.02639087018544936,0.1654778887303852,0.14978601997146931,0.02425106990014264,0.2867332382310984,0.20256776034236804,0.033523537803138354,0.23466476462196864,0.11126961483594863,0.07631954350927247,0.09201141226818829,0.15477888730385161,0.047788873038516394,0.06704707560627673,0.20399429386590587,0.24750356633380885,0.13338088445078458,0.062054208273894434,0.07275320970042795,0.07275320970042795,0.07132667617689017,0.052781740370898694,0.1340941512125535,0.0456490727532097,0.21540656205420824,0.2510699001426534,0.17974322396576317,0.20114122681883026,0.22967189728958629,0.2653352353780314,0.297432239657632,0.3152639087018545,0.16904422253922965,0.21540656205420824,0.2225392296718973,0.22967189728958629,0.35805991440798857,0.17261055634807418,0.1940085592011412,0.4115549215406562,0.3937232524964337,0.09771754636233951,0.24750356633380885,0.2653352353780314,0.1940085592011412,0.15834522111269614,0.1440798858773181,0.1048502139800285,0.2831669044222539,0.25820256776034234,0.318830242510699,0.1440798858773181,0.4293865905848788,0.27246790299572043,0.24393723252496433,0.17261055634807418,0.2867332382310984,0.20827389443651925,0.2831669044222539,0.2403708987161198,0.17261055634807418,0.297432239657632,0.29029957203994294,0.33666191155492153,0.2510699001426534,0.1654778887303852,0.1369472182596291,0.27246790299572043,0.3295292439372326,0.33666191155492153,0.3972895863052782,0.40085592011412274,0.20114122681883026],\"type\":\"scatter3d\"},{\"marker\":{\"color\":\"cyan\"},\"mode\":\"markers\",\"text\":[\"0\",\"1\",\"2\"],\"x\":[0.5173434544124818,0.3593856655290102,0.15170401147549095],\"y\":[0.5583243823845329,0.7110964912280704,0.32295957284515664],\"z\":[0.24932312439954585,0.5959581550166431,0.1674936426223408],\"type\":\"scatter3d\"}],                        {\"template\":{\"data\":{\"bar\":[{\"error_x\":{\"color\":\"#2a3f5f\"},\"error_y\":{\"color\":\"#2a3f5f\"},\"marker\":{\"line\":{\"color\":\"#E5ECF6\",\"width\":0.5},\"pattern\":{\"fillmode\":\"overlay\",\"size\":10,\"solidity\":0.2}},\"type\":\"bar\"}],\"barpolar\":[{\"marker\":{\"line\":{\"color\":\"#E5ECF6\",\"width\":0.5},\"pattern\":{\"fillmode\":\"overlay\",\"size\":10,\"solidity\":0.2}},\"type\":\"barpolar\"}],\"carpet\":[{\"aaxis\":{\"endlinecolor\":\"#2a3f5f\",\"gridcolor\":\"white\",\"linecolor\":\"white\",\"minorgridcolor\":\"white\",\"startlinecolor\":\"#2a3f5f\"},\"baxis\":{\"endlinecolor\":\"#2a3f5f\",\"gridcolor\":\"white\",\"linecolor\":\"white\",\"minorgridcolor\":\"white\",\"startlinecolor\":\"#2a3f5f\"},\"type\":\"carpet\"}],\"choropleth\":[{\"colorbar\":{\"outlinewidth\":0,\"ticks\":\"\"},\"type\":\"choropleth\"}],\"contour\":[{\"colorbar\":{\"outlinewidth\":0,\"ticks\":\"\"},\"colorscale\":[[0.0,\"#0d0887\"],[0.1111111111111111,\"#46039f\"],[0.2222222222222222,\"#7201a8\"],[0.3333333333333333,\"#9c179e\"],[0.4444444444444444,\"#bd3786\"],[0.5555555555555556,\"#d8576b\"],[0.6666666666666666,\"#ed7953\"],[0.7777777777777778,\"#fb9f3a\"],[0.8888888888888888,\"#fdca26\"],[1.0,\"#f0f921\"]],\"type\":\"contour\"}],\"contourcarpet\":[{\"colorbar\":{\"outlinewidth\":0,\"ticks\":\"\"},\"type\":\"contourcarpet\"}],\"heatmap\":[{\"colorbar\":{\"outlinewidth\":0,\"ticks\":\"\"},\"colorscale\":[[0.0,\"#0d0887\"],[0.1111111111111111,\"#46039f\"],[0.2222222222222222,\"#7201a8\"],[0.3333333333333333,\"#9c179e\"],[0.4444444444444444,\"#bd3786\"],[0.5555555555555556,\"#d8576b\"],[0.6666666666666666,\"#ed7953\"],[0.7777777777777778,\"#fb9f3a\"],[0.8888888888888888,\"#fdca26\"],[1.0,\"#f0f921\"]],\"type\":\"heatmap\"}],\"heatmapgl\":[{\"colorbar\":{\"outlinewidth\":0,\"ticks\":\"\"},\"colorscale\":[[0.0,\"#0d0887\"],[0.1111111111111111,\"#46039f\"],[0.2222222222222222,\"#7201a8\"],[0.3333333333333333,\"#9c179e\"],[0.4444444444444444,\"#bd3786\"],[0.5555555555555556,\"#d8576b\"],[0.6666666666666666,\"#ed7953\"],[0.7777777777777778,\"#fb9f3a\"],[0.8888888888888888,\"#fdca26\"],[1.0,\"#f0f921\"]],\"type\":\"heatmapgl\"}],\"histogram\":[{\"marker\":{\"pattern\":{\"fillmode\":\"overlay\",\"size\":10,\"solidity\":0.2}},\"type\":\"histogram\"}],\"histogram2d\":[{\"colorbar\":{\"outlinewidth\":0,\"ticks\":\"\"},\"colorscale\":[[0.0,\"#0d0887\"],[0.1111111111111111,\"#46039f\"],[0.2222222222222222,\"#7201a8\"],[0.3333333333333333,\"#9c179e\"],[0.4444444444444444,\"#bd3786\"],[0.5555555555555556,\"#d8576b\"],[0.6666666666666666,\"#ed7953\"],[0.7777777777777778,\"#fb9f3a\"],[0.8888888888888888,\"#fdca26\"],[1.0,\"#f0f921\"]],\"type\":\"histogram2d\"}],\"histogram2dcontour\":[{\"colorbar\":{\"outlinewidth\":0,\"ticks\":\"\"},\"colorscale\":[[0.0,\"#0d0887\"],[0.1111111111111111,\"#46039f\"],[0.2222222222222222,\"#7201a8\"],[0.3333333333333333,\"#9c179e\"],[0.4444444444444444,\"#bd3786\"],[0.5555555555555556,\"#d8576b\"],[0.6666666666666666,\"#ed7953\"],[0.7777777777777778,\"#fb9f3a\"],[0.8888888888888888,\"#fdca26\"],[1.0,\"#f0f921\"]],\"type\":\"histogram2dcontour\"}],\"mesh3d\":[{\"colorbar\":{\"outlinewidth\":0,\"ticks\":\"\"},\"type\":\"mesh3d\"}],\"parcoords\":[{\"line\":{\"colorbar\":{\"outlinewidth\":0,\"ticks\":\"\"}},\"type\":\"parcoords\"}],\"pie\":[{\"automargin\":true,\"type\":\"pie\"}],\"scatter\":[{\"marker\":{\"colorbar\":{\"outlinewidth\":0,\"ticks\":\"\"}},\"type\":\"scatter\"}],\"scatter3d\":[{\"line\":{\"colorbar\":{\"outlinewidth\":0,\"ticks\":\"\"}},\"marker\":{\"colorbar\":{\"outlinewidth\":0,\"ticks\":\"\"}},\"type\":\"scatter3d\"}],\"scattercarpet\":[{\"marker\":{\"colorbar\":{\"outlinewidth\":0,\"ticks\":\"\"}},\"type\":\"scattercarpet\"}],\"scattergeo\":[{\"marker\":{\"colorbar\":{\"outlinewidth\":0,\"ticks\":\"\"}},\"type\":\"scattergeo\"}],\"scattergl\":[{\"marker\":{\"colorbar\":{\"outlinewidth\":0,\"ticks\":\"\"}},\"type\":\"scattergl\"}],\"scattermapbox\":[{\"marker\":{\"colorbar\":{\"outlinewidth\":0,\"ticks\":\"\"}},\"type\":\"scattermapbox\"}],\"scatterpolar\":[{\"marker\":{\"colorbar\":{\"outlinewidth\":0,\"ticks\":\"\"}},\"type\":\"scatterpolar\"}],\"scatterpolargl\":[{\"marker\":{\"colorbar\":{\"outlinewidth\":0,\"ticks\":\"\"}},\"type\":\"scatterpolargl\"}],\"scatterternary\":[{\"marker\":{\"colorbar\":{\"outlinewidth\":0,\"ticks\":\"\"}},\"type\":\"scatterternary\"}],\"surface\":[{\"colorbar\":{\"outlinewidth\":0,\"ticks\":\"\"},\"colorscale\":[[0.0,\"#0d0887\"],[0.1111111111111111,\"#46039f\"],[0.2222222222222222,\"#7201a8\"],[0.3333333333333333,\"#9c179e\"],[0.4444444444444444,\"#bd3786\"],[0.5555555555555556,\"#d8576b\"],[0.6666666666666666,\"#ed7953\"],[0.7777777777777778,\"#fb9f3a\"],[0.8888888888888888,\"#fdca26\"],[1.0,\"#f0f921\"]],\"type\":\"surface\"}],\"table\":[{\"cells\":{\"fill\":{\"color\":\"#EBF0F8\"},\"line\":{\"color\":\"white\"}},\"header\":{\"fill\":{\"color\":\"#C8D4E3\"},\"line\":{\"color\":\"white\"}},\"type\":\"table\"}]},\"layout\":{\"annotationdefaults\":{\"arrowcolor\":\"#2a3f5f\",\"arrowhead\":0,\"arrowwidth\":1},\"autotypenumbers\":\"strict\",\"coloraxis\":{\"colorbar\":{\"outlinewidth\":0,\"ticks\":\"\"}},\"colorscale\":{\"diverging\":[[0,\"#8e0152\"],[0.1,\"#c51b7d\"],[0.2,\"#de77ae\"],[0.3,\"#f1b6da\"],[0.4,\"#fde0ef\"],[0.5,\"#f7f7f7\"],[0.6,\"#e6f5d0\"],[0.7,\"#b8e186\"],[0.8,\"#7fbc41\"],[0.9,\"#4d9221\"],[1,\"#276419\"]],\"sequential\":[[0.0,\"#0d0887\"],[0.1111111111111111,\"#46039f\"],[0.2222222222222222,\"#7201a8\"],[0.3333333333333333,\"#9c179e\"],[0.4444444444444444,\"#bd3786\"],[0.5555555555555556,\"#d8576b\"],[0.6666666666666666,\"#ed7953\"],[0.7777777777777778,\"#fb9f3a\"],[0.8888888888888888,\"#fdca26\"],[1.0,\"#f0f921\"]],\"sequentialminus\":[[0.0,\"#0d0887\"],[0.1111111111111111,\"#46039f\"],[0.2222222222222222,\"#7201a8\"],[0.3333333333333333,\"#9c179e\"],[0.4444444444444444,\"#bd3786\"],[0.5555555555555556,\"#d8576b\"],[0.6666666666666666,\"#ed7953\"],[0.7777777777777778,\"#fb9f3a\"],[0.8888888888888888,\"#fdca26\"],[1.0,\"#f0f921\"]]},\"colorway\":[\"#636efa\",\"#EF553B\",\"#00cc96\",\"#ab63fa\",\"#FFA15A\",\"#19d3f3\",\"#FF6692\",\"#B6E880\",\"#FF97FF\",\"#FECB52\"],\"font\":{\"color\":\"#2a3f5f\"},\"geo\":{\"bgcolor\":\"white\",\"lakecolor\":\"white\",\"landcolor\":\"#E5ECF6\",\"showlakes\":true,\"showland\":true,\"subunitcolor\":\"white\"},\"hoverlabel\":{\"align\":\"left\"},\"hovermode\":\"closest\",\"mapbox\":{\"style\":\"light\"},\"paper_bgcolor\":\"white\",\"plot_bgcolor\":\"#E5ECF6\",\"polar\":{\"angularaxis\":{\"gridcolor\":\"white\",\"linecolor\":\"white\",\"ticks\":\"\"},\"bgcolor\":\"#E5ECF6\",\"radialaxis\":{\"gridcolor\":\"white\",\"linecolor\":\"white\",\"ticks\":\"\"}},\"scene\":{\"xaxis\":{\"backgroundcolor\":\"#E5ECF6\",\"gridcolor\":\"white\",\"gridwidth\":2,\"linecolor\":\"white\",\"showbackground\":true,\"ticks\":\"\",\"zerolinecolor\":\"white\"},\"yaxis\":{\"backgroundcolor\":\"#E5ECF6\",\"gridcolor\":\"white\",\"gridwidth\":2,\"linecolor\":\"white\",\"showbackground\":true,\"ticks\":\"\",\"zerolinecolor\":\"white\"},\"zaxis\":{\"backgroundcolor\":\"#E5ECF6\",\"gridcolor\":\"white\",\"gridwidth\":2,\"linecolor\":\"white\",\"showbackground\":true,\"ticks\":\"\",\"zerolinecolor\":\"white\"}},\"shapedefaults\":{\"line\":{\"color\":\"#2a3f5f\"}},\"ternary\":{\"aaxis\":{\"gridcolor\":\"white\",\"linecolor\":\"white\",\"ticks\":\"\"},\"baxis\":{\"gridcolor\":\"white\",\"linecolor\":\"white\",\"ticks\":\"\"},\"bgcolor\":\"#E5ECF6\",\"caxis\":{\"gridcolor\":\"white\",\"linecolor\":\"white\",\"ticks\":\"\"}},\"title\":{\"x\":0.05},\"xaxis\":{\"automargin\":true,\"gridcolor\":\"white\",\"linecolor\":\"white\",\"ticks\":\"\",\"title\":{\"standoff\":15},\"zerolinecolor\":\"white\",\"zerolinewidth\":2},\"yaxis\":{\"automargin\":true,\"gridcolor\":\"white\",\"linecolor\":\"white\",\"ticks\":\"\",\"title\":{\"standoff\":15},\"zerolinecolor\":\"white\",\"zerolinewidth\":2}}},\"scene\":{\"domain\":{\"x\":[0.0,1.0],\"y\":[0.0,1.0]},\"xaxis\":{\"title\":{\"text\":\"Intensidade_de_cor\"}},\"yaxis\":{\"title\":{\"text\":\"Alcool\"}},\"zaxis\":{\"title\":{\"text\":\"Proline\"}}},\"coloraxis\":{\"colorbar\":{\"title\":{\"text\":\"labels\"}},\"colorscale\":[[0.0,\"#0d0887\"],[0.1111111111111111,\"#46039f\"],[0.2222222222222222,\"#7201a8\"],[0.3333333333333333,\"#9c179e\"],[0.4444444444444444,\"#bd3786\"],[0.5555555555555556,\"#d8576b\"],[0.6666666666666666,\"#ed7953\"],[0.7777777777777778,\"#fb9f3a\"],[0.8888888888888888,\"#fdca26\"],[1.0,\"#f0f921\"]]},\"legend\":{\"tracegroupgap\":0},\"margin\":{\"t\":60},\"height\":800,\"width\":800},                        {\"responsive\": true}                    ).then(function(){\n",
              "                            \n",
              "var gd = document.getElementById('2b8d82e2-692a-4651-96ec-974653abb43f');\n",
              "var x = new MutationObserver(function (mutations, observer) {{\n",
              "        var display = window.getComputedStyle(gd).display;\n",
              "        if (!display || display === 'none') {{\n",
              "            console.log([gd, 'removed!']);\n",
              "            Plotly.purge(gd);\n",
              "            observer.disconnect();\n",
              "        }}\n",
              "}});\n",
              "\n",
              "// Listen for the removal of the full notebook cells\n",
              "var notebookContainer = gd.closest('#notebook-container');\n",
              "if (notebookContainer) {{\n",
              "    x.observe(notebookContainer, {childList: true});\n",
              "}}\n",
              "\n",
              "// Listen for the clearing of the current output cell\n",
              "var outputEl = gd.closest('.output');\n",
              "if (outputEl) {{\n",
              "    x.observe(outputEl, {childList: true});\n",
              "}}\n",
              "\n",
              "                        })                };                            </script>        </div>\n",
              "</body>\n",
              "</html>"
            ]
          },
          "metadata": {}
        }
      ]
    },
    {
      "cell_type": "markdown",
      "metadata": {
        "id": "TL2hfgtxuc_o"
      },
      "source": [
        "# Aula 3 - DBSCAN\n",
        "\n",
        "DBSCAN significa “Density-Based Spatial Clustering of Applications with Noise”, ou seja, “Agrupamento Espacial Baseado em Densidade para Aplicações com Ruído”.\n",
        "\n",
        "Por que utilizar? O K-means não funciona bem quando os nossos clusters não têm simetria radial.\n",
        "\n",
        "O DBSCAN define uma distância mínima para que os pontos sejam considerados vizinhos, essa distância é chamada de “eps”. Ele inicializa em uma amostra aleatória, verifica todos os vizinhos dessa amostra e vai fazendo isso até que ele encontre uma amostra que não tenha mais vizinhos, ou seja, até ele não possa mais expandir.\n",
        "\n",
        "O objetivo do algoritmo é fazer com que cada grupo tenha pelo menos um número mínimo ou a densidade mínima (min_samples) de pontos vizinhos, considerando como condição de vizinhança uma distancia menor ou igual a “eps”, que é o “epsilon”.\n",
        "\n",
        "Vantagens do DBSCAN:\n",
        "* Ele é robusto a “outliers”, ou seja, ele é robusto a ruído. \n",
        "* Ele pode detectar qualquer tipo de forma de cluster. \n",
        "* O custo computacional dele não é tão alto.\n",
        "* Ele é o segundo algoritmo de clusterização mais utilizado, ou seja, ele é muito popular.\n",
        "\n",
        "Desvantagens:\n",
        "* Ele não funciona bem com dados de alta dimensionalidade, assim como no KMeans, porque as métricas de distância acabam perdendo um pouco de sentido.\n",
        "* Ele não consegue identificar clusters de várias densidades porque o “min_samples” é fixo e o “eps” também. Se eles fossem variáveis, de alguma maneira talvez ele conseguisse fazer isso.\n",
        "* A parametrização de “eps” e “min_samples” nem sempre são fáceis.\n"
      ]
    },
    {
      "cell_type": "code",
      "metadata": {
        "colab": {
          "base_uri": "https://localhost:8080/"
        },
        "id": "S0Un7lkkqYTD",
        "outputId": "5ea78b3c-91ec-4b97-cb92-ba6f1d854313"
      },
      "source": [
        "from sklearn.cluster import DBSCAN\n",
        "agrupador = DBSCAN(eps=1.31, min_samples=15, metric='manhattan')\n",
        "agrupador.fit(df_normalized)"
      ],
      "execution_count": 25,
      "outputs": [
        {
          "output_type": "execute_result",
          "data": {
            "text/plain": [
              "DBSCAN(eps=1.31, metric='manhattan', min_samples=15)"
            ]
          },
          "metadata": {},
          "execution_count": 25
        }
      ]
    },
    {
      "cell_type": "code",
      "metadata": {
        "colab": {
          "base_uri": "https://localhost:8080/"
        },
        "id": "JK1DV4p-wSIr",
        "outputId": "f11e3178-c664-4157-a3d4-d92289c58680"
      },
      "source": [
        "agrupador.labels_"
      ],
      "execution_count": 26,
      "outputs": [
        {
          "output_type": "execute_result",
          "data": {
            "text/plain": [
              "array([ 0,  0,  0,  0, -1,  0,  0,  0,  0,  0,  0,  0,  0, -1,  0,  0,  0,\n",
              "        0,  0,  0,  0,  0,  0,  0,  0, -1,  0,  0,  0,  0,  0,  0,  0,  0,\n",
              "        0,  0,  0,  0,  0, -1,  0, -1,  0, -1,  0, -1,  0,  0,  0,  0, -1,\n",
              "        0,  0,  0,  0,  0,  0,  0,  0, -1, -1, -1, -1, -1, -1, -1, -1,  1,\n",
              "       -1, -1, -1, -1, -1, -1, -1, -1, -1, -1, -1, -1, -1,  1, -1, -1, -1,\n",
              "        1, -1, -1, -1, -1,  1,  1, -1, -1, -1, -1, -1, -1, -1, -1, -1,  1,\n",
              "       -1,  1,  1, -1,  1,  1,  1, -1, -1, -1, -1, -1, -1, -1,  1,  1, -1,\n",
              "        1, -1, -1, -1, -1, -1,  1, -1, -1, -1, -1, -1,  2, -1,  2, -1,  2,\n",
              "       -1, -1,  2, -1, -1,  2, -1, -1,  2,  2, -1,  2,  2,  2, -1, -1, -1,\n",
              "        2, -1,  2,  2, -1, -1, -1,  2,  2,  2,  2,  2, -1,  2,  2,  2, -1,\n",
              "        2,  2,  2,  2,  2,  2,  2,  2])"
            ]
          },
          "metadata": {},
          "execution_count": 26
        }
      ]
    },
    {
      "cell_type": "code",
      "metadata": {
        "colab": {
          "base_uri": "https://localhost:8080/"
        },
        "id": "qAH_iybjwjcM",
        "outputId": "e4943059-e374-4d57-91dc-ffee8a2f6552"
      },
      "source": [
        "np.unique(agrupador.labels_)"
      ],
      "execution_count": 27,
      "outputs": [
        {
          "output_type": "execute_result",
          "data": {
            "text/plain": [
              "array([-1,  0,  1,  2])"
            ]
          },
          "metadata": {},
          "execution_count": 27
        }
      ]
    },
    {
      "cell_type": "markdown",
      "metadata": {
        "id": "nU1CpbP16eZ6"
      },
      "source": [
        "Vamos diminuir o eps e ver como o DBSCAN responde."
      ]
    },
    {
      "cell_type": "code",
      "metadata": {
        "colab": {
          "base_uri": "https://localhost:8080/",
          "height": 817
        },
        "id": "ZNDyIFvzprzL",
        "outputId": "e9571f1a-dac3-4f6c-fe76-f591bfadb5ab"
      },
      "source": [
        "labels = agrupador.labels_\n",
        "df_normalized['labels'] = labels\n",
        "fig = px.scatter_3d(df_normalized, x='Intensidade_de_cor', y='Alcool', z='Proline', color='labels', width=800, height=800)\n",
        "df_normalized.drop('labels', axis=1, inplace=True)\n",
        "fig.show()"
      ],
      "execution_count": 28,
      "outputs": [
        {
          "output_type": "display_data",
          "data": {
            "text/html": [
              "<html>\n",
              "<head><meta charset=\"utf-8\" /></head>\n",
              "<body>\n",
              "    <div>            <script src=\"https://cdnjs.cloudflare.com/ajax/libs/mathjax/2.7.5/MathJax.js?config=TeX-AMS-MML_SVG\"></script><script type=\"text/javascript\">if (window.MathJax) {MathJax.Hub.Config({SVG: {font: \"STIX-Web\"}});}</script>                <script type=\"text/javascript\">window.PlotlyConfig = {MathJaxConfig: 'local'};</script>\n",
              "        <script src=\"https://cdn.plot.ly/plotly-2.8.3.min.js\"></script>                <div id=\"10b7d84d-1f13-4327-afcf-d3ee723b6d67\" class=\"plotly-graph-div\" style=\"height:800px; width:800px;\"></div>            <script type=\"text/javascript\">                                    window.PLOTLYENV=window.PLOTLYENV || {};                                    if (document.getElementById(\"10b7d84d-1f13-4327-afcf-d3ee723b6d67\")) {                    Plotly.newPlot(                        \"10b7d84d-1f13-4327-afcf-d3ee723b6d67\",                        [{\"hovertemplate\":\"Intensidade_de_cor=%{x}<br>Alcool=%{y}<br>Proline=%{z}<br>labels=%{marker.color}<extra></extra>\",\"legendgroup\":\"\",\"marker\":{\"color\":[0,0,0,0,-1,0,0,0,0,0,0,0,0,-1,0,0,0,0,0,0,0,0,0,0,0,-1,0,0,0,0,0,0,0,0,0,0,0,0,0,-1,0,-1,0,-1,0,-1,0,0,0,0,-1,0,0,0,0,0,0,0,0,-1,-1,-1,-1,-1,-1,-1,-1,1,-1,-1,-1,-1,-1,-1,-1,-1,-1,-1,-1,-1,-1,1,-1,-1,-1,1,-1,-1,-1,-1,1,1,-1,-1,-1,-1,-1,-1,-1,-1,-1,1,-1,1,1,-1,1,1,1,-1,-1,-1,-1,-1,-1,-1,1,1,-1,1,-1,-1,-1,-1,-1,1,-1,-1,-1,-1,-1,2,-1,2,-1,2,-1,-1,2,-1,-1,2,-1,-1,2,2,-1,2,2,2,-1,-1,-1,2,-1,2,2,-1,-1,-1,2,2,2,2,2,-1,2,2,2,-1,2,2,2,2,2,2,2,2],\"coloraxis\":\"coloraxis\",\"symbol\":\"circle\"},\"mode\":\"markers\",\"name\":\"\",\"scene\":\"scene\",\"showlegend\":false,\"x\":[0.3720136518771331,0.26450511945392485,0.3754266211604095,0.5563139931740614,0.2593856655290102,0.4667235494880546,0.3387372013651877,0.3216723549488054,0.33447098976109213,0.5068259385665529,0.3813993174061433,0.31740614334470985,0.3686006825938566,0.3515358361774744,0.5307167235494881,0.5136518771331058,0.41979522184300344,0.4539249146757679,0.6331058020477814,0.325938566552901,0.37286689419795227,0.27474402730375425,0.21501706484641633,0.22610921501706485,0.1911262798634812,0.1962457337883959,0.30034129692832756,0.22781569965870305,0.27474402730375425,0.29180887372013653,0.37713310580204773,0.4795221843003413,0.21843003412969278,0.3515358361774744,0.2491467576791809,0.325938566552901,0.2832764505119454,0.2534129692832764,0.20648464163822525,0.325938566552901,0.4138225255972696,0.2559726962457338,0.35409556313993173,0.2627986348122867,0.32081911262798635,0.33788395904436863,0.3088737201365188,0.4112627986348123,0.41979522184300344,0.6501706484641638,0.5051194539249146,0.3686006825938566,0.4923208191126279,0.42832764505119447,0.38993174061433444,0.424061433447099,0.4351535836177475,0.40273037542662116,0.4709897610921502,0.057167235494880536,0.1697952218430034,0.3813993174061433,0.21501706484641633,0.2704778156996587,0.1424914675767918,0.2832764505119454,0.3430034129692833,0.2901023890784983,0.16126279863481227,0.13395904436860068,0.15102389078498293,0.17918088737201363,0.2098976109215017,0.1766211604095563,0.16467576791808872,0.21501706484641633,0.2832764505119454,0.11689419795221842,0.18088737201365188,0.1100682593856655,0.10409556313993173,0.22354948805460748,0.07849829351535836,0.30034129692832756,0.15102389078498293,0.1143344709897611,0.09982935153583619,0.11262798634812288,0.1296928327645051,0.03924914675767918,0.09556313993174059,0.1979522184300341,0.15102389078498293,0.07423208191126279,0.16808873720136516,0.11262798634812288,0.10409556313993173,0.13822525597269622,0.27474402730375425,0.08703071672354948,0.17235494880546073,0.09982935153583619,0.1296928327645051,0.06655290102389078,0.14163822525597267,0.12116040955631399,0.18088737201365188,0.17235494880546073,0.12116040955631399,0.11689419795221842,0.13822525597269622,0.06143344709897611,0.21501706484641633,0.15358361774744025,0.13822525597269622,0.052901023890784965,0.057167235494880536,0.06655290102389078,0.18088737201365188,0.0,0.16808873720136516,0.40273037542662116,0.06825938566552903,0.11262798634812288,0.1296928327645051,0.12627986348122863,0.22696245733788392,0.14675767918088736,0.07167235494880547,0.11262798634812288,0.2406143344709897,0.3515358361774744,0.37713310580204773,0.31740614334470985,0.35580204778157,0.4965870307167235,0.21928327645051196,0.31740614334470985,0.37713310580204773,0.31058020477815695,0.2832764505119454,0.3686006825938566,0.26194539249146753,0.2662116040955631,0.5912969283276451,0.23208191126279862,0.3088737201365188,0.5435153583617748,0.6092150170648464,0.6928327645051194,0.6245733788395904,0.8122866894197952,0.4965870307167235,0.78839590443686,0.5392491467576791,0.5648464163822525,0.659556313993174,0.5307167235494881,0.9999999999999999,0.893344709897611,0.5435153583617748,0.39249146757679176,0.36689419795221845,0.341296928327645,0.7081911262798635,0.45563139931740615,0.8020477815699658,0.7662116040955631,0.6296928327645052,0.6160409556313993,0.36006825938566556,0.7354947952218429,0.7184300341296928,0.5477815699658704,0.5136518771331058,0.7610921501706484,0.6843003412969284,0.6757679180887372],\"y\":[0.8421052631578951,0.5710526315789473,0.560526315789474,0.8789473684210525,0.5815789473684214,0.8342105263157893,0.8842105263157896,0.797368421052632,1.0,0.7447368421052629,0.8078947368421052,0.8131578947368419,0.7157894736842105,0.9789473684210526,0.8815789473684212,0.6842105263157898,0.8605263157894738,0.736842105263158,0.831578947368421,0.6868421052631581,0.797368421052632,0.5,0.7052631578947373,0.47894736842105257,0.6499999999999999,0.5315789473684216,0.6210526315789475,0.5973684210526318,0.7473684210526317,0.7868421052631578,0.7105263157894739,0.6710526315789473,0.6973684210526314,0.7184210526315788,0.6526315789473687,0.6447368421052633,0.5921052631578947,0.5315789473684216,0.5368421052631582,0.8394736842105264,0.6657894736842107,0.6263157894736846,0.7500000000000004,0.5815789473684214,0.5315789473684216,0.836842105263158,0.8815789473684212,0.7552631578947371,0.8078947368421052,0.7657894736842104,0.5315789473684216,0.736842105263158,0.7342105263157896,0.7210526315789472,0.7131578947368422,0.6657894736842107,0.8394736842105264,0.594736842105263,0.7078947368421056,0.3526315789473684,0.34210526315789513,0.4236842105263161,0.6947368421052631,0.3526315789473684,0.30000000000000027,0.3526315789473684,0.5473684210526315,0.3526315789473684,0.6078947368421055,0.310526315789474,0.331578947368421,0.7447368421052629,0.6473684210526316,0.5157894736842108,0.2447368421052638,0.1657894736842107,0.5263157894736841,0.2131578947368422,0.34210526315789513,0.43947368421052646,0.2552631578947371,0.44473684210526354,0.2763157894736845,0.5315789473684216,0.2131578947368422,0.43157894736842106,0.29736842105263195,0.1631578947368424,0.16052631578947407,0.2763157894736845,0.2763157894736845,0.2552631578947371,0.43684210526315814,0.331578947368421,0.155263157894737,0.3789473684210529,0.20526315789473726,0.331578947368421,0.3526315789473684,0.331578947368421,0.2763157894736845,0.4131578947368424,0.34473684210526345,0.20789473684210558,0.38947368421052664,0.3657894736842109,0.3210526315789477,0.44473684210526354,0.3131578947368423,0.15263157894736867,0.11315789473684257,0.39210526315789496,0.19210526315789478,0.10000000000000053,0.2763157894736845,0.0,0.20789473684210558,0.3657894736842109,0.45789473684210513,0.2552631578947371,0.1105263157894738,0.13947368421052664,0.3657894736842109,0.5315789473684216,0.2210526315789476,0.2736842105263162,0.3684210526315792,0.20000000000000018,0.3526315789473684,0.26578947368421035,0.4815789473684209,0.4868421052631584,0.4684210526315793,0.43947368421052646,0.38947368421052664,0.4131578947368424,0.3210526315789477,0.3947368421052633,0.6473684210526316,0.47631578947368425,0.5,0.6131578947368421,0.655263157894737,0.6815789473684211,0.3210526315789477,0.560526315789474,0.7500000000000004,0.48421052631578965,0.6026315789473689,0.5394736842105265,0.6499999999999999,0.4631578947368422,0.5473684210526315,0.5789473684210531,0.4078947368421053,0.5631578947368423,0.7394736842105263,0.37368421052631584,0.8710526315789475,0.6447368421052633,0.3500000000000001,0.7000000000000002,0.47894736842105257,0.5078947368421058,0.7236842105263159,0.7105263157894739,0.6368421052631579,0.4710526315789476,0.6710526315789473,0.6236842105263158,0.3078947368421052,0.45789473684210513,0.823684210526316,0.7052631578947373,0.6236842105263158,0.5894736842105264,0.5631578947368423,0.8157894736842106],\"z\":[0.5613409415121255,0.5506419400855921,0.6469329529243938,0.8573466476462198,0.3259629101283881,0.8359486447931527,0.7218259629101285,0.725392296718973,0.5470756062767476,0.5470756062767476,0.8787446504992867,0.7146932952924394,0.7432239657631955,0.6219686162624822,0.9051355206847361,0.7360912981455064,0.7146932952924394,0.6077032810271041,1.0,0.40442225392296727,0.35805991440798857,0.35092724679029963,0.5399429386590585,0.5256776034236805,0.40442225392296727,0.3937232524964337,0.6540656205420827,0.7182596291012839,0.4543509272467904,0.5399429386590585,0.7182596291012839,0.8823109843081313,0.5078459343794579,0.6825962910128388,0.5827389443651926,0.4579172610556348,0.4293865905848788,0.5898716119828816,0.529243937232525,0.3437945791726106,0.36875891583452214,0.5399429386590585,0.5827389443651926,0.2867332382310984,0.43295292439372324,0.5720399429386591,0.5613409415121255,0.5042796005706135,0.557774607703281,0.7004279600570614,0.6219686162624822,0.7039942938659058,0.6504992867332383,0.782453637660485,0.557774607703281,0.6005706134094152,0.4935805991440799,0.7075606276747504,0.7182596291012839,0.17261055634807418,0.2867332382310984,0.12268188302425106,0.2510699001426534,0.10128388017118403,0.054921540656205386,0.2853067047075606,0.15977175463623397,0.1654778887303852,0.33666191155492153,0.31383737517831667,0.4222539229671898,0.09415121255349498,0.13837375178316688,0.5042796005706135,0.4336661911554922,0.10699001426533525,0.08131241084165478,0.15834522111269614,0.33666191155492153,0.1319543509272468,0.0,0.3109843081312411,0.2510699001426534,0.16904422253922965,0.17261055634807418,0.12268188302425106,0.15477888730385161,0.20256776034236804,0.2867332382310984,0.24750356633380885,0.1440798858773181,0.12268188302425106,0.15477888730385161,0.008559201141226797,0.047788873038516394,0.4700427960057062,0.24750356633380885,0.10699001426533525,0.27246790299572043,0.09129814550641938,0.30813124108416545,0.20256776034236804,0.11412268188302424,0.09771754636233951,0.2810271041369472,0.02639087018544936,0.1654778887303852,0.14978601997146931,0.02425106990014264,0.2867332382310984,0.20256776034236804,0.033523537803138354,0.23466476462196864,0.11126961483594863,0.07631954350927247,0.09201141226818829,0.15477888730385161,0.047788873038516394,0.06704707560627673,0.20399429386590587,0.24750356633380885,0.13338088445078458,0.062054208273894434,0.07275320970042795,0.07275320970042795,0.07132667617689017,0.052781740370898694,0.1340941512125535,0.0456490727532097,0.21540656205420824,0.2510699001426534,0.17974322396576317,0.20114122681883026,0.22967189728958629,0.2653352353780314,0.297432239657632,0.3152639087018545,0.16904422253922965,0.21540656205420824,0.2225392296718973,0.22967189728958629,0.35805991440798857,0.17261055634807418,0.1940085592011412,0.4115549215406562,0.3937232524964337,0.09771754636233951,0.24750356633380885,0.2653352353780314,0.1940085592011412,0.15834522111269614,0.1440798858773181,0.1048502139800285,0.2831669044222539,0.25820256776034234,0.318830242510699,0.1440798858773181,0.4293865905848788,0.27246790299572043,0.24393723252496433,0.17261055634807418,0.2867332382310984,0.20827389443651925,0.2831669044222539,0.2403708987161198,0.17261055634807418,0.297432239657632,0.29029957203994294,0.33666191155492153,0.2510699001426534,0.1654778887303852,0.1369472182596291,0.27246790299572043,0.3295292439372326,0.33666191155492153,0.3972895863052782,0.40085592011412274,0.20114122681883026],\"type\":\"scatter3d\"}],                        {\"template\":{\"data\":{\"bar\":[{\"error_x\":{\"color\":\"#2a3f5f\"},\"error_y\":{\"color\":\"#2a3f5f\"},\"marker\":{\"line\":{\"color\":\"#E5ECF6\",\"width\":0.5},\"pattern\":{\"fillmode\":\"overlay\",\"size\":10,\"solidity\":0.2}},\"type\":\"bar\"}],\"barpolar\":[{\"marker\":{\"line\":{\"color\":\"#E5ECF6\",\"width\":0.5},\"pattern\":{\"fillmode\":\"overlay\",\"size\":10,\"solidity\":0.2}},\"type\":\"barpolar\"}],\"carpet\":[{\"aaxis\":{\"endlinecolor\":\"#2a3f5f\",\"gridcolor\":\"white\",\"linecolor\":\"white\",\"minorgridcolor\":\"white\",\"startlinecolor\":\"#2a3f5f\"},\"baxis\":{\"endlinecolor\":\"#2a3f5f\",\"gridcolor\":\"white\",\"linecolor\":\"white\",\"minorgridcolor\":\"white\",\"startlinecolor\":\"#2a3f5f\"},\"type\":\"carpet\"}],\"choropleth\":[{\"colorbar\":{\"outlinewidth\":0,\"ticks\":\"\"},\"type\":\"choropleth\"}],\"contour\":[{\"colorbar\":{\"outlinewidth\":0,\"ticks\":\"\"},\"colorscale\":[[0.0,\"#0d0887\"],[0.1111111111111111,\"#46039f\"],[0.2222222222222222,\"#7201a8\"],[0.3333333333333333,\"#9c179e\"],[0.4444444444444444,\"#bd3786\"],[0.5555555555555556,\"#d8576b\"],[0.6666666666666666,\"#ed7953\"],[0.7777777777777778,\"#fb9f3a\"],[0.8888888888888888,\"#fdca26\"],[1.0,\"#f0f921\"]],\"type\":\"contour\"}],\"contourcarpet\":[{\"colorbar\":{\"outlinewidth\":0,\"ticks\":\"\"},\"type\":\"contourcarpet\"}],\"heatmap\":[{\"colorbar\":{\"outlinewidth\":0,\"ticks\":\"\"},\"colorscale\":[[0.0,\"#0d0887\"],[0.1111111111111111,\"#46039f\"],[0.2222222222222222,\"#7201a8\"],[0.3333333333333333,\"#9c179e\"],[0.4444444444444444,\"#bd3786\"],[0.5555555555555556,\"#d8576b\"],[0.6666666666666666,\"#ed7953\"],[0.7777777777777778,\"#fb9f3a\"],[0.8888888888888888,\"#fdca26\"],[1.0,\"#f0f921\"]],\"type\":\"heatmap\"}],\"heatmapgl\":[{\"colorbar\":{\"outlinewidth\":0,\"ticks\":\"\"},\"colorscale\":[[0.0,\"#0d0887\"],[0.1111111111111111,\"#46039f\"],[0.2222222222222222,\"#7201a8\"],[0.3333333333333333,\"#9c179e\"],[0.4444444444444444,\"#bd3786\"],[0.5555555555555556,\"#d8576b\"],[0.6666666666666666,\"#ed7953\"],[0.7777777777777778,\"#fb9f3a\"],[0.8888888888888888,\"#fdca26\"],[1.0,\"#f0f921\"]],\"type\":\"heatmapgl\"}],\"histogram\":[{\"marker\":{\"pattern\":{\"fillmode\":\"overlay\",\"size\":10,\"solidity\":0.2}},\"type\":\"histogram\"}],\"histogram2d\":[{\"colorbar\":{\"outlinewidth\":0,\"ticks\":\"\"},\"colorscale\":[[0.0,\"#0d0887\"],[0.1111111111111111,\"#46039f\"],[0.2222222222222222,\"#7201a8\"],[0.3333333333333333,\"#9c179e\"],[0.4444444444444444,\"#bd3786\"],[0.5555555555555556,\"#d8576b\"],[0.6666666666666666,\"#ed7953\"],[0.7777777777777778,\"#fb9f3a\"],[0.8888888888888888,\"#fdca26\"],[1.0,\"#f0f921\"]],\"type\":\"histogram2d\"}],\"histogram2dcontour\":[{\"colorbar\":{\"outlinewidth\":0,\"ticks\":\"\"},\"colorscale\":[[0.0,\"#0d0887\"],[0.1111111111111111,\"#46039f\"],[0.2222222222222222,\"#7201a8\"],[0.3333333333333333,\"#9c179e\"],[0.4444444444444444,\"#bd3786\"],[0.5555555555555556,\"#d8576b\"],[0.6666666666666666,\"#ed7953\"],[0.7777777777777778,\"#fb9f3a\"],[0.8888888888888888,\"#fdca26\"],[1.0,\"#f0f921\"]],\"type\":\"histogram2dcontour\"}],\"mesh3d\":[{\"colorbar\":{\"outlinewidth\":0,\"ticks\":\"\"},\"type\":\"mesh3d\"}],\"parcoords\":[{\"line\":{\"colorbar\":{\"outlinewidth\":0,\"ticks\":\"\"}},\"type\":\"parcoords\"}],\"pie\":[{\"automargin\":true,\"type\":\"pie\"}],\"scatter\":[{\"marker\":{\"colorbar\":{\"outlinewidth\":0,\"ticks\":\"\"}},\"type\":\"scatter\"}],\"scatter3d\":[{\"line\":{\"colorbar\":{\"outlinewidth\":0,\"ticks\":\"\"}},\"marker\":{\"colorbar\":{\"outlinewidth\":0,\"ticks\":\"\"}},\"type\":\"scatter3d\"}],\"scattercarpet\":[{\"marker\":{\"colorbar\":{\"outlinewidth\":0,\"ticks\":\"\"}},\"type\":\"scattercarpet\"}],\"scattergeo\":[{\"marker\":{\"colorbar\":{\"outlinewidth\":0,\"ticks\":\"\"}},\"type\":\"scattergeo\"}],\"scattergl\":[{\"marker\":{\"colorbar\":{\"outlinewidth\":0,\"ticks\":\"\"}},\"type\":\"scattergl\"}],\"scattermapbox\":[{\"marker\":{\"colorbar\":{\"outlinewidth\":0,\"ticks\":\"\"}},\"type\":\"scattermapbox\"}],\"scatterpolar\":[{\"marker\":{\"colorbar\":{\"outlinewidth\":0,\"ticks\":\"\"}},\"type\":\"scatterpolar\"}],\"scatterpolargl\":[{\"marker\":{\"colorbar\":{\"outlinewidth\":0,\"ticks\":\"\"}},\"type\":\"scatterpolargl\"}],\"scatterternary\":[{\"marker\":{\"colorbar\":{\"outlinewidth\":0,\"ticks\":\"\"}},\"type\":\"scatterternary\"}],\"surface\":[{\"colorbar\":{\"outlinewidth\":0,\"ticks\":\"\"},\"colorscale\":[[0.0,\"#0d0887\"],[0.1111111111111111,\"#46039f\"],[0.2222222222222222,\"#7201a8\"],[0.3333333333333333,\"#9c179e\"],[0.4444444444444444,\"#bd3786\"],[0.5555555555555556,\"#d8576b\"],[0.6666666666666666,\"#ed7953\"],[0.7777777777777778,\"#fb9f3a\"],[0.8888888888888888,\"#fdca26\"],[1.0,\"#f0f921\"]],\"type\":\"surface\"}],\"table\":[{\"cells\":{\"fill\":{\"color\":\"#EBF0F8\"},\"line\":{\"color\":\"white\"}},\"header\":{\"fill\":{\"color\":\"#C8D4E3\"},\"line\":{\"color\":\"white\"}},\"type\":\"table\"}]},\"layout\":{\"annotationdefaults\":{\"arrowcolor\":\"#2a3f5f\",\"arrowhead\":0,\"arrowwidth\":1},\"autotypenumbers\":\"strict\",\"coloraxis\":{\"colorbar\":{\"outlinewidth\":0,\"ticks\":\"\"}},\"colorscale\":{\"diverging\":[[0,\"#8e0152\"],[0.1,\"#c51b7d\"],[0.2,\"#de77ae\"],[0.3,\"#f1b6da\"],[0.4,\"#fde0ef\"],[0.5,\"#f7f7f7\"],[0.6,\"#e6f5d0\"],[0.7,\"#b8e186\"],[0.8,\"#7fbc41\"],[0.9,\"#4d9221\"],[1,\"#276419\"]],\"sequential\":[[0.0,\"#0d0887\"],[0.1111111111111111,\"#46039f\"],[0.2222222222222222,\"#7201a8\"],[0.3333333333333333,\"#9c179e\"],[0.4444444444444444,\"#bd3786\"],[0.5555555555555556,\"#d8576b\"],[0.6666666666666666,\"#ed7953\"],[0.7777777777777778,\"#fb9f3a\"],[0.8888888888888888,\"#fdca26\"],[1.0,\"#f0f921\"]],\"sequentialminus\":[[0.0,\"#0d0887\"],[0.1111111111111111,\"#46039f\"],[0.2222222222222222,\"#7201a8\"],[0.3333333333333333,\"#9c179e\"],[0.4444444444444444,\"#bd3786\"],[0.5555555555555556,\"#d8576b\"],[0.6666666666666666,\"#ed7953\"],[0.7777777777777778,\"#fb9f3a\"],[0.8888888888888888,\"#fdca26\"],[1.0,\"#f0f921\"]]},\"colorway\":[\"#636efa\",\"#EF553B\",\"#00cc96\",\"#ab63fa\",\"#FFA15A\",\"#19d3f3\",\"#FF6692\",\"#B6E880\",\"#FF97FF\",\"#FECB52\"],\"font\":{\"color\":\"#2a3f5f\"},\"geo\":{\"bgcolor\":\"white\",\"lakecolor\":\"white\",\"landcolor\":\"#E5ECF6\",\"showlakes\":true,\"showland\":true,\"subunitcolor\":\"white\"},\"hoverlabel\":{\"align\":\"left\"},\"hovermode\":\"closest\",\"mapbox\":{\"style\":\"light\"},\"paper_bgcolor\":\"white\",\"plot_bgcolor\":\"#E5ECF6\",\"polar\":{\"angularaxis\":{\"gridcolor\":\"white\",\"linecolor\":\"white\",\"ticks\":\"\"},\"bgcolor\":\"#E5ECF6\",\"radialaxis\":{\"gridcolor\":\"white\",\"linecolor\":\"white\",\"ticks\":\"\"}},\"scene\":{\"xaxis\":{\"backgroundcolor\":\"#E5ECF6\",\"gridcolor\":\"white\",\"gridwidth\":2,\"linecolor\":\"white\",\"showbackground\":true,\"ticks\":\"\",\"zerolinecolor\":\"white\"},\"yaxis\":{\"backgroundcolor\":\"#E5ECF6\",\"gridcolor\":\"white\",\"gridwidth\":2,\"linecolor\":\"white\",\"showbackground\":true,\"ticks\":\"\",\"zerolinecolor\":\"white\"},\"zaxis\":{\"backgroundcolor\":\"#E5ECF6\",\"gridcolor\":\"white\",\"gridwidth\":2,\"linecolor\":\"white\",\"showbackground\":true,\"ticks\":\"\",\"zerolinecolor\":\"white\"}},\"shapedefaults\":{\"line\":{\"color\":\"#2a3f5f\"}},\"ternary\":{\"aaxis\":{\"gridcolor\":\"white\",\"linecolor\":\"white\",\"ticks\":\"\"},\"baxis\":{\"gridcolor\":\"white\",\"linecolor\":\"white\",\"ticks\":\"\"},\"bgcolor\":\"#E5ECF6\",\"caxis\":{\"gridcolor\":\"white\",\"linecolor\":\"white\",\"ticks\":\"\"}},\"title\":{\"x\":0.05},\"xaxis\":{\"automargin\":true,\"gridcolor\":\"white\",\"linecolor\":\"white\",\"ticks\":\"\",\"title\":{\"standoff\":15},\"zerolinecolor\":\"white\",\"zerolinewidth\":2},\"yaxis\":{\"automargin\":true,\"gridcolor\":\"white\",\"linecolor\":\"white\",\"ticks\":\"\",\"title\":{\"standoff\":15},\"zerolinecolor\":\"white\",\"zerolinewidth\":2}}},\"scene\":{\"domain\":{\"x\":[0.0,1.0],\"y\":[0.0,1.0]},\"xaxis\":{\"title\":{\"text\":\"Intensidade_de_cor\"}},\"yaxis\":{\"title\":{\"text\":\"Alcool\"}},\"zaxis\":{\"title\":{\"text\":\"Proline\"}}},\"coloraxis\":{\"colorbar\":{\"title\":{\"text\":\"labels\"}},\"colorscale\":[[0.0,\"#0d0887\"],[0.1111111111111111,\"#46039f\"],[0.2222222222222222,\"#7201a8\"],[0.3333333333333333,\"#9c179e\"],[0.4444444444444444,\"#bd3786\"],[0.5555555555555556,\"#d8576b\"],[0.6666666666666666,\"#ed7953\"],[0.7777777777777778,\"#fb9f3a\"],[0.8888888888888888,\"#fdca26\"],[1.0,\"#f0f921\"]]},\"legend\":{\"tracegroupgap\":0},\"margin\":{\"t\":60},\"height\":800,\"width\":800},                        {\"responsive\": true}                    ).then(function(){\n",
              "                            \n",
              "var gd = document.getElementById('10b7d84d-1f13-4327-afcf-d3ee723b6d67');\n",
              "var x = new MutationObserver(function (mutations, observer) {{\n",
              "        var display = window.getComputedStyle(gd).display;\n",
              "        if (!display || display === 'none') {{\n",
              "            console.log([gd, 'removed!']);\n",
              "            Plotly.purge(gd);\n",
              "            observer.disconnect();\n",
              "        }}\n",
              "}});\n",
              "\n",
              "// Listen for the removal of the full notebook cells\n",
              "var notebookContainer = gd.closest('#notebook-container');\n",
              "if (notebookContainer) {{\n",
              "    x.observe(notebookContainer, {childList: true});\n",
              "}}\n",
              "\n",
              "// Listen for the clearing of the current output cell\n",
              "var outputEl = gd.closest('.output');\n",
              "if (outputEl) {{\n",
              "    x.observe(outputEl, {childList: true});\n",
              "}}\n",
              "\n",
              "                        })                };                            </script>        </div>\n",
              "</body>\n",
              "</html>"
            ]
          },
          "metadata": {}
        }
      ]
    },
    {
      "cell_type": "code",
      "metadata": {
        "colab": {
          "base_uri": "https://localhost:8080/"
        },
        "id": "Fl_r00ZRySk7",
        "outputId": "69ca037c-a863-4466-87f1-5233c0243d65"
      },
      "source": [
        "agrupador = DBSCAN(eps=0.01, min_samples=15, metric='manhattan')\n",
        "agrupador.fit(df_normalized)\n",
        "agrupador.labels_"
      ],
      "execution_count": 29,
      "outputs": [
        {
          "output_type": "execute_result",
          "data": {
            "text/plain": [
              "array([-1, -1, -1, -1, -1, -1, -1, -1, -1, -1, -1, -1, -1, -1, -1, -1, -1,\n",
              "       -1, -1, -1, -1, -1, -1, -1, -1, -1, -1, -1, -1, -1, -1, -1, -1, -1,\n",
              "       -1, -1, -1, -1, -1, -1, -1, -1, -1, -1, -1, -1, -1, -1, -1, -1, -1,\n",
              "       -1, -1, -1, -1, -1, -1, -1, -1, -1, -1, -1, -1, -1, -1, -1, -1, -1,\n",
              "       -1, -1, -1, -1, -1, -1, -1, -1, -1, -1, -1, -1, -1, -1, -1, -1, -1,\n",
              "       -1, -1, -1, -1, -1, -1, -1, -1, -1, -1, -1, -1, -1, -1, -1, -1, -1,\n",
              "       -1, -1, -1, -1, -1, -1, -1, -1, -1, -1, -1, -1, -1, -1, -1, -1, -1,\n",
              "       -1, -1, -1, -1, -1, -1, -1, -1, -1, -1, -1, -1, -1, -1, -1, -1, -1,\n",
              "       -1, -1, -1, -1, -1, -1, -1, -1, -1, -1, -1, -1, -1, -1, -1, -1, -1,\n",
              "       -1, -1, -1, -1, -1, -1, -1, -1, -1, -1, -1, -1, -1, -1, -1, -1, -1,\n",
              "       -1, -1, -1, -1, -1, -1, -1, -1])"
            ]
          },
          "metadata": {},
          "execution_count": 29
        }
      ]
    },
    {
      "cell_type": "markdown",
      "metadata": {
        "id": "eSe_hsN16xLB"
      },
      "source": [
        "Todos os nossos dados ou todas as nossas amostras foram consideradas como ruído. \n",
        "\n",
        "Quando nós utilizamos um valor muito pequeno de “eps” nós falamos que os vizinhos eram só as amostras que estivessem muito pertos e provavelmente nós tínhamos poucas amostras desse jeito.\n",
        "\n",
        "Agora vamos verificar eps=10"
      ]
    },
    {
      "cell_type": "code",
      "metadata": {
        "colab": {
          "base_uri": "https://localhost:8080/"
        },
        "id": "ewNgTanz6qk8",
        "outputId": "2cfef5ec-8773-4754-d8a4-ea69a7bd8f82"
      },
      "source": [
        "agrupador = DBSCAN(eps=10, min_samples=15, metric='manhattan')\n",
        "agrupador.fit(df_normalized)\n",
        "agrupador.labels_"
      ],
      "execution_count": 30,
      "outputs": [
        {
          "output_type": "execute_result",
          "data": {
            "text/plain": [
              "array([0, 0, 0, 0, 0, 0, 0, 0, 0, 0, 0, 0, 0, 0, 0, 0, 0, 0, 0, 0, 0, 0,\n",
              "       0, 0, 0, 0, 0, 0, 0, 0, 0, 0, 0, 0, 0, 0, 0, 0, 0, 0, 0, 0, 0, 0,\n",
              "       0, 0, 0, 0, 0, 0, 0, 0, 0, 0, 0, 0, 0, 0, 0, 0, 0, 0, 0, 0, 0, 0,\n",
              "       0, 0, 0, 0, 0, 0, 0, 0, 0, 0, 0, 0, 0, 0, 0, 0, 0, 0, 0, 0, 0, 0,\n",
              "       0, 0, 0, 0, 0, 0, 0, 0, 0, 0, 0, 0, 0, 0, 0, 0, 0, 0, 0, 0, 0, 0,\n",
              "       0, 0, 0, 0, 0, 0, 0, 0, 0, 0, 0, 0, 0, 0, 0, 0, 0, 0, 0, 0, 0, 0,\n",
              "       0, 0, 0, 0, 0, 0, 0, 0, 0, 0, 0, 0, 0, 0, 0, 0, 0, 0, 0, 0, 0, 0,\n",
              "       0, 0, 0, 0, 0, 0, 0, 0, 0, 0, 0, 0, 0, 0, 0, 0, 0, 0, 0, 0, 0, 0,\n",
              "       0, 0])"
            ]
          },
          "metadata": {},
          "execution_count": 30
        }
      ]
    },
    {
      "cell_type": "markdown",
      "metadata": {
        "id": "VjWYDj3k7VGc"
      },
      "source": [
        "Todas as nossas amostras foram consideradas no mesmo cluster.\n",
        "\n",
        "Vamos experimentar eps=1.5 e min_samples=30"
      ]
    },
    {
      "cell_type": "code",
      "metadata": {
        "colab": {
          "base_uri": "https://localhost:8080/"
        },
        "id": "pFb8nb-B7T8T",
        "outputId": "23241fa9-2f74-466d-880b-2448e66b1abf"
      },
      "source": [
        "agrupador = DBSCAN(eps=1.5, min_samples=30, metric='manhattan')\n",
        "agrupador.fit(df_normalized)\n",
        "agrupador.labels_"
      ],
      "execution_count": 31,
      "outputs": [
        {
          "output_type": "execute_result",
          "data": {
            "text/plain": [
              "array([ 0,  0,  0, -1,  0,  0,  0,  0,  0,  0,  0,  0,  0, -1, -1,  0,  0,\n",
              "        0,  0,  0,  0,  0,  0,  0,  0, -1,  0,  0,  0,  0,  0,  0,  0,  0,\n",
              "        0,  0,  0,  0,  0, -1,  0,  0,  0, -1,  0,  0,  0,  0,  0,  0, -1,\n",
              "        0,  0,  0,  0,  0,  0,  0,  0, -1, -1, -1, -1, -1, -1, -1, -1, -1,\n",
              "       -1, -1, -1, -1, -1, -1, -1, -1, -1, -1, -1, -1, -1, -1, -1, -1, -1,\n",
              "       -1, -1, -1, -1, -1, -1, -1, -1, -1, -1, -1, -1, -1, -1, -1, -1, -1,\n",
              "       -1, -1, -1, -1, -1, -1, -1, -1, -1, -1, -1, -1, -1, -1, -1, -1, -1,\n",
              "       -1, -1, -1, -1, -1, -1, -1, -1, -1, -1, -1, -1, -1, -1, -1, -1, -1,\n",
              "       -1, -1, -1, -1, -1, -1, -1, -1, -1, -1, -1, -1, -1, -1, -1, -1, -1,\n",
              "       -1, -1, -1, -1, -1, -1, -1, -1, -1, -1, -1, -1, -1, -1, -1, -1, -1,\n",
              "       -1, -1, -1, -1, -1, -1, -1, -1])"
            ]
          },
          "metadata": {},
          "execution_count": 31
        }
      ]
    },
    {
      "cell_type": "code",
      "metadata": {
        "colab": {
          "base_uri": "https://localhost:8080/",
          "height": 817
        },
        "id": "tKnwc4OFrPed",
        "outputId": "5fda89af-99c7-4a1d-e0fd-e08c804e3b06"
      },
      "source": [
        "labels = agrupador.labels_\n",
        "df_normalized['labels'] = labels\n",
        "fig = px.scatter_3d(df_normalized, x='Intensidade_de_cor', y='Alcool', z='Proline', color='labels', width=800, height=800)\n",
        "df_normalized.drop('labels', axis=1, inplace=True)\n",
        "fig.show()"
      ],
      "execution_count": 32,
      "outputs": [
        {
          "output_type": "display_data",
          "data": {
            "text/html": [
              "<html>\n",
              "<head><meta charset=\"utf-8\" /></head>\n",
              "<body>\n",
              "    <div>            <script src=\"https://cdnjs.cloudflare.com/ajax/libs/mathjax/2.7.5/MathJax.js?config=TeX-AMS-MML_SVG\"></script><script type=\"text/javascript\">if (window.MathJax) {MathJax.Hub.Config({SVG: {font: \"STIX-Web\"}});}</script>                <script type=\"text/javascript\">window.PlotlyConfig = {MathJaxConfig: 'local'};</script>\n",
              "        <script src=\"https://cdn.plot.ly/plotly-2.8.3.min.js\"></script>                <div id=\"068245e4-3904-42db-972b-e987e42210ce\" class=\"plotly-graph-div\" style=\"height:800px; width:800px;\"></div>            <script type=\"text/javascript\">                                    window.PLOTLYENV=window.PLOTLYENV || {};                                    if (document.getElementById(\"068245e4-3904-42db-972b-e987e42210ce\")) {                    Plotly.newPlot(                        \"068245e4-3904-42db-972b-e987e42210ce\",                        [{\"hovertemplate\":\"Intensidade_de_cor=%{x}<br>Alcool=%{y}<br>Proline=%{z}<br>labels=%{marker.color}<extra></extra>\",\"legendgroup\":\"\",\"marker\":{\"color\":[0,0,0,-1,0,0,0,0,0,0,0,0,0,-1,-1,0,0,0,0,0,0,0,0,0,0,-1,0,0,0,0,0,0,0,0,0,0,0,0,0,-1,0,0,0,-1,0,0,0,0,0,0,-1,0,0,0,0,0,0,0,0,-1,-1,-1,-1,-1,-1,-1,-1,-1,-1,-1,-1,-1,-1,-1,-1,-1,-1,-1,-1,-1,-1,-1,-1,-1,-1,-1,-1,-1,-1,-1,-1,-1,-1,-1,-1,-1,-1,-1,-1,-1,-1,-1,-1,-1,-1,-1,-1,-1,-1,-1,-1,-1,-1,-1,-1,-1,-1,-1,-1,-1,-1,-1,-1,-1,-1,-1,-1,-1,-1,-1,-1,-1,-1,-1,-1,-1,-1,-1,-1,-1,-1,-1,-1,-1,-1,-1,-1,-1,-1,-1,-1,-1,-1,-1,-1,-1,-1,-1,-1,-1,-1,-1,-1,-1,-1,-1,-1,-1,-1,-1,-1,-1,-1,-1,-1,-1,-1,-1],\"coloraxis\":\"coloraxis\",\"symbol\":\"circle\"},\"mode\":\"markers\",\"name\":\"\",\"scene\":\"scene\",\"showlegend\":false,\"x\":[0.3720136518771331,0.26450511945392485,0.3754266211604095,0.5563139931740614,0.2593856655290102,0.4667235494880546,0.3387372013651877,0.3216723549488054,0.33447098976109213,0.5068259385665529,0.3813993174061433,0.31740614334470985,0.3686006825938566,0.3515358361774744,0.5307167235494881,0.5136518771331058,0.41979522184300344,0.4539249146757679,0.6331058020477814,0.325938566552901,0.37286689419795227,0.27474402730375425,0.21501706484641633,0.22610921501706485,0.1911262798634812,0.1962457337883959,0.30034129692832756,0.22781569965870305,0.27474402730375425,0.29180887372013653,0.37713310580204773,0.4795221843003413,0.21843003412969278,0.3515358361774744,0.2491467576791809,0.325938566552901,0.2832764505119454,0.2534129692832764,0.20648464163822525,0.325938566552901,0.4138225255972696,0.2559726962457338,0.35409556313993173,0.2627986348122867,0.32081911262798635,0.33788395904436863,0.3088737201365188,0.4112627986348123,0.41979522184300344,0.6501706484641638,0.5051194539249146,0.3686006825938566,0.4923208191126279,0.42832764505119447,0.38993174061433444,0.424061433447099,0.4351535836177475,0.40273037542662116,0.4709897610921502,0.057167235494880536,0.1697952218430034,0.3813993174061433,0.21501706484641633,0.2704778156996587,0.1424914675767918,0.2832764505119454,0.3430034129692833,0.2901023890784983,0.16126279863481227,0.13395904436860068,0.15102389078498293,0.17918088737201363,0.2098976109215017,0.1766211604095563,0.16467576791808872,0.21501706484641633,0.2832764505119454,0.11689419795221842,0.18088737201365188,0.1100682593856655,0.10409556313993173,0.22354948805460748,0.07849829351535836,0.30034129692832756,0.15102389078498293,0.1143344709897611,0.09982935153583619,0.11262798634812288,0.1296928327645051,0.03924914675767918,0.09556313993174059,0.1979522184300341,0.15102389078498293,0.07423208191126279,0.16808873720136516,0.11262798634812288,0.10409556313993173,0.13822525597269622,0.27474402730375425,0.08703071672354948,0.17235494880546073,0.09982935153583619,0.1296928327645051,0.06655290102389078,0.14163822525597267,0.12116040955631399,0.18088737201365188,0.17235494880546073,0.12116040955631399,0.11689419795221842,0.13822525597269622,0.06143344709897611,0.21501706484641633,0.15358361774744025,0.13822525597269622,0.052901023890784965,0.057167235494880536,0.06655290102389078,0.18088737201365188,0.0,0.16808873720136516,0.40273037542662116,0.06825938566552903,0.11262798634812288,0.1296928327645051,0.12627986348122863,0.22696245733788392,0.14675767918088736,0.07167235494880547,0.11262798634812288,0.2406143344709897,0.3515358361774744,0.37713310580204773,0.31740614334470985,0.35580204778157,0.4965870307167235,0.21928327645051196,0.31740614334470985,0.37713310580204773,0.31058020477815695,0.2832764505119454,0.3686006825938566,0.26194539249146753,0.2662116040955631,0.5912969283276451,0.23208191126279862,0.3088737201365188,0.5435153583617748,0.6092150170648464,0.6928327645051194,0.6245733788395904,0.8122866894197952,0.4965870307167235,0.78839590443686,0.5392491467576791,0.5648464163822525,0.659556313993174,0.5307167235494881,0.9999999999999999,0.893344709897611,0.5435153583617748,0.39249146757679176,0.36689419795221845,0.341296928327645,0.7081911262798635,0.45563139931740615,0.8020477815699658,0.7662116040955631,0.6296928327645052,0.6160409556313993,0.36006825938566556,0.7354947952218429,0.7184300341296928,0.5477815699658704,0.5136518771331058,0.7610921501706484,0.6843003412969284,0.6757679180887372],\"y\":[0.8421052631578951,0.5710526315789473,0.560526315789474,0.8789473684210525,0.5815789473684214,0.8342105263157893,0.8842105263157896,0.797368421052632,1.0,0.7447368421052629,0.8078947368421052,0.8131578947368419,0.7157894736842105,0.9789473684210526,0.8815789473684212,0.6842105263157898,0.8605263157894738,0.736842105263158,0.831578947368421,0.6868421052631581,0.797368421052632,0.5,0.7052631578947373,0.47894736842105257,0.6499999999999999,0.5315789473684216,0.6210526315789475,0.5973684210526318,0.7473684210526317,0.7868421052631578,0.7105263157894739,0.6710526315789473,0.6973684210526314,0.7184210526315788,0.6526315789473687,0.6447368421052633,0.5921052631578947,0.5315789473684216,0.5368421052631582,0.8394736842105264,0.6657894736842107,0.6263157894736846,0.7500000000000004,0.5815789473684214,0.5315789473684216,0.836842105263158,0.8815789473684212,0.7552631578947371,0.8078947368421052,0.7657894736842104,0.5315789473684216,0.736842105263158,0.7342105263157896,0.7210526315789472,0.7131578947368422,0.6657894736842107,0.8394736842105264,0.594736842105263,0.7078947368421056,0.3526315789473684,0.34210526315789513,0.4236842105263161,0.6947368421052631,0.3526315789473684,0.30000000000000027,0.3526315789473684,0.5473684210526315,0.3526315789473684,0.6078947368421055,0.310526315789474,0.331578947368421,0.7447368421052629,0.6473684210526316,0.5157894736842108,0.2447368421052638,0.1657894736842107,0.5263157894736841,0.2131578947368422,0.34210526315789513,0.43947368421052646,0.2552631578947371,0.44473684210526354,0.2763157894736845,0.5315789473684216,0.2131578947368422,0.43157894736842106,0.29736842105263195,0.1631578947368424,0.16052631578947407,0.2763157894736845,0.2763157894736845,0.2552631578947371,0.43684210526315814,0.331578947368421,0.155263157894737,0.3789473684210529,0.20526315789473726,0.331578947368421,0.3526315789473684,0.331578947368421,0.2763157894736845,0.4131578947368424,0.34473684210526345,0.20789473684210558,0.38947368421052664,0.3657894736842109,0.3210526315789477,0.44473684210526354,0.3131578947368423,0.15263157894736867,0.11315789473684257,0.39210526315789496,0.19210526315789478,0.10000000000000053,0.2763157894736845,0.0,0.20789473684210558,0.3657894736842109,0.45789473684210513,0.2552631578947371,0.1105263157894738,0.13947368421052664,0.3657894736842109,0.5315789473684216,0.2210526315789476,0.2736842105263162,0.3684210526315792,0.20000000000000018,0.3526315789473684,0.26578947368421035,0.4815789473684209,0.4868421052631584,0.4684210526315793,0.43947368421052646,0.38947368421052664,0.4131578947368424,0.3210526315789477,0.3947368421052633,0.6473684210526316,0.47631578947368425,0.5,0.6131578947368421,0.655263157894737,0.6815789473684211,0.3210526315789477,0.560526315789474,0.7500000000000004,0.48421052631578965,0.6026315789473689,0.5394736842105265,0.6499999999999999,0.4631578947368422,0.5473684210526315,0.5789473684210531,0.4078947368421053,0.5631578947368423,0.7394736842105263,0.37368421052631584,0.8710526315789475,0.6447368421052633,0.3500000000000001,0.7000000000000002,0.47894736842105257,0.5078947368421058,0.7236842105263159,0.7105263157894739,0.6368421052631579,0.4710526315789476,0.6710526315789473,0.6236842105263158,0.3078947368421052,0.45789473684210513,0.823684210526316,0.7052631578947373,0.6236842105263158,0.5894736842105264,0.5631578947368423,0.8157894736842106],\"z\":[0.5613409415121255,0.5506419400855921,0.6469329529243938,0.8573466476462198,0.3259629101283881,0.8359486447931527,0.7218259629101285,0.725392296718973,0.5470756062767476,0.5470756062767476,0.8787446504992867,0.7146932952924394,0.7432239657631955,0.6219686162624822,0.9051355206847361,0.7360912981455064,0.7146932952924394,0.6077032810271041,1.0,0.40442225392296727,0.35805991440798857,0.35092724679029963,0.5399429386590585,0.5256776034236805,0.40442225392296727,0.3937232524964337,0.6540656205420827,0.7182596291012839,0.4543509272467904,0.5399429386590585,0.7182596291012839,0.8823109843081313,0.5078459343794579,0.6825962910128388,0.5827389443651926,0.4579172610556348,0.4293865905848788,0.5898716119828816,0.529243937232525,0.3437945791726106,0.36875891583452214,0.5399429386590585,0.5827389443651926,0.2867332382310984,0.43295292439372324,0.5720399429386591,0.5613409415121255,0.5042796005706135,0.557774607703281,0.7004279600570614,0.6219686162624822,0.7039942938659058,0.6504992867332383,0.782453637660485,0.557774607703281,0.6005706134094152,0.4935805991440799,0.7075606276747504,0.7182596291012839,0.17261055634807418,0.2867332382310984,0.12268188302425106,0.2510699001426534,0.10128388017118403,0.054921540656205386,0.2853067047075606,0.15977175463623397,0.1654778887303852,0.33666191155492153,0.31383737517831667,0.4222539229671898,0.09415121255349498,0.13837375178316688,0.5042796005706135,0.4336661911554922,0.10699001426533525,0.08131241084165478,0.15834522111269614,0.33666191155492153,0.1319543509272468,0.0,0.3109843081312411,0.2510699001426534,0.16904422253922965,0.17261055634807418,0.12268188302425106,0.15477888730385161,0.20256776034236804,0.2867332382310984,0.24750356633380885,0.1440798858773181,0.12268188302425106,0.15477888730385161,0.008559201141226797,0.047788873038516394,0.4700427960057062,0.24750356633380885,0.10699001426533525,0.27246790299572043,0.09129814550641938,0.30813124108416545,0.20256776034236804,0.11412268188302424,0.09771754636233951,0.2810271041369472,0.02639087018544936,0.1654778887303852,0.14978601997146931,0.02425106990014264,0.2867332382310984,0.20256776034236804,0.033523537803138354,0.23466476462196864,0.11126961483594863,0.07631954350927247,0.09201141226818829,0.15477888730385161,0.047788873038516394,0.06704707560627673,0.20399429386590587,0.24750356633380885,0.13338088445078458,0.062054208273894434,0.07275320970042795,0.07275320970042795,0.07132667617689017,0.052781740370898694,0.1340941512125535,0.0456490727532097,0.21540656205420824,0.2510699001426534,0.17974322396576317,0.20114122681883026,0.22967189728958629,0.2653352353780314,0.297432239657632,0.3152639087018545,0.16904422253922965,0.21540656205420824,0.2225392296718973,0.22967189728958629,0.35805991440798857,0.17261055634807418,0.1940085592011412,0.4115549215406562,0.3937232524964337,0.09771754636233951,0.24750356633380885,0.2653352353780314,0.1940085592011412,0.15834522111269614,0.1440798858773181,0.1048502139800285,0.2831669044222539,0.25820256776034234,0.318830242510699,0.1440798858773181,0.4293865905848788,0.27246790299572043,0.24393723252496433,0.17261055634807418,0.2867332382310984,0.20827389443651925,0.2831669044222539,0.2403708987161198,0.17261055634807418,0.297432239657632,0.29029957203994294,0.33666191155492153,0.2510699001426534,0.1654778887303852,0.1369472182596291,0.27246790299572043,0.3295292439372326,0.33666191155492153,0.3972895863052782,0.40085592011412274,0.20114122681883026],\"type\":\"scatter3d\"}],                        {\"template\":{\"data\":{\"bar\":[{\"error_x\":{\"color\":\"#2a3f5f\"},\"error_y\":{\"color\":\"#2a3f5f\"},\"marker\":{\"line\":{\"color\":\"#E5ECF6\",\"width\":0.5},\"pattern\":{\"fillmode\":\"overlay\",\"size\":10,\"solidity\":0.2}},\"type\":\"bar\"}],\"barpolar\":[{\"marker\":{\"line\":{\"color\":\"#E5ECF6\",\"width\":0.5},\"pattern\":{\"fillmode\":\"overlay\",\"size\":10,\"solidity\":0.2}},\"type\":\"barpolar\"}],\"carpet\":[{\"aaxis\":{\"endlinecolor\":\"#2a3f5f\",\"gridcolor\":\"white\",\"linecolor\":\"white\",\"minorgridcolor\":\"white\",\"startlinecolor\":\"#2a3f5f\"},\"baxis\":{\"endlinecolor\":\"#2a3f5f\",\"gridcolor\":\"white\",\"linecolor\":\"white\",\"minorgridcolor\":\"white\",\"startlinecolor\":\"#2a3f5f\"},\"type\":\"carpet\"}],\"choropleth\":[{\"colorbar\":{\"outlinewidth\":0,\"ticks\":\"\"},\"type\":\"choropleth\"}],\"contour\":[{\"colorbar\":{\"outlinewidth\":0,\"ticks\":\"\"},\"colorscale\":[[0.0,\"#0d0887\"],[0.1111111111111111,\"#46039f\"],[0.2222222222222222,\"#7201a8\"],[0.3333333333333333,\"#9c179e\"],[0.4444444444444444,\"#bd3786\"],[0.5555555555555556,\"#d8576b\"],[0.6666666666666666,\"#ed7953\"],[0.7777777777777778,\"#fb9f3a\"],[0.8888888888888888,\"#fdca26\"],[1.0,\"#f0f921\"]],\"type\":\"contour\"}],\"contourcarpet\":[{\"colorbar\":{\"outlinewidth\":0,\"ticks\":\"\"},\"type\":\"contourcarpet\"}],\"heatmap\":[{\"colorbar\":{\"outlinewidth\":0,\"ticks\":\"\"},\"colorscale\":[[0.0,\"#0d0887\"],[0.1111111111111111,\"#46039f\"],[0.2222222222222222,\"#7201a8\"],[0.3333333333333333,\"#9c179e\"],[0.4444444444444444,\"#bd3786\"],[0.5555555555555556,\"#d8576b\"],[0.6666666666666666,\"#ed7953\"],[0.7777777777777778,\"#fb9f3a\"],[0.8888888888888888,\"#fdca26\"],[1.0,\"#f0f921\"]],\"type\":\"heatmap\"}],\"heatmapgl\":[{\"colorbar\":{\"outlinewidth\":0,\"ticks\":\"\"},\"colorscale\":[[0.0,\"#0d0887\"],[0.1111111111111111,\"#46039f\"],[0.2222222222222222,\"#7201a8\"],[0.3333333333333333,\"#9c179e\"],[0.4444444444444444,\"#bd3786\"],[0.5555555555555556,\"#d8576b\"],[0.6666666666666666,\"#ed7953\"],[0.7777777777777778,\"#fb9f3a\"],[0.8888888888888888,\"#fdca26\"],[1.0,\"#f0f921\"]],\"type\":\"heatmapgl\"}],\"histogram\":[{\"marker\":{\"pattern\":{\"fillmode\":\"overlay\",\"size\":10,\"solidity\":0.2}},\"type\":\"histogram\"}],\"histogram2d\":[{\"colorbar\":{\"outlinewidth\":0,\"ticks\":\"\"},\"colorscale\":[[0.0,\"#0d0887\"],[0.1111111111111111,\"#46039f\"],[0.2222222222222222,\"#7201a8\"],[0.3333333333333333,\"#9c179e\"],[0.4444444444444444,\"#bd3786\"],[0.5555555555555556,\"#d8576b\"],[0.6666666666666666,\"#ed7953\"],[0.7777777777777778,\"#fb9f3a\"],[0.8888888888888888,\"#fdca26\"],[1.0,\"#f0f921\"]],\"type\":\"histogram2d\"}],\"histogram2dcontour\":[{\"colorbar\":{\"outlinewidth\":0,\"ticks\":\"\"},\"colorscale\":[[0.0,\"#0d0887\"],[0.1111111111111111,\"#46039f\"],[0.2222222222222222,\"#7201a8\"],[0.3333333333333333,\"#9c179e\"],[0.4444444444444444,\"#bd3786\"],[0.5555555555555556,\"#d8576b\"],[0.6666666666666666,\"#ed7953\"],[0.7777777777777778,\"#fb9f3a\"],[0.8888888888888888,\"#fdca26\"],[1.0,\"#f0f921\"]],\"type\":\"histogram2dcontour\"}],\"mesh3d\":[{\"colorbar\":{\"outlinewidth\":0,\"ticks\":\"\"},\"type\":\"mesh3d\"}],\"parcoords\":[{\"line\":{\"colorbar\":{\"outlinewidth\":0,\"ticks\":\"\"}},\"type\":\"parcoords\"}],\"pie\":[{\"automargin\":true,\"type\":\"pie\"}],\"scatter\":[{\"marker\":{\"colorbar\":{\"outlinewidth\":0,\"ticks\":\"\"}},\"type\":\"scatter\"}],\"scatter3d\":[{\"line\":{\"colorbar\":{\"outlinewidth\":0,\"ticks\":\"\"}},\"marker\":{\"colorbar\":{\"outlinewidth\":0,\"ticks\":\"\"}},\"type\":\"scatter3d\"}],\"scattercarpet\":[{\"marker\":{\"colorbar\":{\"outlinewidth\":0,\"ticks\":\"\"}},\"type\":\"scattercarpet\"}],\"scattergeo\":[{\"marker\":{\"colorbar\":{\"outlinewidth\":0,\"ticks\":\"\"}},\"type\":\"scattergeo\"}],\"scattergl\":[{\"marker\":{\"colorbar\":{\"outlinewidth\":0,\"ticks\":\"\"}},\"type\":\"scattergl\"}],\"scattermapbox\":[{\"marker\":{\"colorbar\":{\"outlinewidth\":0,\"ticks\":\"\"}},\"type\":\"scattermapbox\"}],\"scatterpolar\":[{\"marker\":{\"colorbar\":{\"outlinewidth\":0,\"ticks\":\"\"}},\"type\":\"scatterpolar\"}],\"scatterpolargl\":[{\"marker\":{\"colorbar\":{\"outlinewidth\":0,\"ticks\":\"\"}},\"type\":\"scatterpolargl\"}],\"scatterternary\":[{\"marker\":{\"colorbar\":{\"outlinewidth\":0,\"ticks\":\"\"}},\"type\":\"scatterternary\"}],\"surface\":[{\"colorbar\":{\"outlinewidth\":0,\"ticks\":\"\"},\"colorscale\":[[0.0,\"#0d0887\"],[0.1111111111111111,\"#46039f\"],[0.2222222222222222,\"#7201a8\"],[0.3333333333333333,\"#9c179e\"],[0.4444444444444444,\"#bd3786\"],[0.5555555555555556,\"#d8576b\"],[0.6666666666666666,\"#ed7953\"],[0.7777777777777778,\"#fb9f3a\"],[0.8888888888888888,\"#fdca26\"],[1.0,\"#f0f921\"]],\"type\":\"surface\"}],\"table\":[{\"cells\":{\"fill\":{\"color\":\"#EBF0F8\"},\"line\":{\"color\":\"white\"}},\"header\":{\"fill\":{\"color\":\"#C8D4E3\"},\"line\":{\"color\":\"white\"}},\"type\":\"table\"}]},\"layout\":{\"annotationdefaults\":{\"arrowcolor\":\"#2a3f5f\",\"arrowhead\":0,\"arrowwidth\":1},\"autotypenumbers\":\"strict\",\"coloraxis\":{\"colorbar\":{\"outlinewidth\":0,\"ticks\":\"\"}},\"colorscale\":{\"diverging\":[[0,\"#8e0152\"],[0.1,\"#c51b7d\"],[0.2,\"#de77ae\"],[0.3,\"#f1b6da\"],[0.4,\"#fde0ef\"],[0.5,\"#f7f7f7\"],[0.6,\"#e6f5d0\"],[0.7,\"#b8e186\"],[0.8,\"#7fbc41\"],[0.9,\"#4d9221\"],[1,\"#276419\"]],\"sequential\":[[0.0,\"#0d0887\"],[0.1111111111111111,\"#46039f\"],[0.2222222222222222,\"#7201a8\"],[0.3333333333333333,\"#9c179e\"],[0.4444444444444444,\"#bd3786\"],[0.5555555555555556,\"#d8576b\"],[0.6666666666666666,\"#ed7953\"],[0.7777777777777778,\"#fb9f3a\"],[0.8888888888888888,\"#fdca26\"],[1.0,\"#f0f921\"]],\"sequentialminus\":[[0.0,\"#0d0887\"],[0.1111111111111111,\"#46039f\"],[0.2222222222222222,\"#7201a8\"],[0.3333333333333333,\"#9c179e\"],[0.4444444444444444,\"#bd3786\"],[0.5555555555555556,\"#d8576b\"],[0.6666666666666666,\"#ed7953\"],[0.7777777777777778,\"#fb9f3a\"],[0.8888888888888888,\"#fdca26\"],[1.0,\"#f0f921\"]]},\"colorway\":[\"#636efa\",\"#EF553B\",\"#00cc96\",\"#ab63fa\",\"#FFA15A\",\"#19d3f3\",\"#FF6692\",\"#B6E880\",\"#FF97FF\",\"#FECB52\"],\"font\":{\"color\":\"#2a3f5f\"},\"geo\":{\"bgcolor\":\"white\",\"lakecolor\":\"white\",\"landcolor\":\"#E5ECF6\",\"showlakes\":true,\"showland\":true,\"subunitcolor\":\"white\"},\"hoverlabel\":{\"align\":\"left\"},\"hovermode\":\"closest\",\"mapbox\":{\"style\":\"light\"},\"paper_bgcolor\":\"white\",\"plot_bgcolor\":\"#E5ECF6\",\"polar\":{\"angularaxis\":{\"gridcolor\":\"white\",\"linecolor\":\"white\",\"ticks\":\"\"},\"bgcolor\":\"#E5ECF6\",\"radialaxis\":{\"gridcolor\":\"white\",\"linecolor\":\"white\",\"ticks\":\"\"}},\"scene\":{\"xaxis\":{\"backgroundcolor\":\"#E5ECF6\",\"gridcolor\":\"white\",\"gridwidth\":2,\"linecolor\":\"white\",\"showbackground\":true,\"ticks\":\"\",\"zerolinecolor\":\"white\"},\"yaxis\":{\"backgroundcolor\":\"#E5ECF6\",\"gridcolor\":\"white\",\"gridwidth\":2,\"linecolor\":\"white\",\"showbackground\":true,\"ticks\":\"\",\"zerolinecolor\":\"white\"},\"zaxis\":{\"backgroundcolor\":\"#E5ECF6\",\"gridcolor\":\"white\",\"gridwidth\":2,\"linecolor\":\"white\",\"showbackground\":true,\"ticks\":\"\",\"zerolinecolor\":\"white\"}},\"shapedefaults\":{\"line\":{\"color\":\"#2a3f5f\"}},\"ternary\":{\"aaxis\":{\"gridcolor\":\"white\",\"linecolor\":\"white\",\"ticks\":\"\"},\"baxis\":{\"gridcolor\":\"white\",\"linecolor\":\"white\",\"ticks\":\"\"},\"bgcolor\":\"#E5ECF6\",\"caxis\":{\"gridcolor\":\"white\",\"linecolor\":\"white\",\"ticks\":\"\"}},\"title\":{\"x\":0.05},\"xaxis\":{\"automargin\":true,\"gridcolor\":\"white\",\"linecolor\":\"white\",\"ticks\":\"\",\"title\":{\"standoff\":15},\"zerolinecolor\":\"white\",\"zerolinewidth\":2},\"yaxis\":{\"automargin\":true,\"gridcolor\":\"white\",\"linecolor\":\"white\",\"ticks\":\"\",\"title\":{\"standoff\":15},\"zerolinecolor\":\"white\",\"zerolinewidth\":2}}},\"scene\":{\"domain\":{\"x\":[0.0,1.0],\"y\":[0.0,1.0]},\"xaxis\":{\"title\":{\"text\":\"Intensidade_de_cor\"}},\"yaxis\":{\"title\":{\"text\":\"Alcool\"}},\"zaxis\":{\"title\":{\"text\":\"Proline\"}}},\"coloraxis\":{\"colorbar\":{\"title\":{\"text\":\"labels\"}},\"colorscale\":[[0.0,\"#0d0887\"],[0.1111111111111111,\"#46039f\"],[0.2222222222222222,\"#7201a8\"],[0.3333333333333333,\"#9c179e\"],[0.4444444444444444,\"#bd3786\"],[0.5555555555555556,\"#d8576b\"],[0.6666666666666666,\"#ed7953\"],[0.7777777777777778,\"#fb9f3a\"],[0.8888888888888888,\"#fdca26\"],[1.0,\"#f0f921\"]]},\"legend\":{\"tracegroupgap\":0},\"margin\":{\"t\":60},\"height\":800,\"width\":800},                        {\"responsive\": true}                    ).then(function(){\n",
              "                            \n",
              "var gd = document.getElementById('068245e4-3904-42db-972b-e987e42210ce');\n",
              "var x = new MutationObserver(function (mutations, observer) {{\n",
              "        var display = window.getComputedStyle(gd).display;\n",
              "        if (!display || display === 'none') {{\n",
              "            console.log([gd, 'removed!']);\n",
              "            Plotly.purge(gd);\n",
              "            observer.disconnect();\n",
              "        }}\n",
              "}});\n",
              "\n",
              "// Listen for the removal of the full notebook cells\n",
              "var notebookContainer = gd.closest('#notebook-container');\n",
              "if (notebookContainer) {{\n",
              "    x.observe(notebookContainer, {childList: true});\n",
              "}}\n",
              "\n",
              "// Listen for the clearing of the current output cell\n",
              "var outputEl = gd.closest('.output');\n",
              "if (outputEl) {{\n",
              "    x.observe(outputEl, {childList: true});\n",
              "}}\n",
              "\n",
              "                        })                };                            </script>        </div>\n",
              "</body>\n",
              "</html>"
            ]
          },
          "metadata": {}
        }
      ]
    },
    {
      "cell_type": "markdown",
      "metadata": {
        "id": "7z1mUsU57xgr"
      },
      "source": [
        "Ficamos com um único cluster e o resto das amostras como ruído.\n",
        "\n",
        "Se aumentarmos o min_samples para 80, precisaremos de 80 amostras para formar um cluster. Assim, todas amostram serão ruído."
      ]
    },
    {
      "cell_type": "code",
      "metadata": {
        "colab": {
          "base_uri": "https://localhost:8080/"
        },
        "id": "SItf1O4_8Jjg",
        "outputId": "d655c59e-869b-42d7-859d-80b5047ecd34"
      },
      "source": [
        "agrupador = DBSCAN(eps=1.5, min_samples=80, metric='manhattan')\n",
        "agrupador.fit(df_normalized)\n",
        "agrupador.labels_"
      ],
      "execution_count": 33,
      "outputs": [
        {
          "output_type": "execute_result",
          "data": {
            "text/plain": [
              "array([-1, -1, -1, -1, -1, -1, -1, -1, -1, -1, -1, -1, -1, -1, -1, -1, -1,\n",
              "       -1, -1, -1, -1, -1, -1, -1, -1, -1, -1, -1, -1, -1, -1, -1, -1, -1,\n",
              "       -1, -1, -1, -1, -1, -1, -1, -1, -1, -1, -1, -1, -1, -1, -1, -1, -1,\n",
              "       -1, -1, -1, -1, -1, -1, -1, -1, -1, -1, -1, -1, -1, -1, -1, -1, -1,\n",
              "       -1, -1, -1, -1, -1, -1, -1, -1, -1, -1, -1, -1, -1, -1, -1, -1, -1,\n",
              "       -1, -1, -1, -1, -1, -1, -1, -1, -1, -1, -1, -1, -1, -1, -1, -1, -1,\n",
              "       -1, -1, -1, -1, -1, -1, -1, -1, -1, -1, -1, -1, -1, -1, -1, -1, -1,\n",
              "       -1, -1, -1, -1, -1, -1, -1, -1, -1, -1, -1, -1, -1, -1, -1, -1, -1,\n",
              "       -1, -1, -1, -1, -1, -1, -1, -1, -1, -1, -1, -1, -1, -1, -1, -1, -1,\n",
              "       -1, -1, -1, -1, -1, -1, -1, -1, -1, -1, -1, -1, -1, -1, -1, -1, -1,\n",
              "       -1, -1, -1, -1, -1, -1, -1, -1])"
            ]
          },
          "metadata": {},
          "execution_count": 33
        }
      ]
    },
    {
      "cell_type": "markdown",
      "metadata": {
        "id": "tag4XSbh8b12"
      },
      "source": [
        "Agora, vamos alterar o parâmetro metric para 'euclidian'."
      ]
    },
    {
      "cell_type": "code",
      "metadata": {
        "colab": {
          "base_uri": "https://localhost:8080/"
        },
        "id": "VfPIr2YS8LA3",
        "outputId": "eb617af8-05eb-4b07-bfb2-5120a04c321b"
      },
      "source": [
        "agrupador = DBSCAN(eps=1.5, min_samples=15, metric='euclidean')\n",
        "agrupador.fit(df_normalized)\n",
        "agrupador.labels_"
      ],
      "execution_count": 34,
      "outputs": [
        {
          "output_type": "execute_result",
          "data": {
            "text/plain": [
              "array([0, 0, 0, 0, 0, 0, 0, 0, 0, 0, 0, 0, 0, 0, 0, 0, 0, 0, 0, 0, 0, 0,\n",
              "       0, 0, 0, 0, 0, 0, 0, 0, 0, 0, 0, 0, 0, 0, 0, 0, 0, 0, 0, 0, 0, 0,\n",
              "       0, 0, 0, 0, 0, 0, 0, 0, 0, 0, 0, 0, 0, 0, 0, 0, 0, 0, 0, 0, 0, 0,\n",
              "       0, 0, 0, 0, 0, 0, 0, 0, 0, 0, 0, 0, 0, 0, 0, 0, 0, 0, 0, 0, 0, 0,\n",
              "       0, 0, 0, 0, 0, 0, 0, 0, 0, 0, 0, 0, 0, 0, 0, 0, 0, 0, 0, 0, 0, 0,\n",
              "       0, 0, 0, 0, 0, 0, 0, 0, 0, 0, 0, 0, 0, 0, 0, 0, 0, 0, 0, 0, 0, 0,\n",
              "       0, 0, 0, 0, 0, 0, 0, 0, 0, 0, 0, 0, 0, 0, 0, 0, 0, 0, 0, 0, 0, 0,\n",
              "       0, 0, 0, 0, 0, 0, 0, 0, 0, 0, 0, 0, 0, 0, 0, 0, 0, 0, 0, 0, 0, 0,\n",
              "       0, 0])"
            ]
          },
          "metadata": {},
          "execution_count": 34
        }
      ]
    },
    {
      "cell_type": "markdown",
      "metadata": {
        "id": "212L7rWbjVVp"
      },
      "source": [
        "Vamos seguir com uma sequência de testes alterando os parâmetros e observando os resultados:"
      ]
    },
    {
      "cell_type": "code",
      "metadata": {
        "colab": {
          "base_uri": "https://localhost:8080/"
        },
        "id": "DAfbkRNM8or4",
        "outputId": "18aa9481-0086-4f9c-8324-dc8086aec999"
      },
      "source": [
        "agrupador = DBSCAN(eps=0.7, min_samples=15, metric='euclidean')\n",
        "agrupador.fit(df_normalized)\n",
        "agrupador.labels_"
      ],
      "execution_count": 35,
      "outputs": [
        {
          "output_type": "execute_result",
          "data": {
            "text/plain": [
              "array([ 0,  0,  0,  0,  0,  0,  0,  0,  0,  0,  0,  0,  0,  0,  0,  0,  0,\n",
              "        0,  0,  0,  0,  0,  0,  0,  0,  0,  0,  0,  0,  0,  0,  0,  0,  0,\n",
              "        0,  0,  0,  0,  0,  0,  0,  0,  0,  0,  0,  0,  0,  0,  0,  0,  0,\n",
              "        0,  0,  0,  0,  0,  0,  0,  0,  0,  0,  0,  0,  0,  0,  0,  0,  0,\n",
              "        0, -1,  0,  0,  0, -1,  0,  0,  0,  0,  0,  0,  0,  0,  0,  0,  0,\n",
              "        0,  0,  0,  0,  0,  0,  0,  0,  0,  0, -1, -1,  0,  0,  0,  0,  0,\n",
              "        0,  0,  0,  0,  0,  0,  0,  0, -1,  0,  0,  0,  0,  0,  0,  0,  0,\n",
              "        0,  0, -1,  0,  0,  0,  0,  0,  0,  0,  0,  1,  1,  1,  1,  1,  1,\n",
              "        1,  1,  1,  1,  1,  1,  1,  1,  1,  1,  1,  1,  1,  1,  1,  1,  1,\n",
              "        1,  1,  1,  1,  1, -1,  1,  1,  1,  1,  1,  1,  1,  1,  1,  1,  1,\n",
              "        1,  1,  1,  1,  1,  1,  1,  1])"
            ]
          },
          "metadata": {},
          "execution_count": 35
        }
      ]
    },
    {
      "cell_type": "code",
      "metadata": {
        "colab": {
          "base_uri": "https://localhost:8080/",
          "height": 817
        },
        "id": "ITQIQc8xrTKm",
        "outputId": "7e979e7c-26ab-4eba-c070-27696a74d224"
      },
      "source": [
        "labels = agrupador.labels_\n",
        "df_normalized['labels'] = labels\n",
        "fig = px.scatter_3d(df_normalized, x='Intensidade_de_cor', y='Alcool', z='Proline', color='labels', width=800, height=800)\n",
        "df_normalized.drop('labels', axis=1, inplace=True)\n",
        "fig.show()"
      ],
      "execution_count": 36,
      "outputs": [
        {
          "output_type": "display_data",
          "data": {
            "text/html": [
              "<html>\n",
              "<head><meta charset=\"utf-8\" /></head>\n",
              "<body>\n",
              "    <div>            <script src=\"https://cdnjs.cloudflare.com/ajax/libs/mathjax/2.7.5/MathJax.js?config=TeX-AMS-MML_SVG\"></script><script type=\"text/javascript\">if (window.MathJax) {MathJax.Hub.Config({SVG: {font: \"STIX-Web\"}});}</script>                <script type=\"text/javascript\">window.PlotlyConfig = {MathJaxConfig: 'local'};</script>\n",
              "        <script src=\"https://cdn.plot.ly/plotly-2.8.3.min.js\"></script>                <div id=\"22c717e5-34d6-4760-98de-aec94e153270\" class=\"plotly-graph-div\" style=\"height:800px; width:800px;\"></div>            <script type=\"text/javascript\">                                    window.PLOTLYENV=window.PLOTLYENV || {};                                    if (document.getElementById(\"22c717e5-34d6-4760-98de-aec94e153270\")) {                    Plotly.newPlot(                        \"22c717e5-34d6-4760-98de-aec94e153270\",                        [{\"hovertemplate\":\"Intensidade_de_cor=%{x}<br>Alcool=%{y}<br>Proline=%{z}<br>labels=%{marker.color}<extra></extra>\",\"legendgroup\":\"\",\"marker\":{\"color\":[0,0,0,0,0,0,0,0,0,0,0,0,0,0,0,0,0,0,0,0,0,0,0,0,0,0,0,0,0,0,0,0,0,0,0,0,0,0,0,0,0,0,0,0,0,0,0,0,0,0,0,0,0,0,0,0,0,0,0,0,0,0,0,0,0,0,0,0,0,-1,0,0,0,-1,0,0,0,0,0,0,0,0,0,0,0,0,0,0,0,0,0,0,0,0,0,-1,-1,0,0,0,0,0,0,0,0,0,0,0,0,0,-1,0,0,0,0,0,0,0,0,0,0,-1,0,0,0,0,0,0,0,0,1,1,1,1,1,1,1,1,1,1,1,1,1,1,1,1,1,1,1,1,1,1,1,1,1,1,1,1,-1,1,1,1,1,1,1,1,1,1,1,1,1,1,1,1,1,1,1,1],\"coloraxis\":\"coloraxis\",\"symbol\":\"circle\"},\"mode\":\"markers\",\"name\":\"\",\"scene\":\"scene\",\"showlegend\":false,\"x\":[0.3720136518771331,0.26450511945392485,0.3754266211604095,0.5563139931740614,0.2593856655290102,0.4667235494880546,0.3387372013651877,0.3216723549488054,0.33447098976109213,0.5068259385665529,0.3813993174061433,0.31740614334470985,0.3686006825938566,0.3515358361774744,0.5307167235494881,0.5136518771331058,0.41979522184300344,0.4539249146757679,0.6331058020477814,0.325938566552901,0.37286689419795227,0.27474402730375425,0.21501706484641633,0.22610921501706485,0.1911262798634812,0.1962457337883959,0.30034129692832756,0.22781569965870305,0.27474402730375425,0.29180887372013653,0.37713310580204773,0.4795221843003413,0.21843003412969278,0.3515358361774744,0.2491467576791809,0.325938566552901,0.2832764505119454,0.2534129692832764,0.20648464163822525,0.325938566552901,0.4138225255972696,0.2559726962457338,0.35409556313993173,0.2627986348122867,0.32081911262798635,0.33788395904436863,0.3088737201365188,0.4112627986348123,0.41979522184300344,0.6501706484641638,0.5051194539249146,0.3686006825938566,0.4923208191126279,0.42832764505119447,0.38993174061433444,0.424061433447099,0.4351535836177475,0.40273037542662116,0.4709897610921502,0.057167235494880536,0.1697952218430034,0.3813993174061433,0.21501706484641633,0.2704778156996587,0.1424914675767918,0.2832764505119454,0.3430034129692833,0.2901023890784983,0.16126279863481227,0.13395904436860068,0.15102389078498293,0.17918088737201363,0.2098976109215017,0.1766211604095563,0.16467576791808872,0.21501706484641633,0.2832764505119454,0.11689419795221842,0.18088737201365188,0.1100682593856655,0.10409556313993173,0.22354948805460748,0.07849829351535836,0.30034129692832756,0.15102389078498293,0.1143344709897611,0.09982935153583619,0.11262798634812288,0.1296928327645051,0.03924914675767918,0.09556313993174059,0.1979522184300341,0.15102389078498293,0.07423208191126279,0.16808873720136516,0.11262798634812288,0.10409556313993173,0.13822525597269622,0.27474402730375425,0.08703071672354948,0.17235494880546073,0.09982935153583619,0.1296928327645051,0.06655290102389078,0.14163822525597267,0.12116040955631399,0.18088737201365188,0.17235494880546073,0.12116040955631399,0.11689419795221842,0.13822525597269622,0.06143344709897611,0.21501706484641633,0.15358361774744025,0.13822525597269622,0.052901023890784965,0.057167235494880536,0.06655290102389078,0.18088737201365188,0.0,0.16808873720136516,0.40273037542662116,0.06825938566552903,0.11262798634812288,0.1296928327645051,0.12627986348122863,0.22696245733788392,0.14675767918088736,0.07167235494880547,0.11262798634812288,0.2406143344709897,0.3515358361774744,0.37713310580204773,0.31740614334470985,0.35580204778157,0.4965870307167235,0.21928327645051196,0.31740614334470985,0.37713310580204773,0.31058020477815695,0.2832764505119454,0.3686006825938566,0.26194539249146753,0.2662116040955631,0.5912969283276451,0.23208191126279862,0.3088737201365188,0.5435153583617748,0.6092150170648464,0.6928327645051194,0.6245733788395904,0.8122866894197952,0.4965870307167235,0.78839590443686,0.5392491467576791,0.5648464163822525,0.659556313993174,0.5307167235494881,0.9999999999999999,0.893344709897611,0.5435153583617748,0.39249146757679176,0.36689419795221845,0.341296928327645,0.7081911262798635,0.45563139931740615,0.8020477815699658,0.7662116040955631,0.6296928327645052,0.6160409556313993,0.36006825938566556,0.7354947952218429,0.7184300341296928,0.5477815699658704,0.5136518771331058,0.7610921501706484,0.6843003412969284,0.6757679180887372],\"y\":[0.8421052631578951,0.5710526315789473,0.560526315789474,0.8789473684210525,0.5815789473684214,0.8342105263157893,0.8842105263157896,0.797368421052632,1.0,0.7447368421052629,0.8078947368421052,0.8131578947368419,0.7157894736842105,0.9789473684210526,0.8815789473684212,0.6842105263157898,0.8605263157894738,0.736842105263158,0.831578947368421,0.6868421052631581,0.797368421052632,0.5,0.7052631578947373,0.47894736842105257,0.6499999999999999,0.5315789473684216,0.6210526315789475,0.5973684210526318,0.7473684210526317,0.7868421052631578,0.7105263157894739,0.6710526315789473,0.6973684210526314,0.7184210526315788,0.6526315789473687,0.6447368421052633,0.5921052631578947,0.5315789473684216,0.5368421052631582,0.8394736842105264,0.6657894736842107,0.6263157894736846,0.7500000000000004,0.5815789473684214,0.5315789473684216,0.836842105263158,0.8815789473684212,0.7552631578947371,0.8078947368421052,0.7657894736842104,0.5315789473684216,0.736842105263158,0.7342105263157896,0.7210526315789472,0.7131578947368422,0.6657894736842107,0.8394736842105264,0.594736842105263,0.7078947368421056,0.3526315789473684,0.34210526315789513,0.4236842105263161,0.6947368421052631,0.3526315789473684,0.30000000000000027,0.3526315789473684,0.5473684210526315,0.3526315789473684,0.6078947368421055,0.310526315789474,0.331578947368421,0.7447368421052629,0.6473684210526316,0.5157894736842108,0.2447368421052638,0.1657894736842107,0.5263157894736841,0.2131578947368422,0.34210526315789513,0.43947368421052646,0.2552631578947371,0.44473684210526354,0.2763157894736845,0.5315789473684216,0.2131578947368422,0.43157894736842106,0.29736842105263195,0.1631578947368424,0.16052631578947407,0.2763157894736845,0.2763157894736845,0.2552631578947371,0.43684210526315814,0.331578947368421,0.155263157894737,0.3789473684210529,0.20526315789473726,0.331578947368421,0.3526315789473684,0.331578947368421,0.2763157894736845,0.4131578947368424,0.34473684210526345,0.20789473684210558,0.38947368421052664,0.3657894736842109,0.3210526315789477,0.44473684210526354,0.3131578947368423,0.15263157894736867,0.11315789473684257,0.39210526315789496,0.19210526315789478,0.10000000000000053,0.2763157894736845,0.0,0.20789473684210558,0.3657894736842109,0.45789473684210513,0.2552631578947371,0.1105263157894738,0.13947368421052664,0.3657894736842109,0.5315789473684216,0.2210526315789476,0.2736842105263162,0.3684210526315792,0.20000000000000018,0.3526315789473684,0.26578947368421035,0.4815789473684209,0.4868421052631584,0.4684210526315793,0.43947368421052646,0.38947368421052664,0.4131578947368424,0.3210526315789477,0.3947368421052633,0.6473684210526316,0.47631578947368425,0.5,0.6131578947368421,0.655263157894737,0.6815789473684211,0.3210526315789477,0.560526315789474,0.7500000000000004,0.48421052631578965,0.6026315789473689,0.5394736842105265,0.6499999999999999,0.4631578947368422,0.5473684210526315,0.5789473684210531,0.4078947368421053,0.5631578947368423,0.7394736842105263,0.37368421052631584,0.8710526315789475,0.6447368421052633,0.3500000000000001,0.7000000000000002,0.47894736842105257,0.5078947368421058,0.7236842105263159,0.7105263157894739,0.6368421052631579,0.4710526315789476,0.6710526315789473,0.6236842105263158,0.3078947368421052,0.45789473684210513,0.823684210526316,0.7052631578947373,0.6236842105263158,0.5894736842105264,0.5631578947368423,0.8157894736842106],\"z\":[0.5613409415121255,0.5506419400855921,0.6469329529243938,0.8573466476462198,0.3259629101283881,0.8359486447931527,0.7218259629101285,0.725392296718973,0.5470756062767476,0.5470756062767476,0.8787446504992867,0.7146932952924394,0.7432239657631955,0.6219686162624822,0.9051355206847361,0.7360912981455064,0.7146932952924394,0.6077032810271041,1.0,0.40442225392296727,0.35805991440798857,0.35092724679029963,0.5399429386590585,0.5256776034236805,0.40442225392296727,0.3937232524964337,0.6540656205420827,0.7182596291012839,0.4543509272467904,0.5399429386590585,0.7182596291012839,0.8823109843081313,0.5078459343794579,0.6825962910128388,0.5827389443651926,0.4579172610556348,0.4293865905848788,0.5898716119828816,0.529243937232525,0.3437945791726106,0.36875891583452214,0.5399429386590585,0.5827389443651926,0.2867332382310984,0.43295292439372324,0.5720399429386591,0.5613409415121255,0.5042796005706135,0.557774607703281,0.7004279600570614,0.6219686162624822,0.7039942938659058,0.6504992867332383,0.782453637660485,0.557774607703281,0.6005706134094152,0.4935805991440799,0.7075606276747504,0.7182596291012839,0.17261055634807418,0.2867332382310984,0.12268188302425106,0.2510699001426534,0.10128388017118403,0.054921540656205386,0.2853067047075606,0.15977175463623397,0.1654778887303852,0.33666191155492153,0.31383737517831667,0.4222539229671898,0.09415121255349498,0.13837375178316688,0.5042796005706135,0.4336661911554922,0.10699001426533525,0.08131241084165478,0.15834522111269614,0.33666191155492153,0.1319543509272468,0.0,0.3109843081312411,0.2510699001426534,0.16904422253922965,0.17261055634807418,0.12268188302425106,0.15477888730385161,0.20256776034236804,0.2867332382310984,0.24750356633380885,0.1440798858773181,0.12268188302425106,0.15477888730385161,0.008559201141226797,0.047788873038516394,0.4700427960057062,0.24750356633380885,0.10699001426533525,0.27246790299572043,0.09129814550641938,0.30813124108416545,0.20256776034236804,0.11412268188302424,0.09771754636233951,0.2810271041369472,0.02639087018544936,0.1654778887303852,0.14978601997146931,0.02425106990014264,0.2867332382310984,0.20256776034236804,0.033523537803138354,0.23466476462196864,0.11126961483594863,0.07631954350927247,0.09201141226818829,0.15477888730385161,0.047788873038516394,0.06704707560627673,0.20399429386590587,0.24750356633380885,0.13338088445078458,0.062054208273894434,0.07275320970042795,0.07275320970042795,0.07132667617689017,0.052781740370898694,0.1340941512125535,0.0456490727532097,0.21540656205420824,0.2510699001426534,0.17974322396576317,0.20114122681883026,0.22967189728958629,0.2653352353780314,0.297432239657632,0.3152639087018545,0.16904422253922965,0.21540656205420824,0.2225392296718973,0.22967189728958629,0.35805991440798857,0.17261055634807418,0.1940085592011412,0.4115549215406562,0.3937232524964337,0.09771754636233951,0.24750356633380885,0.2653352353780314,0.1940085592011412,0.15834522111269614,0.1440798858773181,0.1048502139800285,0.2831669044222539,0.25820256776034234,0.318830242510699,0.1440798858773181,0.4293865905848788,0.27246790299572043,0.24393723252496433,0.17261055634807418,0.2867332382310984,0.20827389443651925,0.2831669044222539,0.2403708987161198,0.17261055634807418,0.297432239657632,0.29029957203994294,0.33666191155492153,0.2510699001426534,0.1654778887303852,0.1369472182596291,0.27246790299572043,0.3295292439372326,0.33666191155492153,0.3972895863052782,0.40085592011412274,0.20114122681883026],\"type\":\"scatter3d\"}],                        {\"template\":{\"data\":{\"bar\":[{\"error_x\":{\"color\":\"#2a3f5f\"},\"error_y\":{\"color\":\"#2a3f5f\"},\"marker\":{\"line\":{\"color\":\"#E5ECF6\",\"width\":0.5},\"pattern\":{\"fillmode\":\"overlay\",\"size\":10,\"solidity\":0.2}},\"type\":\"bar\"}],\"barpolar\":[{\"marker\":{\"line\":{\"color\":\"#E5ECF6\",\"width\":0.5},\"pattern\":{\"fillmode\":\"overlay\",\"size\":10,\"solidity\":0.2}},\"type\":\"barpolar\"}],\"carpet\":[{\"aaxis\":{\"endlinecolor\":\"#2a3f5f\",\"gridcolor\":\"white\",\"linecolor\":\"white\",\"minorgridcolor\":\"white\",\"startlinecolor\":\"#2a3f5f\"},\"baxis\":{\"endlinecolor\":\"#2a3f5f\",\"gridcolor\":\"white\",\"linecolor\":\"white\",\"minorgridcolor\":\"white\",\"startlinecolor\":\"#2a3f5f\"},\"type\":\"carpet\"}],\"choropleth\":[{\"colorbar\":{\"outlinewidth\":0,\"ticks\":\"\"},\"type\":\"choropleth\"}],\"contour\":[{\"colorbar\":{\"outlinewidth\":0,\"ticks\":\"\"},\"colorscale\":[[0.0,\"#0d0887\"],[0.1111111111111111,\"#46039f\"],[0.2222222222222222,\"#7201a8\"],[0.3333333333333333,\"#9c179e\"],[0.4444444444444444,\"#bd3786\"],[0.5555555555555556,\"#d8576b\"],[0.6666666666666666,\"#ed7953\"],[0.7777777777777778,\"#fb9f3a\"],[0.8888888888888888,\"#fdca26\"],[1.0,\"#f0f921\"]],\"type\":\"contour\"}],\"contourcarpet\":[{\"colorbar\":{\"outlinewidth\":0,\"ticks\":\"\"},\"type\":\"contourcarpet\"}],\"heatmap\":[{\"colorbar\":{\"outlinewidth\":0,\"ticks\":\"\"},\"colorscale\":[[0.0,\"#0d0887\"],[0.1111111111111111,\"#46039f\"],[0.2222222222222222,\"#7201a8\"],[0.3333333333333333,\"#9c179e\"],[0.4444444444444444,\"#bd3786\"],[0.5555555555555556,\"#d8576b\"],[0.6666666666666666,\"#ed7953\"],[0.7777777777777778,\"#fb9f3a\"],[0.8888888888888888,\"#fdca26\"],[1.0,\"#f0f921\"]],\"type\":\"heatmap\"}],\"heatmapgl\":[{\"colorbar\":{\"outlinewidth\":0,\"ticks\":\"\"},\"colorscale\":[[0.0,\"#0d0887\"],[0.1111111111111111,\"#46039f\"],[0.2222222222222222,\"#7201a8\"],[0.3333333333333333,\"#9c179e\"],[0.4444444444444444,\"#bd3786\"],[0.5555555555555556,\"#d8576b\"],[0.6666666666666666,\"#ed7953\"],[0.7777777777777778,\"#fb9f3a\"],[0.8888888888888888,\"#fdca26\"],[1.0,\"#f0f921\"]],\"type\":\"heatmapgl\"}],\"histogram\":[{\"marker\":{\"pattern\":{\"fillmode\":\"overlay\",\"size\":10,\"solidity\":0.2}},\"type\":\"histogram\"}],\"histogram2d\":[{\"colorbar\":{\"outlinewidth\":0,\"ticks\":\"\"},\"colorscale\":[[0.0,\"#0d0887\"],[0.1111111111111111,\"#46039f\"],[0.2222222222222222,\"#7201a8\"],[0.3333333333333333,\"#9c179e\"],[0.4444444444444444,\"#bd3786\"],[0.5555555555555556,\"#d8576b\"],[0.6666666666666666,\"#ed7953\"],[0.7777777777777778,\"#fb9f3a\"],[0.8888888888888888,\"#fdca26\"],[1.0,\"#f0f921\"]],\"type\":\"histogram2d\"}],\"histogram2dcontour\":[{\"colorbar\":{\"outlinewidth\":0,\"ticks\":\"\"},\"colorscale\":[[0.0,\"#0d0887\"],[0.1111111111111111,\"#46039f\"],[0.2222222222222222,\"#7201a8\"],[0.3333333333333333,\"#9c179e\"],[0.4444444444444444,\"#bd3786\"],[0.5555555555555556,\"#d8576b\"],[0.6666666666666666,\"#ed7953\"],[0.7777777777777778,\"#fb9f3a\"],[0.8888888888888888,\"#fdca26\"],[1.0,\"#f0f921\"]],\"type\":\"histogram2dcontour\"}],\"mesh3d\":[{\"colorbar\":{\"outlinewidth\":0,\"ticks\":\"\"},\"type\":\"mesh3d\"}],\"parcoords\":[{\"line\":{\"colorbar\":{\"outlinewidth\":0,\"ticks\":\"\"}},\"type\":\"parcoords\"}],\"pie\":[{\"automargin\":true,\"type\":\"pie\"}],\"scatter\":[{\"marker\":{\"colorbar\":{\"outlinewidth\":0,\"ticks\":\"\"}},\"type\":\"scatter\"}],\"scatter3d\":[{\"line\":{\"colorbar\":{\"outlinewidth\":0,\"ticks\":\"\"}},\"marker\":{\"colorbar\":{\"outlinewidth\":0,\"ticks\":\"\"}},\"type\":\"scatter3d\"}],\"scattercarpet\":[{\"marker\":{\"colorbar\":{\"outlinewidth\":0,\"ticks\":\"\"}},\"type\":\"scattercarpet\"}],\"scattergeo\":[{\"marker\":{\"colorbar\":{\"outlinewidth\":0,\"ticks\":\"\"}},\"type\":\"scattergeo\"}],\"scattergl\":[{\"marker\":{\"colorbar\":{\"outlinewidth\":0,\"ticks\":\"\"}},\"type\":\"scattergl\"}],\"scattermapbox\":[{\"marker\":{\"colorbar\":{\"outlinewidth\":0,\"ticks\":\"\"}},\"type\":\"scattermapbox\"}],\"scatterpolar\":[{\"marker\":{\"colorbar\":{\"outlinewidth\":0,\"ticks\":\"\"}},\"type\":\"scatterpolar\"}],\"scatterpolargl\":[{\"marker\":{\"colorbar\":{\"outlinewidth\":0,\"ticks\":\"\"}},\"type\":\"scatterpolargl\"}],\"scatterternary\":[{\"marker\":{\"colorbar\":{\"outlinewidth\":0,\"ticks\":\"\"}},\"type\":\"scatterternary\"}],\"surface\":[{\"colorbar\":{\"outlinewidth\":0,\"ticks\":\"\"},\"colorscale\":[[0.0,\"#0d0887\"],[0.1111111111111111,\"#46039f\"],[0.2222222222222222,\"#7201a8\"],[0.3333333333333333,\"#9c179e\"],[0.4444444444444444,\"#bd3786\"],[0.5555555555555556,\"#d8576b\"],[0.6666666666666666,\"#ed7953\"],[0.7777777777777778,\"#fb9f3a\"],[0.8888888888888888,\"#fdca26\"],[1.0,\"#f0f921\"]],\"type\":\"surface\"}],\"table\":[{\"cells\":{\"fill\":{\"color\":\"#EBF0F8\"},\"line\":{\"color\":\"white\"}},\"header\":{\"fill\":{\"color\":\"#C8D4E3\"},\"line\":{\"color\":\"white\"}},\"type\":\"table\"}]},\"layout\":{\"annotationdefaults\":{\"arrowcolor\":\"#2a3f5f\",\"arrowhead\":0,\"arrowwidth\":1},\"autotypenumbers\":\"strict\",\"coloraxis\":{\"colorbar\":{\"outlinewidth\":0,\"ticks\":\"\"}},\"colorscale\":{\"diverging\":[[0,\"#8e0152\"],[0.1,\"#c51b7d\"],[0.2,\"#de77ae\"],[0.3,\"#f1b6da\"],[0.4,\"#fde0ef\"],[0.5,\"#f7f7f7\"],[0.6,\"#e6f5d0\"],[0.7,\"#b8e186\"],[0.8,\"#7fbc41\"],[0.9,\"#4d9221\"],[1,\"#276419\"]],\"sequential\":[[0.0,\"#0d0887\"],[0.1111111111111111,\"#46039f\"],[0.2222222222222222,\"#7201a8\"],[0.3333333333333333,\"#9c179e\"],[0.4444444444444444,\"#bd3786\"],[0.5555555555555556,\"#d8576b\"],[0.6666666666666666,\"#ed7953\"],[0.7777777777777778,\"#fb9f3a\"],[0.8888888888888888,\"#fdca26\"],[1.0,\"#f0f921\"]],\"sequentialminus\":[[0.0,\"#0d0887\"],[0.1111111111111111,\"#46039f\"],[0.2222222222222222,\"#7201a8\"],[0.3333333333333333,\"#9c179e\"],[0.4444444444444444,\"#bd3786\"],[0.5555555555555556,\"#d8576b\"],[0.6666666666666666,\"#ed7953\"],[0.7777777777777778,\"#fb9f3a\"],[0.8888888888888888,\"#fdca26\"],[1.0,\"#f0f921\"]]},\"colorway\":[\"#636efa\",\"#EF553B\",\"#00cc96\",\"#ab63fa\",\"#FFA15A\",\"#19d3f3\",\"#FF6692\",\"#B6E880\",\"#FF97FF\",\"#FECB52\"],\"font\":{\"color\":\"#2a3f5f\"},\"geo\":{\"bgcolor\":\"white\",\"lakecolor\":\"white\",\"landcolor\":\"#E5ECF6\",\"showlakes\":true,\"showland\":true,\"subunitcolor\":\"white\"},\"hoverlabel\":{\"align\":\"left\"},\"hovermode\":\"closest\",\"mapbox\":{\"style\":\"light\"},\"paper_bgcolor\":\"white\",\"plot_bgcolor\":\"#E5ECF6\",\"polar\":{\"angularaxis\":{\"gridcolor\":\"white\",\"linecolor\":\"white\",\"ticks\":\"\"},\"bgcolor\":\"#E5ECF6\",\"radialaxis\":{\"gridcolor\":\"white\",\"linecolor\":\"white\",\"ticks\":\"\"}},\"scene\":{\"xaxis\":{\"backgroundcolor\":\"#E5ECF6\",\"gridcolor\":\"white\",\"gridwidth\":2,\"linecolor\":\"white\",\"showbackground\":true,\"ticks\":\"\",\"zerolinecolor\":\"white\"},\"yaxis\":{\"backgroundcolor\":\"#E5ECF6\",\"gridcolor\":\"white\",\"gridwidth\":2,\"linecolor\":\"white\",\"showbackground\":true,\"ticks\":\"\",\"zerolinecolor\":\"white\"},\"zaxis\":{\"backgroundcolor\":\"#E5ECF6\",\"gridcolor\":\"white\",\"gridwidth\":2,\"linecolor\":\"white\",\"showbackground\":true,\"ticks\":\"\",\"zerolinecolor\":\"white\"}},\"shapedefaults\":{\"line\":{\"color\":\"#2a3f5f\"}},\"ternary\":{\"aaxis\":{\"gridcolor\":\"white\",\"linecolor\":\"white\",\"ticks\":\"\"},\"baxis\":{\"gridcolor\":\"white\",\"linecolor\":\"white\",\"ticks\":\"\"},\"bgcolor\":\"#E5ECF6\",\"caxis\":{\"gridcolor\":\"white\",\"linecolor\":\"white\",\"ticks\":\"\"}},\"title\":{\"x\":0.05},\"xaxis\":{\"automargin\":true,\"gridcolor\":\"white\",\"linecolor\":\"white\",\"ticks\":\"\",\"title\":{\"standoff\":15},\"zerolinecolor\":\"white\",\"zerolinewidth\":2},\"yaxis\":{\"automargin\":true,\"gridcolor\":\"white\",\"linecolor\":\"white\",\"ticks\":\"\",\"title\":{\"standoff\":15},\"zerolinecolor\":\"white\",\"zerolinewidth\":2}}},\"scene\":{\"domain\":{\"x\":[0.0,1.0],\"y\":[0.0,1.0]},\"xaxis\":{\"title\":{\"text\":\"Intensidade_de_cor\"}},\"yaxis\":{\"title\":{\"text\":\"Alcool\"}},\"zaxis\":{\"title\":{\"text\":\"Proline\"}}},\"coloraxis\":{\"colorbar\":{\"title\":{\"text\":\"labels\"}},\"colorscale\":[[0.0,\"#0d0887\"],[0.1111111111111111,\"#46039f\"],[0.2222222222222222,\"#7201a8\"],[0.3333333333333333,\"#9c179e\"],[0.4444444444444444,\"#bd3786\"],[0.5555555555555556,\"#d8576b\"],[0.6666666666666666,\"#ed7953\"],[0.7777777777777778,\"#fb9f3a\"],[0.8888888888888888,\"#fdca26\"],[1.0,\"#f0f921\"]]},\"legend\":{\"tracegroupgap\":0},\"margin\":{\"t\":60},\"height\":800,\"width\":800},                        {\"responsive\": true}                    ).then(function(){\n",
              "                            \n",
              "var gd = document.getElementById('22c717e5-34d6-4760-98de-aec94e153270');\n",
              "var x = new MutationObserver(function (mutations, observer) {{\n",
              "        var display = window.getComputedStyle(gd).display;\n",
              "        if (!display || display === 'none') {{\n",
              "            console.log([gd, 'removed!']);\n",
              "            Plotly.purge(gd);\n",
              "            observer.disconnect();\n",
              "        }}\n",
              "}});\n",
              "\n",
              "// Listen for the removal of the full notebook cells\n",
              "var notebookContainer = gd.closest('#notebook-container');\n",
              "if (notebookContainer) {{\n",
              "    x.observe(notebookContainer, {childList: true});\n",
              "}}\n",
              "\n",
              "// Listen for the clearing of the current output cell\n",
              "var outputEl = gd.closest('.output');\n",
              "if (outputEl) {{\n",
              "    x.observe(outputEl, {childList: true});\n",
              "}}\n",
              "\n",
              "                        })                };                            </script>        </div>\n",
              "</body>\n",
              "</html>"
            ]
          },
          "metadata": {}
        }
      ]
    },
    {
      "cell_type": "code",
      "metadata": {
        "colab": {
          "base_uri": "https://localhost:8080/"
        },
        "id": "qTOOOuA-j3EO",
        "outputId": "89d28328-4b5d-46c0-a184-b9496de7d36c"
      },
      "source": [
        "agrupador = DBSCAN(eps=0.3, min_samples=15, metric='euclidean')\n",
        "agrupador.fit(df_normalized)\n",
        "agrupador.labels_"
      ],
      "execution_count": 37,
      "outputs": [
        {
          "output_type": "execute_result",
          "data": {
            "text/plain": [
              "array([-1, -1, -1, -1, -1, -1, -1, -1, -1, -1, -1, -1, -1, -1, -1, -1, -1,\n",
              "       -1, -1, -1, -1, -1, -1, -1, -1, -1, -1, -1, -1, -1, -1, -1, -1, -1,\n",
              "       -1, -1, -1, -1, -1, -1, -1, -1, -1, -1, -1, -1, -1, -1, -1, -1, -1,\n",
              "       -1, -1, -1, -1, -1, -1, -1, -1, -1, -1, -1, -1, -1, -1, -1, -1, -1,\n",
              "       -1, -1, -1, -1, -1, -1, -1, -1, -1, -1, -1, -1, -1, -1, -1, -1, -1,\n",
              "       -1, -1, -1, -1, -1, -1, -1, -1, -1, -1, -1, -1, -1, -1, -1, -1, -1,\n",
              "       -1, -1, -1, -1, -1, -1, -1, -1, -1, -1, -1, -1, -1, -1, -1, -1, -1,\n",
              "       -1, -1, -1, -1, -1, -1, -1, -1, -1, -1, -1, -1, -1, -1, -1, -1, -1,\n",
              "       -1, -1, -1, -1, -1, -1, -1, -1, -1, -1, -1, -1, -1, -1, -1, -1, -1,\n",
              "       -1, -1, -1, -1, -1, -1, -1, -1, -1, -1, -1, -1, -1, -1, -1, -1, -1,\n",
              "       -1, -1, -1, -1, -1, -1, -1, -1])"
            ]
          },
          "metadata": {},
          "execution_count": 37
        }
      ]
    },
    {
      "cell_type": "code",
      "metadata": {
        "colab": {
          "base_uri": "https://localhost:8080/"
        },
        "id": "g1QUtrblkC3e",
        "outputId": "531ae9d9-e6a3-486b-958d-d724d72b0ed4"
      },
      "source": [
        "agrupador = DBSCAN(eps=0.5, min_samples=15, metric='euclidean')\n",
        "agrupador.fit(df_normalized)\n",
        "agrupador.labels_"
      ],
      "execution_count": 38,
      "outputs": [
        {
          "output_type": "execute_result",
          "data": {
            "text/plain": [
              "array([ 0,  0,  0,  0,  0,  0,  0,  0,  0,  0,  0,  0,  0, -1,  0,  0,  0,\n",
              "        0,  0,  0,  0,  0,  0,  0,  0, -1,  0,  0,  0,  0,  0,  0,  0,  0,\n",
              "        0,  0,  0,  0,  0, -1,  0, -1,  0, -1,  0,  0,  0,  0,  0,  0, -1,\n",
              "        0,  0,  0,  0,  0,  0,  0,  0, -1, -1, -1, -1,  1, -1,  1,  1,  1,\n",
              "       -1, -1, -1, -1,  1, -1, -1, -1,  1,  1, -1, -1,  1,  1,  1, -1, -1,\n",
              "        1,  1,  1,  1,  1,  1,  1, -1,  1,  1, -1, -1,  1, -1, -1,  1,  1,\n",
              "        1,  1,  1, -1,  1,  1,  1, -1, -1,  1,  1,  1,  1, -1,  1,  1, -1,\n",
              "        1,  1, -1, -1, -1, -1,  1,  1, -1,  1, -1, -1,  2,  2, -1, -1, -1,\n",
              "       -1, -1,  2, -1,  2,  2,  2,  2,  2,  2,  2,  2,  2,  2, -1, -1, -1,\n",
              "        2, -1,  2,  2, -1, -1, -1,  2,  2,  2,  2,  2,  2,  2,  2,  2,  2,\n",
              "        2,  2,  2,  2,  2,  2,  2,  2])"
            ]
          },
          "metadata": {},
          "execution_count": 38
        }
      ]
    },
    {
      "cell_type": "code",
      "metadata": {
        "colab": {
          "base_uri": "https://localhost:8080/",
          "height": 817
        },
        "id": "C9LUDUdsrm4F",
        "outputId": "aabb6d3f-90ee-4515-f966-8942d462501c"
      },
      "source": [
        "labels = agrupador.labels_\n",
        "df_normalized['labels'] = labels\n",
        "fig = px.scatter_3d(df_normalized, x='Intensidade_de_cor', y='Alcool', z='Proline', color='labels', width=800, height=800)\n",
        "df_normalized.drop('labels', axis=1, inplace=True)\n",
        "fig.show()"
      ],
      "execution_count": 39,
      "outputs": [
        {
          "output_type": "display_data",
          "data": {
            "text/html": [
              "<html>\n",
              "<head><meta charset=\"utf-8\" /></head>\n",
              "<body>\n",
              "    <div>            <script src=\"https://cdnjs.cloudflare.com/ajax/libs/mathjax/2.7.5/MathJax.js?config=TeX-AMS-MML_SVG\"></script><script type=\"text/javascript\">if (window.MathJax) {MathJax.Hub.Config({SVG: {font: \"STIX-Web\"}});}</script>                <script type=\"text/javascript\">window.PlotlyConfig = {MathJaxConfig: 'local'};</script>\n",
              "        <script src=\"https://cdn.plot.ly/plotly-2.8.3.min.js\"></script>                <div id=\"23c5e00b-6ab2-4107-b84a-77e3c4d7cb0c\" class=\"plotly-graph-div\" style=\"height:800px; width:800px;\"></div>            <script type=\"text/javascript\">                                    window.PLOTLYENV=window.PLOTLYENV || {};                                    if (document.getElementById(\"23c5e00b-6ab2-4107-b84a-77e3c4d7cb0c\")) {                    Plotly.newPlot(                        \"23c5e00b-6ab2-4107-b84a-77e3c4d7cb0c\",                        [{\"hovertemplate\":\"Intensidade_de_cor=%{x}<br>Alcool=%{y}<br>Proline=%{z}<br>labels=%{marker.color}<extra></extra>\",\"legendgroup\":\"\",\"marker\":{\"color\":[0,0,0,0,0,0,0,0,0,0,0,0,0,-1,0,0,0,0,0,0,0,0,0,0,0,-1,0,0,0,0,0,0,0,0,0,0,0,0,0,-1,0,-1,0,-1,0,0,0,0,0,0,-1,0,0,0,0,0,0,0,0,-1,-1,-1,-1,1,-1,1,1,1,-1,-1,-1,-1,1,-1,-1,-1,1,1,-1,-1,1,1,1,-1,-1,1,1,1,1,1,1,1,-1,1,1,-1,-1,1,-1,-1,1,1,1,1,1,-1,1,1,1,-1,-1,1,1,1,1,-1,1,1,-1,1,1,-1,-1,-1,-1,1,1,-1,1,-1,-1,2,2,-1,-1,-1,-1,-1,2,-1,2,2,2,2,2,2,2,2,2,2,-1,-1,-1,2,-1,2,2,-1,-1,-1,2,2,2,2,2,2,2,2,2,2,2,2,2,2,2,2,2,2],\"coloraxis\":\"coloraxis\",\"symbol\":\"circle\"},\"mode\":\"markers\",\"name\":\"\",\"scene\":\"scene\",\"showlegend\":false,\"x\":[0.3720136518771331,0.26450511945392485,0.3754266211604095,0.5563139931740614,0.2593856655290102,0.4667235494880546,0.3387372013651877,0.3216723549488054,0.33447098976109213,0.5068259385665529,0.3813993174061433,0.31740614334470985,0.3686006825938566,0.3515358361774744,0.5307167235494881,0.5136518771331058,0.41979522184300344,0.4539249146757679,0.6331058020477814,0.325938566552901,0.37286689419795227,0.27474402730375425,0.21501706484641633,0.22610921501706485,0.1911262798634812,0.1962457337883959,0.30034129692832756,0.22781569965870305,0.27474402730375425,0.29180887372013653,0.37713310580204773,0.4795221843003413,0.21843003412969278,0.3515358361774744,0.2491467576791809,0.325938566552901,0.2832764505119454,0.2534129692832764,0.20648464163822525,0.325938566552901,0.4138225255972696,0.2559726962457338,0.35409556313993173,0.2627986348122867,0.32081911262798635,0.33788395904436863,0.3088737201365188,0.4112627986348123,0.41979522184300344,0.6501706484641638,0.5051194539249146,0.3686006825938566,0.4923208191126279,0.42832764505119447,0.38993174061433444,0.424061433447099,0.4351535836177475,0.40273037542662116,0.4709897610921502,0.057167235494880536,0.1697952218430034,0.3813993174061433,0.21501706484641633,0.2704778156996587,0.1424914675767918,0.2832764505119454,0.3430034129692833,0.2901023890784983,0.16126279863481227,0.13395904436860068,0.15102389078498293,0.17918088737201363,0.2098976109215017,0.1766211604095563,0.16467576791808872,0.21501706484641633,0.2832764505119454,0.11689419795221842,0.18088737201365188,0.1100682593856655,0.10409556313993173,0.22354948805460748,0.07849829351535836,0.30034129692832756,0.15102389078498293,0.1143344709897611,0.09982935153583619,0.11262798634812288,0.1296928327645051,0.03924914675767918,0.09556313993174059,0.1979522184300341,0.15102389078498293,0.07423208191126279,0.16808873720136516,0.11262798634812288,0.10409556313993173,0.13822525597269622,0.27474402730375425,0.08703071672354948,0.17235494880546073,0.09982935153583619,0.1296928327645051,0.06655290102389078,0.14163822525597267,0.12116040955631399,0.18088737201365188,0.17235494880546073,0.12116040955631399,0.11689419795221842,0.13822525597269622,0.06143344709897611,0.21501706484641633,0.15358361774744025,0.13822525597269622,0.052901023890784965,0.057167235494880536,0.06655290102389078,0.18088737201365188,0.0,0.16808873720136516,0.40273037542662116,0.06825938566552903,0.11262798634812288,0.1296928327645051,0.12627986348122863,0.22696245733788392,0.14675767918088736,0.07167235494880547,0.11262798634812288,0.2406143344709897,0.3515358361774744,0.37713310580204773,0.31740614334470985,0.35580204778157,0.4965870307167235,0.21928327645051196,0.31740614334470985,0.37713310580204773,0.31058020477815695,0.2832764505119454,0.3686006825938566,0.26194539249146753,0.2662116040955631,0.5912969283276451,0.23208191126279862,0.3088737201365188,0.5435153583617748,0.6092150170648464,0.6928327645051194,0.6245733788395904,0.8122866894197952,0.4965870307167235,0.78839590443686,0.5392491467576791,0.5648464163822525,0.659556313993174,0.5307167235494881,0.9999999999999999,0.893344709897611,0.5435153583617748,0.39249146757679176,0.36689419795221845,0.341296928327645,0.7081911262798635,0.45563139931740615,0.8020477815699658,0.7662116040955631,0.6296928327645052,0.6160409556313993,0.36006825938566556,0.7354947952218429,0.7184300341296928,0.5477815699658704,0.5136518771331058,0.7610921501706484,0.6843003412969284,0.6757679180887372],\"y\":[0.8421052631578951,0.5710526315789473,0.560526315789474,0.8789473684210525,0.5815789473684214,0.8342105263157893,0.8842105263157896,0.797368421052632,1.0,0.7447368421052629,0.8078947368421052,0.8131578947368419,0.7157894736842105,0.9789473684210526,0.8815789473684212,0.6842105263157898,0.8605263157894738,0.736842105263158,0.831578947368421,0.6868421052631581,0.797368421052632,0.5,0.7052631578947373,0.47894736842105257,0.6499999999999999,0.5315789473684216,0.6210526315789475,0.5973684210526318,0.7473684210526317,0.7868421052631578,0.7105263157894739,0.6710526315789473,0.6973684210526314,0.7184210526315788,0.6526315789473687,0.6447368421052633,0.5921052631578947,0.5315789473684216,0.5368421052631582,0.8394736842105264,0.6657894736842107,0.6263157894736846,0.7500000000000004,0.5815789473684214,0.5315789473684216,0.836842105263158,0.8815789473684212,0.7552631578947371,0.8078947368421052,0.7657894736842104,0.5315789473684216,0.736842105263158,0.7342105263157896,0.7210526315789472,0.7131578947368422,0.6657894736842107,0.8394736842105264,0.594736842105263,0.7078947368421056,0.3526315789473684,0.34210526315789513,0.4236842105263161,0.6947368421052631,0.3526315789473684,0.30000000000000027,0.3526315789473684,0.5473684210526315,0.3526315789473684,0.6078947368421055,0.310526315789474,0.331578947368421,0.7447368421052629,0.6473684210526316,0.5157894736842108,0.2447368421052638,0.1657894736842107,0.5263157894736841,0.2131578947368422,0.34210526315789513,0.43947368421052646,0.2552631578947371,0.44473684210526354,0.2763157894736845,0.5315789473684216,0.2131578947368422,0.43157894736842106,0.29736842105263195,0.1631578947368424,0.16052631578947407,0.2763157894736845,0.2763157894736845,0.2552631578947371,0.43684210526315814,0.331578947368421,0.155263157894737,0.3789473684210529,0.20526315789473726,0.331578947368421,0.3526315789473684,0.331578947368421,0.2763157894736845,0.4131578947368424,0.34473684210526345,0.20789473684210558,0.38947368421052664,0.3657894736842109,0.3210526315789477,0.44473684210526354,0.3131578947368423,0.15263157894736867,0.11315789473684257,0.39210526315789496,0.19210526315789478,0.10000000000000053,0.2763157894736845,0.0,0.20789473684210558,0.3657894736842109,0.45789473684210513,0.2552631578947371,0.1105263157894738,0.13947368421052664,0.3657894736842109,0.5315789473684216,0.2210526315789476,0.2736842105263162,0.3684210526315792,0.20000000000000018,0.3526315789473684,0.26578947368421035,0.4815789473684209,0.4868421052631584,0.4684210526315793,0.43947368421052646,0.38947368421052664,0.4131578947368424,0.3210526315789477,0.3947368421052633,0.6473684210526316,0.47631578947368425,0.5,0.6131578947368421,0.655263157894737,0.6815789473684211,0.3210526315789477,0.560526315789474,0.7500000000000004,0.48421052631578965,0.6026315789473689,0.5394736842105265,0.6499999999999999,0.4631578947368422,0.5473684210526315,0.5789473684210531,0.4078947368421053,0.5631578947368423,0.7394736842105263,0.37368421052631584,0.8710526315789475,0.6447368421052633,0.3500000000000001,0.7000000000000002,0.47894736842105257,0.5078947368421058,0.7236842105263159,0.7105263157894739,0.6368421052631579,0.4710526315789476,0.6710526315789473,0.6236842105263158,0.3078947368421052,0.45789473684210513,0.823684210526316,0.7052631578947373,0.6236842105263158,0.5894736842105264,0.5631578947368423,0.8157894736842106],\"z\":[0.5613409415121255,0.5506419400855921,0.6469329529243938,0.8573466476462198,0.3259629101283881,0.8359486447931527,0.7218259629101285,0.725392296718973,0.5470756062767476,0.5470756062767476,0.8787446504992867,0.7146932952924394,0.7432239657631955,0.6219686162624822,0.9051355206847361,0.7360912981455064,0.7146932952924394,0.6077032810271041,1.0,0.40442225392296727,0.35805991440798857,0.35092724679029963,0.5399429386590585,0.5256776034236805,0.40442225392296727,0.3937232524964337,0.6540656205420827,0.7182596291012839,0.4543509272467904,0.5399429386590585,0.7182596291012839,0.8823109843081313,0.5078459343794579,0.6825962910128388,0.5827389443651926,0.4579172610556348,0.4293865905848788,0.5898716119828816,0.529243937232525,0.3437945791726106,0.36875891583452214,0.5399429386590585,0.5827389443651926,0.2867332382310984,0.43295292439372324,0.5720399429386591,0.5613409415121255,0.5042796005706135,0.557774607703281,0.7004279600570614,0.6219686162624822,0.7039942938659058,0.6504992867332383,0.782453637660485,0.557774607703281,0.6005706134094152,0.4935805991440799,0.7075606276747504,0.7182596291012839,0.17261055634807418,0.2867332382310984,0.12268188302425106,0.2510699001426534,0.10128388017118403,0.054921540656205386,0.2853067047075606,0.15977175463623397,0.1654778887303852,0.33666191155492153,0.31383737517831667,0.4222539229671898,0.09415121255349498,0.13837375178316688,0.5042796005706135,0.4336661911554922,0.10699001426533525,0.08131241084165478,0.15834522111269614,0.33666191155492153,0.1319543509272468,0.0,0.3109843081312411,0.2510699001426534,0.16904422253922965,0.17261055634807418,0.12268188302425106,0.15477888730385161,0.20256776034236804,0.2867332382310984,0.24750356633380885,0.1440798858773181,0.12268188302425106,0.15477888730385161,0.008559201141226797,0.047788873038516394,0.4700427960057062,0.24750356633380885,0.10699001426533525,0.27246790299572043,0.09129814550641938,0.30813124108416545,0.20256776034236804,0.11412268188302424,0.09771754636233951,0.2810271041369472,0.02639087018544936,0.1654778887303852,0.14978601997146931,0.02425106990014264,0.2867332382310984,0.20256776034236804,0.033523537803138354,0.23466476462196864,0.11126961483594863,0.07631954350927247,0.09201141226818829,0.15477888730385161,0.047788873038516394,0.06704707560627673,0.20399429386590587,0.24750356633380885,0.13338088445078458,0.062054208273894434,0.07275320970042795,0.07275320970042795,0.07132667617689017,0.052781740370898694,0.1340941512125535,0.0456490727532097,0.21540656205420824,0.2510699001426534,0.17974322396576317,0.20114122681883026,0.22967189728958629,0.2653352353780314,0.297432239657632,0.3152639087018545,0.16904422253922965,0.21540656205420824,0.2225392296718973,0.22967189728958629,0.35805991440798857,0.17261055634807418,0.1940085592011412,0.4115549215406562,0.3937232524964337,0.09771754636233951,0.24750356633380885,0.2653352353780314,0.1940085592011412,0.15834522111269614,0.1440798858773181,0.1048502139800285,0.2831669044222539,0.25820256776034234,0.318830242510699,0.1440798858773181,0.4293865905848788,0.27246790299572043,0.24393723252496433,0.17261055634807418,0.2867332382310984,0.20827389443651925,0.2831669044222539,0.2403708987161198,0.17261055634807418,0.297432239657632,0.29029957203994294,0.33666191155492153,0.2510699001426534,0.1654778887303852,0.1369472182596291,0.27246790299572043,0.3295292439372326,0.33666191155492153,0.3972895863052782,0.40085592011412274,0.20114122681883026],\"type\":\"scatter3d\"}],                        {\"template\":{\"data\":{\"bar\":[{\"error_x\":{\"color\":\"#2a3f5f\"},\"error_y\":{\"color\":\"#2a3f5f\"},\"marker\":{\"line\":{\"color\":\"#E5ECF6\",\"width\":0.5},\"pattern\":{\"fillmode\":\"overlay\",\"size\":10,\"solidity\":0.2}},\"type\":\"bar\"}],\"barpolar\":[{\"marker\":{\"line\":{\"color\":\"#E5ECF6\",\"width\":0.5},\"pattern\":{\"fillmode\":\"overlay\",\"size\":10,\"solidity\":0.2}},\"type\":\"barpolar\"}],\"carpet\":[{\"aaxis\":{\"endlinecolor\":\"#2a3f5f\",\"gridcolor\":\"white\",\"linecolor\":\"white\",\"minorgridcolor\":\"white\",\"startlinecolor\":\"#2a3f5f\"},\"baxis\":{\"endlinecolor\":\"#2a3f5f\",\"gridcolor\":\"white\",\"linecolor\":\"white\",\"minorgridcolor\":\"white\",\"startlinecolor\":\"#2a3f5f\"},\"type\":\"carpet\"}],\"choropleth\":[{\"colorbar\":{\"outlinewidth\":0,\"ticks\":\"\"},\"type\":\"choropleth\"}],\"contour\":[{\"colorbar\":{\"outlinewidth\":0,\"ticks\":\"\"},\"colorscale\":[[0.0,\"#0d0887\"],[0.1111111111111111,\"#46039f\"],[0.2222222222222222,\"#7201a8\"],[0.3333333333333333,\"#9c179e\"],[0.4444444444444444,\"#bd3786\"],[0.5555555555555556,\"#d8576b\"],[0.6666666666666666,\"#ed7953\"],[0.7777777777777778,\"#fb9f3a\"],[0.8888888888888888,\"#fdca26\"],[1.0,\"#f0f921\"]],\"type\":\"contour\"}],\"contourcarpet\":[{\"colorbar\":{\"outlinewidth\":0,\"ticks\":\"\"},\"type\":\"contourcarpet\"}],\"heatmap\":[{\"colorbar\":{\"outlinewidth\":0,\"ticks\":\"\"},\"colorscale\":[[0.0,\"#0d0887\"],[0.1111111111111111,\"#46039f\"],[0.2222222222222222,\"#7201a8\"],[0.3333333333333333,\"#9c179e\"],[0.4444444444444444,\"#bd3786\"],[0.5555555555555556,\"#d8576b\"],[0.6666666666666666,\"#ed7953\"],[0.7777777777777778,\"#fb9f3a\"],[0.8888888888888888,\"#fdca26\"],[1.0,\"#f0f921\"]],\"type\":\"heatmap\"}],\"heatmapgl\":[{\"colorbar\":{\"outlinewidth\":0,\"ticks\":\"\"},\"colorscale\":[[0.0,\"#0d0887\"],[0.1111111111111111,\"#46039f\"],[0.2222222222222222,\"#7201a8\"],[0.3333333333333333,\"#9c179e\"],[0.4444444444444444,\"#bd3786\"],[0.5555555555555556,\"#d8576b\"],[0.6666666666666666,\"#ed7953\"],[0.7777777777777778,\"#fb9f3a\"],[0.8888888888888888,\"#fdca26\"],[1.0,\"#f0f921\"]],\"type\":\"heatmapgl\"}],\"histogram\":[{\"marker\":{\"pattern\":{\"fillmode\":\"overlay\",\"size\":10,\"solidity\":0.2}},\"type\":\"histogram\"}],\"histogram2d\":[{\"colorbar\":{\"outlinewidth\":0,\"ticks\":\"\"},\"colorscale\":[[0.0,\"#0d0887\"],[0.1111111111111111,\"#46039f\"],[0.2222222222222222,\"#7201a8\"],[0.3333333333333333,\"#9c179e\"],[0.4444444444444444,\"#bd3786\"],[0.5555555555555556,\"#d8576b\"],[0.6666666666666666,\"#ed7953\"],[0.7777777777777778,\"#fb9f3a\"],[0.8888888888888888,\"#fdca26\"],[1.0,\"#f0f921\"]],\"type\":\"histogram2d\"}],\"histogram2dcontour\":[{\"colorbar\":{\"outlinewidth\":0,\"ticks\":\"\"},\"colorscale\":[[0.0,\"#0d0887\"],[0.1111111111111111,\"#46039f\"],[0.2222222222222222,\"#7201a8\"],[0.3333333333333333,\"#9c179e\"],[0.4444444444444444,\"#bd3786\"],[0.5555555555555556,\"#d8576b\"],[0.6666666666666666,\"#ed7953\"],[0.7777777777777778,\"#fb9f3a\"],[0.8888888888888888,\"#fdca26\"],[1.0,\"#f0f921\"]],\"type\":\"histogram2dcontour\"}],\"mesh3d\":[{\"colorbar\":{\"outlinewidth\":0,\"ticks\":\"\"},\"type\":\"mesh3d\"}],\"parcoords\":[{\"line\":{\"colorbar\":{\"outlinewidth\":0,\"ticks\":\"\"}},\"type\":\"parcoords\"}],\"pie\":[{\"automargin\":true,\"type\":\"pie\"}],\"scatter\":[{\"marker\":{\"colorbar\":{\"outlinewidth\":0,\"ticks\":\"\"}},\"type\":\"scatter\"}],\"scatter3d\":[{\"line\":{\"colorbar\":{\"outlinewidth\":0,\"ticks\":\"\"}},\"marker\":{\"colorbar\":{\"outlinewidth\":0,\"ticks\":\"\"}},\"type\":\"scatter3d\"}],\"scattercarpet\":[{\"marker\":{\"colorbar\":{\"outlinewidth\":0,\"ticks\":\"\"}},\"type\":\"scattercarpet\"}],\"scattergeo\":[{\"marker\":{\"colorbar\":{\"outlinewidth\":0,\"ticks\":\"\"}},\"type\":\"scattergeo\"}],\"scattergl\":[{\"marker\":{\"colorbar\":{\"outlinewidth\":0,\"ticks\":\"\"}},\"type\":\"scattergl\"}],\"scattermapbox\":[{\"marker\":{\"colorbar\":{\"outlinewidth\":0,\"ticks\":\"\"}},\"type\":\"scattermapbox\"}],\"scatterpolar\":[{\"marker\":{\"colorbar\":{\"outlinewidth\":0,\"ticks\":\"\"}},\"type\":\"scatterpolar\"}],\"scatterpolargl\":[{\"marker\":{\"colorbar\":{\"outlinewidth\":0,\"ticks\":\"\"}},\"type\":\"scatterpolargl\"}],\"scatterternary\":[{\"marker\":{\"colorbar\":{\"outlinewidth\":0,\"ticks\":\"\"}},\"type\":\"scatterternary\"}],\"surface\":[{\"colorbar\":{\"outlinewidth\":0,\"ticks\":\"\"},\"colorscale\":[[0.0,\"#0d0887\"],[0.1111111111111111,\"#46039f\"],[0.2222222222222222,\"#7201a8\"],[0.3333333333333333,\"#9c179e\"],[0.4444444444444444,\"#bd3786\"],[0.5555555555555556,\"#d8576b\"],[0.6666666666666666,\"#ed7953\"],[0.7777777777777778,\"#fb9f3a\"],[0.8888888888888888,\"#fdca26\"],[1.0,\"#f0f921\"]],\"type\":\"surface\"}],\"table\":[{\"cells\":{\"fill\":{\"color\":\"#EBF0F8\"},\"line\":{\"color\":\"white\"}},\"header\":{\"fill\":{\"color\":\"#C8D4E3\"},\"line\":{\"color\":\"white\"}},\"type\":\"table\"}]},\"layout\":{\"annotationdefaults\":{\"arrowcolor\":\"#2a3f5f\",\"arrowhead\":0,\"arrowwidth\":1},\"autotypenumbers\":\"strict\",\"coloraxis\":{\"colorbar\":{\"outlinewidth\":0,\"ticks\":\"\"}},\"colorscale\":{\"diverging\":[[0,\"#8e0152\"],[0.1,\"#c51b7d\"],[0.2,\"#de77ae\"],[0.3,\"#f1b6da\"],[0.4,\"#fde0ef\"],[0.5,\"#f7f7f7\"],[0.6,\"#e6f5d0\"],[0.7,\"#b8e186\"],[0.8,\"#7fbc41\"],[0.9,\"#4d9221\"],[1,\"#276419\"]],\"sequential\":[[0.0,\"#0d0887\"],[0.1111111111111111,\"#46039f\"],[0.2222222222222222,\"#7201a8\"],[0.3333333333333333,\"#9c179e\"],[0.4444444444444444,\"#bd3786\"],[0.5555555555555556,\"#d8576b\"],[0.6666666666666666,\"#ed7953\"],[0.7777777777777778,\"#fb9f3a\"],[0.8888888888888888,\"#fdca26\"],[1.0,\"#f0f921\"]],\"sequentialminus\":[[0.0,\"#0d0887\"],[0.1111111111111111,\"#46039f\"],[0.2222222222222222,\"#7201a8\"],[0.3333333333333333,\"#9c179e\"],[0.4444444444444444,\"#bd3786\"],[0.5555555555555556,\"#d8576b\"],[0.6666666666666666,\"#ed7953\"],[0.7777777777777778,\"#fb9f3a\"],[0.8888888888888888,\"#fdca26\"],[1.0,\"#f0f921\"]]},\"colorway\":[\"#636efa\",\"#EF553B\",\"#00cc96\",\"#ab63fa\",\"#FFA15A\",\"#19d3f3\",\"#FF6692\",\"#B6E880\",\"#FF97FF\",\"#FECB52\"],\"font\":{\"color\":\"#2a3f5f\"},\"geo\":{\"bgcolor\":\"white\",\"lakecolor\":\"white\",\"landcolor\":\"#E5ECF6\",\"showlakes\":true,\"showland\":true,\"subunitcolor\":\"white\"},\"hoverlabel\":{\"align\":\"left\"},\"hovermode\":\"closest\",\"mapbox\":{\"style\":\"light\"},\"paper_bgcolor\":\"white\",\"plot_bgcolor\":\"#E5ECF6\",\"polar\":{\"angularaxis\":{\"gridcolor\":\"white\",\"linecolor\":\"white\",\"ticks\":\"\"},\"bgcolor\":\"#E5ECF6\",\"radialaxis\":{\"gridcolor\":\"white\",\"linecolor\":\"white\",\"ticks\":\"\"}},\"scene\":{\"xaxis\":{\"backgroundcolor\":\"#E5ECF6\",\"gridcolor\":\"white\",\"gridwidth\":2,\"linecolor\":\"white\",\"showbackground\":true,\"ticks\":\"\",\"zerolinecolor\":\"white\"},\"yaxis\":{\"backgroundcolor\":\"#E5ECF6\",\"gridcolor\":\"white\",\"gridwidth\":2,\"linecolor\":\"white\",\"showbackground\":true,\"ticks\":\"\",\"zerolinecolor\":\"white\"},\"zaxis\":{\"backgroundcolor\":\"#E5ECF6\",\"gridcolor\":\"white\",\"gridwidth\":2,\"linecolor\":\"white\",\"showbackground\":true,\"ticks\":\"\",\"zerolinecolor\":\"white\"}},\"shapedefaults\":{\"line\":{\"color\":\"#2a3f5f\"}},\"ternary\":{\"aaxis\":{\"gridcolor\":\"white\",\"linecolor\":\"white\",\"ticks\":\"\"},\"baxis\":{\"gridcolor\":\"white\",\"linecolor\":\"white\",\"ticks\":\"\"},\"bgcolor\":\"#E5ECF6\",\"caxis\":{\"gridcolor\":\"white\",\"linecolor\":\"white\",\"ticks\":\"\"}},\"title\":{\"x\":0.05},\"xaxis\":{\"automargin\":true,\"gridcolor\":\"white\",\"linecolor\":\"white\",\"ticks\":\"\",\"title\":{\"standoff\":15},\"zerolinecolor\":\"white\",\"zerolinewidth\":2},\"yaxis\":{\"automargin\":true,\"gridcolor\":\"white\",\"linecolor\":\"white\",\"ticks\":\"\",\"title\":{\"standoff\":15},\"zerolinecolor\":\"white\",\"zerolinewidth\":2}}},\"scene\":{\"domain\":{\"x\":[0.0,1.0],\"y\":[0.0,1.0]},\"xaxis\":{\"title\":{\"text\":\"Intensidade_de_cor\"}},\"yaxis\":{\"title\":{\"text\":\"Alcool\"}},\"zaxis\":{\"title\":{\"text\":\"Proline\"}}},\"coloraxis\":{\"colorbar\":{\"title\":{\"text\":\"labels\"}},\"colorscale\":[[0.0,\"#0d0887\"],[0.1111111111111111,\"#46039f\"],[0.2222222222222222,\"#7201a8\"],[0.3333333333333333,\"#9c179e\"],[0.4444444444444444,\"#bd3786\"],[0.5555555555555556,\"#d8576b\"],[0.6666666666666666,\"#ed7953\"],[0.7777777777777778,\"#fb9f3a\"],[0.8888888888888888,\"#fdca26\"],[1.0,\"#f0f921\"]]},\"legend\":{\"tracegroupgap\":0},\"margin\":{\"t\":60},\"height\":800,\"width\":800},                        {\"responsive\": true}                    ).then(function(){\n",
              "                            \n",
              "var gd = document.getElementById('23c5e00b-6ab2-4107-b84a-77e3c4d7cb0c');\n",
              "var x = new MutationObserver(function (mutations, observer) {{\n",
              "        var display = window.getComputedStyle(gd).display;\n",
              "        if (!display || display === 'none') {{\n",
              "            console.log([gd, 'removed!']);\n",
              "            Plotly.purge(gd);\n",
              "            observer.disconnect();\n",
              "        }}\n",
              "}});\n",
              "\n",
              "// Listen for the removal of the full notebook cells\n",
              "var notebookContainer = gd.closest('#notebook-container');\n",
              "if (notebookContainer) {{\n",
              "    x.observe(notebookContainer, {childList: true});\n",
              "}}\n",
              "\n",
              "// Listen for the clearing of the current output cell\n",
              "var outputEl = gd.closest('.output');\n",
              "if (outputEl) {{\n",
              "    x.observe(outputEl, {childList: true});\n",
              "}}\n",
              "\n",
              "                        })                };                            </script>        </div>\n",
              "</body>\n",
              "</html>"
            ]
          },
          "metadata": {}
        }
      ]
    },
    {
      "cell_type": "markdown",
      "metadata": {
        "id": "FxNhwex8kSSr"
      },
      "source": [
        "O “eps” e o “min_samples” variam de maneira inversamente proporcional, ou seja, o efeito causado pelo aumento do “eps” é o mesmo efeito causado pela diminuição do “min_samples”. O efeito causado pelo aumento do “min_samples” é o mesmo efeito causado pela diminuição do “eps”.\n",
        "\n",
        "A métrica de distância influencia bastante, porque ela influencia na forma como eu calculo o “eps”.\n",
        "\n",
        "Existem outras métricas de distância, além das apresentadas aqui. Para alterar no algoritmo, basta modificar o parâmetro metric. As métricas de distância permitidas são:\n",
        "* Do scikit-learn: \n",
        "    * ‘cityblock’\n",
        "    * ‘cosine’\n",
        "    * ‘euclidean’\n",
        "    * ‘l1’\n",
        "    * ‘l2’\n",
        "    * ‘manhattan’]\n",
        "* Do scipy.spatial.distance: \n",
        "    * ‘braycurtis’\n",
        "    * ‘canberra’\n",
        "    * ‘chebyshev’\n",
        "    * ‘correlation’\n",
        "    * ‘dice’\n",
        "    * ‘hamming’\n",
        "    * ‘jaccard’\n",
        "    * ‘kulsinski’\n",
        "    * ‘mahalanobis’\n",
        "    * ‘minkowski’\n",
        "    * ‘rogerstanimoto’\n",
        "    * ‘russellrao’\n",
        "    * ‘seuclidean’\n",
        "    * ‘sokalmichener’\n",
        "    * ‘sokalsneath’\n",
        "    * ‘sqeuclidean’\n",
        "    * ‘yule’"
      ]
    },
    {
      "cell_type": "markdown",
      "metadata": {
        "id": "wiP_3Ocmm-yE"
      },
      "source": [
        "# Aula 4 - Mean shift\n",
        "\n",
        "Vamos agora utilizar o método de clusterizaçaõ cahamdo Mean Shift, o qual não tem a necessidade de definirmos parâmetros."
      ]
    },
    {
      "cell_type": "code",
      "metadata": {
        "id": "TeY71FzukG0d"
      },
      "source": [
        "from sklearn.cluster import MeanShift"
      ],
      "execution_count": 40,
      "outputs": []
    },
    {
      "cell_type": "code",
      "metadata": {
        "colab": {
          "base_uri": "https://localhost:8080/"
        },
        "id": "tXFLGzAEr-9-",
        "outputId": "f3e818ef-a6c9-4dab-a644-3f0d450c3aa7"
      },
      "source": [
        "agrupador = MeanShift()\n",
        "agrupador.fit(df)\n",
        "agrupador.labels_"
      ],
      "execution_count": 41,
      "outputs": [
        {
          "output_type": "execute_result",
          "data": {
            "text/plain": [
              "array([2, 2, 2, 2, 0, 2, 2, 2, 2, 2, 2, 2, 2, 2, 2, 2, 2, 2, 2, 1, 1, 1,\n",
              "       2, 1, 1, 1, 2, 2, 1, 2, 2, 2, 1, 2, 2, 1, 1, 2, 1, 1, 1, 2, 2, 0,\n",
              "       1, 2, 2, 1, 2, 2, 2, 2, 2, 2, 2, 2, 1, 2, 2, 0, 0, 0, 0, 0, 0, 0,\n",
              "       0, 0, 1, 0, 1, 0, 0, 1, 1, 0, 0, 0, 1, 0, 0, 0, 0, 0, 0, 0, 0, 0,\n",
              "       0, 0, 0, 0, 0, 0, 0, 1, 0, 0, 0, 0, 0, 0, 0, 0, 0, 0, 0, 0, 0, 0,\n",
              "       0, 0, 0, 0, 0, 0, 0, 0, 0, 0, 0, 0, 0, 0, 0, 0, 0, 0, 0, 0, 0, 0,\n",
              "       0, 0, 0, 0, 0, 0, 0, 0, 0, 1, 0, 0, 1, 1, 0, 0, 0, 0, 0, 0, 0, 0,\n",
              "       0, 0, 0, 1, 0, 0, 0, 0, 0, 0, 0, 0, 0, 0, 1, 0, 0, 0, 0, 0, 1, 1,\n",
              "       1, 0])"
            ]
          },
          "metadata": {},
          "execution_count": 41
        }
      ]
    },
    {
      "cell_type": "code",
      "metadata": {
        "colab": {
          "base_uri": "https://localhost:8080/",
          "height": 817
        },
        "id": "SNvUiLwfun_m",
        "outputId": "4d717f1c-c9cc-4ec8-b147-2fdc7ddc5068"
      },
      "source": [
        "labels = agrupador.labels_\n",
        "df['labels'] = labels\n",
        "fig = px.scatter_3d(df, x='Intensidade_de_cor', y='Alcool', z='Proline', color='labels', width=800, height=800)\n",
        "df.drop('labels', axis=1, inplace=True)\n",
        "fig.show()"
      ],
      "execution_count": 42,
      "outputs": [
        {
          "output_type": "display_data",
          "data": {
            "text/html": [
              "<html>\n",
              "<head><meta charset=\"utf-8\" /></head>\n",
              "<body>\n",
              "    <div>            <script src=\"https://cdnjs.cloudflare.com/ajax/libs/mathjax/2.7.5/MathJax.js?config=TeX-AMS-MML_SVG\"></script><script type=\"text/javascript\">if (window.MathJax) {MathJax.Hub.Config({SVG: {font: \"STIX-Web\"}});}</script>                <script type=\"text/javascript\">window.PlotlyConfig = {MathJaxConfig: 'local'};</script>\n",
              "        <script src=\"https://cdn.plot.ly/plotly-2.8.3.min.js\"></script>                <div id=\"eecba6ee-312e-4bcc-acf7-93a8b52baed5\" class=\"plotly-graph-div\" style=\"height:800px; width:800px;\"></div>            <script type=\"text/javascript\">                                    window.PLOTLYENV=window.PLOTLYENV || {};                                    if (document.getElementById(\"eecba6ee-312e-4bcc-acf7-93a8b52baed5\")) {                    Plotly.newPlot(                        \"eecba6ee-312e-4bcc-acf7-93a8b52baed5\",                        [{\"hovertemplate\":\"Intensidade_de_cor=%{x}<br>Alcool=%{y}<br>Proline=%{z}<br>labels=%{marker.color}<extra></extra>\",\"legendgroup\":\"\",\"marker\":{\"color\":[2,2,2,2,0,2,2,2,2,2,2,2,2,2,2,2,2,2,2,1,1,1,2,1,1,1,2,2,1,2,2,2,1,2,2,1,1,2,1,1,1,2,2,0,1,2,2,1,2,2,2,2,2,2,2,2,1,2,2,0,0,0,0,0,0,0,0,0,1,0,1,0,0,1,1,0,0,0,1,0,0,0,0,0,0,0,0,0,0,0,0,0,0,0,0,1,0,0,0,0,0,0,0,0,0,0,0,0,0,0,0,0,0,0,0,0,0,0,0,0,0,0,0,0,0,0,0,0,0,0,0,0,0,0,0,0,0,0,0,0,0,1,0,0,1,1,0,0,0,0,0,0,0,0,0,0,0,1,0,0,0,0,0,0,0,0,0,0,1,0,0,0,0,0,1,1,1,0],\"coloraxis\":\"coloraxis\",\"symbol\":\"circle\"},\"mode\":\"markers\",\"name\":\"\",\"scene\":\"scene\",\"showlegend\":false,\"x\":[5.64,4.379999999999999,5.679999999999999,7.8,4.319999999999999,6.75,5.25,5.05,5.2,7.22,5.749999999999999,4.999999999999999,5.6,5.4,7.5,7.3,6.2,6.6,8.7,5.1,5.65,4.5,3.8,3.93,3.52,3.58,4.799999999999999,3.9499999999999997,4.5,4.7,5.699999999999999,6.9,3.8399999999999994,5.4,4.2,5.1,4.6,4.249999999999999,3.7,5.1,6.13,4.28,5.43,4.36,5.04,5.24,4.9,6.1000000000000005,6.2,8.9,7.2,5.6,7.05,6.299999999999999,5.85,6.250000000000001,6.380000000000001,6.0,6.8,1.95,3.27,5.749999999999999,3.8,4.449999999999999,2.9499999999999997,4.6,5.3,4.68,3.17,2.85,3.0500000000000003,3.38,3.74,3.35,3.21,3.8,4.6,2.65,3.4,2.57,2.5,3.9,2.2,4.799999999999999,3.0500000000000003,2.62,2.45,2.6,2.8,1.74,2.4,3.6,3.0500000000000003,2.15,3.25,2.6,2.5,2.9,4.5,2.3,3.3,2.45,2.8,2.06,2.94,2.7,3.4,3.3,2.7,2.65,2.9,2.0,3.8,3.08,2.9,1.9,1.95,2.06,3.4,1.28,3.25,6.0,2.08,2.6,2.8,2.76,3.94,3.0,2.12,2.6,4.1,5.4,5.699999999999999,4.999999999999999,5.45,7.1,3.8500000000000005,4.999999999999999,5.699999999999999,4.919999999999999,4.6,5.6,4.35,4.3999999999999995,8.21,4.0,4.9,7.65,8.42,9.4,8.6,10.8,7.1,10.52,7.6,7.8999999999999995,9.01,7.5,13.0,11.75,7.65,5.88,5.58,5.279999999999999,9.58,6.62,10.68,10.26,8.66,8.5,5.5,9.899999,9.7,7.700000000000001,7.3,10.2,9.3,9.2],\"y\":[14.23,13.2,13.16,14.37,13.24,14.2,14.39,14.06,14.83,13.86,14.1,14.12,13.75,14.75,14.38,13.63,14.3,13.83,14.19,13.64,14.06,12.93,13.71,12.85,13.5,13.05,13.39,13.3,13.87,14.02,13.73,13.58,13.68,13.76,13.51,13.48,13.28,13.05,13.07,14.22,13.56,13.41,13.88,13.24,13.05,14.21,14.38,13.9,14.1,13.94,13.05,13.83,13.82,13.77,13.74,13.56,14.22,13.29,13.72,12.37,12.33,12.64,13.67,12.37,12.17,12.37,13.11,12.37,13.34,12.21,12.29,13.86,13.49,12.99,11.96,11.66,13.03,11.84,12.33,12.7,12.0,12.72,12.08,13.05,11.84,12.67,12.16,11.65,11.64,12.08,12.08,12.0,12.69,12.29,11.62,12.47,11.81,12.29,12.37,12.29,12.08,12.6,12.34,11.82,12.51,12.42,12.25,12.72,12.22,11.61,11.46,12.52,11.76,11.41,12.08,11.03,11.82,12.42,12.77,12.0,11.45,11.56,12.42,13.05,11.87,12.07,12.43,11.79,12.37,12.04,12.86,12.88,12.81,12.7,12.51,12.6,12.25,12.53,13.49,12.84,12.93,13.36,13.52,13.62,12.25,13.16,13.88,12.87,13.32,13.08,13.5,12.79,13.11,13.23,12.58,13.17,13.84,12.45,14.34,13.48,12.36,13.69,12.85,12.96,13.78,13.73,13.45,12.82,13.58,13.4,12.2,12.77,14.16,13.71,13.4,13.27,13.17,14.13],\"z\":[1065.0,1050.0,1185.0,1480.0000000000002,735.0,1450.0,1290.0,1295.0,1045.0,1045.0,1510.0,1280.0,1320.0,1150.0,1547.0,1310.0,1280.0,1130.0,1680.0,845.0000000000001,779.9999999999999,770.0,1035.0,1015.0,845.0000000000001,830.0,1195.0,1285.0,915.0000000000001,1035.0,1285.0,1515.0,989.9999999999999,1235.0,1095.0,919.9999999999999,880.0000000000001,1105.0,1020.0000000000001,760.0,795.0,1035.0,1095.0,680.0,884.9999999999999,1080.0,1065.0,985.0000000000001,1060.0,1260.0,1150.0,1265.0,1190.0,1375.0,1060.0,1120.0,970.0,1270.0,1285.0,520.0,680.0,450.0,630.0,420.0,354.99999999999994,677.9999999999999,502.00000000000006,510.00000000000006,750.0,717.9999999999999,870.0,410.0,472.0,985.0000000000001,886.0,428.0,392.0,500.0,750.0,463.00000000000006,278.0,714.0,630.0,515.0,520.0,450.0,494.99999999999994,562.0,680.0,625.0,480.0,450.0,494.99999999999994,290.0,345.0,937.0,625.0,428.0,660.0,406.0,709.9999999999999,562.0,438.0,415.0,671.9999999999999,315.0,510.00000000000006,488.0,312.0,680.0,562.0,325.0,607.0,434.0,385.0,407.0,494.99999999999994,345.0,372.0,564.0,625.0,465.0,365.0,380.0,380.0,378.00000000000006,352.0,466.0,342.0,580.0,630.0,530.0,560.0,600.0,650.0,695.0,720.0,515.0,580.0,590.0,600.0,779.9999999999999,520.0,550.0,855.0,830.0,415.0,625.0,650.0,550.0,500.0,480.0,424.99999999999994,674.9999999999999,639.9999999999999,725.0,480.0,880.0000000000001,660.0,620.0,520.0,680.0,570.0,674.9999999999999,615.0,520.0,695.0,685.0,750.0,630.0,510.00000000000006,470.0,660.0,740.0000000000001,750.0,835.0,840.0,560.0],\"type\":\"scatter3d\"}],                        {\"template\":{\"data\":{\"bar\":[{\"error_x\":{\"color\":\"#2a3f5f\"},\"error_y\":{\"color\":\"#2a3f5f\"},\"marker\":{\"line\":{\"color\":\"#E5ECF6\",\"width\":0.5},\"pattern\":{\"fillmode\":\"overlay\",\"size\":10,\"solidity\":0.2}},\"type\":\"bar\"}],\"barpolar\":[{\"marker\":{\"line\":{\"color\":\"#E5ECF6\",\"width\":0.5},\"pattern\":{\"fillmode\":\"overlay\",\"size\":10,\"solidity\":0.2}},\"type\":\"barpolar\"}],\"carpet\":[{\"aaxis\":{\"endlinecolor\":\"#2a3f5f\",\"gridcolor\":\"white\",\"linecolor\":\"white\",\"minorgridcolor\":\"white\",\"startlinecolor\":\"#2a3f5f\"},\"baxis\":{\"endlinecolor\":\"#2a3f5f\",\"gridcolor\":\"white\",\"linecolor\":\"white\",\"minorgridcolor\":\"white\",\"startlinecolor\":\"#2a3f5f\"},\"type\":\"carpet\"}],\"choropleth\":[{\"colorbar\":{\"outlinewidth\":0,\"ticks\":\"\"},\"type\":\"choropleth\"}],\"contour\":[{\"colorbar\":{\"outlinewidth\":0,\"ticks\":\"\"},\"colorscale\":[[0.0,\"#0d0887\"],[0.1111111111111111,\"#46039f\"],[0.2222222222222222,\"#7201a8\"],[0.3333333333333333,\"#9c179e\"],[0.4444444444444444,\"#bd3786\"],[0.5555555555555556,\"#d8576b\"],[0.6666666666666666,\"#ed7953\"],[0.7777777777777778,\"#fb9f3a\"],[0.8888888888888888,\"#fdca26\"],[1.0,\"#f0f921\"]],\"type\":\"contour\"}],\"contourcarpet\":[{\"colorbar\":{\"outlinewidth\":0,\"ticks\":\"\"},\"type\":\"contourcarpet\"}],\"heatmap\":[{\"colorbar\":{\"outlinewidth\":0,\"ticks\":\"\"},\"colorscale\":[[0.0,\"#0d0887\"],[0.1111111111111111,\"#46039f\"],[0.2222222222222222,\"#7201a8\"],[0.3333333333333333,\"#9c179e\"],[0.4444444444444444,\"#bd3786\"],[0.5555555555555556,\"#d8576b\"],[0.6666666666666666,\"#ed7953\"],[0.7777777777777778,\"#fb9f3a\"],[0.8888888888888888,\"#fdca26\"],[1.0,\"#f0f921\"]],\"type\":\"heatmap\"}],\"heatmapgl\":[{\"colorbar\":{\"outlinewidth\":0,\"ticks\":\"\"},\"colorscale\":[[0.0,\"#0d0887\"],[0.1111111111111111,\"#46039f\"],[0.2222222222222222,\"#7201a8\"],[0.3333333333333333,\"#9c179e\"],[0.4444444444444444,\"#bd3786\"],[0.5555555555555556,\"#d8576b\"],[0.6666666666666666,\"#ed7953\"],[0.7777777777777778,\"#fb9f3a\"],[0.8888888888888888,\"#fdca26\"],[1.0,\"#f0f921\"]],\"type\":\"heatmapgl\"}],\"histogram\":[{\"marker\":{\"pattern\":{\"fillmode\":\"overlay\",\"size\":10,\"solidity\":0.2}},\"type\":\"histogram\"}],\"histogram2d\":[{\"colorbar\":{\"outlinewidth\":0,\"ticks\":\"\"},\"colorscale\":[[0.0,\"#0d0887\"],[0.1111111111111111,\"#46039f\"],[0.2222222222222222,\"#7201a8\"],[0.3333333333333333,\"#9c179e\"],[0.4444444444444444,\"#bd3786\"],[0.5555555555555556,\"#d8576b\"],[0.6666666666666666,\"#ed7953\"],[0.7777777777777778,\"#fb9f3a\"],[0.8888888888888888,\"#fdca26\"],[1.0,\"#f0f921\"]],\"type\":\"histogram2d\"}],\"histogram2dcontour\":[{\"colorbar\":{\"outlinewidth\":0,\"ticks\":\"\"},\"colorscale\":[[0.0,\"#0d0887\"],[0.1111111111111111,\"#46039f\"],[0.2222222222222222,\"#7201a8\"],[0.3333333333333333,\"#9c179e\"],[0.4444444444444444,\"#bd3786\"],[0.5555555555555556,\"#d8576b\"],[0.6666666666666666,\"#ed7953\"],[0.7777777777777778,\"#fb9f3a\"],[0.8888888888888888,\"#fdca26\"],[1.0,\"#f0f921\"]],\"type\":\"histogram2dcontour\"}],\"mesh3d\":[{\"colorbar\":{\"outlinewidth\":0,\"ticks\":\"\"},\"type\":\"mesh3d\"}],\"parcoords\":[{\"line\":{\"colorbar\":{\"outlinewidth\":0,\"ticks\":\"\"}},\"type\":\"parcoords\"}],\"pie\":[{\"automargin\":true,\"type\":\"pie\"}],\"scatter\":[{\"marker\":{\"colorbar\":{\"outlinewidth\":0,\"ticks\":\"\"}},\"type\":\"scatter\"}],\"scatter3d\":[{\"line\":{\"colorbar\":{\"outlinewidth\":0,\"ticks\":\"\"}},\"marker\":{\"colorbar\":{\"outlinewidth\":0,\"ticks\":\"\"}},\"type\":\"scatter3d\"}],\"scattercarpet\":[{\"marker\":{\"colorbar\":{\"outlinewidth\":0,\"ticks\":\"\"}},\"type\":\"scattercarpet\"}],\"scattergeo\":[{\"marker\":{\"colorbar\":{\"outlinewidth\":0,\"ticks\":\"\"}},\"type\":\"scattergeo\"}],\"scattergl\":[{\"marker\":{\"colorbar\":{\"outlinewidth\":0,\"ticks\":\"\"}},\"type\":\"scattergl\"}],\"scattermapbox\":[{\"marker\":{\"colorbar\":{\"outlinewidth\":0,\"ticks\":\"\"}},\"type\":\"scattermapbox\"}],\"scatterpolar\":[{\"marker\":{\"colorbar\":{\"outlinewidth\":0,\"ticks\":\"\"}},\"type\":\"scatterpolar\"}],\"scatterpolargl\":[{\"marker\":{\"colorbar\":{\"outlinewidth\":0,\"ticks\":\"\"}},\"type\":\"scatterpolargl\"}],\"scatterternary\":[{\"marker\":{\"colorbar\":{\"outlinewidth\":0,\"ticks\":\"\"}},\"type\":\"scatterternary\"}],\"surface\":[{\"colorbar\":{\"outlinewidth\":0,\"ticks\":\"\"},\"colorscale\":[[0.0,\"#0d0887\"],[0.1111111111111111,\"#46039f\"],[0.2222222222222222,\"#7201a8\"],[0.3333333333333333,\"#9c179e\"],[0.4444444444444444,\"#bd3786\"],[0.5555555555555556,\"#d8576b\"],[0.6666666666666666,\"#ed7953\"],[0.7777777777777778,\"#fb9f3a\"],[0.8888888888888888,\"#fdca26\"],[1.0,\"#f0f921\"]],\"type\":\"surface\"}],\"table\":[{\"cells\":{\"fill\":{\"color\":\"#EBF0F8\"},\"line\":{\"color\":\"white\"}},\"header\":{\"fill\":{\"color\":\"#C8D4E3\"},\"line\":{\"color\":\"white\"}},\"type\":\"table\"}]},\"layout\":{\"annotationdefaults\":{\"arrowcolor\":\"#2a3f5f\",\"arrowhead\":0,\"arrowwidth\":1},\"autotypenumbers\":\"strict\",\"coloraxis\":{\"colorbar\":{\"outlinewidth\":0,\"ticks\":\"\"}},\"colorscale\":{\"diverging\":[[0,\"#8e0152\"],[0.1,\"#c51b7d\"],[0.2,\"#de77ae\"],[0.3,\"#f1b6da\"],[0.4,\"#fde0ef\"],[0.5,\"#f7f7f7\"],[0.6,\"#e6f5d0\"],[0.7,\"#b8e186\"],[0.8,\"#7fbc41\"],[0.9,\"#4d9221\"],[1,\"#276419\"]],\"sequential\":[[0.0,\"#0d0887\"],[0.1111111111111111,\"#46039f\"],[0.2222222222222222,\"#7201a8\"],[0.3333333333333333,\"#9c179e\"],[0.4444444444444444,\"#bd3786\"],[0.5555555555555556,\"#d8576b\"],[0.6666666666666666,\"#ed7953\"],[0.7777777777777778,\"#fb9f3a\"],[0.8888888888888888,\"#fdca26\"],[1.0,\"#f0f921\"]],\"sequentialminus\":[[0.0,\"#0d0887\"],[0.1111111111111111,\"#46039f\"],[0.2222222222222222,\"#7201a8\"],[0.3333333333333333,\"#9c179e\"],[0.4444444444444444,\"#bd3786\"],[0.5555555555555556,\"#d8576b\"],[0.6666666666666666,\"#ed7953\"],[0.7777777777777778,\"#fb9f3a\"],[0.8888888888888888,\"#fdca26\"],[1.0,\"#f0f921\"]]},\"colorway\":[\"#636efa\",\"#EF553B\",\"#00cc96\",\"#ab63fa\",\"#FFA15A\",\"#19d3f3\",\"#FF6692\",\"#B6E880\",\"#FF97FF\",\"#FECB52\"],\"font\":{\"color\":\"#2a3f5f\"},\"geo\":{\"bgcolor\":\"white\",\"lakecolor\":\"white\",\"landcolor\":\"#E5ECF6\",\"showlakes\":true,\"showland\":true,\"subunitcolor\":\"white\"},\"hoverlabel\":{\"align\":\"left\"},\"hovermode\":\"closest\",\"mapbox\":{\"style\":\"light\"},\"paper_bgcolor\":\"white\",\"plot_bgcolor\":\"#E5ECF6\",\"polar\":{\"angularaxis\":{\"gridcolor\":\"white\",\"linecolor\":\"white\",\"ticks\":\"\"},\"bgcolor\":\"#E5ECF6\",\"radialaxis\":{\"gridcolor\":\"white\",\"linecolor\":\"white\",\"ticks\":\"\"}},\"scene\":{\"xaxis\":{\"backgroundcolor\":\"#E5ECF6\",\"gridcolor\":\"white\",\"gridwidth\":2,\"linecolor\":\"white\",\"showbackground\":true,\"ticks\":\"\",\"zerolinecolor\":\"white\"},\"yaxis\":{\"backgroundcolor\":\"#E5ECF6\",\"gridcolor\":\"white\",\"gridwidth\":2,\"linecolor\":\"white\",\"showbackground\":true,\"ticks\":\"\",\"zerolinecolor\":\"white\"},\"zaxis\":{\"backgroundcolor\":\"#E5ECF6\",\"gridcolor\":\"white\",\"gridwidth\":2,\"linecolor\":\"white\",\"showbackground\":true,\"ticks\":\"\",\"zerolinecolor\":\"white\"}},\"shapedefaults\":{\"line\":{\"color\":\"#2a3f5f\"}},\"ternary\":{\"aaxis\":{\"gridcolor\":\"white\",\"linecolor\":\"white\",\"ticks\":\"\"},\"baxis\":{\"gridcolor\":\"white\",\"linecolor\":\"white\",\"ticks\":\"\"},\"bgcolor\":\"#E5ECF6\",\"caxis\":{\"gridcolor\":\"white\",\"linecolor\":\"white\",\"ticks\":\"\"}},\"title\":{\"x\":0.05},\"xaxis\":{\"automargin\":true,\"gridcolor\":\"white\",\"linecolor\":\"white\",\"ticks\":\"\",\"title\":{\"standoff\":15},\"zerolinecolor\":\"white\",\"zerolinewidth\":2},\"yaxis\":{\"automargin\":true,\"gridcolor\":\"white\",\"linecolor\":\"white\",\"ticks\":\"\",\"title\":{\"standoff\":15},\"zerolinecolor\":\"white\",\"zerolinewidth\":2}}},\"scene\":{\"domain\":{\"x\":[0.0,1.0],\"y\":[0.0,1.0]},\"xaxis\":{\"title\":{\"text\":\"Intensidade_de_cor\"}},\"yaxis\":{\"title\":{\"text\":\"Alcool\"}},\"zaxis\":{\"title\":{\"text\":\"Proline\"}}},\"coloraxis\":{\"colorbar\":{\"title\":{\"text\":\"labels\"}},\"colorscale\":[[0.0,\"#0d0887\"],[0.1111111111111111,\"#46039f\"],[0.2222222222222222,\"#7201a8\"],[0.3333333333333333,\"#9c179e\"],[0.4444444444444444,\"#bd3786\"],[0.5555555555555556,\"#d8576b\"],[0.6666666666666666,\"#ed7953\"],[0.7777777777777778,\"#fb9f3a\"],[0.8888888888888888,\"#fdca26\"],[1.0,\"#f0f921\"]]},\"legend\":{\"tracegroupgap\":0},\"margin\":{\"t\":60},\"height\":800,\"width\":800},                        {\"responsive\": true}                    ).then(function(){\n",
              "                            \n",
              "var gd = document.getElementById('eecba6ee-312e-4bcc-acf7-93a8b52baed5');\n",
              "var x = new MutationObserver(function (mutations, observer) {{\n",
              "        var display = window.getComputedStyle(gd).display;\n",
              "        if (!display || display === 'none') {{\n",
              "            console.log([gd, 'removed!']);\n",
              "            Plotly.purge(gd);\n",
              "            observer.disconnect();\n",
              "        }}\n",
              "}});\n",
              "\n",
              "// Listen for the removal of the full notebook cells\n",
              "var notebookContainer = gd.closest('#notebook-container');\n",
              "if (notebookContainer) {{\n",
              "    x.observe(notebookContainer, {childList: true});\n",
              "}}\n",
              "\n",
              "// Listen for the clearing of the current output cell\n",
              "var outputEl = gd.closest('.output');\n",
              "if (outputEl) {{\n",
              "    x.observe(outputEl, {childList: true});\n",
              "}}\n",
              "\n",
              "                        })                };                            </script>        </div>\n",
              "</body>\n",
              "</html>"
            ]
          },
          "metadata": {}
        }
      ]
    },
    {
      "cell_type": "markdown",
      "metadata": {
        "id": "pn4ZkmaJxY2l"
      },
      "source": [
        "O objetivo do algoritmo é agrupar os pontos de acordo com as regiões de alta densidade. \n",
        "\n",
        "* Vantagens:\n",
        "    * K-means não costuma apresentar um bom resultado quando há ruído e grupos de simetria não radial\n",
        "    * Ele tem menos parâmetros para ser ajustado que o DBSCAN. O único parâmetro que nós mexemos é a largura de banda\n",
        "    * Ele é robusto aos “outliers”\n",
        "    * Ele pode detectar qualquer tipo de forma:\n",
        "        * se você colocar uma largura de banda menor, você acaba detectando formas mais estranhas \n",
        "        * larguras de banda maiores podemos detectar formas com simetria mais radial\n",
        "* Desvantagens:\n",
        "    * Não funciona bem com dados de alta dimensionalidade\n",
        "    * A parametrização da largura de banda não é muito simples\n",
        "    * É computacionalmente caro, porque todo ponto no início é tratado como um cluster"
      ]
    },
    {
      "cell_type": "code",
      "metadata": {
        "id": "dKdagEjPupD2"
      },
      "source": [
        "from sklearn.cluster import estimate_bandwidth"
      ],
      "execution_count": 43,
      "outputs": []
    },
    {
      "cell_type": "code",
      "metadata": {
        "colab": {
          "base_uri": "https://localhost:8080/"
        },
        "id": "MCx87FhOzWAu",
        "outputId": "c40cde0d-1ad6-4807-98c8-caaa06cde9cc"
      },
      "source": [
        "BW = estimate_bandwidth(df, quantile=0.1)\n",
        "agrupador = MeanShift(bandwidth=BW)\n",
        "agrupador.fit(df)\n",
        "agrupador.labels_"
      ],
      "execution_count": 51,
      "outputs": [
        {
          "output_type": "execute_result",
          "data": {
            "text/plain": [
              "array([ 4,  4,  8,  9,  5,  9,  7,  7,  4,  4,  9,  7,  7,  8,  9,  7,  7,\n",
              "        8, 10,  6,  5,  5,  4,  4,  6,  6,  8,  7,  6,  4,  7,  9,  4,  7,\n",
              "        8,  6,  6,  8,  4,  5,  5,  4,  8,  1,  6,  4,  4,  4,  4,  7,  8,\n",
              "        7,  8,  7,  4,  8,  4,  7,  7,  0,  1,  3,  1,  3,  3,  1,  0,  0,\n",
              "        5,  5,  6,  3,  3,  4,  6,  3,  3,  0,  5,  3,  3,  1,  1,  0,  0,\n",
              "        3,  0,  2,  1,  1,  0,  3,  0,  3,  3,  6,  1,  3,  1,  3,  1,  2,\n",
              "        3,  3,  1,  3,  0,  0,  3,  1,  2,  3,  2,  3,  3,  3,  0,  3,  3,\n",
              "        2,  1,  3,  3,  3,  3,  3,  3,  3,  3,  2,  1,  0,  2,  2,  1,  1,\n",
              "        1,  0,  2,  2,  2,  5,  0,  2,  6,  6,  3,  1,  1,  2,  0,  0,  3,\n",
              "        1,  1,  5,  0,  6,  1,  1,  0,  1,  2,  1,  1,  0,  1,  1,  5,  1,\n",
              "        0,  3,  1,  5,  5,  6,  6,  2])"
            ]
          },
          "metadata": {},
          "execution_count": 51
        }
      ]
    },
    {
      "cell_type": "code",
      "metadata": {
        "colab": {
          "base_uri": "https://localhost:8080/",
          "height": 817
        },
        "id": "2rWuS1L_z5Ze",
        "outputId": "0c4b5429-1174-445b-b017-ca3a8473a87d"
      },
      "source": [
        "labels = agrupador.labels_\n",
        "df['labels'] = labels\n",
        "fig = px.scatter_3d(df, x='Intensidade_de_cor', y='Alcool', z='Proline', color='labels', width=800, height=800)\n",
        "df.drop('labels', axis=1, inplace=True)\n",
        "fig.show()"
      ],
      "execution_count": 52,
      "outputs": [
        {
          "output_type": "display_data",
          "data": {
            "text/html": [
              "<html>\n",
              "<head><meta charset=\"utf-8\" /></head>\n",
              "<body>\n",
              "    <div>            <script src=\"https://cdnjs.cloudflare.com/ajax/libs/mathjax/2.7.5/MathJax.js?config=TeX-AMS-MML_SVG\"></script><script type=\"text/javascript\">if (window.MathJax) {MathJax.Hub.Config({SVG: {font: \"STIX-Web\"}});}</script>                <script type=\"text/javascript\">window.PlotlyConfig = {MathJaxConfig: 'local'};</script>\n",
              "        <script src=\"https://cdn.plot.ly/plotly-2.8.3.min.js\"></script>                <div id=\"6cb1e497-c3ef-4ba2-83f7-933ebaa1894e\" class=\"plotly-graph-div\" style=\"height:800px; width:800px;\"></div>            <script type=\"text/javascript\">                                    window.PLOTLYENV=window.PLOTLYENV || {};                                    if (document.getElementById(\"6cb1e497-c3ef-4ba2-83f7-933ebaa1894e\")) {                    Plotly.newPlot(                        \"6cb1e497-c3ef-4ba2-83f7-933ebaa1894e\",                        [{\"hovertemplate\":\"Intensidade_de_cor=%{x}<br>Alcool=%{y}<br>Proline=%{z}<br>labels=%{marker.color}<extra></extra>\",\"legendgroup\":\"\",\"marker\":{\"color\":[4,4,8,9,5,9,7,7,4,4,9,7,7,8,9,7,7,8,10,6,5,5,4,4,6,6,8,7,6,4,7,9,4,7,8,6,6,8,4,5,5,4,8,1,6,4,4,4,4,7,8,7,8,7,4,8,4,7,7,0,1,3,1,3,3,1,0,0,5,5,6,3,3,4,6,3,3,0,5,3,3,1,1,0,0,3,0,2,1,1,0,3,0,3,3,6,1,3,1,3,1,2,3,3,1,3,0,0,3,1,2,3,2,3,3,3,0,3,3,2,1,3,3,3,3,3,3,3,3,2,1,0,2,2,1,1,1,0,2,2,2,5,0,2,6,6,3,1,1,2,0,0,3,1,1,5,0,6,1,1,0,1,2,1,1,0,1,1,5,1,0,3,1,5,5,6,6,2],\"coloraxis\":\"coloraxis\",\"symbol\":\"circle\"},\"mode\":\"markers\",\"name\":\"\",\"scene\":\"scene\",\"showlegend\":false,\"x\":[5.64,4.379999999999999,5.679999999999999,7.8,4.319999999999999,6.75,5.25,5.05,5.2,7.22,5.749999999999999,4.999999999999999,5.6,5.4,7.5,7.3,6.2,6.6,8.7,5.1,5.65,4.5,3.8,3.93,3.52,3.58,4.799999999999999,3.9499999999999997,4.5,4.7,5.699999999999999,6.9,3.8399999999999994,5.4,4.2,5.1,4.6,4.249999999999999,3.7,5.1,6.13,4.28,5.43,4.36,5.04,5.24,4.9,6.1000000000000005,6.2,8.9,7.2,5.6,7.05,6.299999999999999,5.85,6.250000000000001,6.380000000000001,6.0,6.8,1.95,3.27,5.749999999999999,3.8,4.449999999999999,2.9499999999999997,4.6,5.3,4.68,3.17,2.85,3.0500000000000003,3.38,3.74,3.35,3.21,3.8,4.6,2.65,3.4,2.57,2.5,3.9,2.2,4.799999999999999,3.0500000000000003,2.62,2.45,2.6,2.8,1.74,2.4,3.6,3.0500000000000003,2.15,3.25,2.6,2.5,2.9,4.5,2.3,3.3,2.45,2.8,2.06,2.94,2.7,3.4,3.3,2.7,2.65,2.9,2.0,3.8,3.08,2.9,1.9,1.95,2.06,3.4,1.28,3.25,6.0,2.08,2.6,2.8,2.76,3.94,3.0,2.12,2.6,4.1,5.4,5.699999999999999,4.999999999999999,5.45,7.1,3.8500000000000005,4.999999999999999,5.699999999999999,4.919999999999999,4.6,5.6,4.35,4.3999999999999995,8.21,4.0,4.9,7.65,8.42,9.4,8.6,10.8,7.1,10.52,7.6,7.8999999999999995,9.01,7.5,13.0,11.75,7.65,5.88,5.58,5.279999999999999,9.58,6.62,10.68,10.26,8.66,8.5,5.5,9.899999,9.7,7.700000000000001,7.3,10.2,9.3,9.2],\"y\":[14.23,13.2,13.16,14.37,13.24,14.2,14.39,14.06,14.83,13.86,14.1,14.12,13.75,14.75,14.38,13.63,14.3,13.83,14.19,13.64,14.06,12.93,13.71,12.85,13.5,13.05,13.39,13.3,13.87,14.02,13.73,13.58,13.68,13.76,13.51,13.48,13.28,13.05,13.07,14.22,13.56,13.41,13.88,13.24,13.05,14.21,14.38,13.9,14.1,13.94,13.05,13.83,13.82,13.77,13.74,13.56,14.22,13.29,13.72,12.37,12.33,12.64,13.67,12.37,12.17,12.37,13.11,12.37,13.34,12.21,12.29,13.86,13.49,12.99,11.96,11.66,13.03,11.84,12.33,12.7,12.0,12.72,12.08,13.05,11.84,12.67,12.16,11.65,11.64,12.08,12.08,12.0,12.69,12.29,11.62,12.47,11.81,12.29,12.37,12.29,12.08,12.6,12.34,11.82,12.51,12.42,12.25,12.72,12.22,11.61,11.46,12.52,11.76,11.41,12.08,11.03,11.82,12.42,12.77,12.0,11.45,11.56,12.42,13.05,11.87,12.07,12.43,11.79,12.37,12.04,12.86,12.88,12.81,12.7,12.51,12.6,12.25,12.53,13.49,12.84,12.93,13.36,13.52,13.62,12.25,13.16,13.88,12.87,13.32,13.08,13.5,12.79,13.11,13.23,12.58,13.17,13.84,12.45,14.34,13.48,12.36,13.69,12.85,12.96,13.78,13.73,13.45,12.82,13.58,13.4,12.2,12.77,14.16,13.71,13.4,13.27,13.17,14.13],\"z\":[1065.0,1050.0,1185.0,1480.0000000000002,735.0,1450.0,1290.0,1295.0,1045.0,1045.0,1510.0,1280.0,1320.0,1150.0,1547.0,1310.0,1280.0,1130.0,1680.0,845.0000000000001,779.9999999999999,770.0,1035.0,1015.0,845.0000000000001,830.0,1195.0,1285.0,915.0000000000001,1035.0,1285.0,1515.0,989.9999999999999,1235.0,1095.0,919.9999999999999,880.0000000000001,1105.0,1020.0000000000001,760.0,795.0,1035.0,1095.0,680.0,884.9999999999999,1080.0,1065.0,985.0000000000001,1060.0,1260.0,1150.0,1265.0,1190.0,1375.0,1060.0,1120.0,970.0,1270.0,1285.0,520.0,680.0,450.0,630.0,420.0,354.99999999999994,677.9999999999999,502.00000000000006,510.00000000000006,750.0,717.9999999999999,870.0,410.0,472.0,985.0000000000001,886.0,428.0,392.0,500.0,750.0,463.00000000000006,278.0,714.0,630.0,515.0,520.0,450.0,494.99999999999994,562.0,680.0,625.0,480.0,450.0,494.99999999999994,290.0,345.0,937.0,625.0,428.0,660.0,406.0,709.9999999999999,562.0,438.0,415.0,671.9999999999999,315.0,510.00000000000006,488.0,312.0,680.0,562.0,325.0,607.0,434.0,385.0,407.0,494.99999999999994,345.0,372.0,564.0,625.0,465.0,365.0,380.0,380.0,378.00000000000006,352.0,466.0,342.0,580.0,630.0,530.0,560.0,600.0,650.0,695.0,720.0,515.0,580.0,590.0,600.0,779.9999999999999,520.0,550.0,855.0,830.0,415.0,625.0,650.0,550.0,500.0,480.0,424.99999999999994,674.9999999999999,639.9999999999999,725.0,480.0,880.0000000000001,660.0,620.0,520.0,680.0,570.0,674.9999999999999,615.0,520.0,695.0,685.0,750.0,630.0,510.00000000000006,470.0,660.0,740.0000000000001,750.0,835.0,840.0,560.0],\"type\":\"scatter3d\"}],                        {\"template\":{\"data\":{\"bar\":[{\"error_x\":{\"color\":\"#2a3f5f\"},\"error_y\":{\"color\":\"#2a3f5f\"},\"marker\":{\"line\":{\"color\":\"#E5ECF6\",\"width\":0.5},\"pattern\":{\"fillmode\":\"overlay\",\"size\":10,\"solidity\":0.2}},\"type\":\"bar\"}],\"barpolar\":[{\"marker\":{\"line\":{\"color\":\"#E5ECF6\",\"width\":0.5},\"pattern\":{\"fillmode\":\"overlay\",\"size\":10,\"solidity\":0.2}},\"type\":\"barpolar\"}],\"carpet\":[{\"aaxis\":{\"endlinecolor\":\"#2a3f5f\",\"gridcolor\":\"white\",\"linecolor\":\"white\",\"minorgridcolor\":\"white\",\"startlinecolor\":\"#2a3f5f\"},\"baxis\":{\"endlinecolor\":\"#2a3f5f\",\"gridcolor\":\"white\",\"linecolor\":\"white\",\"minorgridcolor\":\"white\",\"startlinecolor\":\"#2a3f5f\"},\"type\":\"carpet\"}],\"choropleth\":[{\"colorbar\":{\"outlinewidth\":0,\"ticks\":\"\"},\"type\":\"choropleth\"}],\"contour\":[{\"colorbar\":{\"outlinewidth\":0,\"ticks\":\"\"},\"colorscale\":[[0.0,\"#0d0887\"],[0.1111111111111111,\"#46039f\"],[0.2222222222222222,\"#7201a8\"],[0.3333333333333333,\"#9c179e\"],[0.4444444444444444,\"#bd3786\"],[0.5555555555555556,\"#d8576b\"],[0.6666666666666666,\"#ed7953\"],[0.7777777777777778,\"#fb9f3a\"],[0.8888888888888888,\"#fdca26\"],[1.0,\"#f0f921\"]],\"type\":\"contour\"}],\"contourcarpet\":[{\"colorbar\":{\"outlinewidth\":0,\"ticks\":\"\"},\"type\":\"contourcarpet\"}],\"heatmap\":[{\"colorbar\":{\"outlinewidth\":0,\"ticks\":\"\"},\"colorscale\":[[0.0,\"#0d0887\"],[0.1111111111111111,\"#46039f\"],[0.2222222222222222,\"#7201a8\"],[0.3333333333333333,\"#9c179e\"],[0.4444444444444444,\"#bd3786\"],[0.5555555555555556,\"#d8576b\"],[0.6666666666666666,\"#ed7953\"],[0.7777777777777778,\"#fb9f3a\"],[0.8888888888888888,\"#fdca26\"],[1.0,\"#f0f921\"]],\"type\":\"heatmap\"}],\"heatmapgl\":[{\"colorbar\":{\"outlinewidth\":0,\"ticks\":\"\"},\"colorscale\":[[0.0,\"#0d0887\"],[0.1111111111111111,\"#46039f\"],[0.2222222222222222,\"#7201a8\"],[0.3333333333333333,\"#9c179e\"],[0.4444444444444444,\"#bd3786\"],[0.5555555555555556,\"#d8576b\"],[0.6666666666666666,\"#ed7953\"],[0.7777777777777778,\"#fb9f3a\"],[0.8888888888888888,\"#fdca26\"],[1.0,\"#f0f921\"]],\"type\":\"heatmapgl\"}],\"histogram\":[{\"marker\":{\"pattern\":{\"fillmode\":\"overlay\",\"size\":10,\"solidity\":0.2}},\"type\":\"histogram\"}],\"histogram2d\":[{\"colorbar\":{\"outlinewidth\":0,\"ticks\":\"\"},\"colorscale\":[[0.0,\"#0d0887\"],[0.1111111111111111,\"#46039f\"],[0.2222222222222222,\"#7201a8\"],[0.3333333333333333,\"#9c179e\"],[0.4444444444444444,\"#bd3786\"],[0.5555555555555556,\"#d8576b\"],[0.6666666666666666,\"#ed7953\"],[0.7777777777777778,\"#fb9f3a\"],[0.8888888888888888,\"#fdca26\"],[1.0,\"#f0f921\"]],\"type\":\"histogram2d\"}],\"histogram2dcontour\":[{\"colorbar\":{\"outlinewidth\":0,\"ticks\":\"\"},\"colorscale\":[[0.0,\"#0d0887\"],[0.1111111111111111,\"#46039f\"],[0.2222222222222222,\"#7201a8\"],[0.3333333333333333,\"#9c179e\"],[0.4444444444444444,\"#bd3786\"],[0.5555555555555556,\"#d8576b\"],[0.6666666666666666,\"#ed7953\"],[0.7777777777777778,\"#fb9f3a\"],[0.8888888888888888,\"#fdca26\"],[1.0,\"#f0f921\"]],\"type\":\"histogram2dcontour\"}],\"mesh3d\":[{\"colorbar\":{\"outlinewidth\":0,\"ticks\":\"\"},\"type\":\"mesh3d\"}],\"parcoords\":[{\"line\":{\"colorbar\":{\"outlinewidth\":0,\"ticks\":\"\"}},\"type\":\"parcoords\"}],\"pie\":[{\"automargin\":true,\"type\":\"pie\"}],\"scatter\":[{\"marker\":{\"colorbar\":{\"outlinewidth\":0,\"ticks\":\"\"}},\"type\":\"scatter\"}],\"scatter3d\":[{\"line\":{\"colorbar\":{\"outlinewidth\":0,\"ticks\":\"\"}},\"marker\":{\"colorbar\":{\"outlinewidth\":0,\"ticks\":\"\"}},\"type\":\"scatter3d\"}],\"scattercarpet\":[{\"marker\":{\"colorbar\":{\"outlinewidth\":0,\"ticks\":\"\"}},\"type\":\"scattercarpet\"}],\"scattergeo\":[{\"marker\":{\"colorbar\":{\"outlinewidth\":0,\"ticks\":\"\"}},\"type\":\"scattergeo\"}],\"scattergl\":[{\"marker\":{\"colorbar\":{\"outlinewidth\":0,\"ticks\":\"\"}},\"type\":\"scattergl\"}],\"scattermapbox\":[{\"marker\":{\"colorbar\":{\"outlinewidth\":0,\"ticks\":\"\"}},\"type\":\"scattermapbox\"}],\"scatterpolar\":[{\"marker\":{\"colorbar\":{\"outlinewidth\":0,\"ticks\":\"\"}},\"type\":\"scatterpolar\"}],\"scatterpolargl\":[{\"marker\":{\"colorbar\":{\"outlinewidth\":0,\"ticks\":\"\"}},\"type\":\"scatterpolargl\"}],\"scatterternary\":[{\"marker\":{\"colorbar\":{\"outlinewidth\":0,\"ticks\":\"\"}},\"type\":\"scatterternary\"}],\"surface\":[{\"colorbar\":{\"outlinewidth\":0,\"ticks\":\"\"},\"colorscale\":[[0.0,\"#0d0887\"],[0.1111111111111111,\"#46039f\"],[0.2222222222222222,\"#7201a8\"],[0.3333333333333333,\"#9c179e\"],[0.4444444444444444,\"#bd3786\"],[0.5555555555555556,\"#d8576b\"],[0.6666666666666666,\"#ed7953\"],[0.7777777777777778,\"#fb9f3a\"],[0.8888888888888888,\"#fdca26\"],[1.0,\"#f0f921\"]],\"type\":\"surface\"}],\"table\":[{\"cells\":{\"fill\":{\"color\":\"#EBF0F8\"},\"line\":{\"color\":\"white\"}},\"header\":{\"fill\":{\"color\":\"#C8D4E3\"},\"line\":{\"color\":\"white\"}},\"type\":\"table\"}]},\"layout\":{\"annotationdefaults\":{\"arrowcolor\":\"#2a3f5f\",\"arrowhead\":0,\"arrowwidth\":1},\"autotypenumbers\":\"strict\",\"coloraxis\":{\"colorbar\":{\"outlinewidth\":0,\"ticks\":\"\"}},\"colorscale\":{\"diverging\":[[0,\"#8e0152\"],[0.1,\"#c51b7d\"],[0.2,\"#de77ae\"],[0.3,\"#f1b6da\"],[0.4,\"#fde0ef\"],[0.5,\"#f7f7f7\"],[0.6,\"#e6f5d0\"],[0.7,\"#b8e186\"],[0.8,\"#7fbc41\"],[0.9,\"#4d9221\"],[1,\"#276419\"]],\"sequential\":[[0.0,\"#0d0887\"],[0.1111111111111111,\"#46039f\"],[0.2222222222222222,\"#7201a8\"],[0.3333333333333333,\"#9c179e\"],[0.4444444444444444,\"#bd3786\"],[0.5555555555555556,\"#d8576b\"],[0.6666666666666666,\"#ed7953\"],[0.7777777777777778,\"#fb9f3a\"],[0.8888888888888888,\"#fdca26\"],[1.0,\"#f0f921\"]],\"sequentialminus\":[[0.0,\"#0d0887\"],[0.1111111111111111,\"#46039f\"],[0.2222222222222222,\"#7201a8\"],[0.3333333333333333,\"#9c179e\"],[0.4444444444444444,\"#bd3786\"],[0.5555555555555556,\"#d8576b\"],[0.6666666666666666,\"#ed7953\"],[0.7777777777777778,\"#fb9f3a\"],[0.8888888888888888,\"#fdca26\"],[1.0,\"#f0f921\"]]},\"colorway\":[\"#636efa\",\"#EF553B\",\"#00cc96\",\"#ab63fa\",\"#FFA15A\",\"#19d3f3\",\"#FF6692\",\"#B6E880\",\"#FF97FF\",\"#FECB52\"],\"font\":{\"color\":\"#2a3f5f\"},\"geo\":{\"bgcolor\":\"white\",\"lakecolor\":\"white\",\"landcolor\":\"#E5ECF6\",\"showlakes\":true,\"showland\":true,\"subunitcolor\":\"white\"},\"hoverlabel\":{\"align\":\"left\"},\"hovermode\":\"closest\",\"mapbox\":{\"style\":\"light\"},\"paper_bgcolor\":\"white\",\"plot_bgcolor\":\"#E5ECF6\",\"polar\":{\"angularaxis\":{\"gridcolor\":\"white\",\"linecolor\":\"white\",\"ticks\":\"\"},\"bgcolor\":\"#E5ECF6\",\"radialaxis\":{\"gridcolor\":\"white\",\"linecolor\":\"white\",\"ticks\":\"\"}},\"scene\":{\"xaxis\":{\"backgroundcolor\":\"#E5ECF6\",\"gridcolor\":\"white\",\"gridwidth\":2,\"linecolor\":\"white\",\"showbackground\":true,\"ticks\":\"\",\"zerolinecolor\":\"white\"},\"yaxis\":{\"backgroundcolor\":\"#E5ECF6\",\"gridcolor\":\"white\",\"gridwidth\":2,\"linecolor\":\"white\",\"showbackground\":true,\"ticks\":\"\",\"zerolinecolor\":\"white\"},\"zaxis\":{\"backgroundcolor\":\"#E5ECF6\",\"gridcolor\":\"white\",\"gridwidth\":2,\"linecolor\":\"white\",\"showbackground\":true,\"ticks\":\"\",\"zerolinecolor\":\"white\"}},\"shapedefaults\":{\"line\":{\"color\":\"#2a3f5f\"}},\"ternary\":{\"aaxis\":{\"gridcolor\":\"white\",\"linecolor\":\"white\",\"ticks\":\"\"},\"baxis\":{\"gridcolor\":\"white\",\"linecolor\":\"white\",\"ticks\":\"\"},\"bgcolor\":\"#E5ECF6\",\"caxis\":{\"gridcolor\":\"white\",\"linecolor\":\"white\",\"ticks\":\"\"}},\"title\":{\"x\":0.05},\"xaxis\":{\"automargin\":true,\"gridcolor\":\"white\",\"linecolor\":\"white\",\"ticks\":\"\",\"title\":{\"standoff\":15},\"zerolinecolor\":\"white\",\"zerolinewidth\":2},\"yaxis\":{\"automargin\":true,\"gridcolor\":\"white\",\"linecolor\":\"white\",\"ticks\":\"\",\"title\":{\"standoff\":15},\"zerolinecolor\":\"white\",\"zerolinewidth\":2}}},\"scene\":{\"domain\":{\"x\":[0.0,1.0],\"y\":[0.0,1.0]},\"xaxis\":{\"title\":{\"text\":\"Intensidade_de_cor\"}},\"yaxis\":{\"title\":{\"text\":\"Alcool\"}},\"zaxis\":{\"title\":{\"text\":\"Proline\"}}},\"coloraxis\":{\"colorbar\":{\"title\":{\"text\":\"labels\"}},\"colorscale\":[[0.0,\"#0d0887\"],[0.1111111111111111,\"#46039f\"],[0.2222222222222222,\"#7201a8\"],[0.3333333333333333,\"#9c179e\"],[0.4444444444444444,\"#bd3786\"],[0.5555555555555556,\"#d8576b\"],[0.6666666666666666,\"#ed7953\"],[0.7777777777777778,\"#fb9f3a\"],[0.8888888888888888,\"#fdca26\"],[1.0,\"#f0f921\"]]},\"legend\":{\"tracegroupgap\":0},\"margin\":{\"t\":60},\"height\":800,\"width\":800},                        {\"responsive\": true}                    ).then(function(){\n",
              "                            \n",
              "var gd = document.getElementById('6cb1e497-c3ef-4ba2-83f7-933ebaa1894e');\n",
              "var x = new MutationObserver(function (mutations, observer) {{\n",
              "        var display = window.getComputedStyle(gd).display;\n",
              "        if (!display || display === 'none') {{\n",
              "            console.log([gd, 'removed!']);\n",
              "            Plotly.purge(gd);\n",
              "            observer.disconnect();\n",
              "        }}\n",
              "}});\n",
              "\n",
              "// Listen for the removal of the full notebook cells\n",
              "var notebookContainer = gd.closest('#notebook-container');\n",
              "if (notebookContainer) {{\n",
              "    x.observe(notebookContainer, {childList: true});\n",
              "}}\n",
              "\n",
              "// Listen for the clearing of the current output cell\n",
              "var outputEl = gd.closest('.output');\n",
              "if (outputEl) {{\n",
              "    x.observe(outputEl, {childList: true});\n",
              "}}\n",
              "\n",
              "                        })                };                            </script>        </div>\n",
              "</body>\n",
              "</html>"
            ]
          },
          "metadata": {}
        }
      ]
    },
    {
      "cell_type": "markdown",
      "metadata": {
        "id": "JazM-tsF1CA1"
      },
      "source": [
        "Com o valor do quantil pequeno (quantile=0.1) nossa região de busca dentro do MeanShift, ou seja, nossa região de cálculo da média e de deslocamento da média ficou muito pequena, acabamos gerando vários clusters, porque o centro dos nossos clusters quase não caminharam então eles, não se agruparam muito.\n",
        "\n",
        "Se colocarmos um valor grande no quantil, esperamos que aconteça o contrário, que tenhamos dois clusters ou um."
      ]
    },
    {
      "cell_type": "code",
      "metadata": {
        "colab": {
          "base_uri": "https://localhost:8080/"
        },
        "id": "WoY_erRK0Z7g",
        "outputId": "12fc9a3c-6deb-486e-90bb-140c3abb734d"
      },
      "source": [
        "BW = estimate_bandwidth(df, quantile=0.8)\n",
        "agrupador = MeanShift(bandwidth=BW)\n",
        "agrupador.fit(df)\n",
        "agrupador.labels_"
      ],
      "execution_count": 53,
      "outputs": [
        {
          "output_type": "execute_result",
          "data": {
            "text/plain": [
              "array([0, 0, 0, 0, 0, 0, 0, 0, 0, 0, 0, 0, 0, 0, 0, 0, 0, 0, 0, 0, 0, 0,\n",
              "       0, 0, 0, 0, 0, 0, 0, 0, 0, 0, 0, 0, 0, 0, 0, 0, 0, 0, 0, 0, 0, 0,\n",
              "       0, 0, 0, 0, 0, 0, 0, 0, 0, 0, 0, 0, 0, 0, 0, 0, 0, 0, 0, 0, 0, 0,\n",
              "       0, 0, 0, 0, 0, 0, 0, 0, 0, 0, 0, 0, 0, 0, 0, 0, 0, 0, 0, 0, 0, 0,\n",
              "       0, 0, 0, 0, 0, 0, 0, 0, 0, 0, 0, 0, 0, 0, 0, 0, 0, 0, 0, 0, 0, 0,\n",
              "       0, 0, 0, 0, 0, 0, 0, 0, 0, 0, 0, 0, 0, 0, 0, 0, 0, 0, 0, 0, 0, 0,\n",
              "       0, 0, 0, 0, 0, 0, 0, 0, 0, 0, 0, 0, 0, 0, 0, 0, 0, 0, 0, 0, 0, 0,\n",
              "       0, 0, 0, 0, 0, 0, 0, 0, 0, 0, 0, 0, 0, 0, 0, 0, 0, 0, 0, 0, 0, 0,\n",
              "       0, 0])"
            ]
          },
          "metadata": {},
          "execution_count": 53
        }
      ]
    },
    {
      "cell_type": "code",
      "metadata": {
        "colab": {
          "base_uri": "https://localhost:8080/",
          "height": 817
        },
        "id": "clWwY6o20pYw",
        "outputId": "1dc477f4-f1a6-43d2-be88-5445687afffb"
      },
      "source": [
        "labels = agrupador.labels_\n",
        "df['labels'] = labels\n",
        "fig = px.scatter_3d(df, x='Intensidade_de_cor', y='Alcool', z='Proline', color='labels', width=800, height=800)\n",
        "df.drop('labels', axis=1, inplace=True)\n",
        "fig.show()"
      ],
      "execution_count": 54,
      "outputs": [
        {
          "output_type": "display_data",
          "data": {
            "text/html": [
              "<html>\n",
              "<head><meta charset=\"utf-8\" /></head>\n",
              "<body>\n",
              "    <div>            <script src=\"https://cdnjs.cloudflare.com/ajax/libs/mathjax/2.7.5/MathJax.js?config=TeX-AMS-MML_SVG\"></script><script type=\"text/javascript\">if (window.MathJax) {MathJax.Hub.Config({SVG: {font: \"STIX-Web\"}});}</script>                <script type=\"text/javascript\">window.PlotlyConfig = {MathJaxConfig: 'local'};</script>\n",
              "        <script src=\"https://cdn.plot.ly/plotly-2.8.3.min.js\"></script>                <div id=\"cc6953f0-af0e-416a-8230-c9b5b18ef4cc\" class=\"plotly-graph-div\" style=\"height:800px; width:800px;\"></div>            <script type=\"text/javascript\">                                    window.PLOTLYENV=window.PLOTLYENV || {};                                    if (document.getElementById(\"cc6953f0-af0e-416a-8230-c9b5b18ef4cc\")) {                    Plotly.newPlot(                        \"cc6953f0-af0e-416a-8230-c9b5b18ef4cc\",                        [{\"hovertemplate\":\"Intensidade_de_cor=%{x}<br>Alcool=%{y}<br>Proline=%{z}<br>labels=%{marker.color}<extra></extra>\",\"legendgroup\":\"\",\"marker\":{\"color\":[0,0,0,0,0,0,0,0,0,0,0,0,0,0,0,0,0,0,0,0,0,0,0,0,0,0,0,0,0,0,0,0,0,0,0,0,0,0,0,0,0,0,0,0,0,0,0,0,0,0,0,0,0,0,0,0,0,0,0,0,0,0,0,0,0,0,0,0,0,0,0,0,0,0,0,0,0,0,0,0,0,0,0,0,0,0,0,0,0,0,0,0,0,0,0,0,0,0,0,0,0,0,0,0,0,0,0,0,0,0,0,0,0,0,0,0,0,0,0,0,0,0,0,0,0,0,0,0,0,0,0,0,0,0,0,0,0,0,0,0,0,0,0,0,0,0,0,0,0,0,0,0,0,0,0,0,0,0,0,0,0,0,0,0,0,0,0,0,0,0,0,0,0,0,0,0,0,0],\"coloraxis\":\"coloraxis\",\"symbol\":\"circle\"},\"mode\":\"markers\",\"name\":\"\",\"scene\":\"scene\",\"showlegend\":false,\"x\":[5.64,4.379999999999999,5.679999999999999,7.8,4.319999999999999,6.75,5.25,5.05,5.2,7.22,5.749999999999999,4.999999999999999,5.6,5.4,7.5,7.3,6.2,6.6,8.7,5.1,5.65,4.5,3.8,3.93,3.52,3.58,4.799999999999999,3.9499999999999997,4.5,4.7,5.699999999999999,6.9,3.8399999999999994,5.4,4.2,5.1,4.6,4.249999999999999,3.7,5.1,6.13,4.28,5.43,4.36,5.04,5.24,4.9,6.1000000000000005,6.2,8.9,7.2,5.6,7.05,6.299999999999999,5.85,6.250000000000001,6.380000000000001,6.0,6.8,1.95,3.27,5.749999999999999,3.8,4.449999999999999,2.9499999999999997,4.6,5.3,4.68,3.17,2.85,3.0500000000000003,3.38,3.74,3.35,3.21,3.8,4.6,2.65,3.4,2.57,2.5,3.9,2.2,4.799999999999999,3.0500000000000003,2.62,2.45,2.6,2.8,1.74,2.4,3.6,3.0500000000000003,2.15,3.25,2.6,2.5,2.9,4.5,2.3,3.3,2.45,2.8,2.06,2.94,2.7,3.4,3.3,2.7,2.65,2.9,2.0,3.8,3.08,2.9,1.9,1.95,2.06,3.4,1.28,3.25,6.0,2.08,2.6,2.8,2.76,3.94,3.0,2.12,2.6,4.1,5.4,5.699999999999999,4.999999999999999,5.45,7.1,3.8500000000000005,4.999999999999999,5.699999999999999,4.919999999999999,4.6,5.6,4.35,4.3999999999999995,8.21,4.0,4.9,7.65,8.42,9.4,8.6,10.8,7.1,10.52,7.6,7.8999999999999995,9.01,7.5,13.0,11.75,7.65,5.88,5.58,5.279999999999999,9.58,6.62,10.68,10.26,8.66,8.5,5.5,9.899999,9.7,7.700000000000001,7.3,10.2,9.3,9.2],\"y\":[14.23,13.2,13.16,14.37,13.24,14.2,14.39,14.06,14.83,13.86,14.1,14.12,13.75,14.75,14.38,13.63,14.3,13.83,14.19,13.64,14.06,12.93,13.71,12.85,13.5,13.05,13.39,13.3,13.87,14.02,13.73,13.58,13.68,13.76,13.51,13.48,13.28,13.05,13.07,14.22,13.56,13.41,13.88,13.24,13.05,14.21,14.38,13.9,14.1,13.94,13.05,13.83,13.82,13.77,13.74,13.56,14.22,13.29,13.72,12.37,12.33,12.64,13.67,12.37,12.17,12.37,13.11,12.37,13.34,12.21,12.29,13.86,13.49,12.99,11.96,11.66,13.03,11.84,12.33,12.7,12.0,12.72,12.08,13.05,11.84,12.67,12.16,11.65,11.64,12.08,12.08,12.0,12.69,12.29,11.62,12.47,11.81,12.29,12.37,12.29,12.08,12.6,12.34,11.82,12.51,12.42,12.25,12.72,12.22,11.61,11.46,12.52,11.76,11.41,12.08,11.03,11.82,12.42,12.77,12.0,11.45,11.56,12.42,13.05,11.87,12.07,12.43,11.79,12.37,12.04,12.86,12.88,12.81,12.7,12.51,12.6,12.25,12.53,13.49,12.84,12.93,13.36,13.52,13.62,12.25,13.16,13.88,12.87,13.32,13.08,13.5,12.79,13.11,13.23,12.58,13.17,13.84,12.45,14.34,13.48,12.36,13.69,12.85,12.96,13.78,13.73,13.45,12.82,13.58,13.4,12.2,12.77,14.16,13.71,13.4,13.27,13.17,14.13],\"z\":[1065.0,1050.0,1185.0,1480.0000000000002,735.0,1450.0,1290.0,1295.0,1045.0,1045.0,1510.0,1280.0,1320.0,1150.0,1547.0,1310.0,1280.0,1130.0,1680.0,845.0000000000001,779.9999999999999,770.0,1035.0,1015.0,845.0000000000001,830.0,1195.0,1285.0,915.0000000000001,1035.0,1285.0,1515.0,989.9999999999999,1235.0,1095.0,919.9999999999999,880.0000000000001,1105.0,1020.0000000000001,760.0,795.0,1035.0,1095.0,680.0,884.9999999999999,1080.0,1065.0,985.0000000000001,1060.0,1260.0,1150.0,1265.0,1190.0,1375.0,1060.0,1120.0,970.0,1270.0,1285.0,520.0,680.0,450.0,630.0,420.0,354.99999999999994,677.9999999999999,502.00000000000006,510.00000000000006,750.0,717.9999999999999,870.0,410.0,472.0,985.0000000000001,886.0,428.0,392.0,500.0,750.0,463.00000000000006,278.0,714.0,630.0,515.0,520.0,450.0,494.99999999999994,562.0,680.0,625.0,480.0,450.0,494.99999999999994,290.0,345.0,937.0,625.0,428.0,660.0,406.0,709.9999999999999,562.0,438.0,415.0,671.9999999999999,315.0,510.00000000000006,488.0,312.0,680.0,562.0,325.0,607.0,434.0,385.0,407.0,494.99999999999994,345.0,372.0,564.0,625.0,465.0,365.0,380.0,380.0,378.00000000000006,352.0,466.0,342.0,580.0,630.0,530.0,560.0,600.0,650.0,695.0,720.0,515.0,580.0,590.0,600.0,779.9999999999999,520.0,550.0,855.0,830.0,415.0,625.0,650.0,550.0,500.0,480.0,424.99999999999994,674.9999999999999,639.9999999999999,725.0,480.0,880.0000000000001,660.0,620.0,520.0,680.0,570.0,674.9999999999999,615.0,520.0,695.0,685.0,750.0,630.0,510.00000000000006,470.0,660.0,740.0000000000001,750.0,835.0,840.0,560.0],\"type\":\"scatter3d\"}],                        {\"template\":{\"data\":{\"bar\":[{\"error_x\":{\"color\":\"#2a3f5f\"},\"error_y\":{\"color\":\"#2a3f5f\"},\"marker\":{\"line\":{\"color\":\"#E5ECF6\",\"width\":0.5},\"pattern\":{\"fillmode\":\"overlay\",\"size\":10,\"solidity\":0.2}},\"type\":\"bar\"}],\"barpolar\":[{\"marker\":{\"line\":{\"color\":\"#E5ECF6\",\"width\":0.5},\"pattern\":{\"fillmode\":\"overlay\",\"size\":10,\"solidity\":0.2}},\"type\":\"barpolar\"}],\"carpet\":[{\"aaxis\":{\"endlinecolor\":\"#2a3f5f\",\"gridcolor\":\"white\",\"linecolor\":\"white\",\"minorgridcolor\":\"white\",\"startlinecolor\":\"#2a3f5f\"},\"baxis\":{\"endlinecolor\":\"#2a3f5f\",\"gridcolor\":\"white\",\"linecolor\":\"white\",\"minorgridcolor\":\"white\",\"startlinecolor\":\"#2a3f5f\"},\"type\":\"carpet\"}],\"choropleth\":[{\"colorbar\":{\"outlinewidth\":0,\"ticks\":\"\"},\"type\":\"choropleth\"}],\"contour\":[{\"colorbar\":{\"outlinewidth\":0,\"ticks\":\"\"},\"colorscale\":[[0.0,\"#0d0887\"],[0.1111111111111111,\"#46039f\"],[0.2222222222222222,\"#7201a8\"],[0.3333333333333333,\"#9c179e\"],[0.4444444444444444,\"#bd3786\"],[0.5555555555555556,\"#d8576b\"],[0.6666666666666666,\"#ed7953\"],[0.7777777777777778,\"#fb9f3a\"],[0.8888888888888888,\"#fdca26\"],[1.0,\"#f0f921\"]],\"type\":\"contour\"}],\"contourcarpet\":[{\"colorbar\":{\"outlinewidth\":0,\"ticks\":\"\"},\"type\":\"contourcarpet\"}],\"heatmap\":[{\"colorbar\":{\"outlinewidth\":0,\"ticks\":\"\"},\"colorscale\":[[0.0,\"#0d0887\"],[0.1111111111111111,\"#46039f\"],[0.2222222222222222,\"#7201a8\"],[0.3333333333333333,\"#9c179e\"],[0.4444444444444444,\"#bd3786\"],[0.5555555555555556,\"#d8576b\"],[0.6666666666666666,\"#ed7953\"],[0.7777777777777778,\"#fb9f3a\"],[0.8888888888888888,\"#fdca26\"],[1.0,\"#f0f921\"]],\"type\":\"heatmap\"}],\"heatmapgl\":[{\"colorbar\":{\"outlinewidth\":0,\"ticks\":\"\"},\"colorscale\":[[0.0,\"#0d0887\"],[0.1111111111111111,\"#46039f\"],[0.2222222222222222,\"#7201a8\"],[0.3333333333333333,\"#9c179e\"],[0.4444444444444444,\"#bd3786\"],[0.5555555555555556,\"#d8576b\"],[0.6666666666666666,\"#ed7953\"],[0.7777777777777778,\"#fb9f3a\"],[0.8888888888888888,\"#fdca26\"],[1.0,\"#f0f921\"]],\"type\":\"heatmapgl\"}],\"histogram\":[{\"marker\":{\"pattern\":{\"fillmode\":\"overlay\",\"size\":10,\"solidity\":0.2}},\"type\":\"histogram\"}],\"histogram2d\":[{\"colorbar\":{\"outlinewidth\":0,\"ticks\":\"\"},\"colorscale\":[[0.0,\"#0d0887\"],[0.1111111111111111,\"#46039f\"],[0.2222222222222222,\"#7201a8\"],[0.3333333333333333,\"#9c179e\"],[0.4444444444444444,\"#bd3786\"],[0.5555555555555556,\"#d8576b\"],[0.6666666666666666,\"#ed7953\"],[0.7777777777777778,\"#fb9f3a\"],[0.8888888888888888,\"#fdca26\"],[1.0,\"#f0f921\"]],\"type\":\"histogram2d\"}],\"histogram2dcontour\":[{\"colorbar\":{\"outlinewidth\":0,\"ticks\":\"\"},\"colorscale\":[[0.0,\"#0d0887\"],[0.1111111111111111,\"#46039f\"],[0.2222222222222222,\"#7201a8\"],[0.3333333333333333,\"#9c179e\"],[0.4444444444444444,\"#bd3786\"],[0.5555555555555556,\"#d8576b\"],[0.6666666666666666,\"#ed7953\"],[0.7777777777777778,\"#fb9f3a\"],[0.8888888888888888,\"#fdca26\"],[1.0,\"#f0f921\"]],\"type\":\"histogram2dcontour\"}],\"mesh3d\":[{\"colorbar\":{\"outlinewidth\":0,\"ticks\":\"\"},\"type\":\"mesh3d\"}],\"parcoords\":[{\"line\":{\"colorbar\":{\"outlinewidth\":0,\"ticks\":\"\"}},\"type\":\"parcoords\"}],\"pie\":[{\"automargin\":true,\"type\":\"pie\"}],\"scatter\":[{\"marker\":{\"colorbar\":{\"outlinewidth\":0,\"ticks\":\"\"}},\"type\":\"scatter\"}],\"scatter3d\":[{\"line\":{\"colorbar\":{\"outlinewidth\":0,\"ticks\":\"\"}},\"marker\":{\"colorbar\":{\"outlinewidth\":0,\"ticks\":\"\"}},\"type\":\"scatter3d\"}],\"scattercarpet\":[{\"marker\":{\"colorbar\":{\"outlinewidth\":0,\"ticks\":\"\"}},\"type\":\"scattercarpet\"}],\"scattergeo\":[{\"marker\":{\"colorbar\":{\"outlinewidth\":0,\"ticks\":\"\"}},\"type\":\"scattergeo\"}],\"scattergl\":[{\"marker\":{\"colorbar\":{\"outlinewidth\":0,\"ticks\":\"\"}},\"type\":\"scattergl\"}],\"scattermapbox\":[{\"marker\":{\"colorbar\":{\"outlinewidth\":0,\"ticks\":\"\"}},\"type\":\"scattermapbox\"}],\"scatterpolar\":[{\"marker\":{\"colorbar\":{\"outlinewidth\":0,\"ticks\":\"\"}},\"type\":\"scatterpolar\"}],\"scatterpolargl\":[{\"marker\":{\"colorbar\":{\"outlinewidth\":0,\"ticks\":\"\"}},\"type\":\"scatterpolargl\"}],\"scatterternary\":[{\"marker\":{\"colorbar\":{\"outlinewidth\":0,\"ticks\":\"\"}},\"type\":\"scatterternary\"}],\"surface\":[{\"colorbar\":{\"outlinewidth\":0,\"ticks\":\"\"},\"colorscale\":[[0.0,\"#0d0887\"],[0.1111111111111111,\"#46039f\"],[0.2222222222222222,\"#7201a8\"],[0.3333333333333333,\"#9c179e\"],[0.4444444444444444,\"#bd3786\"],[0.5555555555555556,\"#d8576b\"],[0.6666666666666666,\"#ed7953\"],[0.7777777777777778,\"#fb9f3a\"],[0.8888888888888888,\"#fdca26\"],[1.0,\"#f0f921\"]],\"type\":\"surface\"}],\"table\":[{\"cells\":{\"fill\":{\"color\":\"#EBF0F8\"},\"line\":{\"color\":\"white\"}},\"header\":{\"fill\":{\"color\":\"#C8D4E3\"},\"line\":{\"color\":\"white\"}},\"type\":\"table\"}]},\"layout\":{\"annotationdefaults\":{\"arrowcolor\":\"#2a3f5f\",\"arrowhead\":0,\"arrowwidth\":1},\"autotypenumbers\":\"strict\",\"coloraxis\":{\"colorbar\":{\"outlinewidth\":0,\"ticks\":\"\"}},\"colorscale\":{\"diverging\":[[0,\"#8e0152\"],[0.1,\"#c51b7d\"],[0.2,\"#de77ae\"],[0.3,\"#f1b6da\"],[0.4,\"#fde0ef\"],[0.5,\"#f7f7f7\"],[0.6,\"#e6f5d0\"],[0.7,\"#b8e186\"],[0.8,\"#7fbc41\"],[0.9,\"#4d9221\"],[1,\"#276419\"]],\"sequential\":[[0.0,\"#0d0887\"],[0.1111111111111111,\"#46039f\"],[0.2222222222222222,\"#7201a8\"],[0.3333333333333333,\"#9c179e\"],[0.4444444444444444,\"#bd3786\"],[0.5555555555555556,\"#d8576b\"],[0.6666666666666666,\"#ed7953\"],[0.7777777777777778,\"#fb9f3a\"],[0.8888888888888888,\"#fdca26\"],[1.0,\"#f0f921\"]],\"sequentialminus\":[[0.0,\"#0d0887\"],[0.1111111111111111,\"#46039f\"],[0.2222222222222222,\"#7201a8\"],[0.3333333333333333,\"#9c179e\"],[0.4444444444444444,\"#bd3786\"],[0.5555555555555556,\"#d8576b\"],[0.6666666666666666,\"#ed7953\"],[0.7777777777777778,\"#fb9f3a\"],[0.8888888888888888,\"#fdca26\"],[1.0,\"#f0f921\"]]},\"colorway\":[\"#636efa\",\"#EF553B\",\"#00cc96\",\"#ab63fa\",\"#FFA15A\",\"#19d3f3\",\"#FF6692\",\"#B6E880\",\"#FF97FF\",\"#FECB52\"],\"font\":{\"color\":\"#2a3f5f\"},\"geo\":{\"bgcolor\":\"white\",\"lakecolor\":\"white\",\"landcolor\":\"#E5ECF6\",\"showlakes\":true,\"showland\":true,\"subunitcolor\":\"white\"},\"hoverlabel\":{\"align\":\"left\"},\"hovermode\":\"closest\",\"mapbox\":{\"style\":\"light\"},\"paper_bgcolor\":\"white\",\"plot_bgcolor\":\"#E5ECF6\",\"polar\":{\"angularaxis\":{\"gridcolor\":\"white\",\"linecolor\":\"white\",\"ticks\":\"\"},\"bgcolor\":\"#E5ECF6\",\"radialaxis\":{\"gridcolor\":\"white\",\"linecolor\":\"white\",\"ticks\":\"\"}},\"scene\":{\"xaxis\":{\"backgroundcolor\":\"#E5ECF6\",\"gridcolor\":\"white\",\"gridwidth\":2,\"linecolor\":\"white\",\"showbackground\":true,\"ticks\":\"\",\"zerolinecolor\":\"white\"},\"yaxis\":{\"backgroundcolor\":\"#E5ECF6\",\"gridcolor\":\"white\",\"gridwidth\":2,\"linecolor\":\"white\",\"showbackground\":true,\"ticks\":\"\",\"zerolinecolor\":\"white\"},\"zaxis\":{\"backgroundcolor\":\"#E5ECF6\",\"gridcolor\":\"white\",\"gridwidth\":2,\"linecolor\":\"white\",\"showbackground\":true,\"ticks\":\"\",\"zerolinecolor\":\"white\"}},\"shapedefaults\":{\"line\":{\"color\":\"#2a3f5f\"}},\"ternary\":{\"aaxis\":{\"gridcolor\":\"white\",\"linecolor\":\"white\",\"ticks\":\"\"},\"baxis\":{\"gridcolor\":\"white\",\"linecolor\":\"white\",\"ticks\":\"\"},\"bgcolor\":\"#E5ECF6\",\"caxis\":{\"gridcolor\":\"white\",\"linecolor\":\"white\",\"ticks\":\"\"}},\"title\":{\"x\":0.05},\"xaxis\":{\"automargin\":true,\"gridcolor\":\"white\",\"linecolor\":\"white\",\"ticks\":\"\",\"title\":{\"standoff\":15},\"zerolinecolor\":\"white\",\"zerolinewidth\":2},\"yaxis\":{\"automargin\":true,\"gridcolor\":\"white\",\"linecolor\":\"white\",\"ticks\":\"\",\"title\":{\"standoff\":15},\"zerolinecolor\":\"white\",\"zerolinewidth\":2}}},\"scene\":{\"domain\":{\"x\":[0.0,1.0],\"y\":[0.0,1.0]},\"xaxis\":{\"title\":{\"text\":\"Intensidade_de_cor\"}},\"yaxis\":{\"title\":{\"text\":\"Alcool\"}},\"zaxis\":{\"title\":{\"text\":\"Proline\"}}},\"coloraxis\":{\"colorbar\":{\"title\":{\"text\":\"labels\"}},\"colorscale\":[[0.0,\"#0d0887\"],[0.1111111111111111,\"#46039f\"],[0.2222222222222222,\"#7201a8\"],[0.3333333333333333,\"#9c179e\"],[0.4444444444444444,\"#bd3786\"],[0.5555555555555556,\"#d8576b\"],[0.6666666666666666,\"#ed7953\"],[0.7777777777777778,\"#fb9f3a\"],[0.8888888888888888,\"#fdca26\"],[1.0,\"#f0f921\"]]},\"legend\":{\"tracegroupgap\":0},\"margin\":{\"t\":60},\"height\":800,\"width\":800},                        {\"responsive\": true}                    ).then(function(){\n",
              "                            \n",
              "var gd = document.getElementById('cc6953f0-af0e-416a-8230-c9b5b18ef4cc');\n",
              "var x = new MutationObserver(function (mutations, observer) {{\n",
              "        var display = window.getComputedStyle(gd).display;\n",
              "        if (!display || display === 'none') {{\n",
              "            console.log([gd, 'removed!']);\n",
              "            Plotly.purge(gd);\n",
              "            observer.disconnect();\n",
              "        }}\n",
              "}});\n",
              "\n",
              "// Listen for the removal of the full notebook cells\n",
              "var notebookContainer = gd.closest('#notebook-container');\n",
              "if (notebookContainer) {{\n",
              "    x.observe(notebookContainer, {childList: true});\n",
              "}}\n",
              "\n",
              "// Listen for the clearing of the current output cell\n",
              "var outputEl = gd.closest('.output');\n",
              "if (outputEl) {{\n",
              "    x.observe(outputEl, {childList: true});\n",
              "}}\n",
              "\n",
              "                        })                };                            </script>        </div>\n",
              "</body>\n",
              "</html>"
            ]
          },
          "metadata": {}
        }
      ]
    },
    {
      "cell_type": "markdown",
      "metadata": {
        "id": "Ji0PKzqJ4J4Q"
      },
      "source": [
        "Vamos buscar um valor de BW que produza 3 clusters."
      ]
    },
    {
      "cell_type": "code",
      "metadata": {
        "colab": {
          "base_uri": "https://localhost:8080/"
        },
        "id": "ZBznvCRC0tDa",
        "outputId": "f4a6fd8d-b7ab-4383-9d83-c0dec00fee59"
      },
      "source": [
        "BW = estimate_bandwidth(df, quantile=0.3)\n",
        "agrupador = MeanShift(bandwidth=BW)\n",
        "agrupador.fit(df)\n",
        "agrupador.labels_"
      ],
      "execution_count": 55,
      "outputs": [
        {
          "output_type": "execute_result",
          "data": {
            "text/plain": [
              "array([2, 2, 2, 2, 0, 2, 2, 2, 2, 2, 2, 2, 2, 2, 2, 2, 2, 2, 2, 1, 1, 1,\n",
              "       2, 1, 1, 1, 2, 2, 1, 2, 2, 2, 1, 2, 2, 1, 1, 2, 1, 1, 1, 2, 2, 0,\n",
              "       1, 2, 2, 1, 2, 2, 2, 2, 2, 2, 2, 2, 1, 2, 2, 0, 0, 0, 0, 0, 0, 0,\n",
              "       0, 0, 1, 0, 1, 0, 0, 1, 1, 0, 0, 0, 1, 0, 0, 0, 0, 0, 0, 0, 0, 0,\n",
              "       0, 0, 0, 0, 0, 0, 0, 1, 0, 0, 0, 0, 0, 0, 0, 0, 0, 0, 0, 0, 0, 0,\n",
              "       0, 0, 0, 0, 0, 0, 0, 0, 0, 0, 0, 0, 0, 0, 0, 0, 0, 0, 0, 0, 0, 0,\n",
              "       0, 0, 0, 0, 0, 0, 0, 0, 0, 1, 0, 0, 1, 1, 0, 0, 0, 0, 0, 0, 0, 0,\n",
              "       0, 0, 0, 1, 0, 0, 0, 0, 0, 0, 0, 0, 0, 0, 1, 0, 0, 0, 0, 0, 1, 1,\n",
              "       1, 0])"
            ]
          },
          "metadata": {},
          "execution_count": 55
        }
      ]
    },
    {
      "cell_type": "code",
      "metadata": {
        "colab": {
          "base_uri": "https://localhost:8080/",
          "height": 817
        },
        "id": "evRFijXi1xbl",
        "outputId": "3ee367f6-5e50-43b3-83a4-bcb00cb77cd6"
      },
      "source": [
        "labels = agrupador.labels_\n",
        "df['labels'] = labels\n",
        "fig = px.scatter_3d(df, x='Intensidade_de_cor', y='Alcool', z='Proline', color='labels', width=800, height=800)\n",
        "df.drop('labels', axis=1, inplace=True)\n",
        "fig.show()"
      ],
      "execution_count": 56,
      "outputs": [
        {
          "output_type": "display_data",
          "data": {
            "text/html": [
              "<html>\n",
              "<head><meta charset=\"utf-8\" /></head>\n",
              "<body>\n",
              "    <div>            <script src=\"https://cdnjs.cloudflare.com/ajax/libs/mathjax/2.7.5/MathJax.js?config=TeX-AMS-MML_SVG\"></script><script type=\"text/javascript\">if (window.MathJax) {MathJax.Hub.Config({SVG: {font: \"STIX-Web\"}});}</script>                <script type=\"text/javascript\">window.PlotlyConfig = {MathJaxConfig: 'local'};</script>\n",
              "        <script src=\"https://cdn.plot.ly/plotly-2.8.3.min.js\"></script>                <div id=\"b4d25029-9971-4b49-bc2e-21c743068088\" class=\"plotly-graph-div\" style=\"height:800px; width:800px;\"></div>            <script type=\"text/javascript\">                                    window.PLOTLYENV=window.PLOTLYENV || {};                                    if (document.getElementById(\"b4d25029-9971-4b49-bc2e-21c743068088\")) {                    Plotly.newPlot(                        \"b4d25029-9971-4b49-bc2e-21c743068088\",                        [{\"hovertemplate\":\"Intensidade_de_cor=%{x}<br>Alcool=%{y}<br>Proline=%{z}<br>labels=%{marker.color}<extra></extra>\",\"legendgroup\":\"\",\"marker\":{\"color\":[2,2,2,2,0,2,2,2,2,2,2,2,2,2,2,2,2,2,2,1,1,1,2,1,1,1,2,2,1,2,2,2,1,2,2,1,1,2,1,1,1,2,2,0,1,2,2,1,2,2,2,2,2,2,2,2,1,2,2,0,0,0,0,0,0,0,0,0,1,0,1,0,0,1,1,0,0,0,1,0,0,0,0,0,0,0,0,0,0,0,0,0,0,0,0,1,0,0,0,0,0,0,0,0,0,0,0,0,0,0,0,0,0,0,0,0,0,0,0,0,0,0,0,0,0,0,0,0,0,0,0,0,0,0,0,0,0,0,0,0,0,1,0,0,1,1,0,0,0,0,0,0,0,0,0,0,0,1,0,0,0,0,0,0,0,0,0,0,1,0,0,0,0,0,1,1,1,0],\"coloraxis\":\"coloraxis\",\"symbol\":\"circle\"},\"mode\":\"markers\",\"name\":\"\",\"scene\":\"scene\",\"showlegend\":false,\"x\":[5.64,4.379999999999999,5.679999999999999,7.8,4.319999999999999,6.75,5.25,5.05,5.2,7.22,5.749999999999999,4.999999999999999,5.6,5.4,7.5,7.3,6.2,6.6,8.7,5.1,5.65,4.5,3.8,3.93,3.52,3.58,4.799999999999999,3.9499999999999997,4.5,4.7,5.699999999999999,6.9,3.8399999999999994,5.4,4.2,5.1,4.6,4.249999999999999,3.7,5.1,6.13,4.28,5.43,4.36,5.04,5.24,4.9,6.1000000000000005,6.2,8.9,7.2,5.6,7.05,6.299999999999999,5.85,6.250000000000001,6.380000000000001,6.0,6.8,1.95,3.27,5.749999999999999,3.8,4.449999999999999,2.9499999999999997,4.6,5.3,4.68,3.17,2.85,3.0500000000000003,3.38,3.74,3.35,3.21,3.8,4.6,2.65,3.4,2.57,2.5,3.9,2.2,4.799999999999999,3.0500000000000003,2.62,2.45,2.6,2.8,1.74,2.4,3.6,3.0500000000000003,2.15,3.25,2.6,2.5,2.9,4.5,2.3,3.3,2.45,2.8,2.06,2.94,2.7,3.4,3.3,2.7,2.65,2.9,2.0,3.8,3.08,2.9,1.9,1.95,2.06,3.4,1.28,3.25,6.0,2.08,2.6,2.8,2.76,3.94,3.0,2.12,2.6,4.1,5.4,5.699999999999999,4.999999999999999,5.45,7.1,3.8500000000000005,4.999999999999999,5.699999999999999,4.919999999999999,4.6,5.6,4.35,4.3999999999999995,8.21,4.0,4.9,7.65,8.42,9.4,8.6,10.8,7.1,10.52,7.6,7.8999999999999995,9.01,7.5,13.0,11.75,7.65,5.88,5.58,5.279999999999999,9.58,6.62,10.68,10.26,8.66,8.5,5.5,9.899999,9.7,7.700000000000001,7.3,10.2,9.3,9.2],\"y\":[14.23,13.2,13.16,14.37,13.24,14.2,14.39,14.06,14.83,13.86,14.1,14.12,13.75,14.75,14.38,13.63,14.3,13.83,14.19,13.64,14.06,12.93,13.71,12.85,13.5,13.05,13.39,13.3,13.87,14.02,13.73,13.58,13.68,13.76,13.51,13.48,13.28,13.05,13.07,14.22,13.56,13.41,13.88,13.24,13.05,14.21,14.38,13.9,14.1,13.94,13.05,13.83,13.82,13.77,13.74,13.56,14.22,13.29,13.72,12.37,12.33,12.64,13.67,12.37,12.17,12.37,13.11,12.37,13.34,12.21,12.29,13.86,13.49,12.99,11.96,11.66,13.03,11.84,12.33,12.7,12.0,12.72,12.08,13.05,11.84,12.67,12.16,11.65,11.64,12.08,12.08,12.0,12.69,12.29,11.62,12.47,11.81,12.29,12.37,12.29,12.08,12.6,12.34,11.82,12.51,12.42,12.25,12.72,12.22,11.61,11.46,12.52,11.76,11.41,12.08,11.03,11.82,12.42,12.77,12.0,11.45,11.56,12.42,13.05,11.87,12.07,12.43,11.79,12.37,12.04,12.86,12.88,12.81,12.7,12.51,12.6,12.25,12.53,13.49,12.84,12.93,13.36,13.52,13.62,12.25,13.16,13.88,12.87,13.32,13.08,13.5,12.79,13.11,13.23,12.58,13.17,13.84,12.45,14.34,13.48,12.36,13.69,12.85,12.96,13.78,13.73,13.45,12.82,13.58,13.4,12.2,12.77,14.16,13.71,13.4,13.27,13.17,14.13],\"z\":[1065.0,1050.0,1185.0,1480.0000000000002,735.0,1450.0,1290.0,1295.0,1045.0,1045.0,1510.0,1280.0,1320.0,1150.0,1547.0,1310.0,1280.0,1130.0,1680.0,845.0000000000001,779.9999999999999,770.0,1035.0,1015.0,845.0000000000001,830.0,1195.0,1285.0,915.0000000000001,1035.0,1285.0,1515.0,989.9999999999999,1235.0,1095.0,919.9999999999999,880.0000000000001,1105.0,1020.0000000000001,760.0,795.0,1035.0,1095.0,680.0,884.9999999999999,1080.0,1065.0,985.0000000000001,1060.0,1260.0,1150.0,1265.0,1190.0,1375.0,1060.0,1120.0,970.0,1270.0,1285.0,520.0,680.0,450.0,630.0,420.0,354.99999999999994,677.9999999999999,502.00000000000006,510.00000000000006,750.0,717.9999999999999,870.0,410.0,472.0,985.0000000000001,886.0,428.0,392.0,500.0,750.0,463.00000000000006,278.0,714.0,630.0,515.0,520.0,450.0,494.99999999999994,562.0,680.0,625.0,480.0,450.0,494.99999999999994,290.0,345.0,937.0,625.0,428.0,660.0,406.0,709.9999999999999,562.0,438.0,415.0,671.9999999999999,315.0,510.00000000000006,488.0,312.0,680.0,562.0,325.0,607.0,434.0,385.0,407.0,494.99999999999994,345.0,372.0,564.0,625.0,465.0,365.0,380.0,380.0,378.00000000000006,352.0,466.0,342.0,580.0,630.0,530.0,560.0,600.0,650.0,695.0,720.0,515.0,580.0,590.0,600.0,779.9999999999999,520.0,550.0,855.0,830.0,415.0,625.0,650.0,550.0,500.0,480.0,424.99999999999994,674.9999999999999,639.9999999999999,725.0,480.0,880.0000000000001,660.0,620.0,520.0,680.0,570.0,674.9999999999999,615.0,520.0,695.0,685.0,750.0,630.0,510.00000000000006,470.0,660.0,740.0000000000001,750.0,835.0,840.0,560.0],\"type\":\"scatter3d\"}],                        {\"template\":{\"data\":{\"bar\":[{\"error_x\":{\"color\":\"#2a3f5f\"},\"error_y\":{\"color\":\"#2a3f5f\"},\"marker\":{\"line\":{\"color\":\"#E5ECF6\",\"width\":0.5},\"pattern\":{\"fillmode\":\"overlay\",\"size\":10,\"solidity\":0.2}},\"type\":\"bar\"}],\"barpolar\":[{\"marker\":{\"line\":{\"color\":\"#E5ECF6\",\"width\":0.5},\"pattern\":{\"fillmode\":\"overlay\",\"size\":10,\"solidity\":0.2}},\"type\":\"barpolar\"}],\"carpet\":[{\"aaxis\":{\"endlinecolor\":\"#2a3f5f\",\"gridcolor\":\"white\",\"linecolor\":\"white\",\"minorgridcolor\":\"white\",\"startlinecolor\":\"#2a3f5f\"},\"baxis\":{\"endlinecolor\":\"#2a3f5f\",\"gridcolor\":\"white\",\"linecolor\":\"white\",\"minorgridcolor\":\"white\",\"startlinecolor\":\"#2a3f5f\"},\"type\":\"carpet\"}],\"choropleth\":[{\"colorbar\":{\"outlinewidth\":0,\"ticks\":\"\"},\"type\":\"choropleth\"}],\"contour\":[{\"colorbar\":{\"outlinewidth\":0,\"ticks\":\"\"},\"colorscale\":[[0.0,\"#0d0887\"],[0.1111111111111111,\"#46039f\"],[0.2222222222222222,\"#7201a8\"],[0.3333333333333333,\"#9c179e\"],[0.4444444444444444,\"#bd3786\"],[0.5555555555555556,\"#d8576b\"],[0.6666666666666666,\"#ed7953\"],[0.7777777777777778,\"#fb9f3a\"],[0.8888888888888888,\"#fdca26\"],[1.0,\"#f0f921\"]],\"type\":\"contour\"}],\"contourcarpet\":[{\"colorbar\":{\"outlinewidth\":0,\"ticks\":\"\"},\"type\":\"contourcarpet\"}],\"heatmap\":[{\"colorbar\":{\"outlinewidth\":0,\"ticks\":\"\"},\"colorscale\":[[0.0,\"#0d0887\"],[0.1111111111111111,\"#46039f\"],[0.2222222222222222,\"#7201a8\"],[0.3333333333333333,\"#9c179e\"],[0.4444444444444444,\"#bd3786\"],[0.5555555555555556,\"#d8576b\"],[0.6666666666666666,\"#ed7953\"],[0.7777777777777778,\"#fb9f3a\"],[0.8888888888888888,\"#fdca26\"],[1.0,\"#f0f921\"]],\"type\":\"heatmap\"}],\"heatmapgl\":[{\"colorbar\":{\"outlinewidth\":0,\"ticks\":\"\"},\"colorscale\":[[0.0,\"#0d0887\"],[0.1111111111111111,\"#46039f\"],[0.2222222222222222,\"#7201a8\"],[0.3333333333333333,\"#9c179e\"],[0.4444444444444444,\"#bd3786\"],[0.5555555555555556,\"#d8576b\"],[0.6666666666666666,\"#ed7953\"],[0.7777777777777778,\"#fb9f3a\"],[0.8888888888888888,\"#fdca26\"],[1.0,\"#f0f921\"]],\"type\":\"heatmapgl\"}],\"histogram\":[{\"marker\":{\"pattern\":{\"fillmode\":\"overlay\",\"size\":10,\"solidity\":0.2}},\"type\":\"histogram\"}],\"histogram2d\":[{\"colorbar\":{\"outlinewidth\":0,\"ticks\":\"\"},\"colorscale\":[[0.0,\"#0d0887\"],[0.1111111111111111,\"#46039f\"],[0.2222222222222222,\"#7201a8\"],[0.3333333333333333,\"#9c179e\"],[0.4444444444444444,\"#bd3786\"],[0.5555555555555556,\"#d8576b\"],[0.6666666666666666,\"#ed7953\"],[0.7777777777777778,\"#fb9f3a\"],[0.8888888888888888,\"#fdca26\"],[1.0,\"#f0f921\"]],\"type\":\"histogram2d\"}],\"histogram2dcontour\":[{\"colorbar\":{\"outlinewidth\":0,\"ticks\":\"\"},\"colorscale\":[[0.0,\"#0d0887\"],[0.1111111111111111,\"#46039f\"],[0.2222222222222222,\"#7201a8\"],[0.3333333333333333,\"#9c179e\"],[0.4444444444444444,\"#bd3786\"],[0.5555555555555556,\"#d8576b\"],[0.6666666666666666,\"#ed7953\"],[0.7777777777777778,\"#fb9f3a\"],[0.8888888888888888,\"#fdca26\"],[1.0,\"#f0f921\"]],\"type\":\"histogram2dcontour\"}],\"mesh3d\":[{\"colorbar\":{\"outlinewidth\":0,\"ticks\":\"\"},\"type\":\"mesh3d\"}],\"parcoords\":[{\"line\":{\"colorbar\":{\"outlinewidth\":0,\"ticks\":\"\"}},\"type\":\"parcoords\"}],\"pie\":[{\"automargin\":true,\"type\":\"pie\"}],\"scatter\":[{\"marker\":{\"colorbar\":{\"outlinewidth\":0,\"ticks\":\"\"}},\"type\":\"scatter\"}],\"scatter3d\":[{\"line\":{\"colorbar\":{\"outlinewidth\":0,\"ticks\":\"\"}},\"marker\":{\"colorbar\":{\"outlinewidth\":0,\"ticks\":\"\"}},\"type\":\"scatter3d\"}],\"scattercarpet\":[{\"marker\":{\"colorbar\":{\"outlinewidth\":0,\"ticks\":\"\"}},\"type\":\"scattercarpet\"}],\"scattergeo\":[{\"marker\":{\"colorbar\":{\"outlinewidth\":0,\"ticks\":\"\"}},\"type\":\"scattergeo\"}],\"scattergl\":[{\"marker\":{\"colorbar\":{\"outlinewidth\":0,\"ticks\":\"\"}},\"type\":\"scattergl\"}],\"scattermapbox\":[{\"marker\":{\"colorbar\":{\"outlinewidth\":0,\"ticks\":\"\"}},\"type\":\"scattermapbox\"}],\"scatterpolar\":[{\"marker\":{\"colorbar\":{\"outlinewidth\":0,\"ticks\":\"\"}},\"type\":\"scatterpolar\"}],\"scatterpolargl\":[{\"marker\":{\"colorbar\":{\"outlinewidth\":0,\"ticks\":\"\"}},\"type\":\"scatterpolargl\"}],\"scatterternary\":[{\"marker\":{\"colorbar\":{\"outlinewidth\":0,\"ticks\":\"\"}},\"type\":\"scatterternary\"}],\"surface\":[{\"colorbar\":{\"outlinewidth\":0,\"ticks\":\"\"},\"colorscale\":[[0.0,\"#0d0887\"],[0.1111111111111111,\"#46039f\"],[0.2222222222222222,\"#7201a8\"],[0.3333333333333333,\"#9c179e\"],[0.4444444444444444,\"#bd3786\"],[0.5555555555555556,\"#d8576b\"],[0.6666666666666666,\"#ed7953\"],[0.7777777777777778,\"#fb9f3a\"],[0.8888888888888888,\"#fdca26\"],[1.0,\"#f0f921\"]],\"type\":\"surface\"}],\"table\":[{\"cells\":{\"fill\":{\"color\":\"#EBF0F8\"},\"line\":{\"color\":\"white\"}},\"header\":{\"fill\":{\"color\":\"#C8D4E3\"},\"line\":{\"color\":\"white\"}},\"type\":\"table\"}]},\"layout\":{\"annotationdefaults\":{\"arrowcolor\":\"#2a3f5f\",\"arrowhead\":0,\"arrowwidth\":1},\"autotypenumbers\":\"strict\",\"coloraxis\":{\"colorbar\":{\"outlinewidth\":0,\"ticks\":\"\"}},\"colorscale\":{\"diverging\":[[0,\"#8e0152\"],[0.1,\"#c51b7d\"],[0.2,\"#de77ae\"],[0.3,\"#f1b6da\"],[0.4,\"#fde0ef\"],[0.5,\"#f7f7f7\"],[0.6,\"#e6f5d0\"],[0.7,\"#b8e186\"],[0.8,\"#7fbc41\"],[0.9,\"#4d9221\"],[1,\"#276419\"]],\"sequential\":[[0.0,\"#0d0887\"],[0.1111111111111111,\"#46039f\"],[0.2222222222222222,\"#7201a8\"],[0.3333333333333333,\"#9c179e\"],[0.4444444444444444,\"#bd3786\"],[0.5555555555555556,\"#d8576b\"],[0.6666666666666666,\"#ed7953\"],[0.7777777777777778,\"#fb9f3a\"],[0.8888888888888888,\"#fdca26\"],[1.0,\"#f0f921\"]],\"sequentialminus\":[[0.0,\"#0d0887\"],[0.1111111111111111,\"#46039f\"],[0.2222222222222222,\"#7201a8\"],[0.3333333333333333,\"#9c179e\"],[0.4444444444444444,\"#bd3786\"],[0.5555555555555556,\"#d8576b\"],[0.6666666666666666,\"#ed7953\"],[0.7777777777777778,\"#fb9f3a\"],[0.8888888888888888,\"#fdca26\"],[1.0,\"#f0f921\"]]},\"colorway\":[\"#636efa\",\"#EF553B\",\"#00cc96\",\"#ab63fa\",\"#FFA15A\",\"#19d3f3\",\"#FF6692\",\"#B6E880\",\"#FF97FF\",\"#FECB52\"],\"font\":{\"color\":\"#2a3f5f\"},\"geo\":{\"bgcolor\":\"white\",\"lakecolor\":\"white\",\"landcolor\":\"#E5ECF6\",\"showlakes\":true,\"showland\":true,\"subunitcolor\":\"white\"},\"hoverlabel\":{\"align\":\"left\"},\"hovermode\":\"closest\",\"mapbox\":{\"style\":\"light\"},\"paper_bgcolor\":\"white\",\"plot_bgcolor\":\"#E5ECF6\",\"polar\":{\"angularaxis\":{\"gridcolor\":\"white\",\"linecolor\":\"white\",\"ticks\":\"\"},\"bgcolor\":\"#E5ECF6\",\"radialaxis\":{\"gridcolor\":\"white\",\"linecolor\":\"white\",\"ticks\":\"\"}},\"scene\":{\"xaxis\":{\"backgroundcolor\":\"#E5ECF6\",\"gridcolor\":\"white\",\"gridwidth\":2,\"linecolor\":\"white\",\"showbackground\":true,\"ticks\":\"\",\"zerolinecolor\":\"white\"},\"yaxis\":{\"backgroundcolor\":\"#E5ECF6\",\"gridcolor\":\"white\",\"gridwidth\":2,\"linecolor\":\"white\",\"showbackground\":true,\"ticks\":\"\",\"zerolinecolor\":\"white\"},\"zaxis\":{\"backgroundcolor\":\"#E5ECF6\",\"gridcolor\":\"white\",\"gridwidth\":2,\"linecolor\":\"white\",\"showbackground\":true,\"ticks\":\"\",\"zerolinecolor\":\"white\"}},\"shapedefaults\":{\"line\":{\"color\":\"#2a3f5f\"}},\"ternary\":{\"aaxis\":{\"gridcolor\":\"white\",\"linecolor\":\"white\",\"ticks\":\"\"},\"baxis\":{\"gridcolor\":\"white\",\"linecolor\":\"white\",\"ticks\":\"\"},\"bgcolor\":\"#E5ECF6\",\"caxis\":{\"gridcolor\":\"white\",\"linecolor\":\"white\",\"ticks\":\"\"}},\"title\":{\"x\":0.05},\"xaxis\":{\"automargin\":true,\"gridcolor\":\"white\",\"linecolor\":\"white\",\"ticks\":\"\",\"title\":{\"standoff\":15},\"zerolinecolor\":\"white\",\"zerolinewidth\":2},\"yaxis\":{\"automargin\":true,\"gridcolor\":\"white\",\"linecolor\":\"white\",\"ticks\":\"\",\"title\":{\"standoff\":15},\"zerolinecolor\":\"white\",\"zerolinewidth\":2}}},\"scene\":{\"domain\":{\"x\":[0.0,1.0],\"y\":[0.0,1.0]},\"xaxis\":{\"title\":{\"text\":\"Intensidade_de_cor\"}},\"yaxis\":{\"title\":{\"text\":\"Alcool\"}},\"zaxis\":{\"title\":{\"text\":\"Proline\"}}},\"coloraxis\":{\"colorbar\":{\"title\":{\"text\":\"labels\"}},\"colorscale\":[[0.0,\"#0d0887\"],[0.1111111111111111,\"#46039f\"],[0.2222222222222222,\"#7201a8\"],[0.3333333333333333,\"#9c179e\"],[0.4444444444444444,\"#bd3786\"],[0.5555555555555556,\"#d8576b\"],[0.6666666666666666,\"#ed7953\"],[0.7777777777777778,\"#fb9f3a\"],[0.8888888888888888,\"#fdca26\"],[1.0,\"#f0f921\"]]},\"legend\":{\"tracegroupgap\":0},\"margin\":{\"t\":60},\"height\":800,\"width\":800},                        {\"responsive\": true}                    ).then(function(){\n",
              "                            \n",
              "var gd = document.getElementById('b4d25029-9971-4b49-bc2e-21c743068088');\n",
              "var x = new MutationObserver(function (mutations, observer) {{\n",
              "        var display = window.getComputedStyle(gd).display;\n",
              "        if (!display || display === 'none') {{\n",
              "            console.log([gd, 'removed!']);\n",
              "            Plotly.purge(gd);\n",
              "            observer.disconnect();\n",
              "        }}\n",
              "}});\n",
              "\n",
              "// Listen for the removal of the full notebook cells\n",
              "var notebookContainer = gd.closest('#notebook-container');\n",
              "if (notebookContainer) {{\n",
              "    x.observe(notebookContainer, {childList: true});\n",
              "}}\n",
              "\n",
              "// Listen for the clearing of the current output cell\n",
              "var outputEl = gd.closest('.output');\n",
              "if (outputEl) {{\n",
              "    x.observe(outputEl, {childList: true});\n",
              "}}\n",
              "\n",
              "                        })                };                            </script>        </div>\n",
              "</body>\n",
              "</html>"
            ]
          },
          "metadata": {}
        }
      ]
    },
    {
      "cell_type": "markdown",
      "metadata": {
        "id": "8nrHy40N4Yxw"
      },
      "source": [
        "# Aula 5 - Coeficiente de silhueta para avaliação de clusterizações\n",
        " "
      ]
    },
    {
      "cell_type": "code",
      "metadata": {
        "colab": {
          "base_uri": "https://localhost:8080/"
        },
        "id": "4ThlOeHR2nmQ",
        "outputId": "e01604a5-464a-4134-d3eb-1d48821a2a63"
      },
      "source": [
        "agrupador = KMeans(n_clusters=5)\n",
        "agrupador.fit(df)\n",
        "agrupador.labels_"
      ],
      "execution_count": 57,
      "outputs": [
        {
          "output_type": "execute_result",
          "data": {
            "text/plain": [
              "array([4, 4, 4, 1, 3, 1, 1, 1, 4, 4, 1, 1, 1, 4, 1, 1, 1, 4, 1, 3, 3, 3,\n",
              "       4, 4, 3, 3, 4, 1, 3, 4, 1, 1, 4, 1, 4, 3, 3, 4, 4, 3, 3, 4, 4, 0,\n",
              "       3, 4, 4, 4, 4, 1, 4, 1, 4, 1, 4, 4, 4, 1, 1, 2, 0, 2, 0, 2, 2, 0,\n",
              "       2, 2, 3, 0, 3, 2, 2, 4, 3, 2, 2, 2, 3, 2, 2, 0, 0, 2, 2, 2, 2, 0,\n",
              "       0, 0, 2, 2, 2, 2, 2, 3, 0, 2, 0, 2, 0, 0, 2, 2, 0, 2, 2, 2, 2, 0,\n",
              "       0, 2, 0, 2, 2, 2, 2, 2, 2, 0, 0, 2, 2, 2, 2, 2, 2, 2, 2, 0, 0, 2,\n",
              "       0, 0, 0, 0, 0, 2, 0, 0, 0, 3, 2, 0, 3, 3, 2, 0, 0, 0, 2, 2, 2, 0,\n",
              "       0, 0, 2, 3, 0, 0, 2, 0, 0, 0, 0, 2, 0, 0, 3, 0, 2, 2, 0, 3, 3, 3,\n",
              "       3, 0], dtype=int32)"
            ]
          },
          "metadata": {},
          "execution_count": 57
        }
      ]
    },
    {
      "cell_type": "code",
      "metadata": {
        "colab": {
          "base_uri": "https://localhost:8080/",
          "height": 817
        },
        "id": "uooEaYf747Go",
        "outputId": "8c0c0b04-efab-4e16-fdee-686fc51d32a3"
      },
      "source": [
        "labels = agrupador.labels_\n",
        "df['labels'] = labels\n",
        "fig = px.scatter_3d(df, x='Intensidade_de_cor', y='Alcool', z='Proline', color='labels', width=800, height=800)\n",
        "df.drop('labels', axis=1, inplace=True)\n",
        "fig.show()"
      ],
      "execution_count": 58,
      "outputs": [
        {
          "output_type": "display_data",
          "data": {
            "text/html": [
              "<html>\n",
              "<head><meta charset=\"utf-8\" /></head>\n",
              "<body>\n",
              "    <div>            <script src=\"https://cdnjs.cloudflare.com/ajax/libs/mathjax/2.7.5/MathJax.js?config=TeX-AMS-MML_SVG\"></script><script type=\"text/javascript\">if (window.MathJax) {MathJax.Hub.Config({SVG: {font: \"STIX-Web\"}});}</script>                <script type=\"text/javascript\">window.PlotlyConfig = {MathJaxConfig: 'local'};</script>\n",
              "        <script src=\"https://cdn.plot.ly/plotly-2.8.3.min.js\"></script>                <div id=\"e4dfa85e-ad62-4861-9052-39837425c1ac\" class=\"plotly-graph-div\" style=\"height:800px; width:800px;\"></div>            <script type=\"text/javascript\">                                    window.PLOTLYENV=window.PLOTLYENV || {};                                    if (document.getElementById(\"e4dfa85e-ad62-4861-9052-39837425c1ac\")) {                    Plotly.newPlot(                        \"e4dfa85e-ad62-4861-9052-39837425c1ac\",                        [{\"hovertemplate\":\"Intensidade_de_cor=%{x}<br>Alcool=%{y}<br>Proline=%{z}<br>labels=%{marker.color}<extra></extra>\",\"legendgroup\":\"\",\"marker\":{\"color\":[4,4,4,1,3,1,1,1,4,4,1,1,1,4,1,1,1,4,1,3,3,3,4,4,3,3,4,1,3,4,1,1,4,1,4,3,3,4,4,3,3,4,4,0,3,4,4,4,4,1,4,1,4,1,4,4,4,1,1,2,0,2,0,2,2,0,2,2,3,0,3,2,2,4,3,2,2,2,3,2,2,0,0,2,2,2,2,0,0,0,2,2,2,2,2,3,0,2,0,2,0,0,2,2,0,2,2,2,2,0,0,2,0,2,2,2,2,2,2,0,0,2,2,2,2,2,2,2,2,0,0,2,0,0,0,0,0,2,0,0,0,3,2,0,3,3,2,0,0,0,2,2,2,0,0,0,2,3,0,0,2,0,0,0,0,2,0,0,3,0,2,2,0,3,3,3,3,0],\"coloraxis\":\"coloraxis\",\"symbol\":\"circle\"},\"mode\":\"markers\",\"name\":\"\",\"scene\":\"scene\",\"showlegend\":false,\"x\":[5.64,4.379999999999999,5.679999999999999,7.8,4.319999999999999,6.75,5.25,5.05,5.2,7.22,5.749999999999999,4.999999999999999,5.6,5.4,7.5,7.3,6.2,6.6,8.7,5.1,5.65,4.5,3.8,3.93,3.52,3.58,4.799999999999999,3.9499999999999997,4.5,4.7,5.699999999999999,6.9,3.8399999999999994,5.4,4.2,5.1,4.6,4.249999999999999,3.7,5.1,6.13,4.28,5.43,4.36,5.04,5.24,4.9,6.1000000000000005,6.2,8.9,7.2,5.6,7.05,6.299999999999999,5.85,6.250000000000001,6.380000000000001,6.0,6.8,1.95,3.27,5.749999999999999,3.8,4.449999999999999,2.9499999999999997,4.6,5.3,4.68,3.17,2.85,3.0500000000000003,3.38,3.74,3.35,3.21,3.8,4.6,2.65,3.4,2.57,2.5,3.9,2.2,4.799999999999999,3.0500000000000003,2.62,2.45,2.6,2.8,1.74,2.4,3.6,3.0500000000000003,2.15,3.25,2.6,2.5,2.9,4.5,2.3,3.3,2.45,2.8,2.06,2.94,2.7,3.4,3.3,2.7,2.65,2.9,2.0,3.8,3.08,2.9,1.9,1.95,2.06,3.4,1.28,3.25,6.0,2.08,2.6,2.8,2.76,3.94,3.0,2.12,2.6,4.1,5.4,5.699999999999999,4.999999999999999,5.45,7.1,3.8500000000000005,4.999999999999999,5.699999999999999,4.919999999999999,4.6,5.6,4.35,4.3999999999999995,8.21,4.0,4.9,7.65,8.42,9.4,8.6,10.8,7.1,10.52,7.6,7.8999999999999995,9.01,7.5,13.0,11.75,7.65,5.88,5.58,5.279999999999999,9.58,6.62,10.68,10.26,8.66,8.5,5.5,9.899999,9.7,7.700000000000001,7.3,10.2,9.3,9.2],\"y\":[14.23,13.2,13.16,14.37,13.24,14.2,14.39,14.06,14.83,13.86,14.1,14.12,13.75,14.75,14.38,13.63,14.3,13.83,14.19,13.64,14.06,12.93,13.71,12.85,13.5,13.05,13.39,13.3,13.87,14.02,13.73,13.58,13.68,13.76,13.51,13.48,13.28,13.05,13.07,14.22,13.56,13.41,13.88,13.24,13.05,14.21,14.38,13.9,14.1,13.94,13.05,13.83,13.82,13.77,13.74,13.56,14.22,13.29,13.72,12.37,12.33,12.64,13.67,12.37,12.17,12.37,13.11,12.37,13.34,12.21,12.29,13.86,13.49,12.99,11.96,11.66,13.03,11.84,12.33,12.7,12.0,12.72,12.08,13.05,11.84,12.67,12.16,11.65,11.64,12.08,12.08,12.0,12.69,12.29,11.62,12.47,11.81,12.29,12.37,12.29,12.08,12.6,12.34,11.82,12.51,12.42,12.25,12.72,12.22,11.61,11.46,12.52,11.76,11.41,12.08,11.03,11.82,12.42,12.77,12.0,11.45,11.56,12.42,13.05,11.87,12.07,12.43,11.79,12.37,12.04,12.86,12.88,12.81,12.7,12.51,12.6,12.25,12.53,13.49,12.84,12.93,13.36,13.52,13.62,12.25,13.16,13.88,12.87,13.32,13.08,13.5,12.79,13.11,13.23,12.58,13.17,13.84,12.45,14.34,13.48,12.36,13.69,12.85,12.96,13.78,13.73,13.45,12.82,13.58,13.4,12.2,12.77,14.16,13.71,13.4,13.27,13.17,14.13],\"z\":[1065.0,1050.0,1185.0,1480.0000000000002,735.0,1450.0,1290.0,1295.0,1045.0,1045.0,1510.0,1280.0,1320.0,1150.0,1547.0,1310.0,1280.0,1130.0,1680.0,845.0000000000001,779.9999999999999,770.0,1035.0,1015.0,845.0000000000001,830.0,1195.0,1285.0,915.0000000000001,1035.0,1285.0,1515.0,989.9999999999999,1235.0,1095.0,919.9999999999999,880.0000000000001,1105.0,1020.0000000000001,760.0,795.0,1035.0,1095.0,680.0,884.9999999999999,1080.0,1065.0,985.0000000000001,1060.0,1260.0,1150.0,1265.0,1190.0,1375.0,1060.0,1120.0,970.0,1270.0,1285.0,520.0,680.0,450.0,630.0,420.0,354.99999999999994,677.9999999999999,502.00000000000006,510.00000000000006,750.0,717.9999999999999,870.0,410.0,472.0,985.0000000000001,886.0,428.0,392.0,500.0,750.0,463.00000000000006,278.0,714.0,630.0,515.0,520.0,450.0,494.99999999999994,562.0,680.0,625.0,480.0,450.0,494.99999999999994,290.0,345.0,937.0,625.0,428.0,660.0,406.0,709.9999999999999,562.0,438.0,415.0,671.9999999999999,315.0,510.00000000000006,488.0,312.0,680.0,562.0,325.0,607.0,434.0,385.0,407.0,494.99999999999994,345.0,372.0,564.0,625.0,465.0,365.0,380.0,380.0,378.00000000000006,352.0,466.0,342.0,580.0,630.0,530.0,560.0,600.0,650.0,695.0,720.0,515.0,580.0,590.0,600.0,779.9999999999999,520.0,550.0,855.0,830.0,415.0,625.0,650.0,550.0,500.0,480.0,424.99999999999994,674.9999999999999,639.9999999999999,725.0,480.0,880.0000000000001,660.0,620.0,520.0,680.0,570.0,674.9999999999999,615.0,520.0,695.0,685.0,750.0,630.0,510.00000000000006,470.0,660.0,740.0000000000001,750.0,835.0,840.0,560.0],\"type\":\"scatter3d\"}],                        {\"template\":{\"data\":{\"bar\":[{\"error_x\":{\"color\":\"#2a3f5f\"},\"error_y\":{\"color\":\"#2a3f5f\"},\"marker\":{\"line\":{\"color\":\"#E5ECF6\",\"width\":0.5},\"pattern\":{\"fillmode\":\"overlay\",\"size\":10,\"solidity\":0.2}},\"type\":\"bar\"}],\"barpolar\":[{\"marker\":{\"line\":{\"color\":\"#E5ECF6\",\"width\":0.5},\"pattern\":{\"fillmode\":\"overlay\",\"size\":10,\"solidity\":0.2}},\"type\":\"barpolar\"}],\"carpet\":[{\"aaxis\":{\"endlinecolor\":\"#2a3f5f\",\"gridcolor\":\"white\",\"linecolor\":\"white\",\"minorgridcolor\":\"white\",\"startlinecolor\":\"#2a3f5f\"},\"baxis\":{\"endlinecolor\":\"#2a3f5f\",\"gridcolor\":\"white\",\"linecolor\":\"white\",\"minorgridcolor\":\"white\",\"startlinecolor\":\"#2a3f5f\"},\"type\":\"carpet\"}],\"choropleth\":[{\"colorbar\":{\"outlinewidth\":0,\"ticks\":\"\"},\"type\":\"choropleth\"}],\"contour\":[{\"colorbar\":{\"outlinewidth\":0,\"ticks\":\"\"},\"colorscale\":[[0.0,\"#0d0887\"],[0.1111111111111111,\"#46039f\"],[0.2222222222222222,\"#7201a8\"],[0.3333333333333333,\"#9c179e\"],[0.4444444444444444,\"#bd3786\"],[0.5555555555555556,\"#d8576b\"],[0.6666666666666666,\"#ed7953\"],[0.7777777777777778,\"#fb9f3a\"],[0.8888888888888888,\"#fdca26\"],[1.0,\"#f0f921\"]],\"type\":\"contour\"}],\"contourcarpet\":[{\"colorbar\":{\"outlinewidth\":0,\"ticks\":\"\"},\"type\":\"contourcarpet\"}],\"heatmap\":[{\"colorbar\":{\"outlinewidth\":0,\"ticks\":\"\"},\"colorscale\":[[0.0,\"#0d0887\"],[0.1111111111111111,\"#46039f\"],[0.2222222222222222,\"#7201a8\"],[0.3333333333333333,\"#9c179e\"],[0.4444444444444444,\"#bd3786\"],[0.5555555555555556,\"#d8576b\"],[0.6666666666666666,\"#ed7953\"],[0.7777777777777778,\"#fb9f3a\"],[0.8888888888888888,\"#fdca26\"],[1.0,\"#f0f921\"]],\"type\":\"heatmap\"}],\"heatmapgl\":[{\"colorbar\":{\"outlinewidth\":0,\"ticks\":\"\"},\"colorscale\":[[0.0,\"#0d0887\"],[0.1111111111111111,\"#46039f\"],[0.2222222222222222,\"#7201a8\"],[0.3333333333333333,\"#9c179e\"],[0.4444444444444444,\"#bd3786\"],[0.5555555555555556,\"#d8576b\"],[0.6666666666666666,\"#ed7953\"],[0.7777777777777778,\"#fb9f3a\"],[0.8888888888888888,\"#fdca26\"],[1.0,\"#f0f921\"]],\"type\":\"heatmapgl\"}],\"histogram\":[{\"marker\":{\"pattern\":{\"fillmode\":\"overlay\",\"size\":10,\"solidity\":0.2}},\"type\":\"histogram\"}],\"histogram2d\":[{\"colorbar\":{\"outlinewidth\":0,\"ticks\":\"\"},\"colorscale\":[[0.0,\"#0d0887\"],[0.1111111111111111,\"#46039f\"],[0.2222222222222222,\"#7201a8\"],[0.3333333333333333,\"#9c179e\"],[0.4444444444444444,\"#bd3786\"],[0.5555555555555556,\"#d8576b\"],[0.6666666666666666,\"#ed7953\"],[0.7777777777777778,\"#fb9f3a\"],[0.8888888888888888,\"#fdca26\"],[1.0,\"#f0f921\"]],\"type\":\"histogram2d\"}],\"histogram2dcontour\":[{\"colorbar\":{\"outlinewidth\":0,\"ticks\":\"\"},\"colorscale\":[[0.0,\"#0d0887\"],[0.1111111111111111,\"#46039f\"],[0.2222222222222222,\"#7201a8\"],[0.3333333333333333,\"#9c179e\"],[0.4444444444444444,\"#bd3786\"],[0.5555555555555556,\"#d8576b\"],[0.6666666666666666,\"#ed7953\"],[0.7777777777777778,\"#fb9f3a\"],[0.8888888888888888,\"#fdca26\"],[1.0,\"#f0f921\"]],\"type\":\"histogram2dcontour\"}],\"mesh3d\":[{\"colorbar\":{\"outlinewidth\":0,\"ticks\":\"\"},\"type\":\"mesh3d\"}],\"parcoords\":[{\"line\":{\"colorbar\":{\"outlinewidth\":0,\"ticks\":\"\"}},\"type\":\"parcoords\"}],\"pie\":[{\"automargin\":true,\"type\":\"pie\"}],\"scatter\":[{\"marker\":{\"colorbar\":{\"outlinewidth\":0,\"ticks\":\"\"}},\"type\":\"scatter\"}],\"scatter3d\":[{\"line\":{\"colorbar\":{\"outlinewidth\":0,\"ticks\":\"\"}},\"marker\":{\"colorbar\":{\"outlinewidth\":0,\"ticks\":\"\"}},\"type\":\"scatter3d\"}],\"scattercarpet\":[{\"marker\":{\"colorbar\":{\"outlinewidth\":0,\"ticks\":\"\"}},\"type\":\"scattercarpet\"}],\"scattergeo\":[{\"marker\":{\"colorbar\":{\"outlinewidth\":0,\"ticks\":\"\"}},\"type\":\"scattergeo\"}],\"scattergl\":[{\"marker\":{\"colorbar\":{\"outlinewidth\":0,\"ticks\":\"\"}},\"type\":\"scattergl\"}],\"scattermapbox\":[{\"marker\":{\"colorbar\":{\"outlinewidth\":0,\"ticks\":\"\"}},\"type\":\"scattermapbox\"}],\"scatterpolar\":[{\"marker\":{\"colorbar\":{\"outlinewidth\":0,\"ticks\":\"\"}},\"type\":\"scatterpolar\"}],\"scatterpolargl\":[{\"marker\":{\"colorbar\":{\"outlinewidth\":0,\"ticks\":\"\"}},\"type\":\"scatterpolargl\"}],\"scatterternary\":[{\"marker\":{\"colorbar\":{\"outlinewidth\":0,\"ticks\":\"\"}},\"type\":\"scatterternary\"}],\"surface\":[{\"colorbar\":{\"outlinewidth\":0,\"ticks\":\"\"},\"colorscale\":[[0.0,\"#0d0887\"],[0.1111111111111111,\"#46039f\"],[0.2222222222222222,\"#7201a8\"],[0.3333333333333333,\"#9c179e\"],[0.4444444444444444,\"#bd3786\"],[0.5555555555555556,\"#d8576b\"],[0.6666666666666666,\"#ed7953\"],[0.7777777777777778,\"#fb9f3a\"],[0.8888888888888888,\"#fdca26\"],[1.0,\"#f0f921\"]],\"type\":\"surface\"}],\"table\":[{\"cells\":{\"fill\":{\"color\":\"#EBF0F8\"},\"line\":{\"color\":\"white\"}},\"header\":{\"fill\":{\"color\":\"#C8D4E3\"},\"line\":{\"color\":\"white\"}},\"type\":\"table\"}]},\"layout\":{\"annotationdefaults\":{\"arrowcolor\":\"#2a3f5f\",\"arrowhead\":0,\"arrowwidth\":1},\"autotypenumbers\":\"strict\",\"coloraxis\":{\"colorbar\":{\"outlinewidth\":0,\"ticks\":\"\"}},\"colorscale\":{\"diverging\":[[0,\"#8e0152\"],[0.1,\"#c51b7d\"],[0.2,\"#de77ae\"],[0.3,\"#f1b6da\"],[0.4,\"#fde0ef\"],[0.5,\"#f7f7f7\"],[0.6,\"#e6f5d0\"],[0.7,\"#b8e186\"],[0.8,\"#7fbc41\"],[0.9,\"#4d9221\"],[1,\"#276419\"]],\"sequential\":[[0.0,\"#0d0887\"],[0.1111111111111111,\"#46039f\"],[0.2222222222222222,\"#7201a8\"],[0.3333333333333333,\"#9c179e\"],[0.4444444444444444,\"#bd3786\"],[0.5555555555555556,\"#d8576b\"],[0.6666666666666666,\"#ed7953\"],[0.7777777777777778,\"#fb9f3a\"],[0.8888888888888888,\"#fdca26\"],[1.0,\"#f0f921\"]],\"sequentialminus\":[[0.0,\"#0d0887\"],[0.1111111111111111,\"#46039f\"],[0.2222222222222222,\"#7201a8\"],[0.3333333333333333,\"#9c179e\"],[0.4444444444444444,\"#bd3786\"],[0.5555555555555556,\"#d8576b\"],[0.6666666666666666,\"#ed7953\"],[0.7777777777777778,\"#fb9f3a\"],[0.8888888888888888,\"#fdca26\"],[1.0,\"#f0f921\"]]},\"colorway\":[\"#636efa\",\"#EF553B\",\"#00cc96\",\"#ab63fa\",\"#FFA15A\",\"#19d3f3\",\"#FF6692\",\"#B6E880\",\"#FF97FF\",\"#FECB52\"],\"font\":{\"color\":\"#2a3f5f\"},\"geo\":{\"bgcolor\":\"white\",\"lakecolor\":\"white\",\"landcolor\":\"#E5ECF6\",\"showlakes\":true,\"showland\":true,\"subunitcolor\":\"white\"},\"hoverlabel\":{\"align\":\"left\"},\"hovermode\":\"closest\",\"mapbox\":{\"style\":\"light\"},\"paper_bgcolor\":\"white\",\"plot_bgcolor\":\"#E5ECF6\",\"polar\":{\"angularaxis\":{\"gridcolor\":\"white\",\"linecolor\":\"white\",\"ticks\":\"\"},\"bgcolor\":\"#E5ECF6\",\"radialaxis\":{\"gridcolor\":\"white\",\"linecolor\":\"white\",\"ticks\":\"\"}},\"scene\":{\"xaxis\":{\"backgroundcolor\":\"#E5ECF6\",\"gridcolor\":\"white\",\"gridwidth\":2,\"linecolor\":\"white\",\"showbackground\":true,\"ticks\":\"\",\"zerolinecolor\":\"white\"},\"yaxis\":{\"backgroundcolor\":\"#E5ECF6\",\"gridcolor\":\"white\",\"gridwidth\":2,\"linecolor\":\"white\",\"showbackground\":true,\"ticks\":\"\",\"zerolinecolor\":\"white\"},\"zaxis\":{\"backgroundcolor\":\"#E5ECF6\",\"gridcolor\":\"white\",\"gridwidth\":2,\"linecolor\":\"white\",\"showbackground\":true,\"ticks\":\"\",\"zerolinecolor\":\"white\"}},\"shapedefaults\":{\"line\":{\"color\":\"#2a3f5f\"}},\"ternary\":{\"aaxis\":{\"gridcolor\":\"white\",\"linecolor\":\"white\",\"ticks\":\"\"},\"baxis\":{\"gridcolor\":\"white\",\"linecolor\":\"white\",\"ticks\":\"\"},\"bgcolor\":\"#E5ECF6\",\"caxis\":{\"gridcolor\":\"white\",\"linecolor\":\"white\",\"ticks\":\"\"}},\"title\":{\"x\":0.05},\"xaxis\":{\"automargin\":true,\"gridcolor\":\"white\",\"linecolor\":\"white\",\"ticks\":\"\",\"title\":{\"standoff\":15},\"zerolinecolor\":\"white\",\"zerolinewidth\":2},\"yaxis\":{\"automargin\":true,\"gridcolor\":\"white\",\"linecolor\":\"white\",\"ticks\":\"\",\"title\":{\"standoff\":15},\"zerolinecolor\":\"white\",\"zerolinewidth\":2}}},\"scene\":{\"domain\":{\"x\":[0.0,1.0],\"y\":[0.0,1.0]},\"xaxis\":{\"title\":{\"text\":\"Intensidade_de_cor\"}},\"yaxis\":{\"title\":{\"text\":\"Alcool\"}},\"zaxis\":{\"title\":{\"text\":\"Proline\"}}},\"coloraxis\":{\"colorbar\":{\"title\":{\"text\":\"labels\"}},\"colorscale\":[[0.0,\"#0d0887\"],[0.1111111111111111,\"#46039f\"],[0.2222222222222222,\"#7201a8\"],[0.3333333333333333,\"#9c179e\"],[0.4444444444444444,\"#bd3786\"],[0.5555555555555556,\"#d8576b\"],[0.6666666666666666,\"#ed7953\"],[0.7777777777777778,\"#fb9f3a\"],[0.8888888888888888,\"#fdca26\"],[1.0,\"#f0f921\"]]},\"legend\":{\"tracegroupgap\":0},\"margin\":{\"t\":60},\"height\":800,\"width\":800},                        {\"responsive\": true}                    ).then(function(){\n",
              "                            \n",
              "var gd = document.getElementById('e4dfa85e-ad62-4861-9052-39837425c1ac');\n",
              "var x = new MutationObserver(function (mutations, observer) {{\n",
              "        var display = window.getComputedStyle(gd).display;\n",
              "        if (!display || display === 'none') {{\n",
              "            console.log([gd, 'removed!']);\n",
              "            Plotly.purge(gd);\n",
              "            observer.disconnect();\n",
              "        }}\n",
              "}});\n",
              "\n",
              "// Listen for the removal of the full notebook cells\n",
              "var notebookContainer = gd.closest('#notebook-container');\n",
              "if (notebookContainer) {{\n",
              "    x.observe(notebookContainer, {childList: true});\n",
              "}}\n",
              "\n",
              "// Listen for the clearing of the current output cell\n",
              "var outputEl = gd.closest('.output');\n",
              "if (outputEl) {{\n",
              "    x.observe(outputEl, {childList: true});\n",
              "}}\n",
              "\n",
              "                        })                };                            </script>        </div>\n",
              "</body>\n",
              "</html>"
            ]
          },
          "metadata": {}
        }
      ]
    },
    {
      "cell_type": "markdown",
      "metadata": {
        "id": "AB05NtSH5b-D"
      },
      "source": [
        "Depois de realizar todos esses tipos de clusterização, K-means, DBSCAN e MeanShift, gostaríamos de saber se existe alguma métrica que indicasse que a clusterização está boa.\n",
        "\n",
        "Qual é a maneira de nós avaliarmos? Para isso, podemos utilizar uma métrica de coeficiente de silhueta. Ela basicamente analisa o quanto os pontos do cluster estão próximos dos demais pontos do mesmo cluster e afastado dos pontos do cluster vizinho.\n",
        "\n",
        "Ele vai avaliar uma coisa chamada **coesão**. O quanto eu estou próximo aos elementos do meu grupo. Quanto maior a coesão, melhor o coeficiente de silhueta e de **similaridade**, o quanto eu estou afastado dos elementos do outro bairro. Quanto mais afastado eu estiver deles, melhor.\n",
        "\n",
        "Quanto maior o valor do coeficiente de silhueta, ou seja, quanto **maior a coesão** e **maior a similaridade**, melhor e mais bem organizado, mais bem agrupado - segundo o critério de distância - estão os meus pontos."
      ]
    },
    {
      "cell_type": "code",
      "metadata": {
        "id": "867QWG_84_4N"
      },
      "source": [
        "from sklearn.metrics import silhouette_score"
      ],
      "execution_count": 59,
      "outputs": []
    },
    {
      "cell_type": "code",
      "metadata": {
        "colab": {
          "base_uri": "https://localhost:8080/"
        },
        "id": "p5YMmp_J7GHc",
        "outputId": "add278be-2e27-4051-9582-e0774bf246bb"
      },
      "source": [
        "faixa_n_clusters = [i for i in range(2,10)]\n",
        "print(faixa_n_clusters)"
      ],
      "execution_count": 60,
      "outputs": [
        {
          "output_type": "stream",
          "name": "stdout",
          "text": [
            "[2, 3, 4, 5, 6, 7, 8, 9]\n"
          ]
        }
      ]
    },
    {
      "cell_type": "code",
      "metadata": {
        "id": "LnVA_Tgj7Q3b"
      },
      "source": [
        "valores_silhueta = []\n",
        "for k in faixa_n_clusters:\n",
        "    agrupador = KMeans(n_clusters=k)\n",
        "    labels = agrupador.fit_predict(df_normalized)\n",
        "    media_silhueta = silhouette_score(df_normalized, labels)\n",
        "    valores_silhueta.append(media_silhueta)"
      ],
      "execution_count": 61,
      "outputs": []
    },
    {
      "cell_type": "code",
      "metadata": {
        "colab": {
          "base_uri": "https://localhost:8080/",
          "height": 417
        },
        "id": "LOdhaS7d75Ey",
        "outputId": "bf21f1e5-0fa4-4535-9786-ea527dd6a0d1"
      },
      "source": [
        "fig = px.scatter(x=faixa_n_clusters, y=valores_silhueta,width=600, height=400)\n",
        "fig.update_layout(title = 'Valores de silhueta médios',\n",
        "                  xaxis_title = 'Número de Clusters',\n",
        "                  yaxis_title = 'Valor médio de silhueta')\n",
        "fig.show()"
      ],
      "execution_count": 62,
      "outputs": [
        {
          "output_type": "display_data",
          "data": {
            "text/html": [
              "<html>\n",
              "<head><meta charset=\"utf-8\" /></head>\n",
              "<body>\n",
              "    <div>            <script src=\"https://cdnjs.cloudflare.com/ajax/libs/mathjax/2.7.5/MathJax.js?config=TeX-AMS-MML_SVG\"></script><script type=\"text/javascript\">if (window.MathJax) {MathJax.Hub.Config({SVG: {font: \"STIX-Web\"}});}</script>                <script type=\"text/javascript\">window.PlotlyConfig = {MathJaxConfig: 'local'};</script>\n",
              "        <script src=\"https://cdn.plot.ly/plotly-2.8.3.min.js\"></script>                <div id=\"e80195a8-d370-4a75-b4ac-ac6cade29af5\" class=\"plotly-graph-div\" style=\"height:400px; width:600px;\"></div>            <script type=\"text/javascript\">                                    window.PLOTLYENV=window.PLOTLYENV || {};                                    if (document.getElementById(\"e80195a8-d370-4a75-b4ac-ac6cade29af5\")) {                    Plotly.newPlot(                        \"e80195a8-d370-4a75-b4ac-ac6cade29af5\",                        [{\"hovertemplate\":\"x=%{x}<br>y=%{y}<extra></extra>\",\"legendgroup\":\"\",\"marker\":{\"color\":\"#636efa\",\"symbol\":\"circle\"},\"mode\":\"markers\",\"name\":\"\",\"orientation\":\"v\",\"showlegend\":false,\"x\":[2,3,4,5,6,7,8,9],\"xaxis\":\"x\",\"y\":[0.3450438553643068,0.36950618492736303,0.3041021291209976,0.2949421209215627,0.25248742004215036,0.1288228190884384,0.13677991493424987,0.24416975301182914],\"yaxis\":\"y\",\"type\":\"scatter\"}],                        {\"template\":{\"data\":{\"bar\":[{\"error_x\":{\"color\":\"#2a3f5f\"},\"error_y\":{\"color\":\"#2a3f5f\"},\"marker\":{\"line\":{\"color\":\"#E5ECF6\",\"width\":0.5},\"pattern\":{\"fillmode\":\"overlay\",\"size\":10,\"solidity\":0.2}},\"type\":\"bar\"}],\"barpolar\":[{\"marker\":{\"line\":{\"color\":\"#E5ECF6\",\"width\":0.5},\"pattern\":{\"fillmode\":\"overlay\",\"size\":10,\"solidity\":0.2}},\"type\":\"barpolar\"}],\"carpet\":[{\"aaxis\":{\"endlinecolor\":\"#2a3f5f\",\"gridcolor\":\"white\",\"linecolor\":\"white\",\"minorgridcolor\":\"white\",\"startlinecolor\":\"#2a3f5f\"},\"baxis\":{\"endlinecolor\":\"#2a3f5f\",\"gridcolor\":\"white\",\"linecolor\":\"white\",\"minorgridcolor\":\"white\",\"startlinecolor\":\"#2a3f5f\"},\"type\":\"carpet\"}],\"choropleth\":[{\"colorbar\":{\"outlinewidth\":0,\"ticks\":\"\"},\"type\":\"choropleth\"}],\"contour\":[{\"colorbar\":{\"outlinewidth\":0,\"ticks\":\"\"},\"colorscale\":[[0.0,\"#0d0887\"],[0.1111111111111111,\"#46039f\"],[0.2222222222222222,\"#7201a8\"],[0.3333333333333333,\"#9c179e\"],[0.4444444444444444,\"#bd3786\"],[0.5555555555555556,\"#d8576b\"],[0.6666666666666666,\"#ed7953\"],[0.7777777777777778,\"#fb9f3a\"],[0.8888888888888888,\"#fdca26\"],[1.0,\"#f0f921\"]],\"type\":\"contour\"}],\"contourcarpet\":[{\"colorbar\":{\"outlinewidth\":0,\"ticks\":\"\"},\"type\":\"contourcarpet\"}],\"heatmap\":[{\"colorbar\":{\"outlinewidth\":0,\"ticks\":\"\"},\"colorscale\":[[0.0,\"#0d0887\"],[0.1111111111111111,\"#46039f\"],[0.2222222222222222,\"#7201a8\"],[0.3333333333333333,\"#9c179e\"],[0.4444444444444444,\"#bd3786\"],[0.5555555555555556,\"#d8576b\"],[0.6666666666666666,\"#ed7953\"],[0.7777777777777778,\"#fb9f3a\"],[0.8888888888888888,\"#fdca26\"],[1.0,\"#f0f921\"]],\"type\":\"heatmap\"}],\"heatmapgl\":[{\"colorbar\":{\"outlinewidth\":0,\"ticks\":\"\"},\"colorscale\":[[0.0,\"#0d0887\"],[0.1111111111111111,\"#46039f\"],[0.2222222222222222,\"#7201a8\"],[0.3333333333333333,\"#9c179e\"],[0.4444444444444444,\"#bd3786\"],[0.5555555555555556,\"#d8576b\"],[0.6666666666666666,\"#ed7953\"],[0.7777777777777778,\"#fb9f3a\"],[0.8888888888888888,\"#fdca26\"],[1.0,\"#f0f921\"]],\"type\":\"heatmapgl\"}],\"histogram\":[{\"marker\":{\"pattern\":{\"fillmode\":\"overlay\",\"size\":10,\"solidity\":0.2}},\"type\":\"histogram\"}],\"histogram2d\":[{\"colorbar\":{\"outlinewidth\":0,\"ticks\":\"\"},\"colorscale\":[[0.0,\"#0d0887\"],[0.1111111111111111,\"#46039f\"],[0.2222222222222222,\"#7201a8\"],[0.3333333333333333,\"#9c179e\"],[0.4444444444444444,\"#bd3786\"],[0.5555555555555556,\"#d8576b\"],[0.6666666666666666,\"#ed7953\"],[0.7777777777777778,\"#fb9f3a\"],[0.8888888888888888,\"#fdca26\"],[1.0,\"#f0f921\"]],\"type\":\"histogram2d\"}],\"histogram2dcontour\":[{\"colorbar\":{\"outlinewidth\":0,\"ticks\":\"\"},\"colorscale\":[[0.0,\"#0d0887\"],[0.1111111111111111,\"#46039f\"],[0.2222222222222222,\"#7201a8\"],[0.3333333333333333,\"#9c179e\"],[0.4444444444444444,\"#bd3786\"],[0.5555555555555556,\"#d8576b\"],[0.6666666666666666,\"#ed7953\"],[0.7777777777777778,\"#fb9f3a\"],[0.8888888888888888,\"#fdca26\"],[1.0,\"#f0f921\"]],\"type\":\"histogram2dcontour\"}],\"mesh3d\":[{\"colorbar\":{\"outlinewidth\":0,\"ticks\":\"\"},\"type\":\"mesh3d\"}],\"parcoords\":[{\"line\":{\"colorbar\":{\"outlinewidth\":0,\"ticks\":\"\"}},\"type\":\"parcoords\"}],\"pie\":[{\"automargin\":true,\"type\":\"pie\"}],\"scatter\":[{\"marker\":{\"colorbar\":{\"outlinewidth\":0,\"ticks\":\"\"}},\"type\":\"scatter\"}],\"scatter3d\":[{\"line\":{\"colorbar\":{\"outlinewidth\":0,\"ticks\":\"\"}},\"marker\":{\"colorbar\":{\"outlinewidth\":0,\"ticks\":\"\"}},\"type\":\"scatter3d\"}],\"scattercarpet\":[{\"marker\":{\"colorbar\":{\"outlinewidth\":0,\"ticks\":\"\"}},\"type\":\"scattercarpet\"}],\"scattergeo\":[{\"marker\":{\"colorbar\":{\"outlinewidth\":0,\"ticks\":\"\"}},\"type\":\"scattergeo\"}],\"scattergl\":[{\"marker\":{\"colorbar\":{\"outlinewidth\":0,\"ticks\":\"\"}},\"type\":\"scattergl\"}],\"scattermapbox\":[{\"marker\":{\"colorbar\":{\"outlinewidth\":0,\"ticks\":\"\"}},\"type\":\"scattermapbox\"}],\"scatterpolar\":[{\"marker\":{\"colorbar\":{\"outlinewidth\":0,\"ticks\":\"\"}},\"type\":\"scatterpolar\"}],\"scatterpolargl\":[{\"marker\":{\"colorbar\":{\"outlinewidth\":0,\"ticks\":\"\"}},\"type\":\"scatterpolargl\"}],\"scatterternary\":[{\"marker\":{\"colorbar\":{\"outlinewidth\":0,\"ticks\":\"\"}},\"type\":\"scatterternary\"}],\"surface\":[{\"colorbar\":{\"outlinewidth\":0,\"ticks\":\"\"},\"colorscale\":[[0.0,\"#0d0887\"],[0.1111111111111111,\"#46039f\"],[0.2222222222222222,\"#7201a8\"],[0.3333333333333333,\"#9c179e\"],[0.4444444444444444,\"#bd3786\"],[0.5555555555555556,\"#d8576b\"],[0.6666666666666666,\"#ed7953\"],[0.7777777777777778,\"#fb9f3a\"],[0.8888888888888888,\"#fdca26\"],[1.0,\"#f0f921\"]],\"type\":\"surface\"}],\"table\":[{\"cells\":{\"fill\":{\"color\":\"#EBF0F8\"},\"line\":{\"color\":\"white\"}},\"header\":{\"fill\":{\"color\":\"#C8D4E3\"},\"line\":{\"color\":\"white\"}},\"type\":\"table\"}]},\"layout\":{\"annotationdefaults\":{\"arrowcolor\":\"#2a3f5f\",\"arrowhead\":0,\"arrowwidth\":1},\"autotypenumbers\":\"strict\",\"coloraxis\":{\"colorbar\":{\"outlinewidth\":0,\"ticks\":\"\"}},\"colorscale\":{\"diverging\":[[0,\"#8e0152\"],[0.1,\"#c51b7d\"],[0.2,\"#de77ae\"],[0.3,\"#f1b6da\"],[0.4,\"#fde0ef\"],[0.5,\"#f7f7f7\"],[0.6,\"#e6f5d0\"],[0.7,\"#b8e186\"],[0.8,\"#7fbc41\"],[0.9,\"#4d9221\"],[1,\"#276419\"]],\"sequential\":[[0.0,\"#0d0887\"],[0.1111111111111111,\"#46039f\"],[0.2222222222222222,\"#7201a8\"],[0.3333333333333333,\"#9c179e\"],[0.4444444444444444,\"#bd3786\"],[0.5555555555555556,\"#d8576b\"],[0.6666666666666666,\"#ed7953\"],[0.7777777777777778,\"#fb9f3a\"],[0.8888888888888888,\"#fdca26\"],[1.0,\"#f0f921\"]],\"sequentialminus\":[[0.0,\"#0d0887\"],[0.1111111111111111,\"#46039f\"],[0.2222222222222222,\"#7201a8\"],[0.3333333333333333,\"#9c179e\"],[0.4444444444444444,\"#bd3786\"],[0.5555555555555556,\"#d8576b\"],[0.6666666666666666,\"#ed7953\"],[0.7777777777777778,\"#fb9f3a\"],[0.8888888888888888,\"#fdca26\"],[1.0,\"#f0f921\"]]},\"colorway\":[\"#636efa\",\"#EF553B\",\"#00cc96\",\"#ab63fa\",\"#FFA15A\",\"#19d3f3\",\"#FF6692\",\"#B6E880\",\"#FF97FF\",\"#FECB52\"],\"font\":{\"color\":\"#2a3f5f\"},\"geo\":{\"bgcolor\":\"white\",\"lakecolor\":\"white\",\"landcolor\":\"#E5ECF6\",\"showlakes\":true,\"showland\":true,\"subunitcolor\":\"white\"},\"hoverlabel\":{\"align\":\"left\"},\"hovermode\":\"closest\",\"mapbox\":{\"style\":\"light\"},\"paper_bgcolor\":\"white\",\"plot_bgcolor\":\"#E5ECF6\",\"polar\":{\"angularaxis\":{\"gridcolor\":\"white\",\"linecolor\":\"white\",\"ticks\":\"\"},\"bgcolor\":\"#E5ECF6\",\"radialaxis\":{\"gridcolor\":\"white\",\"linecolor\":\"white\",\"ticks\":\"\"}},\"scene\":{\"xaxis\":{\"backgroundcolor\":\"#E5ECF6\",\"gridcolor\":\"white\",\"gridwidth\":2,\"linecolor\":\"white\",\"showbackground\":true,\"ticks\":\"\",\"zerolinecolor\":\"white\"},\"yaxis\":{\"backgroundcolor\":\"#E5ECF6\",\"gridcolor\":\"white\",\"gridwidth\":2,\"linecolor\":\"white\",\"showbackground\":true,\"ticks\":\"\",\"zerolinecolor\":\"white\"},\"zaxis\":{\"backgroundcolor\":\"#E5ECF6\",\"gridcolor\":\"white\",\"gridwidth\":2,\"linecolor\":\"white\",\"showbackground\":true,\"ticks\":\"\",\"zerolinecolor\":\"white\"}},\"shapedefaults\":{\"line\":{\"color\":\"#2a3f5f\"}},\"ternary\":{\"aaxis\":{\"gridcolor\":\"white\",\"linecolor\":\"white\",\"ticks\":\"\"},\"baxis\":{\"gridcolor\":\"white\",\"linecolor\":\"white\",\"ticks\":\"\"},\"bgcolor\":\"#E5ECF6\",\"caxis\":{\"gridcolor\":\"white\",\"linecolor\":\"white\",\"ticks\":\"\"}},\"title\":{\"x\":0.05},\"xaxis\":{\"automargin\":true,\"gridcolor\":\"white\",\"linecolor\":\"white\",\"ticks\":\"\",\"title\":{\"standoff\":15},\"zerolinecolor\":\"white\",\"zerolinewidth\":2},\"yaxis\":{\"automargin\":true,\"gridcolor\":\"white\",\"linecolor\":\"white\",\"ticks\":\"\",\"title\":{\"standoff\":15},\"zerolinecolor\":\"white\",\"zerolinewidth\":2}}},\"xaxis\":{\"anchor\":\"y\",\"domain\":[0.0,1.0],\"title\":{\"text\":\"N\\u00famero de Clusters\"}},\"yaxis\":{\"anchor\":\"x\",\"domain\":[0.0,1.0],\"title\":{\"text\":\"Valor m\\u00e9dio de silhueta\"}},\"legend\":{\"tracegroupgap\":0},\"margin\":{\"t\":60},\"height\":400,\"width\":600,\"title\":{\"text\":\"Valores de silhueta m\\u00e9dios\"}},                        {\"responsive\": true}                    ).then(function(){\n",
              "                            \n",
              "var gd = document.getElementById('e80195a8-d370-4a75-b4ac-ac6cade29af5');\n",
              "var x = new MutationObserver(function (mutations, observer) {{\n",
              "        var display = window.getComputedStyle(gd).display;\n",
              "        if (!display || display === 'none') {{\n",
              "            console.log([gd, 'removed!']);\n",
              "            Plotly.purge(gd);\n",
              "            observer.disconnect();\n",
              "        }}\n",
              "}});\n",
              "\n",
              "// Listen for the removal of the full notebook cells\n",
              "var notebookContainer = gd.closest('#notebook-container');\n",
              "if (notebookContainer) {{\n",
              "    x.observe(notebookContainer, {childList: true});\n",
              "}}\n",
              "\n",
              "// Listen for the clearing of the current output cell\n",
              "var outputEl = gd.closest('.output');\n",
              "if (outputEl) {{\n",
              "    x.observe(outputEl, {childList: true});\n",
              "}}\n",
              "\n",
              "                        })                };                            </script>        </div>\n",
              "</body>\n",
              "</html>"
            ]
          },
          "metadata": {}
        }
      ]
    },
    {
      "cell_type": "markdown",
      "metadata": {
        "id": "e06wsfTy-_Ua"
      },
      "source": [
        "Como nós podemos perceber, o maior valor de coeficiente de silhueta que nós temos é quando o nosso valor de “K”, que é o número de clusters, é igual a “3”.\n",
        "\n",
        "Vamos testar agora para o MeanShift."
      ]
    },
    {
      "cell_type": "code",
      "metadata": {
        "id": "wZ07Q1Xt81hG",
        "colab": {
          "base_uri": "https://localhost:8080/"
        },
        "outputId": "ed4e4de3-ae24-48fb-8160-b0a29751ea97"
      },
      "source": [
        "faixa_quantil = np.linspace(0.02, 0.5, 15)\n",
        "faixa_quantil"
      ],
      "execution_count": 63,
      "outputs": [
        {
          "output_type": "execute_result",
          "data": {
            "text/plain": [
              "array([0.02      , 0.05428571, 0.08857143, 0.12285714, 0.15714286,\n",
              "       0.19142857, 0.22571429, 0.26      , 0.29428571, 0.32857143,\n",
              "       0.36285714, 0.39714286, 0.43142857, 0.46571429, 0.5       ])"
            ]
          },
          "metadata": {},
          "execution_count": 63
        }
      ]
    },
    {
      "cell_type": "code",
      "metadata": {
        "id": "Gq6e3LEBKsRV"
      },
      "source": [
        "valores_silhueta = []\n",
        "quantil_plot = []\n",
        "for quantil in faixa_quantil:\n",
        "    bandwidth = estimate_bandwidth(df_normalized, quantile=quantil)\n",
        "    agrupador = MeanShift(bandwidth=bandwidth)\n",
        "    labels = agrupador.fit_predict(df_normalized)\n",
        "    if(len(np.unique(labels)) < len(df_normalized) and len(np.unique(labels)) > 1):\n",
        "        media_silhueta = silhouette_score(df_normalized, labels)\n",
        "        valores_silhueta.append(media_silhueta)\n",
        "        quantil_plot.append(quantil)"
      ],
      "execution_count": 65,
      "outputs": []
    },
    {
      "cell_type": "code",
      "metadata": {
        "colab": {
          "base_uri": "https://localhost:8080/",
          "height": 542
        },
        "id": "nYUq1OcjLTPl",
        "outputId": "85b6ac73-d6c0-4556-814b-eafd15d922f4"
      },
      "source": [
        "fig = go.Figure()\n",
        "fig.add_trace(go.Scatter(x=quantil_plot,\n",
        "                         y=valores_silhueta))\n",
        "fig.update_layout(dict(xaxis_title='Quantil',\n",
        "                       yaxis_title='Média Silhueta'))\n",
        "fig.show()"
      ],
      "execution_count": 66,
      "outputs": [
        {
          "output_type": "display_data",
          "data": {
            "text/html": [
              "<html>\n",
              "<head><meta charset=\"utf-8\" /></head>\n",
              "<body>\n",
              "    <div>            <script src=\"https://cdnjs.cloudflare.com/ajax/libs/mathjax/2.7.5/MathJax.js?config=TeX-AMS-MML_SVG\"></script><script type=\"text/javascript\">if (window.MathJax) {MathJax.Hub.Config({SVG: {font: \"STIX-Web\"}});}</script>                <script type=\"text/javascript\">window.PlotlyConfig = {MathJaxConfig: 'local'};</script>\n",
              "        <script src=\"https://cdn.plot.ly/plotly-2.8.3.min.js\"></script>                <div id=\"262f9f00-d21e-49e5-8820-d3344db7952c\" class=\"plotly-graph-div\" style=\"height:525px; width:100%;\"></div>            <script type=\"text/javascript\">                                    window.PLOTLYENV=window.PLOTLYENV || {};                                    if (document.getElementById(\"262f9f00-d21e-49e5-8820-d3344db7952c\")) {                    Plotly.newPlot(                        \"262f9f00-d21e-49e5-8820-d3344db7952c\",                        [{\"x\":[0.02,0.054285714285714284,0.08857142857142858,0.12285714285714287,0.15714285714285714,0.19142857142857142,0.22571428571428573,0.26,0.2942857142857143],\"y\":[0.0688577221871855,0.21222500077088097,0.23175840581451423,0.2415047883060417,0.29012683820901636,0.3448247813495863,0.20305945108914134,0.30747740383258104,0.20758352839192912],\"type\":\"scatter\"}],                        {\"template\":{\"data\":{\"bar\":[{\"error_x\":{\"color\":\"#2a3f5f\"},\"error_y\":{\"color\":\"#2a3f5f\"},\"marker\":{\"line\":{\"color\":\"#E5ECF6\",\"width\":0.5},\"pattern\":{\"fillmode\":\"overlay\",\"size\":10,\"solidity\":0.2}},\"type\":\"bar\"}],\"barpolar\":[{\"marker\":{\"line\":{\"color\":\"#E5ECF6\",\"width\":0.5},\"pattern\":{\"fillmode\":\"overlay\",\"size\":10,\"solidity\":0.2}},\"type\":\"barpolar\"}],\"carpet\":[{\"aaxis\":{\"endlinecolor\":\"#2a3f5f\",\"gridcolor\":\"white\",\"linecolor\":\"white\",\"minorgridcolor\":\"white\",\"startlinecolor\":\"#2a3f5f\"},\"baxis\":{\"endlinecolor\":\"#2a3f5f\",\"gridcolor\":\"white\",\"linecolor\":\"white\",\"minorgridcolor\":\"white\",\"startlinecolor\":\"#2a3f5f\"},\"type\":\"carpet\"}],\"choropleth\":[{\"colorbar\":{\"outlinewidth\":0,\"ticks\":\"\"},\"type\":\"choropleth\"}],\"contour\":[{\"colorbar\":{\"outlinewidth\":0,\"ticks\":\"\"},\"colorscale\":[[0.0,\"#0d0887\"],[0.1111111111111111,\"#46039f\"],[0.2222222222222222,\"#7201a8\"],[0.3333333333333333,\"#9c179e\"],[0.4444444444444444,\"#bd3786\"],[0.5555555555555556,\"#d8576b\"],[0.6666666666666666,\"#ed7953\"],[0.7777777777777778,\"#fb9f3a\"],[0.8888888888888888,\"#fdca26\"],[1.0,\"#f0f921\"]],\"type\":\"contour\"}],\"contourcarpet\":[{\"colorbar\":{\"outlinewidth\":0,\"ticks\":\"\"},\"type\":\"contourcarpet\"}],\"heatmap\":[{\"colorbar\":{\"outlinewidth\":0,\"ticks\":\"\"},\"colorscale\":[[0.0,\"#0d0887\"],[0.1111111111111111,\"#46039f\"],[0.2222222222222222,\"#7201a8\"],[0.3333333333333333,\"#9c179e\"],[0.4444444444444444,\"#bd3786\"],[0.5555555555555556,\"#d8576b\"],[0.6666666666666666,\"#ed7953\"],[0.7777777777777778,\"#fb9f3a\"],[0.8888888888888888,\"#fdca26\"],[1.0,\"#f0f921\"]],\"type\":\"heatmap\"}],\"heatmapgl\":[{\"colorbar\":{\"outlinewidth\":0,\"ticks\":\"\"},\"colorscale\":[[0.0,\"#0d0887\"],[0.1111111111111111,\"#46039f\"],[0.2222222222222222,\"#7201a8\"],[0.3333333333333333,\"#9c179e\"],[0.4444444444444444,\"#bd3786\"],[0.5555555555555556,\"#d8576b\"],[0.6666666666666666,\"#ed7953\"],[0.7777777777777778,\"#fb9f3a\"],[0.8888888888888888,\"#fdca26\"],[1.0,\"#f0f921\"]],\"type\":\"heatmapgl\"}],\"histogram\":[{\"marker\":{\"pattern\":{\"fillmode\":\"overlay\",\"size\":10,\"solidity\":0.2}},\"type\":\"histogram\"}],\"histogram2d\":[{\"colorbar\":{\"outlinewidth\":0,\"ticks\":\"\"},\"colorscale\":[[0.0,\"#0d0887\"],[0.1111111111111111,\"#46039f\"],[0.2222222222222222,\"#7201a8\"],[0.3333333333333333,\"#9c179e\"],[0.4444444444444444,\"#bd3786\"],[0.5555555555555556,\"#d8576b\"],[0.6666666666666666,\"#ed7953\"],[0.7777777777777778,\"#fb9f3a\"],[0.8888888888888888,\"#fdca26\"],[1.0,\"#f0f921\"]],\"type\":\"histogram2d\"}],\"histogram2dcontour\":[{\"colorbar\":{\"outlinewidth\":0,\"ticks\":\"\"},\"colorscale\":[[0.0,\"#0d0887\"],[0.1111111111111111,\"#46039f\"],[0.2222222222222222,\"#7201a8\"],[0.3333333333333333,\"#9c179e\"],[0.4444444444444444,\"#bd3786\"],[0.5555555555555556,\"#d8576b\"],[0.6666666666666666,\"#ed7953\"],[0.7777777777777778,\"#fb9f3a\"],[0.8888888888888888,\"#fdca26\"],[1.0,\"#f0f921\"]],\"type\":\"histogram2dcontour\"}],\"mesh3d\":[{\"colorbar\":{\"outlinewidth\":0,\"ticks\":\"\"},\"type\":\"mesh3d\"}],\"parcoords\":[{\"line\":{\"colorbar\":{\"outlinewidth\":0,\"ticks\":\"\"}},\"type\":\"parcoords\"}],\"pie\":[{\"automargin\":true,\"type\":\"pie\"}],\"scatter\":[{\"marker\":{\"colorbar\":{\"outlinewidth\":0,\"ticks\":\"\"}},\"type\":\"scatter\"}],\"scatter3d\":[{\"line\":{\"colorbar\":{\"outlinewidth\":0,\"ticks\":\"\"}},\"marker\":{\"colorbar\":{\"outlinewidth\":0,\"ticks\":\"\"}},\"type\":\"scatter3d\"}],\"scattercarpet\":[{\"marker\":{\"colorbar\":{\"outlinewidth\":0,\"ticks\":\"\"}},\"type\":\"scattercarpet\"}],\"scattergeo\":[{\"marker\":{\"colorbar\":{\"outlinewidth\":0,\"ticks\":\"\"}},\"type\":\"scattergeo\"}],\"scattergl\":[{\"marker\":{\"colorbar\":{\"outlinewidth\":0,\"ticks\":\"\"}},\"type\":\"scattergl\"}],\"scattermapbox\":[{\"marker\":{\"colorbar\":{\"outlinewidth\":0,\"ticks\":\"\"}},\"type\":\"scattermapbox\"}],\"scatterpolar\":[{\"marker\":{\"colorbar\":{\"outlinewidth\":0,\"ticks\":\"\"}},\"type\":\"scatterpolar\"}],\"scatterpolargl\":[{\"marker\":{\"colorbar\":{\"outlinewidth\":0,\"ticks\":\"\"}},\"type\":\"scatterpolargl\"}],\"scatterternary\":[{\"marker\":{\"colorbar\":{\"outlinewidth\":0,\"ticks\":\"\"}},\"type\":\"scatterternary\"}],\"surface\":[{\"colorbar\":{\"outlinewidth\":0,\"ticks\":\"\"},\"colorscale\":[[0.0,\"#0d0887\"],[0.1111111111111111,\"#46039f\"],[0.2222222222222222,\"#7201a8\"],[0.3333333333333333,\"#9c179e\"],[0.4444444444444444,\"#bd3786\"],[0.5555555555555556,\"#d8576b\"],[0.6666666666666666,\"#ed7953\"],[0.7777777777777778,\"#fb9f3a\"],[0.8888888888888888,\"#fdca26\"],[1.0,\"#f0f921\"]],\"type\":\"surface\"}],\"table\":[{\"cells\":{\"fill\":{\"color\":\"#EBF0F8\"},\"line\":{\"color\":\"white\"}},\"header\":{\"fill\":{\"color\":\"#C8D4E3\"},\"line\":{\"color\":\"white\"}},\"type\":\"table\"}]},\"layout\":{\"annotationdefaults\":{\"arrowcolor\":\"#2a3f5f\",\"arrowhead\":0,\"arrowwidth\":1},\"autotypenumbers\":\"strict\",\"coloraxis\":{\"colorbar\":{\"outlinewidth\":0,\"ticks\":\"\"}},\"colorscale\":{\"diverging\":[[0,\"#8e0152\"],[0.1,\"#c51b7d\"],[0.2,\"#de77ae\"],[0.3,\"#f1b6da\"],[0.4,\"#fde0ef\"],[0.5,\"#f7f7f7\"],[0.6,\"#e6f5d0\"],[0.7,\"#b8e186\"],[0.8,\"#7fbc41\"],[0.9,\"#4d9221\"],[1,\"#276419\"]],\"sequential\":[[0.0,\"#0d0887\"],[0.1111111111111111,\"#46039f\"],[0.2222222222222222,\"#7201a8\"],[0.3333333333333333,\"#9c179e\"],[0.4444444444444444,\"#bd3786\"],[0.5555555555555556,\"#d8576b\"],[0.6666666666666666,\"#ed7953\"],[0.7777777777777778,\"#fb9f3a\"],[0.8888888888888888,\"#fdca26\"],[1.0,\"#f0f921\"]],\"sequentialminus\":[[0.0,\"#0d0887\"],[0.1111111111111111,\"#46039f\"],[0.2222222222222222,\"#7201a8\"],[0.3333333333333333,\"#9c179e\"],[0.4444444444444444,\"#bd3786\"],[0.5555555555555556,\"#d8576b\"],[0.6666666666666666,\"#ed7953\"],[0.7777777777777778,\"#fb9f3a\"],[0.8888888888888888,\"#fdca26\"],[1.0,\"#f0f921\"]]},\"colorway\":[\"#636efa\",\"#EF553B\",\"#00cc96\",\"#ab63fa\",\"#FFA15A\",\"#19d3f3\",\"#FF6692\",\"#B6E880\",\"#FF97FF\",\"#FECB52\"],\"font\":{\"color\":\"#2a3f5f\"},\"geo\":{\"bgcolor\":\"white\",\"lakecolor\":\"white\",\"landcolor\":\"#E5ECF6\",\"showlakes\":true,\"showland\":true,\"subunitcolor\":\"white\"},\"hoverlabel\":{\"align\":\"left\"},\"hovermode\":\"closest\",\"mapbox\":{\"style\":\"light\"},\"paper_bgcolor\":\"white\",\"plot_bgcolor\":\"#E5ECF6\",\"polar\":{\"angularaxis\":{\"gridcolor\":\"white\",\"linecolor\":\"white\",\"ticks\":\"\"},\"bgcolor\":\"#E5ECF6\",\"radialaxis\":{\"gridcolor\":\"white\",\"linecolor\":\"white\",\"ticks\":\"\"}},\"scene\":{\"xaxis\":{\"backgroundcolor\":\"#E5ECF6\",\"gridcolor\":\"white\",\"gridwidth\":2,\"linecolor\":\"white\",\"showbackground\":true,\"ticks\":\"\",\"zerolinecolor\":\"white\"},\"yaxis\":{\"backgroundcolor\":\"#E5ECF6\",\"gridcolor\":\"white\",\"gridwidth\":2,\"linecolor\":\"white\",\"showbackground\":true,\"ticks\":\"\",\"zerolinecolor\":\"white\"},\"zaxis\":{\"backgroundcolor\":\"#E5ECF6\",\"gridcolor\":\"white\",\"gridwidth\":2,\"linecolor\":\"white\",\"showbackground\":true,\"ticks\":\"\",\"zerolinecolor\":\"white\"}},\"shapedefaults\":{\"line\":{\"color\":\"#2a3f5f\"}},\"ternary\":{\"aaxis\":{\"gridcolor\":\"white\",\"linecolor\":\"white\",\"ticks\":\"\"},\"baxis\":{\"gridcolor\":\"white\",\"linecolor\":\"white\",\"ticks\":\"\"},\"bgcolor\":\"#E5ECF6\",\"caxis\":{\"gridcolor\":\"white\",\"linecolor\":\"white\",\"ticks\":\"\"}},\"title\":{\"x\":0.05},\"xaxis\":{\"automargin\":true,\"gridcolor\":\"white\",\"linecolor\":\"white\",\"ticks\":\"\",\"title\":{\"standoff\":15},\"zerolinecolor\":\"white\",\"zerolinewidth\":2},\"yaxis\":{\"automargin\":true,\"gridcolor\":\"white\",\"linecolor\":\"white\",\"ticks\":\"\",\"title\":{\"standoff\":15},\"zerolinecolor\":\"white\",\"zerolinewidth\":2}}},\"xaxis\":{\"title\":{\"text\":\"Quantil\"}},\"yaxis\":{\"title\":{\"text\":\"M\\u00e9dia Silhueta\"}}},                        {\"responsive\": true}                    ).then(function(){\n",
              "                            \n",
              "var gd = document.getElementById('262f9f00-d21e-49e5-8820-d3344db7952c');\n",
              "var x = new MutationObserver(function (mutations, observer) {{\n",
              "        var display = window.getComputedStyle(gd).display;\n",
              "        if (!display || display === 'none') {{\n",
              "            console.log([gd, 'removed!']);\n",
              "            Plotly.purge(gd);\n",
              "            observer.disconnect();\n",
              "        }}\n",
              "}});\n",
              "\n",
              "// Listen for the removal of the full notebook cells\n",
              "var notebookContainer = gd.closest('#notebook-container');\n",
              "if (notebookContainer) {{\n",
              "    x.observe(notebookContainer, {childList: true});\n",
              "}}\n",
              "\n",
              "// Listen for the clearing of the current output cell\n",
              "var outputEl = gd.closest('.output');\n",
              "if (outputEl) {{\n",
              "    x.observe(outputEl, {childList: true});\n",
              "}}\n",
              "\n",
              "                        })                };                            </script>        </div>\n",
              "</body>\n",
              "</html>"
            ]
          },
          "metadata": {}
        }
      ]
    },
    {
      "cell_type": "code",
      "metadata": {
        "colab": {
          "base_uri": "https://localhost:8080/"
        },
        "id": "8jucjIdayGfe",
        "outputId": "2ebc2bc1-6bba-4d8a-9024-c69f87a6315e"
      },
      "source": [
        "faixa_quantil = np.linspace(0.02, 0.5, 30)\n",
        "faixa_quantil"
      ],
      "execution_count": 67,
      "outputs": [
        {
          "output_type": "execute_result",
          "data": {
            "text/plain": [
              "array([0.02      , 0.03655172, 0.05310345, 0.06965517, 0.0862069 ,\n",
              "       0.10275862, 0.11931034, 0.13586207, 0.15241379, 0.16896552,\n",
              "       0.18551724, 0.20206897, 0.21862069, 0.23517241, 0.25172414,\n",
              "       0.26827586, 0.28482759, 0.30137931, 0.31793103, 0.33448276,\n",
              "       0.35103448, 0.36758621, 0.38413793, 0.40068966, 0.41724138,\n",
              "       0.4337931 , 0.45034483, 0.46689655, 0.48344828, 0.5       ])"
            ]
          },
          "metadata": {},
          "execution_count": 67
        }
      ]
    },
    {
      "cell_type": "code",
      "metadata": {
        "id": "BJt2YWiUOBs7"
      },
      "source": [
        "valores_silhueta = []\n",
        "quantil_plot = []\n",
        "for quantil in faixa_quantil:\n",
        "    bandwidth = estimate_bandwidth(df_normalized, quantile=quantil)\n",
        "    agrupador = MeanShift(bandwidth=bandwidth)\n",
        "    labels = agrupador.fit_predict(df_normalized)\n",
        "    if(len(np.unique(labels)) < len(df_normalized) and len(np.unique(labels)) > 1):\n",
        "        media_silhueta = silhouette_score(df_normalized, labels)\n",
        "        valores_silhueta.append(media_silhueta)\n",
        "        quantil_plot.append(quantil)"
      ],
      "execution_count": 69,
      "outputs": []
    },
    {
      "cell_type": "code",
      "metadata": {
        "colab": {
          "base_uri": "https://localhost:8080/",
          "height": 542
        },
        "id": "5uZr2bQAxDJr",
        "outputId": "5ab83f7a-2f91-492e-dbb1-0e9e19c0584a"
      },
      "source": [
        "fig = go.Figure()\n",
        "fig.add_trace(go.Scatter(x=quantil_plot,\n",
        "                         y=valores_silhueta))\n",
        "fig.update_layout(dict(xaxis_title='Quantil',\n",
        "                       yaxis_title='Média Silhueta'))\n",
        "fig.show()"
      ],
      "execution_count": 70,
      "outputs": [
        {
          "output_type": "display_data",
          "data": {
            "text/html": [
              "<html>\n",
              "<head><meta charset=\"utf-8\" /></head>\n",
              "<body>\n",
              "    <div>            <script src=\"https://cdnjs.cloudflare.com/ajax/libs/mathjax/2.7.5/MathJax.js?config=TeX-AMS-MML_SVG\"></script><script type=\"text/javascript\">if (window.MathJax) {MathJax.Hub.Config({SVG: {font: \"STIX-Web\"}});}</script>                <script type=\"text/javascript\">window.PlotlyConfig = {MathJaxConfig: 'local'};</script>\n",
              "        <script src=\"https://cdn.plot.ly/plotly-2.8.3.min.js\"></script>                <div id=\"e1602557-77d7-4d6e-8a28-cac837eabc26\" class=\"plotly-graph-div\" style=\"height:525px; width:100%;\"></div>            <script type=\"text/javascript\">                                    window.PLOTLYENV=window.PLOTLYENV || {};                                    if (document.getElementById(\"e1602557-77d7-4d6e-8a28-cac837eabc26\")) {                    Plotly.newPlot(                        \"e1602557-77d7-4d6e-8a28-cac837eabc26\",                        [{\"x\":[0.02,0.036551724137931035,0.05310344827586207,0.06965517241379311,0.08620689655172414,0.10275862068965518,0.11931034482758622,0.13586206896551725,0.15241379310344827,0.16896551724137931,0.18551724137931033,0.20206896551724138,0.21862068965517242,0.23517241379310344,0.2517241379310345,0.26827586206896553,0.2848275862068966,0.3013793103448276,0.31793103448275867],\"y\":[0.0688577221871855,0.12695730208514436,0.21222500077088097,0.22860936882672134,0.23175840581451423,0.24240075989450527,0.2415047883060417,0.2806108487403229,0.29012683820901636,0.3145807263039277,0.3448247813495863,0.34353173543532023,0.34353173543532023,0.20305945108914134,0.22791764552102659,0.30638538825691164,0.30672378482144275,0.20758352839192912,0.20758352839192912],\"type\":\"scatter\"}],                        {\"template\":{\"data\":{\"bar\":[{\"error_x\":{\"color\":\"#2a3f5f\"},\"error_y\":{\"color\":\"#2a3f5f\"},\"marker\":{\"line\":{\"color\":\"#E5ECF6\",\"width\":0.5},\"pattern\":{\"fillmode\":\"overlay\",\"size\":10,\"solidity\":0.2}},\"type\":\"bar\"}],\"barpolar\":[{\"marker\":{\"line\":{\"color\":\"#E5ECF6\",\"width\":0.5},\"pattern\":{\"fillmode\":\"overlay\",\"size\":10,\"solidity\":0.2}},\"type\":\"barpolar\"}],\"carpet\":[{\"aaxis\":{\"endlinecolor\":\"#2a3f5f\",\"gridcolor\":\"white\",\"linecolor\":\"white\",\"minorgridcolor\":\"white\",\"startlinecolor\":\"#2a3f5f\"},\"baxis\":{\"endlinecolor\":\"#2a3f5f\",\"gridcolor\":\"white\",\"linecolor\":\"white\",\"minorgridcolor\":\"white\",\"startlinecolor\":\"#2a3f5f\"},\"type\":\"carpet\"}],\"choropleth\":[{\"colorbar\":{\"outlinewidth\":0,\"ticks\":\"\"},\"type\":\"choropleth\"}],\"contour\":[{\"colorbar\":{\"outlinewidth\":0,\"ticks\":\"\"},\"colorscale\":[[0.0,\"#0d0887\"],[0.1111111111111111,\"#46039f\"],[0.2222222222222222,\"#7201a8\"],[0.3333333333333333,\"#9c179e\"],[0.4444444444444444,\"#bd3786\"],[0.5555555555555556,\"#d8576b\"],[0.6666666666666666,\"#ed7953\"],[0.7777777777777778,\"#fb9f3a\"],[0.8888888888888888,\"#fdca26\"],[1.0,\"#f0f921\"]],\"type\":\"contour\"}],\"contourcarpet\":[{\"colorbar\":{\"outlinewidth\":0,\"ticks\":\"\"},\"type\":\"contourcarpet\"}],\"heatmap\":[{\"colorbar\":{\"outlinewidth\":0,\"ticks\":\"\"},\"colorscale\":[[0.0,\"#0d0887\"],[0.1111111111111111,\"#46039f\"],[0.2222222222222222,\"#7201a8\"],[0.3333333333333333,\"#9c179e\"],[0.4444444444444444,\"#bd3786\"],[0.5555555555555556,\"#d8576b\"],[0.6666666666666666,\"#ed7953\"],[0.7777777777777778,\"#fb9f3a\"],[0.8888888888888888,\"#fdca26\"],[1.0,\"#f0f921\"]],\"type\":\"heatmap\"}],\"heatmapgl\":[{\"colorbar\":{\"outlinewidth\":0,\"ticks\":\"\"},\"colorscale\":[[0.0,\"#0d0887\"],[0.1111111111111111,\"#46039f\"],[0.2222222222222222,\"#7201a8\"],[0.3333333333333333,\"#9c179e\"],[0.4444444444444444,\"#bd3786\"],[0.5555555555555556,\"#d8576b\"],[0.6666666666666666,\"#ed7953\"],[0.7777777777777778,\"#fb9f3a\"],[0.8888888888888888,\"#fdca26\"],[1.0,\"#f0f921\"]],\"type\":\"heatmapgl\"}],\"histogram\":[{\"marker\":{\"pattern\":{\"fillmode\":\"overlay\",\"size\":10,\"solidity\":0.2}},\"type\":\"histogram\"}],\"histogram2d\":[{\"colorbar\":{\"outlinewidth\":0,\"ticks\":\"\"},\"colorscale\":[[0.0,\"#0d0887\"],[0.1111111111111111,\"#46039f\"],[0.2222222222222222,\"#7201a8\"],[0.3333333333333333,\"#9c179e\"],[0.4444444444444444,\"#bd3786\"],[0.5555555555555556,\"#d8576b\"],[0.6666666666666666,\"#ed7953\"],[0.7777777777777778,\"#fb9f3a\"],[0.8888888888888888,\"#fdca26\"],[1.0,\"#f0f921\"]],\"type\":\"histogram2d\"}],\"histogram2dcontour\":[{\"colorbar\":{\"outlinewidth\":0,\"ticks\":\"\"},\"colorscale\":[[0.0,\"#0d0887\"],[0.1111111111111111,\"#46039f\"],[0.2222222222222222,\"#7201a8\"],[0.3333333333333333,\"#9c179e\"],[0.4444444444444444,\"#bd3786\"],[0.5555555555555556,\"#d8576b\"],[0.6666666666666666,\"#ed7953\"],[0.7777777777777778,\"#fb9f3a\"],[0.8888888888888888,\"#fdca26\"],[1.0,\"#f0f921\"]],\"type\":\"histogram2dcontour\"}],\"mesh3d\":[{\"colorbar\":{\"outlinewidth\":0,\"ticks\":\"\"},\"type\":\"mesh3d\"}],\"parcoords\":[{\"line\":{\"colorbar\":{\"outlinewidth\":0,\"ticks\":\"\"}},\"type\":\"parcoords\"}],\"pie\":[{\"automargin\":true,\"type\":\"pie\"}],\"scatter\":[{\"marker\":{\"colorbar\":{\"outlinewidth\":0,\"ticks\":\"\"}},\"type\":\"scatter\"}],\"scatter3d\":[{\"line\":{\"colorbar\":{\"outlinewidth\":0,\"ticks\":\"\"}},\"marker\":{\"colorbar\":{\"outlinewidth\":0,\"ticks\":\"\"}},\"type\":\"scatter3d\"}],\"scattercarpet\":[{\"marker\":{\"colorbar\":{\"outlinewidth\":0,\"ticks\":\"\"}},\"type\":\"scattercarpet\"}],\"scattergeo\":[{\"marker\":{\"colorbar\":{\"outlinewidth\":0,\"ticks\":\"\"}},\"type\":\"scattergeo\"}],\"scattergl\":[{\"marker\":{\"colorbar\":{\"outlinewidth\":0,\"ticks\":\"\"}},\"type\":\"scattergl\"}],\"scattermapbox\":[{\"marker\":{\"colorbar\":{\"outlinewidth\":0,\"ticks\":\"\"}},\"type\":\"scattermapbox\"}],\"scatterpolar\":[{\"marker\":{\"colorbar\":{\"outlinewidth\":0,\"ticks\":\"\"}},\"type\":\"scatterpolar\"}],\"scatterpolargl\":[{\"marker\":{\"colorbar\":{\"outlinewidth\":0,\"ticks\":\"\"}},\"type\":\"scatterpolargl\"}],\"scatterternary\":[{\"marker\":{\"colorbar\":{\"outlinewidth\":0,\"ticks\":\"\"}},\"type\":\"scatterternary\"}],\"surface\":[{\"colorbar\":{\"outlinewidth\":0,\"ticks\":\"\"},\"colorscale\":[[0.0,\"#0d0887\"],[0.1111111111111111,\"#46039f\"],[0.2222222222222222,\"#7201a8\"],[0.3333333333333333,\"#9c179e\"],[0.4444444444444444,\"#bd3786\"],[0.5555555555555556,\"#d8576b\"],[0.6666666666666666,\"#ed7953\"],[0.7777777777777778,\"#fb9f3a\"],[0.8888888888888888,\"#fdca26\"],[1.0,\"#f0f921\"]],\"type\":\"surface\"}],\"table\":[{\"cells\":{\"fill\":{\"color\":\"#EBF0F8\"},\"line\":{\"color\":\"white\"}},\"header\":{\"fill\":{\"color\":\"#C8D4E3\"},\"line\":{\"color\":\"white\"}},\"type\":\"table\"}]},\"layout\":{\"annotationdefaults\":{\"arrowcolor\":\"#2a3f5f\",\"arrowhead\":0,\"arrowwidth\":1},\"autotypenumbers\":\"strict\",\"coloraxis\":{\"colorbar\":{\"outlinewidth\":0,\"ticks\":\"\"}},\"colorscale\":{\"diverging\":[[0,\"#8e0152\"],[0.1,\"#c51b7d\"],[0.2,\"#de77ae\"],[0.3,\"#f1b6da\"],[0.4,\"#fde0ef\"],[0.5,\"#f7f7f7\"],[0.6,\"#e6f5d0\"],[0.7,\"#b8e186\"],[0.8,\"#7fbc41\"],[0.9,\"#4d9221\"],[1,\"#276419\"]],\"sequential\":[[0.0,\"#0d0887\"],[0.1111111111111111,\"#46039f\"],[0.2222222222222222,\"#7201a8\"],[0.3333333333333333,\"#9c179e\"],[0.4444444444444444,\"#bd3786\"],[0.5555555555555556,\"#d8576b\"],[0.6666666666666666,\"#ed7953\"],[0.7777777777777778,\"#fb9f3a\"],[0.8888888888888888,\"#fdca26\"],[1.0,\"#f0f921\"]],\"sequentialminus\":[[0.0,\"#0d0887\"],[0.1111111111111111,\"#46039f\"],[0.2222222222222222,\"#7201a8\"],[0.3333333333333333,\"#9c179e\"],[0.4444444444444444,\"#bd3786\"],[0.5555555555555556,\"#d8576b\"],[0.6666666666666666,\"#ed7953\"],[0.7777777777777778,\"#fb9f3a\"],[0.8888888888888888,\"#fdca26\"],[1.0,\"#f0f921\"]]},\"colorway\":[\"#636efa\",\"#EF553B\",\"#00cc96\",\"#ab63fa\",\"#FFA15A\",\"#19d3f3\",\"#FF6692\",\"#B6E880\",\"#FF97FF\",\"#FECB52\"],\"font\":{\"color\":\"#2a3f5f\"},\"geo\":{\"bgcolor\":\"white\",\"lakecolor\":\"white\",\"landcolor\":\"#E5ECF6\",\"showlakes\":true,\"showland\":true,\"subunitcolor\":\"white\"},\"hoverlabel\":{\"align\":\"left\"},\"hovermode\":\"closest\",\"mapbox\":{\"style\":\"light\"},\"paper_bgcolor\":\"white\",\"plot_bgcolor\":\"#E5ECF6\",\"polar\":{\"angularaxis\":{\"gridcolor\":\"white\",\"linecolor\":\"white\",\"ticks\":\"\"},\"bgcolor\":\"#E5ECF6\",\"radialaxis\":{\"gridcolor\":\"white\",\"linecolor\":\"white\",\"ticks\":\"\"}},\"scene\":{\"xaxis\":{\"backgroundcolor\":\"#E5ECF6\",\"gridcolor\":\"white\",\"gridwidth\":2,\"linecolor\":\"white\",\"showbackground\":true,\"ticks\":\"\",\"zerolinecolor\":\"white\"},\"yaxis\":{\"backgroundcolor\":\"#E5ECF6\",\"gridcolor\":\"white\",\"gridwidth\":2,\"linecolor\":\"white\",\"showbackground\":true,\"ticks\":\"\",\"zerolinecolor\":\"white\"},\"zaxis\":{\"backgroundcolor\":\"#E5ECF6\",\"gridcolor\":\"white\",\"gridwidth\":2,\"linecolor\":\"white\",\"showbackground\":true,\"ticks\":\"\",\"zerolinecolor\":\"white\"}},\"shapedefaults\":{\"line\":{\"color\":\"#2a3f5f\"}},\"ternary\":{\"aaxis\":{\"gridcolor\":\"white\",\"linecolor\":\"white\",\"ticks\":\"\"},\"baxis\":{\"gridcolor\":\"white\",\"linecolor\":\"white\",\"ticks\":\"\"},\"bgcolor\":\"#E5ECF6\",\"caxis\":{\"gridcolor\":\"white\",\"linecolor\":\"white\",\"ticks\":\"\"}},\"title\":{\"x\":0.05},\"xaxis\":{\"automargin\":true,\"gridcolor\":\"white\",\"linecolor\":\"white\",\"ticks\":\"\",\"title\":{\"standoff\":15},\"zerolinecolor\":\"white\",\"zerolinewidth\":2},\"yaxis\":{\"automargin\":true,\"gridcolor\":\"white\",\"linecolor\":\"white\",\"ticks\":\"\",\"title\":{\"standoff\":15},\"zerolinecolor\":\"white\",\"zerolinewidth\":2}}},\"xaxis\":{\"title\":{\"text\":\"Quantil\"}},\"yaxis\":{\"title\":{\"text\":\"M\\u00e9dia Silhueta\"}}},                        {\"responsive\": true}                    ).then(function(){\n",
              "                            \n",
              "var gd = document.getElementById('e1602557-77d7-4d6e-8a28-cac837eabc26');\n",
              "var x = new MutationObserver(function (mutations, observer) {{\n",
              "        var display = window.getComputedStyle(gd).display;\n",
              "        if (!display || display === 'none') {{\n",
              "            console.log([gd, 'removed!']);\n",
              "            Plotly.purge(gd);\n",
              "            observer.disconnect();\n",
              "        }}\n",
              "}});\n",
              "\n",
              "// Listen for the removal of the full notebook cells\n",
              "var notebookContainer = gd.closest('#notebook-container');\n",
              "if (notebookContainer) {{\n",
              "    x.observe(notebookContainer, {childList: true});\n",
              "}}\n",
              "\n",
              "// Listen for the clearing of the current output cell\n",
              "var outputEl = gd.closest('.output');\n",
              "if (outputEl) {{\n",
              "    x.observe(outputEl, {childList: true});\n",
              "}}\n",
              "\n",
              "                        })                };                            </script>        </div>\n",
              "</body>\n",
              "</html>"
            ]
          },
          "metadata": {}
        }
      ]
    },
    {
      "cell_type": "markdown",
      "metadata": {
        "id": "HkNmtlbTysdH"
      },
      "source": [
        "Comparando Mean shift, DBSCAN e K-means"
      ]
    },
    {
      "cell_type": "code",
      "metadata": {
        "colab": {
          "base_uri": "https://localhost:8080/"
        },
        "id": "-OA-WWH5xExr",
        "outputId": "9f2131ce-01c1-4215-a6bb-3c56352b84ab"
      },
      "source": [
        "agrupador_kmeans = KMeans(n_clusters=3)\n",
        "agrupador_DBSCAN = DBSCAN(eps=2.1, min_samples=56, metric='manhattan')\n",
        "BW = estimate_bandwidth(df_normalized, quantile=0.28)\n",
        "agrupador_meanshift = MeanShift(bandwidth=BW)\n",
        "\n",
        "labels_kmeans = agrupador_kmeans.fit_predict(df_normalized)\n",
        "labels_dbscan = agrupador_DBSCAN.fit_predict(df_normalized)\n",
        "labels_meanshift = agrupador_meanshift.fit_predict(df_normalized)\n",
        "\n",
        "print(f'Labels K-means: {labels_kmeans}\\n')\n",
        "print(f'Labels DBSCAN: {labels_dbscan}\\n')\n",
        "print(f'Labels MeanShift: {labels_meanshift}\\n')"
      ],
      "execution_count": 71,
      "outputs": [
        {
          "output_type": "stream",
          "name": "stdout",
          "text": [
            "Labels K-means: [2 2 2 2 2 2 2 2 2 2 2 2 2 2 2 2 2 2 2 2 2 2 2 2 2 2 2 2 2 2 2 2 2 2 2 2 2\n",
            " 2 2 2 2 2 2 2 2 2 2 2 2 2 2 2 2 2 2 2 2 2 2 1 1 1 1 1 1 1 1 1 1 1 1 1 1 2\n",
            " 1 1 1 1 1 1 1 1 1 0 1 1 1 1 1 1 1 1 1 1 1 1 1 1 1 1 1 1 1 1 1 1 1 1 1 1 1\n",
            " 1 1 1 1 1 1 1 1 1 1 1 1 1 1 1 1 1 1 1 0 0 0 0 0 0 0 0 0 0 0 0 0 0 0 0 0 0\n",
            " 0 0 0 0 0 0 0 0 0 0 0 0 0 0 0 0 0 0 0 0 0 0 0 0 0 0 0 0 0 0]\n",
            "\n",
            "Labels DBSCAN: [ 0  0  0  0  0  0  0  0  0  0  0  0  0  0  0  0  0  0  0  0  0  0  0  0\n",
            "  0  0  0  0  0  0  0  0  0  0  0  0  0  0  0  0  0  0  0  0  0  0  0  0\n",
            "  0  0  0  0  0  0  0  0  0  0  0 -1 -1 -1  0  0 -1  0  0  0 -1 -1 -1  0\n",
            "  0 -1  0  0  0 -1 -1  0  0  0  0 -1  0  0  0  0  0  0  0  0 -1  0  0 -1\n",
            " -1  0  0 -1  0  0  0  0  0 -1  0  0  0  0 -1  0 -1  0  0 -1  0  0 -1  0\n",
            "  0 -1 -1  0 -1  0  0 -1  0 -1 -1 -1 -1 -1 -1 -1 -1 -1 -1 -1 -1 -1 -1 -1\n",
            " -1 -1 -1 -1 -1 -1 -1 -1 -1 -1 -1 -1 -1 -1 -1 -1 -1 -1 -1 -1 -1 -1 -1 -1\n",
            " -1 -1 -1 -1 -1 -1 -1 -1 -1 -1]\n",
            "\n",
            "Labels MeanShift: [0 0 0 0 0 0 0 0 0 0 0 0 0 0 0 0 0 0 0 0 0 0 0 0 0 0 0 0 0 0 0 0 0 0 0 0 0\n",
            " 0 0 0 0 0 0 0 0 0 0 0 0 0 0 0 0 0 0 0 0 0 0 0 1 1 0 0 0 0 0 0 0 0 1 0 0 0\n",
            " 0 0 0 1 0 0 0 0 0 1 0 0 0 0 0 0 0 0 1 0 0 0 0 0 0 0 0 0 0 0 0 1 0 1 0 0 0\n",
            " 0 1 0 0 0 0 0 1 0 0 2 0 0 0 0 0 1 0 1 1 1 1 1 1 1 1 1 1 1 1 1 1 1 1 1 1 1\n",
            " 1 1 1 1 1 1 1 1 1 1 1 1 1 1 1 1 1 1 1 1 1 1 1 1 1 1 1 1 1 1]\n",
            "\n"
          ]
        }
      ]
    },
    {
      "cell_type": "code",
      "metadata": {
        "colab": {
          "base_uri": "https://localhost:8080/"
        },
        "id": "HvsK52iT0b4w",
        "outputId": "1827b68b-874a-460c-93a4-b105e69a4a94"
      },
      "source": [
        "print(f'O coeficiente de silhueta do K-means é: {silhouette_score(df_normalized, labels_kmeans)}\\n')\n",
        "print(f'O coeficiente de silhueta do DBSCAN é: {silhouette_score(df_normalized, labels_dbscan)}\\n')\n",
        "print(f'O coeficiente de silhueta do MeanShift é: {silhouette_score(df_normalized, labels_meanshift)}\\n')"
      ],
      "execution_count": 72,
      "outputs": [
        {
          "output_type": "stream",
          "name": "stdout",
          "text": [
            "O coeficiente de silhueta do K-means é: 0.36950618492736303\n",
            "\n",
            "O coeficiente de silhueta do DBSCAN é: 0.3016232115094375\n",
            "\n",
            "O coeficiente de silhueta do MeanShift é: 0.30591528661156275\n",
            "\n"
          ]
        }
      ]
    },
    {
      "cell_type": "markdown",
      "metadata": {
        "id": "UL1KfxX31SXp"
      },
      "source": [
        "Com o resultado acima percebemos que o melhor método para este dataset é o K-means com 3 Clusters.\n",
        "\n",
        "Isso se deve provavelmente ao fato de que a dimensionalidade do dataset ser grande e os métodos DBSCAN e Mean Shift não performam bem nesta situação. Esses dois métodos não conseguiram dividir os dados em clusters muito bem definidos, por isso que eles deram um coeficiente de silhueta não tão bom.\n",
        "\n",
        "Sempre que nós formos aplicar alguma coisa relacionada clusterização, nós não devemos utilizar apenas uma técnica, mas várias e depois avaliarmos qual delas produziu o melhor resultado segundo algum tipo de análise, que no nosso caso foi o coeficiente de silhueta. Uma vez analisado isso, você define a melhor técnica e utiliza essa para agrupar os seus dados."
      ]
    }
  ]
}